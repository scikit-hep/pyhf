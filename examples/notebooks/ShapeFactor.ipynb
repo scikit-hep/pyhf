{
 "cells": [
  {
   "cell_type": "code",
   "execution_count": 25,
   "metadata": {},
   "outputs": [
    {
     "name": "stdout",
     "output_type": "stream",
     "text": [
      "Populating the interactive namespace from numpy and matplotlib\n"
     ]
    },
    {
     "name": "stderr",
     "output_type": "stream",
     "text": [
      "/Users/lukas/Code/histfactory/pyhf/venv/lib/python2.7/site-packages/IPython/core/magics/pylab.py:161: UserWarning: pylab import has clobbered these variables: ['source']\n",
      "`%matplotlib` prevents importing * from pylab and numpy\n",
      "  \"\\n`%matplotlib` prevents importing * from pylab and numpy\"\n"
     ]
    }
   ],
   "source": [
    "%pylab inline"
   ]
  },
  {
   "cell_type": "code",
   "execution_count": null,
   "metadata": {
    "tags": [
     "parameters"
    ]
   },
   "outputs": [],
   "source": []
  },
  {
   "cell_type": "code",
   "execution_count": 38,
   "metadata": {},
   "outputs": [],
   "source": [
    "import pyhf\n",
    "import logging\n",
    "logging.basicConfig(level = logging.INFO)\n",
    "from pyhf import hfpdf\n",
    "def prep_data(sourcedata):\n",
    "    spec =  {\n",
    "        'signal': {\n",
    "            'signal': {\n",
    "                'data': sourcedata['signal']['bindata']['sig'],\n",
    "                'mods': [\n",
    "                    {\n",
    "                        'name': 'mu',\n",
    "                        'type': 'normfactor',\n",
    "                        'data': None\n",
    "                    }\n",
    "                ]\n",
    "            },\n",
    "            'bkg1': {\n",
    "                'data': sourcedata['signal']['bindata']['bkg1'],\n",
    "                'mods': [\n",
    "                    {\n",
    "                        'name': 'coupled_shapefactor',\n",
    "                        'type': 'shapefactor',\n",
    "                        'data': None\n",
    "                    }\n",
    "                ]\n",
    "            }\n",
    "        },\n",
    "        'control': {\n",
    "            'background': {\n",
    "                'data': sourcedata['control']['bindata']['bkg1'],\n",
    "                'mods': [\n",
    "                    {\n",
    "                        'name': 'coupled_shapefactor',\n",
    "                        'type': 'shapefactor',\n",
    "                        'data': None\n",
    "                    }\n",
    "                ]\n",
    "            }\n",
    "        }\n",
    "    }\n",
    "    pdf  = hfpdf(spec)\n",
    "    data = []\n",
    "    for c in pdf.config.channel_order:\n",
    "        data += sourcedata[c]['bindata']['data']\n",
    "    data = data + pdf.config.auxdata\n",
    "    return data, pdf"
   ]
  },
  {
   "cell_type": "code",
   "execution_count": 39,
   "metadata": {
    "scrolled": false
   },
   "outputs": [
    {
     "name": "stderr",
     "output_type": "stream",
     "text": [
      "INFO:pyhf:adding modifier coupled_shapefactor (2 new nuisance parameters)\n",
      "INFO:pyhf:adding modifier mu (1 new nuisance parameters)\n",
      "INFO:pyhf:accepting existing unconstrained factor \n"
     ]
    },
    {
     "name": "stdout",
     "output_type": "stream",
     "text": [
      "[200.0, 300.0, 220.0, 230.0]\n",
      "[100. 100. 120.  90.]\n"
     ]
    }
   ],
   "source": [
    "import json\n",
    "\n",
    "source = {\n",
    "  \"channels\": {\n",
    "    \"signal\": {\n",
    "      \"binning\": [2,-0.5,1.5],\n",
    "      \"bindata\": {\n",
    "        \"data\":     [220.0, 230.0],\n",
    "        \"bkg1\":     [100.0, 70.0],\n",
    "        \"sig\":      [ 20.0, 20.0]\n",
    "      }\n",
    "    },\n",
    "    \"control\": {\n",
    "      \"binning\": [2,-0.5,1.5],\n",
    "      \"bindata\": {\n",
    "        \"data\":    [200.0, 300.0],\n",
    "        \"bkg1\":    [100.0, 100.0]\n",
    "      }\n",
    "    }\n",
    "  }\n",
    "}\n",
    "\n",
    "d,pdf = prep_data(source['channels'])\n",
    "\n",
    "print (d)\n",
    "\n",
    "init_pars = pdf.config.suggested_init()\n",
    "\n",
    "\n",
    "print (pdf.expected_data(init_pars))\n",
    "\n",
    "par_bounds = pdf.config.suggested_bounds()\n",
    "\n",
    "# unconpars = pyhf.unconstrained_bestfit(d,pdf,init_pars,par_bounds)\n",
    "# print ('UNCON',unconpars)\n",
    "\n",
    "# conpars = pyhf.constrained_bestfit(0.0,d,pdf,init_pars,par_bounds)\n",
    "# print ('CONS', conpars)\n",
    "\n",
    "# pdf.expected_data(conpars)"
   ]
  },
  {
   "cell_type": "code",
   "execution_count": 40,
   "metadata": {},
   "outputs": [
    {
     "name": "stdout",
     "output_type": "stream",
     "text": [
      "[1.0, 1.0, 1.0]\n",
      "('UNCON', array([1.99998945, 3.00000473, 1.00004452]))\n"
     ]
    },
    {
     "name": "stderr",
     "output_type": "stream",
     "text": [
      "/Users/lukas/Code/histfactory/pyhf/pyhf/__init__.py:341: RuntimeWarning: divide by zero encountered in log\n",
      "  \n"
     ]
    }
   ],
   "source": [
    "print (pdf.config.suggested_init())\n",
    "\n",
    "unconpars = pyhf.optimizer.unconstrained_bestfit(pyhf.loglambdav,d,pdf,pdf.config.suggested_init(),pdf.config.suggested_bounds())\n",
    "print ('UNCON',unconpars)\n"
   ]
  },
  {
   "cell_type": "code",
   "execution_count": 41,
   "metadata": {
    "scrolled": false
   },
   "outputs": [
    {
     "name": "stderr",
     "output_type": "stream",
     "text": [
      "/Users/lukas/Code/histfactory/pyhf/pyhf/__init__.py:401: RuntimeWarning: divide by zero encountered in double_scalars\n",
      "  \n"
     ]
    },
    {
     "data": {
      "text/plain": [
       "{'exp': [0.7413811114983857,\n",
       "  0.9949349478730988,\n",
       "  1.384513834251305,\n",
       "  1.9289936989205811,\n",
       "  2.59407652367884],\n",
       " 'obs': 2.1945969217530887}"
      ]
     },
     "execution_count": 41,
     "metadata": {},
     "output_type": "execute_result"
    },
    {
     "data": {
      "image/png": "[encoded data removed]",
      "text/plain": [
       "<matplotlib.figure.Figure at 0x10b08df10>"
      ]
     },
     "metadata": {},
     "output_type": "display_data"
    }
   ],
   "source": [
    "def plot_results(testmus,cls_obs, cls_exp, test_size = 0.05):\n",
    "    plt.plot(mutests,cls_obs, c = 'k')\n",
    "    for i,c in zip(range(5),['grey','grey','grey','grey','grey']):\n",
    "        plt.plot(mutests,cls_exp[i], c = c)\n",
    "    plt.plot(testmus,[test_size]*len(testmus), c = 'r')\n",
    "    plt.ylim(0,1)\n",
    "\n",
    "def CLsOnePoint(muTest,d,pdf, init_pars,par_bounds):\n",
    "    clsobs, cls_exp = pyhf.runOnePoint(muTest, d,pdf,init_pars,par_bounds)[-2:]\n",
    "    return 1./clsobs, [1./x for x in cls_exp]\n",
    "\n",
    "def invert_interval(testmus,cls_obs, cls_exp, test_size = 0.05):\n",
    "    point05cross = {'exp':[],'obs':None}\n",
    "    for cls_exp_sigma in cls_exp:\n",
    "        yvals = [x for x in cls_exp_sigma]\n",
    "        point05cross['exp'].append(np.interp(test_size,list(reversed(yvals)),list(reversed(testmus))))\n",
    "        \n",
    "    yvals = cls_obs\n",
    "    point05cross['obs'] = np.interp(test_size,list(reversed(yvals)),list(reversed(testmus)))\n",
    "    return point05cross\n",
    "\n",
    "\n",
    "CLsOnePoint(1.0,d,pdf,init_pars,par_bounds)\n",
    "\n",
    "\n",
    "mutests = np.linspace(0,5,61)\n",
    "tests = [CLsOnePoint(muTest,d,pdf,init_pars,par_bounds) for muTest in mutests]\n",
    "cls_obs = [test[0]  for test in tests]\n",
    "cls_exp = [[test[1][i]  for test in tests] for i in range(5)]\n",
    "\n",
    "plot_results(mutests, cls_obs, cls_exp)\n",
    "invert_interval(mutests, cls_obs, cls_exp)"
   ]
  },
  {
   "cell_type": "code",
   "execution_count": null,
   "metadata": {},
   "outputs": [],
   "source": []
  },
  {
   "cell_type": "code",
   "execution_count": null,
   "metadata": {},
   "outputs": [],
   "source": []
  },
  {
   "cell_type": "code",
   "execution_count": null,
   "metadata": {},
   "outputs": [],
   "source": []
  }
 ],
 "metadata": {
  "celltoolbar": "Tags",
  "kernelspec": {
   "display_name": "Python 2",
   "language": "python",
   "name": "python2"
  },
  "language_info": {
   "codemirror_mode": {
    "name": "ipython",
    "version": 2
   },
   "file_extension": ".py",
   "mimetype": "text/x-python",
   "name": "python",
   "nbconvert_exporter": "python",
   "pygments_lexer": "ipython2",
   "version": "2.7.10"
  }
 },
 "nbformat": 4,
 "nbformat_minor": 2
}

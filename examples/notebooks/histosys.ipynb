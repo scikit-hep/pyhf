{
 "cells": [
  {
   "cell_type": "code",
   "execution_count": 1,
   "metadata": {},
   "outputs": [
    {
     "name": "stdout",
     "output_type": "stream",
     "text": [
      "Populating the interactive namespace from numpy and matplotlib\n"
     ]
    }
   ],
   "source": [
    "%pylab inline"
   ]
  },
  {
   "cell_type": "code",
   "execution_count": 2,
   "metadata": {},
   "outputs": [],
   "source": [
    "import pyhf\n",
    "from pyhf import hfpdf\n",
    "def prep_data(source):\n",
    "    spec = {\n",
    "        'singlechannel': {\n",
    "            'signal': {\n",
    "                'data': source['bindata']['sig'],\n",
    "                'mods': [\n",
    "                    {\n",
    "                        'name': 'mu',\n",
    "                        'type': 'normfactor',\n",
    "                        'data': None\n",
    "                    }\n",
    "                ]\n",
    "            },\n",
    "            'background': {\n",
    "                'data': source['bindata']['bkg'],\n",
    "                'mods': [\n",
    "                    {\n",
    "                        'name': 'bkg_norm',\n",
    "                        'type': 'histosys',\n",
    "                        'data': {\n",
    "                            'lo_hist': source['bindata']['bkgsys_dn'],\n",
    "                            'hi_hist': source['bindata']['bkgsys_up'],\n",
    "                        }\n",
    "                    }\n",
    "                ]\n",
    "            }\n",
    "        }\n",
    "    }\n",
    "    pdf  = hfpdf(spec)\n",
    "    data = source['bindata']['data'] + pdf.auxdata\n",
    "    return data, pdf"
   ]
  },
  {
   "cell_type": "code",
   "execution_count": 8,
   "metadata": {},
   "outputs": [
    {
     "name": "stdout",
     "output_type": "stream",
     "text": [
      "[120.0, 180.0, 0]\n",
      "[[-5, 5], [0, 10]]\n",
      "['bkg_norm', 'mu']\n"
     ]
    },
    {
     "data": {
      "text/plain": [
       "(None, None, None)"
      ]
     },
     "execution_count": 8,
     "metadata": {},
     "output_type": "execute_result"
    }
   ],
   "source": [
    "source = {\n",
    "  \"binning\": [2,-0.5,1.5],\n",
    "  \"bindata\": {\n",
    "    \"data\":    [120.0, 180.0],\n",
    "    \"bkg\":     [100.0, 150.0],\n",
    "    \"bkgsys_up\":  [102, 190],\n",
    "    \"bkgsys_dn\":  [98, 100],\n",
    "    \"sig\":     [30.0, 95.0]\n",
    "  }\n",
    "}\n",
    "\n",
    "d,pdf = prep_data(source)\n",
    "init_pars = pdf.config.suggested_init()\n",
    "par_bounds = pdf.config.suggested_bounds()\n",
    "\n",
    "print (d), print(par_bounds), print(pdf.config.par_order)"
   ]
  },
  {
   "cell_type": "code",
   "execution_count": 9,
   "metadata": {
    "scrolled": false
   },
   "outputs": [
    {
     "name": "stderr",
     "output_type": "stream",
     "text": [
      "/Users/lukas/Code/histfactory/pyhf/pyhf/__init__.py:13: RuntimeWarning: invalid value encountered in sqrt\n",
      "  return norm.pdf(n, loc = lam, scale = np.sqrt(lam))\n",
      "WARNING: qmu negative: -1.17915845976313e-08\n",
      "/Users/lukas/Code/histfactory/pyhf/pyhf/__init__.py:335: RuntimeWarning: divide by zero encountered in log\n",
      "  sum = sum + np.log(_poisson_impl(d, lam))\n",
      "/Users/lukas/Code/histfactory/pyhf/pyhf/__init__.py:386: RuntimeWarning: divide by zero encountered in double_scalars\n",
      "  CLs  = CLb/CLsb\n"
     ]
    },
    {
     "data": {
      "text/plain": [
       "{'exp': [0.3111465634176961,\n",
       "  0.42267247690595644,\n",
       "  0.6105045741815445,\n",
       "  0.8773493566399762,\n",
       "  1.2116150897828568],\n",
       " 'obs': 1.116174021214249}"
      ]
     },
     "execution_count": 9,
     "metadata": {},
     "output_type": "execute_result"
    },
    {
     "data": {
      "image/png": "[encoded data removed]",
      "text/plain": [
       "<matplotlib.figure.Figure at 0x112ba4588>"
      ]
     },
     "metadata": {},
     "output_type": "display_data"
    }
   ],
   "source": [
    "def plot_results(testmus,cls_obs, cls_exp, test_size = 0.05):\n",
    "    plt.plot(mutests,cls_obs, c = 'k')\n",
    "    for i,c in zip(range(5),['grey','grey','grey','grey','grey']):\n",
    "        plt.plot(mutests,cls_exp[i], c = c)\n",
    "    plt.plot(testmus,[test_size]*len(testmus), c = 'r')\n",
    "    plt.ylim(0,1)\n",
    "\n",
    "def CLsOnePoint(muTest,d,pdf, init_pars,par_bounds):\n",
    "    clsobs, cls_exp = pyhf.runOnePoint(muTest, d,pdf,init_pars,par_bounds)[-2:]\n",
    "    return 1./clsobs, [1./x for x in cls_exp]\n",
    "\n",
    "def invert_interval(testmus,cls_obs, cls_exp, test_size = 0.05):\n",
    "    point05cross = {'exp':[],'obs':None}\n",
    "    for cls_exp_sigma in cls_exp:\n",
    "        yvals = [x for x in cls_exp_sigma]\n",
    "        point05cross['exp'].append(np.interp(test_size,list(reversed(yvals)),list(reversed(testmus))))\n",
    "        \n",
    "    yvals = cls_obs\n",
    "    point05cross['obs'] = np.interp(test_size,list(reversed(yvals)),list(reversed(testmus)))\n",
    "    return point05cross\n",
    "\n",
    "\n",
    "CLsOnePoint(1.0,d,pdf,init_pars,par_bounds)\n",
    "\n",
    "\n",
    "mutests = np.linspace(0,5,61)\n",
    "tests = [CLsOnePoint(muTest,d,pdf,init_pars,par_bounds) for muTest in mutests]\n",
    "cls_obs = [test[0]  for test in tests]\n",
    "cls_exp = [[test[1][i]  for test in tests] for i in range(5)]\n",
    "plot_results(mutests, cls_obs, cls_exp)\n",
    "invert_interval(mutests, cls_obs, cls_exp)\n"
   ]
  },
  {
   "cell_type": "code",
   "execution_count": null,
   "metadata": {},
   "outputs": [],
   "source": []
  }
 ],
 "metadata": {
  "kernelspec": {
   "display_name": "Python 3",
   "language": "python",
   "name": "python3"
  },
  "language_info": {
   "codemirror_mode": {
    "name": "ipython",
    "version": 3
   },
   "file_extension": ".py",
   "mimetype": "text/x-python",
   "name": "python",
   "nbconvert_exporter": "python",
   "pygments_lexer": "ipython3",
   "version": "3.5.1"
  }
 },
 "nbformat": 4,
 "nbformat_minor": 2
}

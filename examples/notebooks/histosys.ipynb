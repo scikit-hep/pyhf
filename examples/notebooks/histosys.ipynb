{
 "cells": [
  {
   "cell_type": "code",
   "execution_count": 1,
   "metadata": {},
   "outputs": [
    {
     "name": "stdout",
     "output_type": "stream",
     "text": [
      "Populating the interactive namespace from numpy and matplotlib\n"
     ]
    }
   ],
   "source": [
    "%pylab inline"
   ]
  },
  {
   "cell_type": "code",
   "execution_count": 2,
   "metadata": {},
   "outputs": [],
   "source": [
    "import pyhf\n",
    "from pyhf import hfpdf\n",
    "def prep_data(source):\n",
    "    spec = {\n",
    "        'singlechannel': {\n",
    "            'signal': {\n",
    "                'data': source['bindata']['sig'],\n",
    "                'mods': [\n",
    "                    {\n",
    "                        'name': 'mu',\n",
    "                        'type': 'normfactor',\n",
    "                        'data': None\n",
    "                    }\n",
    "                ]\n",
    "            },\n",
    "            'background': {\n",
    "                'data': source['bindata']['bkg'],\n",
    "                'mods': [\n",
    "                    {\n",
    "                        'name': 'bkg_norm',\n",
    "                        'type': 'histosys',\n",
    "                        'data': {\n",
    "                            'lo_hist': source['bindata']['bkgsys_dn'],\n",
    "                            'hi_hist': source['bindata']['bkgsys_up'],\n",
    "                        }\n",
    "                    }\n",
    "                ]\n",
    "            }\n",
    "        }\n",
    "    }\n",
    "    pdf  = hfpdf(spec)\n",
    "    data = source['bindata']['data'] + pdf.config.auxdata\n",
    "    return data, pdf"
   ]
  },
  {
   "cell_type": "code",
   "execution_count": 3,
   "metadata": {},
   "outputs": [
    {
     "name": "stdout",
     "output_type": "stream",
     "text": [
      "[120.0, 180.0, 0]\n",
      "[[-5, 5], [0, 10]]\n",
      "['bkg_norm', 'mu']\n"
     ]
    },
    {
     "data": {
      "text/plain": [
       "(None, None, None)"
      ]
     },
     "execution_count": 3,
     "metadata": {},
     "output_type": "execute_result"
    }
   ],
   "source": [
    "source = {\n",
    "  \"binning\": [2,-0.5,1.5],\n",
    "  \"bindata\": {\n",
    "    \"data\":    [120.0, 180.0],\n",
    "    \"bkg\":     [100.0, 150.0],\n",
    "    \"bkgsys_up\":  [102, 190],\n",
    "    \"bkgsys_dn\":  [98, 100],\n",
    "    \"sig\":     [30.0, 95.0]\n",
    "  }\n",
    "}\n",
    "\n",
    "d,pdf = prep_data(source)\n",
    "init_pars = pdf.config.suggested_init()\n",
    "par_bounds = pdf.config.suggested_bounds()\n",
    "\n",
    "print (d), print(par_bounds), print(pdf.config.par_order)"
   ]
  },
  {
   "cell_type": "code",
   "execution_count": 1,
   "metadata": {
    "scrolled": false
   },
   "outputs": [
    {
     "ename": "NameError",
     "evalue": "name 'np' is not defined",
     "output_type": "error",
     "traceback": [
      "\u001b[0;31m---------------------------------------------------------------------------\u001b[0m",
      "\u001b[0;31mNameError\u001b[0m                                 Traceback (most recent call last)",
      "\u001b[0;32m<ipython-input-1-6870bf3e8900>\u001b[0m in \u001b[0;36m<module>\u001b[0;34m()\u001b[0m\n\u001b[1;32m     21\u001b[0m \u001b[0;34m\u001b[0m\u001b[0m\n\u001b[1;32m     22\u001b[0m \u001b[0;34m\u001b[0m\u001b[0m\n\u001b[0;32m---> 23\u001b[0;31m \u001b[0mmutests\u001b[0m \u001b[0;34m=\u001b[0m \u001b[0mnp\u001b[0m\u001b[0;34m.\u001b[0m\u001b[0mlinspace\u001b[0m\u001b[0;34m(\u001b[0m\u001b[0;36m0\u001b[0m\u001b[0;34m,\u001b[0m\u001b[0;36m5\u001b[0m\u001b[0;34m,\u001b[0m\u001b[0;36m61\u001b[0m\u001b[0;34m)\u001b[0m\u001b[0;34m\u001b[0m\u001b[0m\n\u001b[0m\u001b[1;32m     24\u001b[0m \u001b[0mtests\u001b[0m \u001b[0;34m=\u001b[0m \u001b[0;34m[\u001b[0m\u001b[0mCLsOnePoint\u001b[0m\u001b[0;34m(\u001b[0m\u001b[0mmuTest\u001b[0m\u001b[0;34m,\u001b[0m\u001b[0md\u001b[0m\u001b[0;34m,\u001b[0m\u001b[0mpdf\u001b[0m\u001b[0;34m,\u001b[0m\u001b[0minit_pars\u001b[0m\u001b[0;34m,\u001b[0m\u001b[0mpar_bounds\u001b[0m\u001b[0;34m)\u001b[0m \u001b[0;32mfor\u001b[0m \u001b[0mmuTest\u001b[0m \u001b[0;32min\u001b[0m \u001b[0mmutests\u001b[0m\u001b[0;34m]\u001b[0m\u001b[0;34m\u001b[0m\u001b[0m\n\u001b[1;32m     25\u001b[0m \u001b[0mcls_obs\u001b[0m \u001b[0;34m=\u001b[0m \u001b[0;34m[\u001b[0m\u001b[0mtest\u001b[0m\u001b[0;34m[\u001b[0m\u001b[0;36m0\u001b[0m\u001b[0;34m]\u001b[0m  \u001b[0;32mfor\u001b[0m \u001b[0mtest\u001b[0m \u001b[0;32min\u001b[0m \u001b[0mtests\u001b[0m\u001b[0;34m]\u001b[0m\u001b[0;34m\u001b[0m\u001b[0m\n",
      "\u001b[0;31mNameError\u001b[0m: name 'np' is not defined"
     ]
    }
   ],
   "source": [
    "def plot_results(testmus,cls_obs, cls_exp, test_size = 0.05):\n",
    "    plt.plot(mutests,cls_obs, c = 'k')\n",
    "    for i,c in zip(range(5),['grey','grey','grey','grey','grey']):\n",
    "        plt.plot(mutests,cls_exp[i], c = c)\n",
    "    plt.plot(testmus,[test_size]*len(testmus), c = 'r')\n",
    "    plt.ylim(0,1)\n",
    "\n",
    "def CLsOnePoint(muTest,d,pdf, init_pars,par_bounds):\n",
    "    clsobs, cls_exp = pyhf.runOnePoint(muTest, d,pdf,init_pars,par_bounds)[-2:]\n",
    "    return 1./clsobs, [1./x for x in cls_exp]\n",
    "\n",
    "def invert_interval(testmus,cls_obs, cls_exp, test_size = 0.05):\n",
    "    point05cross = {'exp':[],'obs':None}\n",
    "    for cls_exp_sigma in cls_exp:\n",
    "        yvals = [x for x in cls_exp_sigma]\n",
    "        point05cross['exp'].append(np.interp(test_size,list(reversed(yvals)),list(reversed(testmus))))\n",
    "        \n",
    "    yvals = cls_obs\n",
    "    point05cross['obs'] = np.interp(test_size,list(reversed(yvals)),list(reversed(testmus)))\n",
    "    return point05cross\n",
    "\n",
    "\n",
    "mutests = np.linspace(0,5,61)\n",
    "tests = [CLsOnePoint(muTest,d,pdf,init_pars,par_bounds) for muTest in mutests]\n",
    "cls_obs = [test[0]  for test in tests]\n",
    "cls_exp = [[test[1][i]  for test in tests] for i in range(5)]\n",
    "plot_results(mutests, cls_obs, cls_exp)\n",
    "invert_interval(mutests, cls_obs, cls_exp)"
   ]
  }
 ],
 "metadata": {
  "kernelspec": {
   "display_name": "Python 2",
   "language": "python",
   "name": "python2"
  },
  "language_info": {
   "codemirror_mode": {
    "name": "ipython",
    "version": 2
   },
   "file_extension": ".py",
   "mimetype": "text/x-python",
   "name": "python",
   "nbconvert_exporter": "python",
   "pygments_lexer": "ipython2",
   "version": "2.7.10"
  }
 },
 "nbformat": 4,
 "nbformat_minor": 2
}

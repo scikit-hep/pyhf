{
 "cells": [
  {
   "cell_type": "code",
   "execution_count": 4,
   "metadata": {},
   "outputs": [
    {
     "name": "stdout",
     "output_type": "stream",
     "text": [
      "Populating the interactive namespace from numpy and matplotlib\n"
     ]
    },
    {
     "name": "stderr",
     "output_type": "stream",
     "text": [
      "/Users/lukas/Code/histfactory/pyhf/venv/lib/python2.7/site-packages/IPython/core/magics/pylab.py:161: UserWarning: pylab import has clobbered these variables: ['source']\n",
      "`%matplotlib` prevents importing * from pylab and numpy\n",
      "  \"\\n`%matplotlib` prevents importing * from pylab and numpy\"\n"
     ]
    }
   ],
   "source": [
    "%pylab inline"
   ]
  },
  {
   "cell_type": "code",
   "execution_count": 5,
   "metadata": {},
   "outputs": [],
   "source": [
    "import pyhf\n",
    "import logging\n",
    "logging.basicConfig(level = logging.INFO)\n",
    "from pyhf import hfpdf\n",
    "def prep_data(sourcedata):\n",
    "    spec =  {\n",
    "        'channels': [\n",
    "            {\n",
    "                'name': 'signal',\n",
    "                'samples': [\n",
    "                    {\n",
    "                        'name': 'signal',\n",
    "                        'data': sourcedata['signal']['bindata']['sig'],\n",
    "                        'modifiers': [\n",
    "                            {\n",
    "                                'name': 'mu',\n",
    "                                'type': 'normfactor',\n",
    "                                'data': None\n",
    "                            }\n",
    "                        ]\n",
    "                    },\n",
    "                    {\n",
    "                        'name': 'bkg1',\n",
    "                        'data': sourcedata['signal']['bindata']['bkg1'],\n",
    "                        'modifiers': [\n",
    "                            {\n",
    "                                'name': 'coupled_histosys',\n",
    "                                'type': 'histosys',\n",
    "                                'data':  {'lo_data': sourcedata['signal']['bindata']['bkg1_dn'], 'hi_data': sourcedata['signal']['bindata']['bkg1_up']}\n",
    "                            }\n",
    "                        ]\n",
    "                    },\n",
    "                    {\n",
    "                        'name': 'bkg2',\n",
    "                        'data': sourcedata['signal']['bindata']['bkg2'],\n",
    "                        'modifiers': [\n",
    "                            {\n",
    "                                'name': 'coupled_histosys',\n",
    "                                'type': 'histosys',\n",
    "                                'data':  {'lo_data': sourcedata['signal']['bindata']['bkg2_dn'], 'hi_data': sourcedata['signal']['bindata']['bkg2_up']}\n",
    "                            }\n",
    "                        ]\n",
    "                    }\n",
    "                ]\n",
    "            },\n",
    "            {\n",
    "                'name': 'control',\n",
    "                'samples': [\n",
    "                    {\n",
    "                        'name': 'background',\n",
    "                        'data': sourcedata['control']['bindata']['bkg1'],\n",
    "                        'modifiers': [\n",
    "                            {\n",
    "                                'name': 'coupled_histosys',\n",
    "                                'type': 'histosys',\n",
    "                                'data':  {'lo_data': sourcedata['control']['bindata']['bkg1_dn'], 'hi_data': sourcedata['control']['bindata']['bkg1_up']}\n",
    "                            }\n",
    "                        ]\n",
    "                    }\n",
    "                ]\n",
    "            }\n",
    "        ]\n",
    "    }\n",
    "    pdf  = hfpdf(spec)\n",
    "    data = []\n",
    "    for c in pdf.spec['channels']:\n",
    "        data += sourcedata[c['name']]['bindata']['data']\n",
    "    data = data + pdf.config.auxdata\n",
    "    return data, pdf"
   ]
  },
  {
   "cell_type": "code",
   "execution_count": 6,
   "metadata": {
    "tags": [
     "parameters"
    ]
   },
   "outputs": [],
   "source": [
    "validation_datadir = '../../validation/data'"
   ]
  },
  {
   "cell_type": "code",
   "execution_count": 7,
   "metadata": {
    "scrolled": false
   },
   "outputs": [
    {
     "name": "stderr",
     "output_type": "stream",
     "text": [
      "INFO:pyhf:adding modifier coupled_histosys (1 new nuisance parameters)\n",
      "INFO:pyhf:adding modifier mu (1 new nuisance parameters)\n",
      "INFO:pyhf:accepting existing histosys\n",
      "INFO:pyhf:accepting existing histosys\n"
     ]
    },
    {
     "name": "stdout",
     "output_type": "stream",
     "text": [
      "[110.0, 105.0, 170.0, 220.0, 0]\n",
      "('UNCON', array([0.31261024, 0.50055858]))\n",
      "('CONS', array([0.15300933, 0.        ]))\n"
     ]
    },
    {
     "name": "stderr",
     "output_type": "stream",
     "text": [
      "/Users/lukas/Code/histfactory/pyhf/pyhf/__init__.py:15: RuntimeWarning: invalid value encountered in log\n",
      "  return np.exp(n*np.log(lam)-lam-gammaln(n+1.))\n"
     ]
    },
    {
     "data": {
      "text/plain": [
       "array([1.05765047e+02, 1.02295140e+02, 1.52295140e+02, 2.11584487e+02,\n",
       "       1.53009331e-01])"
      ]
     },
     "execution_count": 7,
     "metadata": {},
     "output_type": "execute_result"
    }
   ],
   "source": [
    "import json\n",
    "source = json.load(open(validation_datadir + '/2bin_2channel_coupledhisto.json'))\n",
    "\n",
    "\n",
    "d,pdf = prep_data(source['channels'])\n",
    "\n",
    "print (d)\n",
    "\n",
    "init_pars = pdf.config.suggested_init()\n",
    "par_bounds = pdf.config.suggested_bounds()\n",
    "\n",
    "unconpars = pyhf.optimizer.unconstrained_bestfit(pyhf.loglambdav,d,pdf,init_pars,par_bounds)\n",
    "print ('UNCON',unconpars)\n",
    "\n",
    "conpars = pyhf.optimizer.constrained_bestfit(pyhf.loglambdav,0.0,d,pdf,init_pars,par_bounds)\n",
    "print ('CONS', conpars)\n",
    "\n",
    "pdf.expected_data(conpars)"
   ]
  },
  {
   "cell_type": "code",
   "execution_count": 8,
   "metadata": {
    "scrolled": false
   },
   "outputs": [
    {
     "name": "stderr",
     "output_type": "stream",
     "text": [
      "/Users/lukas/Code/histfactory/pyhf/pyhf/__init__.py:401: RuntimeWarning: divide by zero encountered in double_scalars\n",
      "  CLs = CLb / CLsb\n"
     ]
    },
    {
     "data": {
      "text/plain": [
       "{'exp': [0.3488630389652413,\n",
       "  0.4720997240735826,\n",
       "  0.6568947869445266,\n",
       "  0.9271407096392055,\n",
       "  1.2665933117030255],\n",
       " 'obs': 1.0836849242026667}"
      ]
     },
     "execution_count": 8,
     "metadata": {},
     "output_type": "execute_result"
    },
    {
     "data": {
      "image/png": "[encoded data removed]",
      "text/plain": [
       "<matplotlib.figure.Figure at 0x10e457a50>"
      ]
     },
     "metadata": {},
     "output_type": "display_data"
    }
   ],
   "source": [
    "def plot_results(testmus,cls_obs, cls_exp, test_size = 0.05):\n",
    "    plt.plot(mutests,cls_obs, c = 'k')\n",
    "    for i,c in zip(range(5),['grey','grey','grey','grey','grey']):\n",
    "        plt.plot(mutests,cls_exp[i], c = c)\n",
    "    plt.plot(testmus,[test_size]*len(testmus), c = 'r')\n",
    "    plt.ylim(0,1)\n",
    "\n",
    "def CLsOnePoint(muTest,d,pdf, init_pars,par_bounds):\n",
    "    clsobs, cls_exp = pyhf.runOnePoint(muTest, d,pdf,init_pars,par_bounds)[-2:]\n",
    "    return 1./clsobs, [1./x for x in cls_exp]\n",
    "\n",
    "def invert_interval(testmus,cls_obs, cls_exp, test_size = 0.05):\n",
    "    point05cross = {'exp':[],'obs':None}\n",
    "    for cls_exp_sigma in cls_exp:\n",
    "        yvals = [x for x in cls_exp_sigma]\n",
    "        point05cross['exp'].append(np.interp(test_size,list(reversed(yvals)),list(reversed(testmus))))\n",
    "        \n",
    "    yvals = cls_obs\n",
    "    point05cross['obs'] = np.interp(test_size,list(reversed(yvals)),list(reversed(testmus)))\n",
    "    return point05cross\n",
    "\n",
    "\n",
    "CLsOnePoint(1.0,d,pdf,init_pars,par_bounds)\n",
    "\n",
    "\n",
    "mutests = np.linspace(0,5,61)\n",
    "tests = [CLsOnePoint(muTest,d,pdf,init_pars,par_bounds) for muTest in mutests]\n",
    "cls_obs = [test[0]  for test in tests]\n",
    "cls_exp = [[test[1][i]  for test in tests] for i in range(5)]\n",
    "\n",
    "plot_results(mutests, cls_obs, cls_exp)\n",
    "\n",
    "invert_interval(mutests, cls_obs, cls_exp)\n",
    "\n",
    "\n"
   ]
  },
  {
   "cell_type": "code",
   "execution_count": null,
   "metadata": {},
   "outputs": [],
   "source": []
  }
 ],
 "metadata": {
  "celltoolbar": "Tags",
  "kernelspec": {
   "display_name": "Python 2",
   "language": "python",
   "name": "python2"
  },
  "language_info": {
   "codemirror_mode": {
    "name": "ipython",
    "version": 2
   },
   "file_extension": ".py",
   "mimetype": "text/x-python",
   "name": "python",
   "nbconvert_exporter": "python",
   "pygments_lexer": "ipython2",
   "version": "2.7.13"
  }
 },
 "nbformat": 4,
 "nbformat_minor": 2
}

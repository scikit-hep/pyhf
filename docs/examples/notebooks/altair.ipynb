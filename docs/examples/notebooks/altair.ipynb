{
 "cells": [
  {
   "cell_type": "code",
   "execution_count": 1,
   "metadata": {},
   "outputs": [],
   "source": [
    "import pyhf\n",
    "import pandas\n",
    "import numpy as np\n",
    "import altair as alt"
   ]
  },
  {
   "cell_type": "markdown",
   "metadata": {},
   "source": [
    "# Visualization with Altair\n",
    "\n",
    "\n",
    "[Altair](https://altair-viz.github.io/) is a python API for generating [Vega](https://vega.github.io/) visuazliation specifications. We demonstracte how to use this to build an interactive chart of pyhf results."
   ]
  },
  {
   "cell_type": "markdown",
   "metadata": {},
   "source": [
    "## Preparing the data\n",
    "\n",
    "Altair reads the data as a pandas dataframe, so we create one."
   ]
  },
  {
   "cell_type": "code",
   "execution_count": 2,
   "metadata": {},
   "outputs": [],
   "source": [
    "model = pyhf.simplemodels.hepdata_like([7], [20], [5])\n",
    "data = [25] + model.config.auxdata"
   ]
  },
  {
   "cell_type": "code",
   "execution_count": 3,
   "metadata": {},
   "outputs": [],
   "source": [
    "muscan = np.linspace(0, 5, 31)\n",
    "results = [\n",
    "    pyhf.infer.hypotest(mu, data, model, return_expected_set=True) for mu in muscan\n",
    "]"
   ]
  },
  {
   "cell_type": "code",
   "execution_count": 4,
   "metadata": {},
   "outputs": [
    {
     "data": {
      "text/html": [
       "<div>\n",
       "<style scoped>\n",
       "    .dataframe tbody tr th:only-of-type {\n",
       "        vertical-align: middle;\n",
       "    }\n",
       "\n",
       "    .dataframe tbody tr th {\n",
       "        vertical-align: top;\n",
       "    }\n",
       "\n",
       "    .dataframe thead th {\n",
       "        text-align: right;\n",
       "    }\n",
       "</style>\n",
       "<table border=\"1\" class=\"dataframe\">\n",
       "  <thead>\n",
       "    <tr style=\"text-align: right;\">\n",
       "      <th></th>\n",
       "      <th>mu</th>\n",
       "      <th>obs</th>\n",
       "      <th>exp_0</th>\n",
       "      <th>exp_1</th>\n",
       "      <th>exp_2</th>\n",
       "      <th>exp_3</th>\n",
       "      <th>exp_4</th>\n",
       "    </tr>\n",
       "  </thead>\n",
       "  <tbody>\n",
       "    <tr>\n",
       "      <th>0</th>\n",
       "      <td>0.000000</td>\n",
       "      <td>1.000000</td>\n",
       "      <td>1.000000</td>\n",
       "      <td>1.000000</td>\n",
       "      <td>1.000000</td>\n",
       "      <td>1.000000</td>\n",
       "      <td>1.000000</td>\n",
       "    </tr>\n",
       "    <tr>\n",
       "      <th>1</th>\n",
       "      <td>0.166667</td>\n",
       "      <td>0.885208</td>\n",
       "      <td>0.670809</td>\n",
       "      <td>0.771258</td>\n",
       "      <td>0.870322</td>\n",
       "      <td>0.949235</td>\n",
       "      <td>0.989385</td>\n",
       "    </tr>\n",
       "    <tr>\n",
       "      <th>2</th>\n",
       "      <td>0.333333</td>\n",
       "      <td>0.795986</td>\n",
       "      <td>0.438838</td>\n",
       "      <td>0.581516</td>\n",
       "      <td>0.743696</td>\n",
       "      <td>0.890881</td>\n",
       "      <td>0.975022</td>\n",
       "    </tr>\n",
       "    <tr>\n",
       "      <th>3</th>\n",
       "      <td>0.500000</td>\n",
       "      <td>0.726450</td>\n",
       "      <td>0.279981</td>\n",
       "      <td>0.428500</td>\n",
       "      <td>0.623443</td>\n",
       "      <td>0.825621</td>\n",
       "      <td>0.956105</td>\n",
       "    </tr>\n",
       "    <tr>\n",
       "      <th>4</th>\n",
       "      <td>0.666667</td>\n",
       "      <td>0.672216</td>\n",
       "      <td>0.174235</td>\n",
       "      <td>0.308524</td>\n",
       "      <td>0.512383</td>\n",
       "      <td>0.754629</td>\n",
       "      <td>0.931866</td>\n",
       "    </tr>\n",
       "  </tbody>\n",
       "</table>\n",
       "</div>"
      ],
      "text/plain": [
       "         mu       obs     exp_0     exp_1     exp_2     exp_3     exp_4\n",
       "0  0.000000  1.000000  1.000000  1.000000  1.000000  1.000000  1.000000\n",
       "1  0.166667  0.885208  0.670809  0.771258  0.870322  0.949235  0.989385\n",
       "2  0.333333  0.795986  0.438838  0.581516  0.743696  0.890881  0.975022\n",
       "3  0.500000  0.726450  0.279981  0.428500  0.623443  0.825621  0.956105\n",
       "4  0.666667  0.672216  0.174235  0.308524  0.512383  0.754629  0.931866"
      ]
     },
     "execution_count": 4,
     "metadata": {},
     "output_type": "execute_result"
    }
   ],
   "source": [
    "data = np.concatenate(\n",
    "    [\n",
    "        muscan.reshape(-1, 1),\n",
    "        np.asarray([r[0] for r in results]).reshape(-1, 1),\n",
    "        np.asarray([r[1] for r in results]).reshape(-1, 5),\n",
    "    ],\n",
    "    axis=1,\n",
    ")\n",
    "df = pandas.DataFrame(data, columns=[\"mu\", \"obs\"] + [f\"exp_{i}\" for i in range(5)])\n",
    "df.head()"
   ]
  },
  {
   "cell_type": "markdown",
   "metadata": {},
   "source": [
    "## Defining the Chart\n",
    "\n",
    "We need to filled areas for the 1,2 sigma bands and two lines for the expected and observed CLs value. For interactivity we add a hovering label of the observed result"
   ]
  },
  {
   "cell_type": "code",
   "execution_count": 5,
   "metadata": {},
   "outputs": [
    {
     "data": {
      "text/html": [
       "\n",
       "<div id=\"altair-viz-1\"></div>\n",
       "<script type=\"text/javascript\">\n",
       "  (function(spec, embedOpt){\n",
       "    const outputDiv = document.getElementById(\"altair-viz-1\");\n",
       "    const paths = {\n",
       "      \"vega\": \"https://cdn.jsdelivr.net/npm//vega@5?noext\",\n",
       "      \"vega-lib\": \"https://cdn.jsdelivr.net/npm//vega-lib?noext\",\n",
       "      \"vega-lite\": \"https://cdn.jsdelivr.net/npm//vega-lite@4.0.0?noext\",\n",
       "      \"vega-embed\": \"https://cdn.jsdelivr.net/npm//vega-embed@6?noext\",\n",
       "    };\n",
       "\n",
       "    function loadScript(lib) {\n",
       "      return new Promise(function(resolve, reject) {\n",
       "        var s = document.createElement('script');\n",
       "        s.src = paths[lib];\n",
       "        s.async = true;\n",
       "        s.onload = () => resolve(paths[lib]);\n",
       "        s.onerror = () => reject(`Error loading script: ${paths[lib]}`);\n",
       "        document.getElementsByTagName(\"head\")[0].appendChild(s);\n",
       "      });\n",
       "    }\n",
       "\n",
       "    function showError(err) {\n",
       "      outputDiv.innerHTML = `<div class=\"error\" style=\"color:red;\">${err}</div>`;\n",
       "      throw err;\n",
       "    }\n",
       "\n",
       "    function displayChart(vegaEmbed) {\n",
       "      vegaEmbed(outputDiv, spec, embedOpt)\n",
       "        .catch(err => showError(`Javascript Error: ${err.message}<br>This usually means there's a typo in your chart specification. See the javascript console for the full traceback.`));\n",
       "    }\n",
       "\n",
       "    if(typeof define === \"function\" && define.amd) {\n",
       "      requirejs.config({paths});\n",
       "      require([\"vega-embed\"], displayChart, err => showError(`Error loading script: ${err.message}`));\n",
       "    } else if (typeof vegaEmbed === \"function\") {\n",
       "      displayChart(vegaEmbed);\n",
       "    } else {\n",
       "      loadScript(\"vega\")\n",
       "        .then(() => loadScript(\"vega-lite\"))\n",
       "        .then(() => loadScript(\"vega-embed\"))\n",
       "        .catch(showError)\n",
       "        .then(() => displayChart(vegaEmbed));\n",
       "    }\n",
       "  })({\"config\": {\"view\": {\"continuousWidth\": 400, \"continuousHeight\": 300}}, \"layer\": [{\"mark\": {\"type\": \"area\", \"color\": \"yellow\", \"opacity\": 0.5}, \"encoding\": {\"x\": {\"type\": \"quantitative\", \"field\": \"mu\"}, \"y\": {\"type\": \"quantitative\", \"field\": \"exp_0\"}, \"y2\": {\"field\": \"exp_4\"}}}, {\"mark\": {\"type\": \"area\", \"color\": \"green\", \"opacity\": 0.5}, \"encoding\": {\"x\": {\"type\": \"quantitative\", \"field\": \"mu\"}, \"y\": {\"type\": \"quantitative\", \"field\": \"exp_1\"}, \"y2\": {\"field\": \"exp_3\"}}}, {\"mark\": {\"type\": \"line\", \"color\": \"black\"}, \"encoding\": {\"x\": {\"type\": \"quantitative\", \"field\": \"mu\"}, \"y\": {\"type\": \"quantitative\", \"field\": \"obs\"}}}, {\"mark\": {\"type\": \"line\", \"color\": \"black\", \"strokeDash\": [5, 5]}, \"encoding\": {\"x\": {\"type\": \"quantitative\", \"field\": \"mu\"}, \"y\": {\"type\": \"quantitative\", \"field\": \"exp_2\"}}}, {\"mark\": {\"type\": \"point\", \"color\": \"black\"}, \"encoding\": {\"opacity\": {\"condition\": {\"value\": 1, \"selection\": \"selector001\"}, \"value\": 0}, \"x\": {\"type\": \"quantitative\", \"field\": \"mu\"}, \"y\": {\"type\": \"quantitative\", \"field\": \"obs\"}}, \"selection\": {\"selector001\": {\"type\": \"single\", \"nearest\": true, \"on\": \"mouseover\", \"fields\": [\"mu\"], \"empty\": \"none\"}}}, {\"mark\": {\"type\": \"text\", \"align\": \"left\", \"dx\": 5, \"dy\": -5}, \"encoding\": {\"text\": {\"condition\": {\"type\": \"quantitative\", \"field\": \"obs\", \"selection\": \"selector001\"}, \"value\": \" \"}, \"x\": {\"type\": \"quantitative\", \"field\": \"mu\"}, \"y\": {\"type\": \"quantitative\", \"field\": \"obs\"}}}], \"data\": {\"name\": \"data-a93d5b40a98fc398090a2f83134ca27f\"}, \"$schema\": \"https://vega.github.io/schema/vega-lite/v4.0.0.json\", \"datasets\": {\"data-a93d5b40a98fc398090a2f83134ca27f\": [{\"mu\": 0.0, \"obs\": 1.0, \"exp_0\": 1.0, \"exp_1\": 1.0, \"exp_2\": 1.0, \"exp_3\": 1.0, \"exp_4\": 1.0}, {\"mu\": 0.16666666666666666, \"obs\": 0.885208046201876, \"exp_0\": 0.6708093320637643, \"exp_1\": 0.7712581768453035, \"exp_2\": 0.870322062377701, \"exp_3\": 0.9492346805663378, \"exp_4\": 0.9893852840042259}, {\"mu\": 0.3333333333333333, \"obs\": 0.7959858737128832, \"exp_0\": 0.4388384371528888, \"exp_1\": 0.5815159122137441, \"exp_2\": 0.743696297855776, \"exp_3\": 0.8908813031615331, \"exp_4\": 0.975021926943549}, {\"mu\": 0.5, \"obs\": 0.7264498712405358, \"exp_0\": 0.27998138755408064, \"exp_1\": 0.42849971835319905, \"exp_2\": 0.6234425256455327, \"exp_3\": 0.8256209575423804, \"exp_4\": 0.9561050287455932}, {\"mu\": 0.6666666666666666, \"obs\": 0.6722161009650732, \"exp_0\": 0.1742352920503134, \"exp_1\": 0.30852380065540874, \"exp_2\": 0.5123831479722951, \"exp_3\": 0.754629322723871, \"exp_4\": 0.9318662416893251}, {\"mu\": 0.8333333333333333, \"obs\": 0.597352250791786, \"exp_0\": 0.1057889120000853, \"exp_1\": 0.21704762050878157, \"exp_2\": 0.4126370335213547, \"exp_3\": 0.6795234014341129, \"exp_4\": 0.9016594917859243}, {\"mu\": 1.0, \"obs\": 0.5125304270010567, \"exp_0\": 0.0626904802521636, \"exp_1\": 0.14920436559616973, \"exp_2\": 0.32550469199506793, \"exp_3\": 0.6022482617502375, \"exp_4\": 0.8650537048557699}, {\"mu\": 1.1666666666666665, \"obs\": 0.43155478211237014, \"exp_0\": 0.0362763150938891, \"exp_1\": 0.10024202421611904, \"exp_2\": 0.25145723166905243, \"exp_3\": 0.5249194297928201, \"exp_4\": 0.8219198503066494}, {\"mu\": 1.3333333333333333, \"obs\": 0.35638038528802607, \"exp_0\": 0.02050897148395124, \"exp_1\": 0.06583942323770724, \"exp_2\": 0.1902165292163327, \"exp_3\": 0.4496417644702762, \"exp_4\": 0.7724965372826004}, {\"mu\": 1.5, \"obs\": 0.28850571940472014, \"exp_0\": 0.011335313392105258, \"exp_1\": 0.04229172507953542, \"exp_2\": 0.14090342799131003, \"exp_3\": 0.3783325909364689, \"exp_4\": 0.7174207460633659}, {\"mu\": 1.6666666666666665, \"obs\": 0.2288879676991076, \"exp_0\": 0.006128962126953434, \"exp_1\": 0.026580119605136912, \"exp_2\": 0.10222169425731316, \"exp_3\": 0.3125742034251092, \"exp_4\": 0.6577145207124594}, {\"mu\": 1.8333333333333333, \"obs\": 0.17792827201386793, \"exp_0\": 0.003244272553533453, \"exp_1\": 0.016353731251470636, \"exp_2\": 0.07264614973352762, \"exp_3\": 0.253514351715766, \"exp_4\": 0.5947255082460137}, {\"mu\": 2.0, \"obs\": 0.13551931174349952, \"exp_0\": 0.0016824876380343687, \"exp_1\": 0.0098556186474845, \"exp_2\": 0.050590067811418976, \"exp_3\": 0.20182432855701313, \"exp_4\": 0.5300281827224042}, {\"mu\": 2.1666666666666665, \"obs\": 0.1011397563958637, \"exp_0\": 0.0008555118962880767, \"exp_1\": 0.005821347101264973, \"exp_2\": 0.03453546819227285, \"exp_3\": 0.1577121876046138, \"exp_4\": 0.4652982153812094}, {\"mu\": 2.333333333333333, \"obs\": 0.07397422226677794, \"exp_0\": 0.00042685388878494244, \"exp_1\": 0.003372198532946002, \"exp_2\": 0.023120692820716545, \"exp_3\": 0.12098140833691856, \"exp_4\": 0.40217807075426715}, {\"mu\": 2.5, \"obs\": 0.053038000163233304, \"exp_0\": 0.0002091466323842012, \"exp_1\": 0.001917069892070275, \"exp_2\": 0.015187220412412902, \"exp_3\": 0.09111924168784799, \"exp_4\": 0.3421519688382553}, {\"mu\": 2.6666666666666665, \"obs\": 0.03728923110652482, \"exp_0\": 0.00010071105118444169, \"exp_1\": 0.0010702542465214893, \"exp_2\": 0.009793055024825182, \"exp_3\": 0.06739782014979545, \"exp_4\": 0.28644581438404537}, {\"mu\": 2.833333333333333, \"obs\": 0.0257179182116995, \"exp_0\": 4.769668982606181e-05, \"exp_1\": 0.0005871510984859618, \"exp_2\": 0.0062022731432158015, \"exp_3\": 0.04897297520955959, \"exp_4\": 0.23596231777006713}, {\"mu\": 3.0, \"obs\": 0.017407274891809935, \"exp_0\": 2.2233425623848464e-05, \"exp_1\": 0.000316748372146125, \"exp_2\": 0.003860228745112537, \"exp_3\": 0.0349697153568619, \"exp_4\": 0.1912550232836131}, {\"mu\": 3.1666666666666665, \"obs\": 0.011568315013262737, \"exp_0\": 1.0208079282059512e-05, \"exp_1\": 0.0001681372706113193, \"exp_2\": 0.002362352012666589, \"exp_3\": 0.024548101019797028, \"exp_4\": 0.15253876411875114}, {\"mu\": 3.333333333333333, \"obs\": 0.007552080480225313, \"exp_0\": 4.619583185177229e-06, \"exp_1\": 8.787720581219342e-05, \"exp_2\": 0.001422284034246536, \"exp_3\": 0.01694768834294299, \"exp_4\": 0.11972933236129006}, {\"mu\": 3.5, \"obs\": 0.004845522813850621, \"exp_0\": 2.0619235097908088e-06, \"exp_1\": 4.5250294941424645e-05, \"exp_2\": 0.0008429030611470179, \"exp_3\": 0.011512096677548043, \"exp_4\": 0.09250249601161471}, {\"mu\": 3.6666666666666665, \"obs\": 0.003057151731419011, \"exp_0\": 9.083035401820325e-07, \"exp_1\": 2.29700285388099e-05, \"exp_2\": 0.0004919884783350561, \"exp_3\": 0.007697322565996918, \"exp_4\": 0.07036195643623118}, {\"mu\": 3.833333333333333, \"obs\": 0.001897677140045054, \"exp_0\": 3.9513310398296437e-07, \"exp_1\": 1.1501371949547207e-05, \"exp_2\": 0.00028297648583792176, \"exp_3\": 0.005068262422831493, \"exp_4\": 0.052707021306834294}, {\"mu\": 4.0, \"obs\": 0.001159533113270782, \"exp_0\": 1.6984882806749173e-07, \"exp_1\": 5.683676816349905e-06, \"exp_2\": 0.00016046881277834407, \"exp_3\": 0.003287808420561576, \"exp_4\": 0.038893035179116686}, {\"mu\": 4.166666666666666, \"obs\": 0.0006977886033248206, \"exp_0\": 7.218198906764641e-08, \"exp_1\": 2.7735413560692842e-06, \"exp_2\": 8.976280928537363e-05, \"exp_3\": 0.002102205611504832, \"exp_4\": 0.028280291910345267}, {\"mu\": 4.333333333333333, \"obs\": 0.0004137763620838491, \"exp_0\": 3.0343844646024445e-08, \"exp_1\": 1.3371791762898504e-06, \"exp_2\": 4.955433867943455e-05, \"exp_3\": 0.0013254293148067138, \"exp_4\": 0.020269695388949013}, {\"mu\": 4.5, \"obs\": 0.00024189413423711276, \"exp_0\": 1.2624215091510698e-08, \"exp_1\": 6.372482224219285e-07, \"exp_2\": 2.7011783476803636e-05, \"exp_3\": 0.0008244022733887426, \"exp_4\": 0.014325474656585256}, {\"mu\": 4.666666666666666, \"obs\": 0.00013948079727988557, \"exp_0\": 5.2003870031230795e-09, \"exp_1\": 3.0032862478225687e-07, \"exp_2\": 1.4544906580920406e-05, \"exp_3\": 0.0005060670259985268, \"exp_4\": 0.00998664020751456}, {\"mu\": 4.833333333333333, \"obs\": 7.936675494224077e-05, \"exp_0\": 2.1220637345461576e-09, \"exp_1\": 1.400389861548644e-07, \"exp_2\": 7.740101490582264e-06, \"exp_3\": 0.00030672103998900894, \"exp_4\": 0.006869570804853824}, {\"mu\": 5.0, \"obs\": 4.458589445518509e-05, \"exp_0\": 8.581372012596285e-10, \"exp_1\": 6.46326054140823e-08, \"exp_2\": 4.07235166843101e-06, \"exp_3\": 0.0001836207375703008, \"exp_4\": 0.004664350843660228}]}}, {\"mode\": \"vega-lite\"});\n",
       "</script>"
      ],
      "text/plain": [
       "alt.LayerChart(...)"
      ]
     },
     "execution_count": 5,
     "metadata": {},
     "output_type": "execute_result"
    }
   ],
   "source": [
    "band1 = (\n",
    "    alt.Chart(df)\n",
    "    .mark_area(opacity=0.5, color=\"green\")\n",
    "    .encode(x=\"mu\", y=\"exp_1\", y2=\"exp_3\")\n",
    ")\n",
    "\n",
    "band2 = (\n",
    "    alt.Chart(df)\n",
    "    .mark_area(opacity=0.5, color=\"yellow\")\n",
    "    .encode(x=\"mu\", y=\"exp_0\", y2=\"exp_4\")\n",
    ")\n",
    "\n",
    "line1 = alt.Chart(df).mark_line(color=\"black\").encode(x=\"mu\", y=\"obs\")\n",
    "\n",
    "line2 = (\n",
    "    alt.Chart(df).mark_line(color=\"black\", strokeDash=[5, 5]).encode(x=\"mu\", y=\"exp_2\")\n",
    ")\n",
    "\n",
    "nearest = alt.selection_single(\n",
    "    nearest=True, on=\"mouseover\", fields=[\"mu\"], empty=\"none\"\n",
    ")\n",
    "\n",
    "\n",
    "point = (\n",
    "    alt.Chart(df)\n",
    "    .mark_point(color=\"black\")\n",
    "    .encode(x=\"mu\", y=\"obs\", opacity=alt.condition(nearest, alt.value(1), alt.value(0)))\n",
    "    .add_selection(nearest)\n",
    ")\n",
    "\n",
    "text = line1.mark_text(align=\"left\", dx=5, dy=-5).encode(\n",
    "    text=alt.condition(nearest, \"obs\", alt.value(\" \"))\n",
    ")\n",
    "\n",
    "\n",
    "band2 + band1 + line1 + line2 + point + text"
   ]
  }
 ],
 "metadata": {
  "kernelspec": {
   "display_name": "Python 3",
   "language": "python",
   "name": "python3"
  },
  "language_info": {
   "codemirror_mode": {
    "name": "ipython",
    "version": 3
   },
   "file_extension": ".py",
   "mimetype": "text/x-python",
   "name": "python",
   "nbconvert_exporter": "python",
   "pygments_lexer": "ipython3",
   "version": "3.7.5"
  }
 },
 "nbformat": 4,
 "nbformat_minor": 4
}

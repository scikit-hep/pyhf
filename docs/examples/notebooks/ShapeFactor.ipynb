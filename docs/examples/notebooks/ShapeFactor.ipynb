{
 "cells": [
  {
   "cell_type": "markdown",
   "metadata": {},
   "source": [
    "# ShapeFactor"
   ]
  },
  {
   "cell_type": "code",
   "execution_count": 1,
   "metadata": {},
   "outputs": [
    {
     "name": "stdout",
     "output_type": "stream",
     "text": [
      "Populating the interactive namespace from numpy and matplotlib\n"
     ]
    }
   ],
   "source": [
    "%pylab inline"
   ]
  },
  {
   "cell_type": "code",
   "execution_count": 2,
   "metadata": {},
   "outputs": [],
   "source": [
    "import logging\n",
    "import json\n",
    "\n",
    "import pyhf\n",
    "import pyhf.contrib.viz.brazil\n",
    "\n",
    "logging.basicConfig(level=logging.INFO)"
   ]
  },
  {
   "cell_type": "code",
   "execution_count": 3,
   "metadata": {},
   "outputs": [],
   "source": [
    "def prep_data(sourcedata):\n",
    "    spec = {\n",
    "        'channels': [\n",
    "            {\n",
    "                'name': 'signal',\n",
    "                'samples': [\n",
    "                    {\n",
    "                        'name': 'signal',\n",
    "                        'data': sourcedata['signal']['bindata']['sig'],\n",
    "                        'modifiers': [\n",
    "                            {'name': 'mu', 'type': 'normfactor', 'data': None}\n",
    "                        ],\n",
    "                    },\n",
    "                    {\n",
    "                        'name': 'bkg1',\n",
    "                        'data': sourcedata['signal']['bindata']['bkg1'],\n",
    "                        'modifiers': [\n",
    "                            {\n",
    "                                'name': 'coupled_shapefactor',\n",
    "                                'type': 'shapefactor',\n",
    "                                'data': None,\n",
    "                            }\n",
    "                        ],\n",
    "                    },\n",
    "                ],\n",
    "            },\n",
    "            {\n",
    "                'name': 'control',\n",
    "                'samples': [\n",
    "                    {\n",
    "                        'name': 'background',\n",
    "                        'data': sourcedata['control']['bindata']['bkg1'],\n",
    "                        'modifiers': [\n",
    "                            {\n",
    "                                'name': 'coupled_shapefactor',\n",
    "                                'type': 'shapefactor',\n",
    "                                'data': None,\n",
    "                            }\n",
    "                        ],\n",
    "                    }\n",
    "                ],\n",
    "            },\n",
    "        ]\n",
    "    }\n",
    "    pdf = pyhf.Model(spec)\n",
    "    data = []\n",
    "    for channel in pdf.config.channels:\n",
    "        data += sourcedata[channel]['bindata']['data']\n",
    "    data = data + pdf.config.auxdata\n",
    "    return data, pdf"
   ]
  },
  {
   "cell_type": "code",
   "execution_count": 4,
   "metadata": {},
   "outputs": [
    {
     "name": "stderr",
     "output_type": "stream",
     "text": [
      "INFO:pyhf.pdf:Validating spec against schema: model.json\n",
      "INFO:pyhf.pdf:adding modifier mu (1 new nuisance parameters)\n",
      "INFO:pyhf.pdf:adding modifier coupled_shapefactor (2 new nuisance parameters)\n"
     ]
    },
    {
     "name": "stdout",
     "output_type": "stream",
     "text": [
      "data: [200.0, 300.0, 220.0, 230.0]\n",
      "expected data: [100. 100. 120.  90.]\n"
     ]
    }
   ],
   "source": [
    "source = {\n",
    "    \"channels\": {\n",
    "        \"signal\": {\n",
    "            \"binning\": [2, -0.5, 1.5],\n",
    "            \"bindata\": {\n",
    "                \"data\": [220.0, 230.0],\n",
    "                \"bkg1\": [100.0, 70.0],\n",
    "                \"sig\": [20.0, 20.0],\n",
    "            },\n",
    "        },\n",
    "        \"control\": {\n",
    "            \"binning\": [2, -0.5, 1.5],\n",
    "            \"bindata\": {\"data\": [200.0, 300.0], \"bkg1\": [100.0, 100.0]},\n",
    "        },\n",
    "    }\n",
    "}\n",
    "\n",
    "data, pdf = prep_data(source['channels'])\n",
    "print(f'data: {data}')\n",
    "\n",
    "init_pars = pdf.config.suggested_init()\n",
    "print(f'expected data: {pdf.expected_data(init_pars)}')\n",
    "\n",
    "par_bounds = pdf.config.suggested_bounds()"
   ]
  },
  {
   "cell_type": "code",
   "execution_count": 5,
   "metadata": {},
   "outputs": [
    {
     "name": "stdout",
     "output_type": "stream",
     "text": [
      "initialization parameters: [1.0, 1.0, 1.0]\n",
      "parameters post unconstrained fit: [1.00004623 1.99998941 3.00000438]\n"
     ]
    },
    {
     "name": "stderr",
     "output_type": "stream",
     "text": [
      "/home/jovyan/pyhf/src/pyhf/tensor/numpy_backend.py:334: RuntimeWarning: divide by zero encountered in log\n",
      "  return n * np.log(lam) - lam - gammaln(n + 1.0)\n"
     ]
    }
   ],
   "source": [
    "print(f'initialization parameters: {pdf.config.suggested_init()}')\n",
    "\n",
    "unconpars = pyhf.infer.mle.fit(data, pdf)\n",
    "print(f'parameters post unconstrained fit: {unconpars}')"
   ]
  },
  {
   "cell_type": "code",
   "execution_count": 6,
   "metadata": {},
   "outputs": [
    {
     "name": "stderr",
     "output_type": "stream",
     "text": [
      "/home/jovyan/pyhf/src/pyhf/infer/calculators.py:300: RuntimeWarning: invalid value encountered in double_scalars\n",
      "  teststat = (qmu - qmu_A) / (2 * self.sqrtqmuA_v)\n"
     ]
    }
   ],
   "source": [
    "obs_limit, exp_limits, (poi_tests, tests) = pyhf.infer.intervals.upperlimit(\n",
    "    data, pdf, np.linspace(0, 5, 61), level=0.05, return_results=True\n",
    ")"
   ]
  },
  {
   "cell_type": "code",
   "execution_count": 7,
   "metadata": {},
   "outputs": [
    {
     "name": "stdout",
     "output_type": "stream",
     "text": [
      "expected upper limits: [array(0.74138115), array(0.994935), array(1.38451391), array(1.92899382), array(2.59407668)]\n",
      "observed upper limit : 2.1945969322493744\n"
     ]
    },
    {
     "data": {
      "image/png": "[encoded data removed]",
      "text/plain": [
       "<Figure size 720x504 with 1 Axes>"
      ]
     },
     "metadata": {
      "needs_background": "light"
     },
     "output_type": "display_data"
    }
   ],
   "source": [
    "fig, ax = plt.subplots(figsize=(10, 7))\n",
    "pyhf.contrib.viz.brazil.plot_results(ax, poi_tests, tests, test_size=0.05)\n",
    "print(f'expected upper limits: {exp_limits}')\n",
    "print(f'observed upper limit : {obs_limit}')"
   ]
  }
 ],
 "metadata": {
  "kernelspec": {
   "display_name": "Python 3",
   "language": "python",
   "name": "python3"
  },
  "language_info": {
   "codemirror_mode": {
    "name": "ipython",
    "version": 3
   },
   "file_extension": ".py",
   "mimetype": "text/x-python",
   "name": "python",
   "nbconvert_exporter": "python",
   "pygments_lexer": "ipython3",
   "version": "3.8.6"
  }
 },
 "nbformat": 4,
 "nbformat_minor": 4
}

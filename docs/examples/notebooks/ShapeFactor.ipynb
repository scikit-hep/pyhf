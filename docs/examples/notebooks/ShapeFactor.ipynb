{
 "cells": [
  {
   "cell_type": "markdown",
   "metadata": {},
   "source": [
    "# ShapeFactor"
   ]
  },
  {
   "cell_type": "code",
   "execution_count": 1,
   "metadata": {},
   "outputs": [
    {
     "name": "stdout",
     "output_type": "stream",
     "text": [
      "Populating the interactive namespace from numpy and matplotlib\n"
     ]
    }
   ],
   "source": [
    "%pylab inline"
   ]
  },
  {
   "cell_type": "code",
   "execution_count": 2,
   "metadata": {},
   "outputs": [],
   "source": [
    "import logging\n",
    "import json\n",
    "\n",
    "import pyhf\n",
    "from pyhf import hfpdf\n",
    "\n",
    "logging.basicConfig(level = logging.INFO)"
   ]
  },
  {
   "cell_type": "code",
   "execution_count": 3,
   "metadata": {},
   "outputs": [],
   "source": [
    "def prep_data(sourcedata):\n",
    "    spec =  {\n",
    "        'channels': [\n",
    "            {\n",
    "                'name': 'signal',\n",
    "                'samples': [\n",
    "                    {\n",
    "                        'name': 'signal',\n",
    "                        'data': sourcedata['signal']['bindata']['sig'],\n",
    "                        'modifiers': [\n",
    "                            {\n",
    "                                'name': 'mu',\n",
    "                                'type': 'normfactor',\n",
    "                                'data': None\n",
    "                            }\n",
    "                        ]\n",
    "                    },\n",
    "                    {\n",
    "                        'name': 'bkg1',\n",
    "                        'data': sourcedata['signal']['bindata']['bkg1'],\n",
    "                        'modifiers': [\n",
    "                            {\n",
    "                                'name': 'coupled_shapefactor',\n",
    "                                'type': 'shapefactor',\n",
    "                                'data': None\n",
    "                            }\n",
    "                        ]\n",
    "                    }\n",
    "                ]\n",
    "            },\n",
    "            {\n",
    "                'name': 'control',\n",
    "                'samples': [\n",
    "                    {\n",
    "                        'name': 'background',\n",
    "                        'data': sourcedata['control']['bindata']['bkg1'],\n",
    "                        'modifiers': [\n",
    "                            {\n",
    "                                'name': 'coupled_shapefactor',\n",
    "                                'type': 'shapefactor',\n",
    "                                'data': None\n",
    "                            }\n",
    "                        ]\n",
    "                    }\n",
    "                ]\n",
    "            }\n",
    "        ]\n",
    "    }\n",
    "    pdf  = hfpdf(spec)\n",
    "    data = []\n",
    "    for c in pdf.spec['channels']:\n",
    "        data += sourcedata[c['name']]['bindata']['data']\n",
    "    data = data + pdf.config.auxdata\n",
    "    return data, pdf"
   ]
  },
  {
   "cell_type": "code",
   "execution_count": 4,
   "metadata": {
    "scrolled": false
   },
   "outputs": [
    {
     "name": "stderr",
     "output_type": "stream",
     "text": [
      "INFO:pyhf:adding modifier mu (1 new nuisance parameters)\n",
      "INFO:pyhf:adding modifier coupled_shapefactor (2 new nuisance parameters)\n",
      "INFO:pyhf:using existing shared, unconstrained modifier (name=coupled_shapefactor, type=shapefactor)\n"
     ]
    },
    {
     "name": "stdout",
     "output_type": "stream",
     "text": [
      "data: [220.0, 230.0, 200.0, 300.0]\n",
      "expected data: [120.  90. 100. 100.]\n"
     ]
    }
   ],
   "source": [
    "source = {\n",
    "  \"channels\": {\n",
    "    \"signal\": {\n",
    "      \"binning\": [2,-0.5,1.5],\n",
    "      \"bindata\": {\n",
    "        \"data\":     [220.0, 230.0],\n",
    "        \"bkg1\":     [100.0, 70.0],\n",
    "        \"sig\":      [ 20.0, 20.0]\n",
    "      }\n",
    "    },\n",
    "    \"control\": {\n",
    "      \"binning\": [2,-0.5,1.5],\n",
    "      \"bindata\": {\n",
    "        \"data\":    [200.0, 300.0],\n",
    "        \"bkg1\":    [100.0, 100.0]\n",
    "      }\n",
    "    }\n",
    "  }\n",
    "}\n",
    "\n",
    "data, pdf = prep_data(source['channels'])\n",
    "print('data: {}'.format(data))\n",
    "\n",
    "init_pars = pdf.config.suggested_init()\n",
    "print('expected data: {}'.format(pdf.expected_data(init_pars)))\n",
    "\n",
    "par_bounds = pdf.config.suggested_bounds()"
   ]
  },
  {
   "cell_type": "code",
   "execution_count": 5,
   "metadata": {},
   "outputs": [
    {
     "name": "stdout",
     "output_type": "stream",
     "text": [
      "initialization parameters: [1.0, 1.0, 1.0]\n",
      "parameters post unconstrained fit: [1.00004623 1.99998941 3.00000438]\n"
     ]
    },
    {
     "name": "stderr",
     "output_type": "stream",
     "text": [
      "/home/mcf/anaconda3/envs/pyhf/lib/python3.6/site-packages/pyhf-0.0.8-py3.6.egg/pyhf/tensor/numpy_backend.py:96: RuntimeWarning: divide by zero encountered in log\n",
      "/home/mcf/anaconda3/envs/pyhf/lib/python3.6/site-packages/pyhf-0.0.8-py3.6.egg/pyhf/tensor/numpy_backend.py:71: RuntimeWarning: divide by zero encountered in log\n"
     ]
    }
   ],
   "source": [
    "print('initialization parameters: {}'.format(pdf.config.suggested_init()))\n",
    "\n",
    "unconpars = pyhf.optimizer.unconstrained_bestfit(pyhf.loglambdav, data, pdf,\n",
    "                                                 pdf.config.suggested_init(), pdf.config.suggested_bounds())\n",
    "print('parameters post unconstrained fit: {}'.format(unconpars))"
   ]
  },
  {
   "cell_type": "code",
   "execution_count": 6,
   "metadata": {
    "scrolled": false
   },
   "outputs": [
    {
     "name": "stderr",
     "output_type": "stream",
     "text": [
      "/home/mcf/anaconda3/envs/pyhf/lib/python3.6/site-packages/pyhf-0.0.8-py3.6.egg/pyhf/tensor/numpy_backend.py:96: RuntimeWarning: divide by zero encountered in log\n",
      "/home/mcf/anaconda3/envs/pyhf/lib/python3.6/site-packages/pyhf-0.0.8-py3.6.egg/pyhf/tensor/numpy_backend.py:71: RuntimeWarning: divide by zero encountered in log\n",
      "/home/mcf/anaconda3/envs/pyhf/lib/python3.6/site-packages/pyhf-0.0.8-py3.6.egg/pyhf/tensor/numpy_backend.py:62: RuntimeWarning: invalid value encountered in sqrt\n",
      "/home/mcf/anaconda3/envs/pyhf/lib/python3.6/site-packages/pyhf-0.0.8-py3.6.egg/pyhf/__init__.py:351: RuntimeWarning: divide by zero encountered in true_divide\n",
      "  oneOverCLs = CLb / CLsb\n"
     ]
    },
    {
     "name": "stdout",
     "output_type": "stream",
     "text": [
      "\n",
      "\n"
     ]
    },
    {
     "data": {
      "text/plain": [
       "{'exp': [0.7413811356064698,\n",
       "  0.9949349808658932,\n",
       "  1.3845138849641385,\n",
       "  1.9289937767647345,\n",
       "  2.5940766281884247],\n",
       " 'obs': 2.1945969282055913}"
      ]
     },
     "execution_count": 6,
     "metadata": {},
     "output_type": "execute_result"
    },
    {
     "data": {
      "image/png": "[encoded data removed]",
      "text/plain": [
       "<Figure size 432x288 with 1 Axes>"
      ]
     },
     "metadata": {},
     "output_type": "display_data"
    }
   ],
   "source": [
    "def plot_results(testmus, cls_obs, cls_exp, test_size = 0.05):\n",
    "    plt.plot(mutests,cls_obs, c = 'k')\n",
    "    for i,c in zip(range(5),['grey','grey','grey','grey','grey']):\n",
    "        plt.plot(mutests, cls_exp[i], c = c)\n",
    "    plt.plot(testmus,[test_size]*len(testmus), c = 'r')\n",
    "    plt.ylim(0,1)\n",
    "\n",
    "def invert_interval(testmus, cls_obs, cls_exp, test_size = 0.05):\n",
    "    point05cross = {'exp':[],'obs':None}\n",
    "    for cls_exp_sigma in cls_exp:\n",
    "        yvals = cls_exp_sigma\n",
    "        point05cross['exp'].append(np.interp(test_size,\n",
    "                                             list(reversed(yvals)),\n",
    "                                             list(reversed(testmus))))\n",
    "        \n",
    "    yvals = cls_obs\n",
    "    point05cross['obs'] = np.interp(test_size,\n",
    "                                    list(reversed(yvals)),\n",
    "                                    list(reversed(testmus)))\n",
    "    return point05cross\n",
    "\n",
    "\n",
    "pyhf.runOnePoint(1.0, data, pdf, init_pars,par_bounds)[-2:]\n",
    "\n",
    "\n",
    "mutests = np.linspace(0, 5, 61)\n",
    "tests = [pyhf.runOnePoint(muTest, data, pdf, init_pars, par_bounds)[-2:] for muTest in mutests]\n",
    "cls_obs = np.array([test[0] for test in tests]).flatten()\n",
    "cls_exp = [np.array([test[1][i] for test in tests]).flatten() for i in range(5)]\n",
    "\n",
    "print('\\n')\n",
    "plot_results(mutests, cls_obs, cls_exp)\n",
    "invert_interval(mutests, cls_obs, cls_exp)"
   ]
  }
 ],
 "metadata": {
  "kernelspec": {
   "display_name": "Python 3",
   "language": "python",
   "name": "python3"
  },
  "language_info": {
   "codemirror_mode": {
    "name": "ipython",
    "version": 3
   },
   "file_extension": ".py",
   "mimetype": "text/x-python",
   "name": "python",
   "nbconvert_exporter": "python",
   "pygments_lexer": "ipython3",
   "version": "3.6.4"
  }
 },
 "nbformat": 4,
 "nbformat_minor": 2
}

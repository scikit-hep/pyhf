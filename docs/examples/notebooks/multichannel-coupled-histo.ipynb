{
 "cells": [
  {
   "cell_type": "markdown",
   "metadata": {},
   "source": [
    "# Multibin Coupled HistoSys\n"
   ]
  },
  {
   "cell_type": "code",
   "execution_count": 1,
   "metadata": {},
   "outputs": [],
   "source": [
    "import json\n",
    "import logging\n",
    "\n",
    "import matplotlib.pyplot as plt\n",
    "import numpy as np\n",
    "\n",
    "import pyhf\n",
    "from pyhf import Model\n",
    "\n",
    "logging.basicConfig(level=logging.INFO)"
   ]
  },
  {
   "cell_type": "code",
   "execution_count": 2,
   "metadata": {},
   "outputs": [],
   "source": [
    "def prep_data(sourcedata):\n",
    "    spec = {\n",
    "        \"channels\": [\n",
    "            {\n",
    "                \"name\": \"signal\",\n",
    "                \"samples\": [\n",
    "                    {\n",
    "                        \"name\": \"signal\",\n",
    "                        \"data\": sourcedata[\"signal\"][\"bindata\"][\"sig\"],\n",
    "                        \"modifiers\": [\n",
    "                            {\"name\": \"mu\", \"type\": \"normfactor\", \"data\": None}\n",
    "                        ],\n",
    "                    },\n",
    "                    {\n",
    "                        \"name\": \"bkg1\",\n",
    "                        \"data\": sourcedata[\"signal\"][\"bindata\"][\"bkg1\"],\n",
    "                        \"modifiers\": [\n",
    "                            {\n",
    "                                \"name\": \"coupled_histosys\",\n",
    "                                \"type\": \"histosys\",\n",
    "                                \"data\": {\n",
    "                                    \"lo_data\": sourcedata[\"signal\"][\"bindata\"][\n",
    "                                        \"bkg1_dn\"\n",
    "                                    ],\n",
    "                                    \"hi_data\": sourcedata[\"signal\"][\"bindata\"][\n",
    "                                        \"bkg1_up\"\n",
    "                                    ],\n",
    "                                },\n",
    "                            }\n",
    "                        ],\n",
    "                    },\n",
    "                    {\n",
    "                        \"name\": \"bkg2\",\n",
    "                        \"data\": sourcedata[\"signal\"][\"bindata\"][\"bkg2\"],\n",
    "                        \"modifiers\": [\n",
    "                            {\n",
    "                                \"name\": \"coupled_histosys\",\n",
    "                                \"type\": \"histosys\",\n",
    "                                \"data\": {\n",
    "                                    \"lo_data\": sourcedata[\"signal\"][\"bindata\"][\n",
    "                                        \"bkg2_dn\"\n",
    "                                    ],\n",
    "                                    \"hi_data\": sourcedata[\"signal\"][\"bindata\"][\n",
    "                                        \"bkg2_up\"\n",
    "                                    ],\n",
    "                                },\n",
    "                            }\n",
    "                        ],\n",
    "                    },\n",
    "                ],\n",
    "            },\n",
    "            {\n",
    "                \"name\": \"control\",\n",
    "                \"samples\": [\n",
    "                    {\n",
    "                        \"name\": \"background\",\n",
    "                        \"data\": sourcedata[\"control\"][\"bindata\"][\"bkg1\"],\n",
    "                        \"modifiers\": [\n",
    "                            {\n",
    "                                \"name\": \"coupled_histosys\",\n",
    "                                \"type\": \"histosys\",\n",
    "                                \"data\": {\n",
    "                                    \"lo_data\": sourcedata[\"control\"][\"bindata\"][\n",
    "                                        \"bkg1_dn\"\n",
    "                                    ],\n",
    "                                    \"hi_data\": sourcedata[\"control\"][\"bindata\"][\n",
    "                                        \"bkg1_up\"\n",
    "                                    ],\n",
    "                                },\n",
    "                            }\n",
    "                        ],\n",
    "                    }\n",
    "                ],\n",
    "            },\n",
    "        ]\n",
    "    }\n",
    "    pdf = Model(spec)\n",
    "    data = []\n",
    "    for c in pdf.config.channels:\n",
    "        data += sourcedata[c][\"bindata\"][\"data\"]\n",
    "    data = data + pdf.config.auxdata\n",
    "    return data, pdf"
   ]
  },
  {
   "cell_type": "code",
   "execution_count": 3,
   "metadata": {
    "tags": [
     "parameters"
    ]
   },
   "outputs": [],
   "source": [
    "validation_datadir = \"../../../validation/data\""
   ]
  },
  {
   "cell_type": "code",
   "execution_count": 4,
   "metadata": {},
   "outputs": [
    {
     "name": "stderr",
     "output_type": "stream",
     "text": [
      "INFO:pyhf.pdf:Validating spec against schema: model.json\n",
      "INFO:pyhf.pdf:adding modifier coupled_histosys (1 new nuisance parameters)\n",
      "INFO:pyhf.pdf:adding modifier mu (1 new nuisance parameters)\n"
     ]
    },
    {
     "name": "stdout",
     "output_type": "stream",
     "text": [
      "data: [110.0, 105.0, 170.0, 220.0, 0.0]\n",
      "parameters post unconstrained fit: [-0.30257894  0.63607078]\n",
      "parameters post constrained fit: [0.29087602 0.        ]\n"
     ]
    },
    {
     "data": {
      "text/plain": [
       "array([106.80676913, 104.01075137, 154.36314037, 213.86871072,\n",
       "         0.29087602])"
      ]
     },
     "execution_count": 4,
     "metadata": {},
     "output_type": "execute_result"
    }
   ],
   "source": [
    "with open(validation_datadir + \"/2bin_2channel_coupledhisto.json\") as spec:\n",
    "    source = json.load(spec)\n",
    "\n",
    "data, pdf = prep_data(source[\"channels\"])\n",
    "\n",
    "print(f\"data: {data}\")\n",
    "\n",
    "init_pars = pdf.config.suggested_init()\n",
    "par_bounds = pdf.config.suggested_bounds()\n",
    "\n",
    "unconpars = pyhf.infer.mle.fit(data, pdf, init_pars, par_bounds)\n",
    "print(f\"parameters post unconstrained fit: {unconpars}\")\n",
    "\n",
    "conpars = pyhf.infer.mle.fixed_poi_fit(0.0, data, pdf, init_pars, par_bounds)\n",
    "print(f\"parameters post constrained fit: {conpars}\")\n",
    "\n",
    "pdf.expected_data(conpars)"
   ]
  },
  {
   "cell_type": "code",
   "execution_count": 5,
   "metadata": {},
   "outputs": [],
   "source": [
    "def plot_results(test_mus, cls_obs, cls_exp, poi_tests, test_size=0.05):\n",
    "    fig, ax = plt.subplots()\n",
    "    ax.plot(poi_tests, cls_obs, c=\"k\")\n",
    "    for i, c in zip(range(5), [\"grey\", \"grey\", \"grey\", \"grey\", \"grey\"]):\n",
    "        ax.plot(poi_tests, cls_exp[i], c=c)\n",
    "    ax.plot(poi_tests, [test_size] * len(test_mus), c=\"r\")\n",
    "    ax.set_ylim(0, 1)"
   ]
  },
  {
   "cell_type": "code",
   "execution_count": 6,
   "metadata": {},
   "outputs": [],
   "source": [
    "def invert_interval(test_mus, cls_obs, cls_exp, test_size=0.05):\n",
    "    crossing_test_stats = {\"exp\": [], \"obs\": None}\n",
    "    for cls_exp_sigma in cls_exp:\n",
    "        crossing_test_stats[\"exp\"].append(\n",
    "            np.interp(\n",
    "                test_size, list(reversed(cls_exp_sigma)), list(reversed(test_mus))\n",
    "            )\n",
    "        )\n",
    "    crossing_test_stats[\"obs\"] = np.interp(\n",
    "        test_size, list(reversed(cls_obs)), list(reversed(test_mus))\n",
    "    )\n",
    "    return crossing_test_stats"
   ]
  },
  {
   "cell_type": "code",
   "execution_count": 7,
   "metadata": {},
   "outputs": [],
   "source": [
    "poi_tests = np.linspace(0, 5, 61)\n",
    "tests = [\n",
    "    pyhf.infer.hypotest(\n",
    "        poi_test, data, pdf, init_pars, par_bounds, return_expected_set=True\n",
    "    )\n",
    "    for poi_test in poi_tests\n",
    "]\n",
    "cls_obs = np.array([test[0] for test in tests]).flatten()\n",
    "cls_exp = [np.array([test[1][i] for test in tests]).flatten() for i in range(5)]"
   ]
  },
  {
   "cell_type": "code",
   "execution_count": 8,
   "metadata": {},
   "outputs": [
    {
     "data": {
      "text/plain": [
       "{'exp': [0.3379557904310767,\n",
       "  0.6355433028074602,\n",
       "  0.980748685945719,\n",
       "  1.4196566943996904,\n",
       "  1.9446272307776151],\n",
       " 'obs': 1.5452056912523955}"
      ]
     },
     "execution_count": 8,
     "metadata": {},
     "output_type": "execute_result"
    },
    {
     "data": {
      "image/png": "[encoded data removed]",
      "text/plain": [
       "<Figure size 432x288 with 1 Axes>"
      ]
     },
     "metadata": {
      "needs_background": "light"
     },
     "output_type": "display_data"
    }
   ],
   "source": [
    "plot_results(poi_tests, cls_obs, cls_exp, poi_tests)\n",
    "invert_interval(poi_tests, cls_obs, cls_exp)"
   ]
  }
 ],
 "metadata": {
  "kernelspec": {
   "display_name": "Python 3 (ipykernel)",
   "language": "python",
   "name": "python3"
  },
  "language_info": {
   "codemirror_mode": {
    "name": "ipython",
    "version": 3
   },
   "file_extension": ".py",
   "mimetype": "text/x-python",
   "name": "python",
   "nbconvert_exporter": "python",
   "pygments_lexer": "ipython3",
   "version": "3.10.4"
  }
 },
 "nbformat": 4,
 "nbformat_minor": 4
}

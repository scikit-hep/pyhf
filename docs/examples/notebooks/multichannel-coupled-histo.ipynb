{
 "cells": [
  {
   "cell_type": "markdown",
   "metadata": {},
   "source": [
    "# Multibin Coupled HistoSys"
   ]
  },
  {
   "cell_type": "code",
   "execution_count": 1,
   "metadata": {},
   "outputs": [
    {
     "name": "stdout",
     "output_type": "stream",
     "text": [
      "Populating the interactive namespace from numpy and matplotlib\n"
     ]
    }
   ],
   "source": [
    "%pylab inline"
   ]
  },
  {
   "cell_type": "code",
   "execution_count": 2,
   "metadata": {},
   "outputs": [],
   "source": [
    "import logging\n",
    "import json\n",
    "\n",
    "import pyhf\n",
    "from pyhf import Model\n",
    "\n",
    "logging.basicConfig(level = logging.INFO)"
   ]
  },
  {
   "cell_type": "code",
   "execution_count": 3,
   "metadata": {},
   "outputs": [],
   "source": [
    "def prep_data(sourcedata):\n",
    "    spec =  {\n",
    "        'channels': [\n",
    "            {\n",
    "                'name': 'signal',\n",
    "                'samples': [\n",
    "                    {\n",
    "                        'name': 'signal',\n",
    "                        'data': sourcedata['signal']['bindata']['sig'],\n",
    "                        'modifiers': [\n",
    "                            {\n",
    "                                'name': 'mu',\n",
    "                                'type': 'normfactor',\n",
    "                                'data': None\n",
    "                            }\n",
    "                        ]\n",
    "                    },\n",
    "                    {\n",
    "                        'name': 'bkg1',\n",
    "                        'data': sourcedata['signal']['bindata']['bkg1'],\n",
    "                        'modifiers': [\n",
    "                            {\n",
    "                                'name': 'coupled_histosys',\n",
    "                                'type': 'histosys',\n",
    "                                'data':  {'lo_data': sourcedata['signal']['bindata']['bkg1_dn'], 'hi_data': sourcedata['signal']['bindata']['bkg1_up']}\n",
    "                            }\n",
    "                        ]\n",
    "                    },\n",
    "                    {\n",
    "                        'name': 'bkg2',\n",
    "                        'data': sourcedata['signal']['bindata']['bkg2'],\n",
    "                        'modifiers': [\n",
    "                            {\n",
    "                                'name': 'coupled_histosys',\n",
    "                                'type': 'histosys',\n",
    "                                'data':  {'lo_data': sourcedata['signal']['bindata']['bkg2_dn'], 'hi_data': sourcedata['signal']['bindata']['bkg2_up']}\n",
    "                            }\n",
    "                        ]\n",
    "                    }\n",
    "                ]\n",
    "            },\n",
    "            {\n",
    "                'name': 'control',\n",
    "                'samples': [\n",
    "                    {\n",
    "                        'name': 'background',\n",
    "                        'data': sourcedata['control']['bindata']['bkg1'],\n",
    "                        'modifiers': [\n",
    "                            {\n",
    "                                'name': 'coupled_histosys',\n",
    "                                'type': 'histosys',\n",
    "                                'data':  {'lo_data': sourcedata['control']['bindata']['bkg1_dn'], 'hi_data': sourcedata['control']['bindata']['bkg1_up']}\n",
    "                            }\n",
    "                        ]\n",
    "                    }\n",
    "                ]\n",
    "            }\n",
    "        ]\n",
    "    }\n",
    "    pdf  = Model(spec)\n",
    "    data = []\n",
    "    for c in pdf.spec['channels']:\n",
    "        data += sourcedata[c['name']]['bindata']['data']\n",
    "    data = data + pdf.config.auxdata\n",
    "    return data, pdf"
   ]
  },
  {
   "cell_type": "code",
   "execution_count": 4,
   "metadata": {
    "tags": [
     "parameters"
    ]
   },
   "outputs": [],
   "source": [
    "validation_datadir = '../../validation/data'"
   ]
  },
  {
   "cell_type": "code",
   "execution_count": 5,
   "metadata": {
    "scrolled": false
   },
   "outputs": [
    {
     "name": "stderr",
     "output_type": "stream",
     "text": [
      "INFO:pyhf.pdf:Validating spec against schema: /home/jovyan/pyhf/src/pyhf/data/spec.json\n",
      "INFO:pyhf.pdf:adding modifier mu (1 new nuisance parameters)\n",
      "INFO:pyhf.pdf:adding modifier coupled_histosys (1 new nuisance parameters)\n"
     ]
    },
    {
     "name": "stdout",
     "output_type": "stream",
     "text": [
      "[170.0, 220.0, 110.0, 105.0, 0.0]\n",
      "parameters post unconstrained fit: [1.05563069e-12 4.00000334e+00]\n",
      "parameters post constrained fit: [0.         4.00000146]\n"
     ]
    },
    {
     "data": {
      "text/plain": [
       "array([ 1.25000007e+02,  1.60000022e+02,  2.10000022e+02, -8.00631284e-05,\n",
       "        4.00000146e+00])"
      ]
     },
     "execution_count": 5,
     "metadata": {},
     "output_type": "execute_result"
    }
   ],
   "source": [
    "source = json.load(open(validation_datadir + '/2bin_2channel_coupledhisto.json'))\n",
    "\n",
    "data, pdf = prep_data(source['channels'])\n",
    "\n",
    "print(data)\n",
    "\n",
    "init_pars = pdf.config.suggested_init()\n",
    "par_bounds = pdf.config.suggested_bounds()\n",
    "\n",
    "unconpars = pyhf.optimizer.unconstrained_bestfit(pyhf.utils.loglambdav, data, pdf, init_pars, par_bounds)\n",
    "print('parameters post unconstrained fit: {}'.format(unconpars))\n",
    "\n",
    "conpars = pyhf.optimizer.constrained_bestfit(pyhf.utils.loglambdav, 0.0, data, pdf, init_pars, par_bounds)\n",
    "print('parameters post constrained fit: {}'.format(conpars))\n",
    "\n",
    "pdf.expected_data(conpars)"
   ]
  },
  {
   "cell_type": "code",
   "execution_count": 6,
   "metadata": {
    "scrolled": false
   },
   "outputs": [
    {
     "name": "stderr",
     "output_type": "stream",
     "text": [
      "INFO:pyhf.pdf:Validating spec against schema: /home/jovyan/pyhf/src/pyhf/data/spec.json\n",
      "INFO:pyhf.pdf:adding modifier mu (1 new nuisance parameters)\n",
      "INFO:pyhf.pdf:adding modifier coupled_histosys (1 new nuisance parameters)\n"
     ]
    },
    {
     "name": "stdout",
     "output_type": "stream",
     "text": [
      "[170.0, 220.0, 110.0, 105.0, 0.0]\n",
      "parameters post unconstrained fit: [1.05563069e-12 4.00000334e+00]\n",
      "parameters post constrained fit: [0.         4.00000146]\n",
      "\n",
      "\n"
     ]
    },
    {
     "data": {
      "text/plain": [
       "{'exp': [0.37566312243018246,\n",
       "  0.49824494455027707,\n",
       "  0.7023047842202288,\n",
       "  0.9869744452422563,\n",
       "  1.3443167343146392],\n",
       " 'obs': 0.329179494864517}"
      ]
     },
     "execution_count": 6,
     "metadata": {},
     "output_type": "execute_result"
    },
    {
     "data": {
      "image/png": "[encoded data removed]",
      "text/plain": [
       "<Figure size 432x288 with 1 Axes>"
      ]
     },
     "metadata": {
      "needs_background": "light"
     },
     "output_type": "display_data"
    }
   ],
   "source": [
    "def plot_results(test_mus, cls_obs, cls_exp, poi_tests, test_size = 0.05):\n",
    "    plt.plot(poi_tests,cls_obs, c = 'k')\n",
    "    for i,c in zip(range(5),['grey','grey','grey','grey','grey']):\n",
    "        plt.plot(poi_tests, cls_exp[i], c = c)\n",
    "    plt.plot(poi_tests,[test_size]*len(test_mus), c = 'r')\n",
    "    plt.ylim(0,1)\n",
    "\n",
    "def invert_interval(test_mus, cls_obs, cls_exp, test_size = 0.05):\n",
    "    point05cross = {'exp':[],'obs':None}\n",
    "    for cls_exp_sigma in cls_exp:\n",
    "        yvals = cls_exp_sigma\n",
    "        point05cross['exp'].append(np.interp(test_size,\n",
    "                                             list(reversed(yvals)),\n",
    "                                             list(reversed(test_mus))))\n",
    "        \n",
    "    yvals = cls_obs\n",
    "    point05cross['obs'] = np.interp(test_size,\n",
    "                                    list(reversed(yvals)),\n",
    "                                    list(reversed(test_mus)))\n",
    "    return point05cross\n",
    "\n",
    "\n",
    "poi_tests = np.linspace(0, 5, 61)\n",
    "tests = [pyhf.utils.hypotest(poi_test, data, pdf, init_pars, par_bounds, return_expected_set=True) \n",
    "         for poi_test in poi_tests]\n",
    "cls_obs = np.array([test[0] for test in tests]).flatten()\n",
    "cls_exp = [np.array([test[1][i] for test in tests]).flatten() for i in range(5)]\n",
    "\n",
    "print('\\n')\n",
    "plot_results(poi_tests, cls_obs, cls_exp, poi_tests)\n",
    "invert_interval(poi_tests, cls_obs, cls_exp)"
   ]
  }
 ],
 "metadata": {
  "kernelspec": {
   "display_name": "Python 3",
   "language": "python",
   "name": "python3"
  },
  "language_info": {
   "codemirror_mode": {
    "name": "ipython",
    "version": 3
   },
   "file_extension": ".py",
   "mimetype": "text/x-python",
   "name": "python",
   "nbconvert_exporter": "python",
   "pygments_lexer": "ipython3",
   "version": "3.6.6"
  }
 },
 "nbformat": 4,
 "nbformat_minor": 2
}

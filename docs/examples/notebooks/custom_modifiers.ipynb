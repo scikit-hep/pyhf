{
 "cells": [
  {
   "cell_type": "markdown",
   "metadata": {},
   "source": [
    "# Custom Modifiers"
   ]
  },
  {
   "cell_type": "code",
   "execution_count": 1,
   "metadata": {},
   "outputs": [],
   "source": [
    "import pyhf\n",
    "import pyhf.modifiers\n",
    "import matplotlib.pyplot as plt\n",
    "import numpy as np\n",
    "import scipy.stats"
   ]
  },
  {
   "cell_type": "code",
   "execution_count": 2,
   "metadata": {},
   "outputs": [],
   "source": [
    "class custom_modifier_builder:\n",
    "    def __init__(self, pdfconfig):\n",
    "        self.config = pdfconfig\n",
    "        self.required_parsets = {\n",
    "            'mean': [\n",
    "                {\n",
    "                    'paramset_type': pyhf.parameters.paramsets.unconstrained,\n",
    "                    'n_parameters': 1,\n",
    "                    'is_constrained': False,\n",
    "                    'is_shared': True,\n",
    "                    'inits': (1.0,),\n",
    "                    'bounds': ((-5, 5),),\n",
    "                    'fixed': False,\n",
    "                }\n",
    "            ]\n",
    "        }\n",
    "        self.builder_data = {}\n",
    "        self.is_set = False\n",
    "\n",
    "    def append(self, key, channel, sample, thismod, defined_samp):\n",
    "        if not thismod:\n",
    "            return\n",
    "        if self.is_set:\n",
    "            raise RuntimeError('can only be used once')\n",
    "\n",
    "        self.builder_data['scale'] = thismod['data']['scale']\n",
    "        self.builder_data['sample'] = sample\n",
    "        self.builder_data['parname'] = list(self.required_parsets.keys())[0]\n",
    "        self.is_set = True\n",
    "\n",
    "    def finalize(self):\n",
    "        return self.builder_data\n",
    "\n",
    "\n",
    "class custom_modifier_add:\n",
    "    op_code = 'addition'\n",
    "    name = 'custom_modifier_add'\n",
    "\n",
    "    def __init__(\n",
    "        self, modifiers=None, pdfconfig=None, builder_data=None, batch_size=None\n",
    "    ):\n",
    "        self.config = pdfconfig\n",
    "        self.scale = builder_data['scale']\n",
    "        self.sample = builder_data['sample']\n",
    "        self.parname = builder_data['parname']\n",
    "\n",
    "    def apply(self, pars):\n",
    "        base = np.zeros(\n",
    "            (1, len(m.config.samples), 1, sum(m.config.channel_nbins.values()))\n",
    "        )\n",
    "\n",
    "        bins = np.linspace(-5, 5, 20 + 1)\n",
    "        mean = pars[self.config.par_slice(self.parname)][0]\n",
    "        yields = 100 * (\n",
    "            scipy.stats.norm(loc=mean, scale=self.scale).cdf(bins[1:])\n",
    "            - scipy.stats.norm(loc=mean, scale=self.scale).cdf(bins[:-1])\n",
    "        )\n",
    "        base[0, self.config.samples.index(self.sample), 0, :] = yields\n",
    "        return base\n",
    "\n",
    "\n",
    "modifier_set = {\n",
    "    custom_modifier_add.name: (custom_modifier_builder, custom_modifier_add)\n",
    "}\n",
    "modifier_set.update(**pyhf.modifiers.pyhfset)\n",
    "\n",
    "m = pyhf.Model(\n",
    "    {\n",
    "        'channels': [\n",
    "            {\n",
    "                'name': 'singlechannel',\n",
    "                'samples': [\n",
    "                    {\n",
    "                        'name': 'signal',\n",
    "                        'data': [0] * 20,\n",
    "                        'modifiers': [\n",
    "                            {'name': 'mu', 'type': 'normfactor', 'data': None},\n",
    "                            {\n",
    "                                'name': 'mymodifier',\n",
    "                                'type': 'custom_modifier_add',\n",
    "                                'data': {'scale': 1.2},\n",
    "                            },\n",
    "                        ],\n",
    "                    },\n",
    "                    {'name': 'background', 'data': [300] * 20, 'modifiers': []},\n",
    "                ],\n",
    "            }\n",
    "        ]\n",
    "    },\n",
    "    modifier_set=modifier_set,\n",
    "    poi_name='mu',\n",
    "    validate=False,\n",
    ")\n",
    "bp = pyhf.tensorlib.astensor(m.config.suggested_init())\n",
    "bp[m.config.poi_index] = 2.0\n",
    "bp[m.config.par_slice('mean')] = [3.0]\n",
    "d = m.make_pdf(bp).sample()"
   ]
  },
  {
   "cell_type": "code",
   "execution_count": 3,
   "metadata": {},
   "outputs": [
    {
     "name": "stdout",
     "output_type": "stream",
     "text": [
      "[2.05925241]\n",
      "[2.82901947]\n"
     ]
    }
   ],
   "source": [
    "init = pyhf.tensorlib.astensor(m.config.suggested_init())\n",
    "init[m.config.par_slice('mu')] = [1.0]\n",
    "init[m.config.par_slice('mean')] = [2.0]\n",
    "\n",
    "bestfit = pyhf.infer.mle.fit(d, m, init_pars=init.tolist())\n",
    "print(bestfit[m.config.par_slice('mu')])\n",
    "print(bestfit[m.config.par_slice('mean')])"
   ]
  },
  {
   "cell_type": "code",
   "execution_count": 4,
   "metadata": {},
   "outputs": [
    {
     "data": {
      "text/plain": [
       "<matplotlib.legend.Legend at 0x12d016358>"
      ]
     },
     "execution_count": 4,
     "metadata": {},
     "output_type": "execute_result"
    },
    {
     "data": {
      "image/png": "[encoded data removed]",
      "text/plain": [
       "<Figure size 432x288 with 1 Axes>"
      ]
     },
     "metadata": {
      "needs_background": "light"
     },
     "output_type": "display_data"
    }
   ],
   "source": [
    "plt.bar(\n",
    "    np.arange(20),\n",
    "    m.expected_actualdata(bestfit),\n",
    "    alpha=1.0,\n",
    "    facecolor=None,\n",
    "    edgecolor='k',\n",
    "    label='fit',\n",
    ")\n",
    "plt.scatter(\n",
    "    np.arange(20),\n",
    "    d[: m.config.nmaindata],\n",
    "    alpha=1.0,\n",
    "    marker='o',\n",
    "    c='k',\n",
    "    label='data',\n",
    "    zorder=99,\n",
    ")\n",
    "plt.errorbar(\n",
    "    np.arange(20),\n",
    "    d[: m.config.nmaindata],\n",
    "    yerr=np.sqrt(d[: m.config.nmaindata]),\n",
    "    marker='o',\n",
    "    c='k',\n",
    "    linestyle='',\n",
    ")\n",
    "plt.legend()"
   ]
  },
  {
   "cell_type": "code",
   "execution_count": null,
   "metadata": {},
   "outputs": [],
   "source": []
  }
 ],
 "metadata": {
  "interpreter": {
   "hash": "f61c63fc1acc84ad3c625f4bf6c3449e7b07eb32112a8664d99a4ffa47aefafa"
  },
  "kernelspec": {
   "display_name": "Python 3.7.2 64-bit ('pyhfdevenv': venv)",
   "name": "python3"
  },
  "language_info": {
   "codemirror_mode": {
    "name": "ipython",
    "version": 3
   },
   "file_extension": ".py",
   "mimetype": "text/x-python",
   "name": "python",
   "nbconvert_exporter": "python",
   "pygments_lexer": "ipython3",
   "version": "3.7.2"
  },
  "orig_nbformat": 2
 },
 "nbformat": 4,
 "nbformat_minor": 2
}

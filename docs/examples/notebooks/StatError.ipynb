{
 "cells": [
  {
   "cell_type": "code",
   "execution_count": 2,
   "metadata": {},
   "outputs": [],
   "source": [
    "import pyhf\n",
    "import importlib"
   ]
  },
  {
   "cell_type": "code",
   "execution_count": 48,
   "metadata": {},
   "outputs": [],
   "source": [
    "spec = {\n",
    "    'channels': [\n",
    "        {\n",
    "            'name': 'firstchannel',\n",
    "            'samples': [\n",
    "                {\n",
    "                    'name': 'mu',\n",
    "                    'data': [10.,10.],\n",
    "                    'modifiers': [\n",
    "                        {'name': 'mu', 'type': 'normfactor', 'data': None}\n",
    "                    ]\n",
    "                },\n",
    "                {\n",
    "                    'name': 'bkg1',\n",
    "                    'data': [50.0, 70.0],\n",
    "                    'modifiers': [\n",
    "                        {'name': 'stat_firstchannel', 'type': 'staterror', 'data': [10.,10.]}\n",
    "                    ]\n",
    "                },\n",
    "                {\n",
    "                    'name': 'bkg2',\n",
    "                    'data': [30.0, 20.],\n",
    "                    'modifiers': [\n",
    "                        {'name': 'stat_firstchannel', 'type': 'staterror', 'data': [5.,5.]}\n",
    "                    ]\n",
    "                },\n",
    "                {\n",
    "                    'name': 'bkg3',\n",
    "                    'data': [20.0, 15.0],\n",
    "                    'modifiers': [\n",
    "                    ]\n",
    "                }\n",
    "            ]\n",
    "        },\n",
    "#         {\n",
    "#             'name': 'secondchannel',\n",
    "#             'samples': [\n",
    "#                 {\n",
    "#                     'name': 'bkg2',\n",
    "#                     'data': [30.0],\n",
    "#                     'modifiers': [\n",
    "#                         {'name': 'stat_secondchannel', 'type': 'staterror', 'data': [5.]}\n",
    "#                     ]\n",
    "#                 }\n",
    "#             ]\n",
    "#         }\n",
    "    ]\n",
    "}\n",
    "p = pyhf.hfpdf(spec)"
   ]
  },
  {
   "cell_type": "code",
   "execution_count": 49,
   "metadata": {},
   "outputs": [],
   "source": [
    "# se = p.config.modifier('stat_firstchannel')"
   ]
  },
  {
   "cell_type": "code",
   "execution_count": 50,
   "metadata": {},
   "outputs": [],
   "source": [
    "tensorlib = pyhf.tensorlib"
   ]
  },
  {
   "cell_type": "code",
   "execution_count": 51,
   "metadata": {},
   "outputs": [
    {
     "data": {
      "text/plain": [
       "array([0.16666667, 0.25      ])"
      ]
     },
     "execution_count": 51,
     "metadata": {},
     "output_type": "execute_result"
    }
   ],
   "source": [
    "inquad = tensorlib.sqrt(tensorlib.sum(tensorlib.power(se.uncertainties,2), axis=0))\n",
    "totals = tensorlib.sum(se.nominal_counts,axis=0)\n",
    "uncrts = tensorlib.divide(inquad,totals)\n",
    "uncrts"
   ]
  },
  {
   "cell_type": "code",
   "execution_count": 52,
   "metadata": {},
   "outputs": [
    {
     "data": {
      "text/plain": [
       "array([2.39365368, 1.59576912])"
      ]
     },
     "execution_count": 52,
     "metadata": {},
     "output_type": "execute_result"
    }
   ],
   "source": [
    "se.pdf(se.auxdata,[1.0,1.0])"
   ]
  },
  {
   "cell_type": "code",
   "execution_count": 53,
   "metadata": {},
   "outputs": [],
   "source": [
    "# p.config.par_slice('stat_firstchannel')"
   ]
  },
  {
   "cell_type": "code",
   "execution_count": 54,
   "metadata": {},
   "outputs": [
    {
     "data": {
      "text/plain": [
       "[1.0, 1.0]"
      ]
     },
     "execution_count": 54,
     "metadata": {},
     "output_type": "execute_result"
    }
   ],
   "source": [
    "p.config.auxdata"
   ]
  },
  {
   "cell_type": "code",
   "execution_count": 55,
   "metadata": {},
   "outputs": [
    {
     "data": {
      "text/plain": [
       "{'name': 'bkg1',\n",
       " 'data': [50.0, 70.0],\n",
       " 'modifiers': [{'name': 'stat_firstchannel',\n",
       "   'type': 'staterror',\n",
       "   'data': [10.0, 10.0]}]}"
      ]
     },
     "execution_count": 55,
     "metadata": {},
     "output_type": "execute_result"
    }
   ],
   "source": [
    "p.spec['channels'][0]['samples'][1]"
   ]
  },
  {
   "cell_type": "code",
   "execution_count": 56,
   "metadata": {},
   "outputs": [],
   "source": [
    "import pyhf\n",
    "import json\n",
    "import logging\n",
    "from pyhf import runOnePoint, hfpdf\n",
    "from pyhf.simplemodels import hepdata_like\n",
    "\n",
    "def CLsOnePoint(muTest, data, pdf, init_pars,par_bounds):\n",
    "    clsobs, cls_exp = runOnePoint(muTest, data,pdf,init_pars,par_bounds)[-2:]\n",
    "    return 1./clsobs, [1./x for x in cls_exp]\n",
    "\n",
    "def invert_interval(testmus,cls_obs, cls_exp, test_size = 0.05):\n",
    "    point05cross = {'exp':[],'obs':None}\n",
    "    for cls_exp_sigma in cls_exp:\n",
    "        yvals = [x for x in cls_exp_sigma]\n",
    "        point05cross['exp'].append(np.interp(test_size,list(reversed(yvals)),list(reversed(testmus))))\n",
    "        \n",
    "    yvals = cls_obs\n",
    "    point05cross['obs'] = np.interp(test_size,list(reversed(yvals)),list(reversed(testmus)))\n",
    "    return point05cross\n",
    "\n",
    "def plot_results(testmus,cls_obs, cls_exp, test_size = 0.05):\n",
    "    plt.plot(mutests,cls_obs, c = 'k')\n",
    "    for i,c in zip(range(5),['grey','grey','grey','grey','grey']):\n",
    "        plt.plot(mutests,cls_exp[i], c = c)\n",
    "    plt.plot(testmus,[test_size]*len(testmus), c = 'r')\n",
    "    plt.ylim(0,1)"
   ]
  },
  {
   "cell_type": "code",
   "execution_count": 57,
   "metadata": {
    "scrolled": false
   },
   "outputs": [
    {
     "name": "stdout",
     "output_type": "stream",
     "text": [
      "Populating the interactive namespace from numpy and matplotlib\n"
     ]
    },
    {
     "data": {
      "image/png": "[encoded data removed]",
      "text/plain": [
       "<Figure size 432x288 with 1 Axes>"
      ]
     },
     "metadata": {},
     "output_type": "display_data"
    }
   ],
   "source": [
    "pdf = p\n",
    "%pylab inline\n",
    "data = [100.,100.] + pdf.config.auxdata\n",
    "\n",
    "init_pars  = pdf.config.suggested_init()\n",
    "par_bounds = pdf.config.suggested_bounds()\n",
    "\n",
    "mutests = np.linspace(0,5,41)\n",
    "tests = [CLsOnePoint(muTest,data,pdf,init_pars,par_bounds) for muTest in mutests]\n",
    "cls_obs = [test[0]  for test in tests]\n",
    "cls_exp = [[test[1][i]  for test in tests] for i in range(5)]\n",
    "\n",
    "plot_results(mutests, cls_obs, cls_exp)"
   ]
  },
  {
   "cell_type": "code",
   "execution_count": null,
   "metadata": {},
   "outputs": [],
   "source": []
  },
  {
   "cell_type": "code",
   "execution_count": null,
   "metadata": {},
   "outputs": [],
   "source": []
  },
  {
   "cell_type": "code",
   "execution_count": null,
   "metadata": {},
   "outputs": [],
   "source": []
  }
 ],
 "metadata": {
  "kernelspec": {
   "display_name": "Python 3",
   "language": "python",
   "name": "python3"
  },
  "language_info": {
   "codemirror_mode": {
    "name": "ipython",
    "version": 3
   },
   "file_extension": ".py",
   "mimetype": "text/x-python",
   "name": "python",
   "nbconvert_exporter": "python",
   "pygments_lexer": "ipython3",
   "version": "3.6.4"
  }
 },
 "nbformat": 4,
 "nbformat_minor": 1
}

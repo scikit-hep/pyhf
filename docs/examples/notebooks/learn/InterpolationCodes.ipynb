{
 "cells": [
  {
   "cell_type": "code",
   "execution_count": 1,
   "metadata": {},
   "outputs": [
    {
     "name": "stdout",
     "output_type": "stream",
     "text": [
      "Populating the interactive namespace from numpy and matplotlib\n"
     ]
    }
   ],
   "source": [
    "%pylab inline"
   ]
  },
  {
   "cell_type": "markdown",
   "metadata": {},
   "source": [
    "# Piecewise Linear Interoplation (Interpolation Code 0)\n",
    "\n",
    "References: https://cds.cern.ch/record/1456844/files/CERN-OPEN-2012-016.pdf\n",
    "\n",
    "We wish to understand interpolation using the piecewise linear function defined as (nb: vector denotes bold)\n",
    "\n",
    "$$\n",
    "\\eta_s (\\vec{\\alpha}) = \\sigma_{sb}^0(\\vec{\\alpha}) + \\underbrace{\\sum_{p \\in \\text{Syst}} I_\\text{lin.} (\\alpha_p; \\sigma_{sb}^0, \\sigma_{psb}^+, \\sigma_{psb}^-)}_\\text{deltas to calculate}\n",
    "$$\n",
    "\n",
    "with\n",
    "\n",
    "$$\n",
    "I_\\text{lin.}(\\alpha; I^0, I^+, I^-) = \\begin{cases} \\alpha(I^+ - I^0) \\qquad \\alpha \\geq 0\\\\ \\alpha(I^0 - I^-) \\qquad \\alpha < 0 \\end{cases}\n",
    "$$\n",
    "\n",
    "In this notebook, we'll demonstrate the technical implementation of these interplatinos starting from simple dimensionality and increasing the dimensions as we go along. In all situations, we'll consider a single systematic that we wish to interpolate, such as Jet Energy Scale (JES).\n",
    "\n",
    "Let's define the interpolate function. This function will produce the deltas we would like to calculate and sum with the nominal measurement to determine the interpolated measurements value."
   ]
  },
  {
   "cell_type": "code",
   "execution_count": 43,
   "metadata": {},
   "outputs": [],
   "source": [
    "def interpolate_deltas(down,nom,up,alpha):\n",
    "    delta_up = up - nom\n",
    "    delta_down = nom - down\n",
    "    if alpha > 0:\n",
    "        return delta_up*alpha\n",
    "    else:\n",
    "        return delta_down*alpha"
   ]
  },
  {
   "cell_type": "markdown",
   "metadata": {},
   "source": [
    "## The Single Bin Case\n",
    "\n",
    "Let's first start with considering evaluating the total number of events after applying JES corrections. This is the single-bin case. Code that runs through event selection will vary the JES parameter and provide three histograms, each with a single bin. These three histograms represent the nominal-, up-, and down- variations of the JES nuisance parameter.\n",
    "\n",
    "When processing, we find that there are 10 events nominally, and when we vary the JES parameter downwards, we only measure 8 events. When varying upwards, we measure 15 events."
   ]
  },
  {
   "cell_type": "code",
   "execution_count": 44,
   "metadata": {},
   "outputs": [],
   "source": [
    "down_1 = np.array([8])\n",
    "nom_1  = np.array([10])\n",
    "up_1   = np.array([15])"
   ]
  },
  {
   "cell_type": "markdown",
   "metadata": {},
   "source": [
    "We would like to generate a function $f(\\alpha_\\text{JES})$ that linearly interpolates the number of events for us so we can scan the phase-space for calculating PDFs. The `interpolate_deltas()` function defined above does this for us."
   ]
  },
  {
   "cell_type": "code",
   "execution_count": 45,
   "metadata": {},
   "outputs": [
    {
     "data": {
      "text/plain": [
       "[array([-2.]),\n",
       " array([-1.91836735]),\n",
       " array([-1.83673469]),\n",
       " array([-1.75510204]),\n",
       " array([-1.67346939])]"
      ]
     },
     "execution_count": 45,
     "metadata": {},
     "output_type": "execute_result"
    }
   ],
   "source": [
    "alphas = np.linspace(-1.,1.)\n",
    "deltas = [interpolate_deltas(down_1,nom_1,up_1,alpha) for alpha in alphas]\n",
    "deltas[:5]"
   ]
  },
  {
   "cell_type": "markdown",
   "metadata": {},
   "source": [
    "So now that we've generated the deltas from the nominal measurement, we can plot this to see how the linear interpolation works in the single-bin case, where we plot the measured values in black, and the interpolation in dashed, blue."
   ]
  },
  {
   "cell_type": "code",
   "execution_count": 63,
   "metadata": {},
   "outputs": [
    {
     "data": {
      "text/plain": [
       "Text(0,0.5,'Events')"
      ]
     },
     "execution_count": 63,
     "metadata": {},
     "output_type": "execute_result"
    },
    {
     "data": {
      "image/png": "[encoded data removed]",
      "text/plain": [
       "<Figure size 432x288 with 1 Axes>"
      ]
     },
     "metadata": {},
     "output_type": "display_data"
    }
   ],
   "source": [
    "plt.plot(alphas,[nom_1+delta for delta in deltas], linestyle='--')\n",
    "plt.scatter((-1,0,1),(down_1,nom_1,up_1), color='k')\n",
    "plt.xlabel(r'$\\alpha_\\mathrm{JES}$')\n",
    "plt.ylabel(r'Events')"
   ]
  },
  {
   "cell_type": "markdown",
   "metadata": {},
   "source": [
    "## Multi-bin Case (interpolating a logical Histogram from three Measurements)"
   ]
  },
  {
   "cell_type": "code",
   "execution_count": 4,
   "metadata": {},
   "outputs": [
    {
     "data": {
      "image/png": "[encoded data removed]",
      "text/plain": [
       "<Figure size 432x288 with 1 Axes>"
      ]
     },
     "metadata": {},
     "output_type": "display_data"
    }
   ],
   "source": [
    "histogram_down = np.linspace(8,10,11)\n",
    "histogram_nom = np.linspace(10,13,11)\n",
    "histogram_up = np.linspace(15,20,11)\n",
    "\n",
    "bincenters = np.arange(len(histogram_nom))\n",
    "for c,h in zip(['r','g','b'],[histogram_up,histogram_nom,histogram_down]):\n",
    "    plt.bar(bincenters,h, alpha = 0.2, facecolor = c)"
   ]
  },
  {
   "cell_type": "code",
   "execution_count": 5,
   "metadata": {},
   "outputs": [],
   "source": [
    "import matplotlib.pyplot as plt\n",
    "from mpl_toolkits.mplot3d import Axes3D"
   ]
  },
  {
   "cell_type": "markdown",
   "metadata": {},
   "source": [
    "### At a single alpha value alpha = 0.5"
   ]
  },
  {
   "cell_type": "code",
   "execution_count": 6,
   "metadata": {},
   "outputs": [
    {
     "data": {
      "application/vnd.jupyter.widget-view+json": {
       "model_id": "a502b14a249945a9a28e8dda2eac50ea",
       "version_major": 2,
       "version_minor": 0
      },
      "text/plain": [
       "aW50ZXJhY3RpdmUoY2hpbGRyZW49KEZsb2F0U2xpZGVyKHZhbHVlPTAuMCwgZGVzY3JpcHRpb249dSdhbHBoYScsIG1heD0xLjAsIG1pbj0tMS4wLCBzdGVwPTAuMiksIE91dHB1dCgpKSwgX2TigKY=\n"
      ]
     },
     "metadata": {},
     "output_type": "display_data"
    }
   ],
   "source": [
    "histogram_down = np.linspace(8,10,11)\n",
    "histogram_nom = np.linspace(10,13,11)\n",
    "histogram_up = np.linspace(15,20,11)\n",
    "\n",
    "\n",
    "from ipywidgets import interact\n",
    "\n",
    "def plot_interpolated_histogram(alpha):\n",
    "    interpolated = [nom + interpolate(dn,nom,up,alpha) for dn,nom,up in zip(histogram_down,histogram_nom,histogram_up)]\n",
    "    bincenters = np.arange(len(interpolated))\n",
    "    for c,h in zip(['k','#222222','#444444'],[histogram_up,histogram_nom,histogram_down]):\n",
    "        plt.bar(bincenters,h, alpha = 0.2, facecolor = c)\n",
    "    plt.bar(bincenters,interpolated, facecolor = 'r', alpha = 0.2)\n",
    "\n",
    "x = interact(plot_interpolated_histogram,alpha = (-1,1,0.2))"
   ]
  },
  {
   "cell_type": "markdown",
   "metadata": {},
   "source": [
    "### At a multiple alpha values alpha = [-1,....,1]"
   ]
  },
  {
   "cell_type": "code",
   "execution_count": 7,
   "metadata": {},
   "outputs": [],
   "source": [
    "alphas = np.linspace(-1,1,11)\n",
    "\n",
    "at_alphas = []\n",
    "\n",
    "for alpha in alphas:\n",
    "    inerpolated_hist = [nom + interpolate(dn,nom,up,alpha) for dn,nom,up in zip(histogram_down,histogram_nom,histogram_up)]\n",
    "    at_alphas.append(inerpolated_hist)"
   ]
  },
  {
   "cell_type": "code",
   "execution_count": 11,
   "metadata": {},
   "outputs": [
    {
     "data": {
      "application/vnd.jupyter.widget-view+json": {
       "model_id": "bf564c76fb43450198a5ca4d83481487",
       "version_major": 2,
       "version_minor": 0
      },
      "text/plain": [
       "interactive(children=(IntSlider(value=2, description='index', max=5), Output()), _dom_classes=('widget-interac…"
      ]
     },
     "metadata": {},
     "output_type": "display_data"
    },
    {
     "data": {
      "text/plain": [
       "<function __main__.plot_wire(index)>"
      ]
     },
     "execution_count": 11,
     "metadata": {},
     "output_type": "execute_result"
    }
   ],
   "source": [
    "# setup the figure and axes\n",
    "\n",
    "# fake data\n",
    "x,y = np.meshgrid(bincenters,alphas)\n",
    "\n",
    "top = np.asarray(at_alphas).ravel()\n",
    "bottom = np.zeros_like(top)\n",
    "width = depth = 1\n",
    "def plot_wire(index):\n",
    "    sl = slice(index,index+1)\n",
    "    fig = plt.figure(figsize=(10, 10))\n",
    "    ax1 = fig.add_subplot(111, projection='3d')\n",
    "    ax1.plot_wireframe(x, y,top.reshape(len(bincenters),len(alphas)), alpha = 0.3)\n",
    "    ax1.plot_wireframe(x[sl], y[sl],top.reshape(len(bincenters),len(alphas))[sl], edgecolor = 'r')\n",
    "    ax1.set_zlim(0,25)\n",
    "    ax1.view_init(azim=-125)\n",
    "    plt.show()\n",
    "interact(plot_wire,index = (0,5))"
   ]
  },
  {
   "cell_type": "code",
   "execution_count": null,
   "metadata": {},
   "outputs": [],
   "source": []
  },
  {
   "cell_type": "code",
   "execution_count": null,
   "metadata": {},
   "outputs": [],
   "source": []
  }
 ],
 "metadata": {
  "kernelspec": {
   "display_name": "Python 2",
   "language": "python",
   "name": "python2"
  },
  "language_info": {
   "codemirror_mode": {
    "name": "ipython",
    "version": 2
   },
   "file_extension": ".py",
   "mimetype": "text/x-python",
   "name": "python",
   "nbconvert_exporter": "python",
   "pygments_lexer": "ipython2",
   "version": "2.7.14"
  }
 },
 "nbformat": 4,
 "nbformat_minor": 2
}

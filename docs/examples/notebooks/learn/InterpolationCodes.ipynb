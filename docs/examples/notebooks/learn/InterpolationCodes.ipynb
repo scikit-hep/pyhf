{
 "cells": [
  {
   "cell_type": "code",
   "execution_count": 1,
   "metadata": {},
   "outputs": [
    {
     "name": "stdout",
     "output_type": "stream",
     "text": [
      "Populating the interactive namespace from numpy and matplotlib\n"
     ]
    }
   ],
   "source": [
    "%pylab inline"
   ]
  },
  {
   "cell_type": "markdown",
   "metadata": {},
   "source": [
    "# Piecewise Linear Interoplation (Interpolation Code 0)\n",
    "\n",
    "\n",
    "\n",
    "## The Single Bin Case"
   ]
  },
  {
   "cell_type": "code",
   "execution_count": 2,
   "metadata": {},
   "outputs": [],
   "source": [
    "def interpolate(down,nom,up,alpha):\n",
    "    delta_up = up - nom\n",
    "    delta_down = nom - down\n",
    "    if alpha > 0:\n",
    "        return delta_up*alpha\n",
    "    else:\n",
    "        return delta_down*alpha"
   ]
  },
  {
   "cell_type": "code",
   "execution_count": 3,
   "metadata": {},
   "outputs": [
    {
     "data": {
      "text/plain": [
       "<matplotlib.collections.PathCollection at 0x10b34e7b8>"
      ]
     },
     "execution_count": 3,
     "metadata": {},
     "output_type": "execute_result"
    },
    {
     "data": {
      "image/png": "[encoded data removed]",
      "text/plain": [
       "<Figure size 432x288 with 1 Axes>"
      ]
     },
     "metadata": {},
     "output_type": "display_data"
    }
   ],
   "source": [
    "down_1,nom_1,up_1 = 8,10,15\n",
    "\n",
    "alphas = np.linspace(-1.,1.)\n",
    "interpolated_deltas = [interpolate(down_1,nom_1,up_1,alpha) for alpha in alphas]\n",
    "\n",
    "\n",
    "plt.plot(alphas,[nom_1+delta for delta in interpolated_deltas])\n",
    "plt.scatter((-1,0,1),(down_1,nom_1,up_1))"
   ]
  },
  {
   "cell_type": "markdown",
   "metadata": {},
   "source": [
    "## Multi-bin Case (interpolating a logical Histogram from three Measurements)"
   ]
  },
  {
   "cell_type": "code",
   "execution_count": 4,
   "metadata": {},
   "outputs": [
    {
     "data": {
      "image/png": "[encoded data removed]",
      "text/plain": [
       "<Figure size 432x288 with 1 Axes>"
      ]
     },
     "metadata": {},
     "output_type": "display_data"
    }
   ],
   "source": [
    "histogram_down = np.linspace(8,10,11)\n",
    "histogram_nom = np.linspace(10,13,11)\n",
    "histogram_up = np.linspace(15,20,11)\n",
    "\n",
    "bincenters = np.arange(len(histogram_nom))\n",
    "for c,h in zip(['r','g','b'],[histogram_up,histogram_nom,histogram_down]):\n",
    "    plt.bar(bincenters,h, alpha = 0.2, facecolor = c)"
   ]
  },
  {
   "cell_type": "code",
   "execution_count": 5,
   "metadata": {},
   "outputs": [],
   "source": [
    "import matplotlib.pyplot as plt\n",
    "from mpl_toolkits.mplot3d import Axes3D"
   ]
  },
  {
   "cell_type": "markdown",
   "metadata": {},
   "source": [
    "### At a single alpha value alpha = 0.5"
   ]
  },
  {
   "cell_type": "code",
   "execution_count": 6,
   "metadata": {},
   "outputs": [
    {
     "data": {
      "application/vnd.jupyter.widget-view+json": {
       "model_id": "a502b14a249945a9a28e8dda2eac50ea",
       "version_major": 2,
       "version_minor": 0
      },
      "text/plain": [
       "interactive(children=(IntSlider(value=0, description='alpha', max=1, min=-1), Output()), _dom_classes=('widget…"
      ]
     },
     "metadata": {},
     "output_type": "display_data"
    }
   ],
   "source": [
    "histogram_down = np.linspace(8,10,11)\n",
    "histogram_nom = np.linspace(10,13,11)\n",
    "histogram_up = np.linspace(15,20,11)\n",
    "\n",
    "\n",
    "from ipywidgets import interact\n",
    "\n",
    "def plot_interpolated_histogram(alpha):\n",
    "    interpolated = [nom + interpolate(dn,nom,up,alpha) for dn,nom,up in zip(histogram_down,histogram_nom,histogram_up)]\n",
    "    bincenters = np.arange(len(interpolated))\n",
    "    for c,h in zip(['k','#222222','#444444'],[histogram_up,histogram_nom,histogram_down]):\n",
    "        plt.bar(bincenters,h, alpha = 0.2, facecolor = c)\n",
    "    plt.bar(bincenters,interpolated, facecolor = 'r', alpha = 0.2)\n",
    "\n",
    "x = interact(plot_interpolated_histogram,alpha = (-1,1))"
   ]
  },
  {
   "cell_type": "markdown",
   "metadata": {},
   "source": [
    "### At a multiple alpha values alpha = [-1,....,1]"
   ]
  },
  {
   "cell_type": "code",
   "execution_count": 7,
   "metadata": {},
   "outputs": [],
   "source": [
    "alphas = np.linspace(-1,1,11)\n",
    "\n",
    "at_alphas = []\n",
    "\n",
    "for alpha in alphas:\n",
    "    inerpolated_hist = [nom + interpolate(dn,nom,up,alpha) for dn,nom,up in zip(histogram_down,histogram_nom,histogram_up)]\n",
    "    at_alphas.append(inerpolated_hist)"
   ]
  },
  {
   "cell_type": "code",
   "execution_count": 11,
   "metadata": {},
   "outputs": [
    {
     "data": {
      "application/vnd.jupyter.widget-view+json": {
       "model_id": "bf564c76fb43450198a5ca4d83481487",
       "version_major": 2,
       "version_minor": 0
      },
      "text/plain": [
       "interactive(children=(IntSlider(value=2, description='index', max=5), Output()), _dom_classes=('widget-interac…"
      ]
     },
     "metadata": {},
     "output_type": "display_data"
    },
    {
     "data": {
      "text/plain": [
       "<function __main__.plot_wire(index)>"
      ]
     },
     "execution_count": 11,
     "metadata": {},
     "output_type": "execute_result"
    }
   ],
   "source": [
    "# setup the figure and axes\n",
    "\n",
    "# fake data\n",
    "x,y = np.meshgrid(bincenters,alphas)\n",
    "\n",
    "top = np.asarray(at_alphas).ravel()\n",
    "bottom = np.zeros_like(top)\n",
    "width = depth = 1\n",
    "def plot_wire(index):\n",
    "    sl = slice(index,index+1)\n",
    "    fig = plt.figure(figsize=(10, 10))\n",
    "    ax1 = fig.add_subplot(111, projection='3d')\n",
    "    ax1.plot_wireframe(x, y,top.reshape(len(bincenters),len(alphas)), alpha = 0.3)\n",
    "    ax1.plot_wireframe(x[sl], y[sl],top.reshape(len(bincenters),len(alphas))[sl], edgecolor = 'r')\n",
    "    ax1.set_zlim(0,25)\n",
    "    ax1.view_init(azim=-125)\n",
    "    plt.show()\n",
    "interact(plot_wire,index = (0,5))"
   ]
  },
  {
   "cell_type": "code",
   "execution_count": null,
   "metadata": {},
   "outputs": [],
   "source": []
  },
  {
   "cell_type": "code",
   "execution_count": null,
   "metadata": {},
   "outputs": [],
   "source": []
  }
 ],
 "metadata": {
  "kernelspec": {
   "display_name": "Python 3",
   "language": "python",
   "name": "python3"
  },
  "language_info": {
   "codemirror_mode": {
    "name": "ipython",
    "version": 3
   },
   "file_extension": ".py",
   "mimetype": "text/x-python",
   "name": "python",
   "nbconvert_exporter": "python",
   "pygments_lexer": "ipython3",
   "version": "3.6.4"
  }
 },
 "nbformat": 4,
 "nbformat_minor": 2
}

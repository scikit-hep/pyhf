{
 "cells": [
  {
   "cell_type": "markdown",
   "metadata": {},
   "source": [
    "# Empirical Test Statistics"
   ]
  },
  {
   "cell_type": "code",
   "execution_count": 1,
   "metadata": {},
   "outputs": [],
   "source": [
    "import numpy as np\n",
    "import matplotlib.pyplot as plt\n",
    "import pyhf"
   ]
  },
  {
   "cell_type": "markdown",
   "metadata": {},
   "source": [
    "Here we define the statistical model we will study"
   ]
  },
  {
   "cell_type": "code",
   "execution_count": 38,
   "metadata": {},
   "outputs": [],
   "source": [
    "model = pyhf.simplemodels.hepdata_like([10.],[100.],[10.])"
   ]
  },
  {
   "cell_type": "markdown",
   "metadata": {},
   "source": [
    "The test statistics based on the profile likelihood described in `arXiv:1007.1727` cover scanarios for both \n",
    "\n",
    "* bounded models (e.g. POIs constrained to values >= 00\n",
    "* unbounded models (unconstrained range for POI values)\n",
    "\n",
    "We set up the bounds for the fit as follows"
   ]
  },
  {
   "cell_type": "code",
   "execution_count": 17,
   "metadata": {},
   "outputs": [],
   "source": [
    "unbounded_bounds = model.config.suggested_bounds()\n",
    "unbounded_bounds[model.config.poi_index] = (-10,10)\n",
    "\n",
    "\n",
    "bounded_bounds = model.config.suggested_bounds()"
   ]
  },
  {
   "cell_type": "markdown",
   "metadata": {},
   "source": [
    "Next we draw some synthetic datasets (also referrerd to as \"toys\")"
   ]
  },
  {
   "cell_type": "code",
   "execution_count": 66,
   "metadata": {},
   "outputs": [],
   "source": [
    "toys = model.make_pdf(pyhf.tensorlib.astensor([1.,1.])).sample((1000,))"
   ]
  },
  {
   "cell_type": "markdown",
   "metadata": {},
   "source": [
    "In the asymptotic treatment the test statistics are described as a function of the data's best-fit POI value $\\hat\\mu$. \n",
    "\n",
    "So let's run some fits so we can plots the empirical test statistics against $\\hat\\mu$ to observed the emergence of the asymptotic behavior."
   ]
  },
  {
   "cell_type": "code",
   "execution_count": 67,
   "metadata": {},
   "outputs": [],
   "source": [
    "results = [pyhf.infer.mle.fit(t,model, par_bounds = unbounded_bounds, return_fitted_val = True) for t in toys]\n",
    "\n",
    "pars = np.asarray([r[0] for r in results])\n",
    "vals = np.asarray([r[1] for r in results])\n",
    "vals = np.asarray([pyhf.tensorlib.astensor(v) for i,v in enumerate(vals)])"
   ]
  },
  {
   "cell_type": "markdown",
   "metadata": {},
   "source": [
    "We can now calculate all four test statistics described in `arXiv:1007.1727`"
   ]
  },
  {
   "cell_type": "code",
   "execution_count": 68,
   "metadata": {},
   "outputs": [],
   "source": [
    "tmu = np.asarray(\n",
    "    [pyhf.infer.test_statistics.tmu(\n",
    "        1.0,t,model,\n",
    "        init_pars = model.config.suggested_init(),\n",
    "        par_bounds = unbounded_bounds\n",
    "    ) for t in toys]\n",
    ")"
   ]
  },
  {
   "cell_type": "code",
   "execution_count": 69,
   "metadata": {},
   "outputs": [],
   "source": [
    "tmutilde = np.asarray(\n",
    "    [pyhf.infer.test_statistics.tmu_tilde(\n",
    "        1.0,t,model,\n",
    "        init_pars = model.config.suggested_init(),\n",
    "        par_bounds = bounded_bounds\n",
    "    ) for t in toys]\n",
    ")"
   ]
  },
  {
   "cell_type": "code",
   "execution_count": 70,
   "metadata": {},
   "outputs": [],
   "source": [
    "qmu = np.asarray(\n",
    "    [pyhf.infer.test_statistics.qmu(\n",
    "        1.0,t,model,\n",
    "        init_pars = model.config.suggested_init(),\n",
    "        par_bounds = unbounded_bounds\n",
    "    ) for t in toys]\n",
    ")"
   ]
  },
  {
   "cell_type": "code",
   "execution_count": 71,
   "metadata": {},
   "outputs": [],
   "source": [
    "qmutilde = np.asarray(\n",
    "    [pyhf.infer.test_statistics.qmu_tilde(\n",
    "        1.0,t,model,\n",
    "        init_pars = model.config.suggested_init(),\n",
    "        par_bounds = bounded_bounds\n",
    "    ) for t in toys]\n",
    ")"
   ]
  },
  {
   "cell_type": "markdown",
   "metadata": {},
   "source": [
    "Let's Plot all the test statistics we have computed"
   ]
  },
  {
   "cell_type": "code",
   "execution_count": 105,
   "metadata": {},
   "outputs": [],
   "source": [
    "muhat = pars[:,model.config.poi_index]\n",
    "muhat_sigma = np.std(muhat)"
   ]
  },
  {
   "cell_type": "markdown",
   "metadata": {},
   "source": [
    "We can check the asymptotic assumption that $\\hat{\\mu}$ is distributed normally around it's true value $\\mu' = 1$"
   ]
  },
  {
   "cell_type": "code",
   "execution_count": 93,
   "metadata": {},
   "outputs": [
    {
     "data": {
      "text/plain": [
       "<matplotlib.collections.LineCollection at 0x12d2c70f0>"
      ]
     },
     "execution_count": 93,
     "metadata": {},
     "output_type": "execute_result"
    },
    {
     "data": {
      "image/png": "[encoded data removed]",
      "text/plain": [
       "<Figure size 432x288 with 1 Axes>"
      ]
     },
     "metadata": {
      "needs_background": "light"
     },
     "output_type": "display_data"
    }
   ],
   "source": [
    "plt.hist(muhat, bins = np.linspace(-4,5,31))\n",
    "plt.vlines(1,0,150)"
   ]
  },
  {
   "cell_type": "markdown",
   "metadata": {},
   "source": [
    "Here we define the asymptotic test statistics:"
   ]
  },
  {
   "cell_type": "code",
   "execution_count": 123,
   "metadata": {},
   "outputs": [],
   "source": [
    "def tmu_asymp(mutest,muhat,sigma):\n",
    "    return (mutest-muhat)**2/sigma**2\n",
    "\n",
    "def tmutilde_asymp(mutest,muhat,sigma):\n",
    "    a = (mutest-muhat)**2/sigma**2\n",
    "    b = (mutest-muhat)**2/sigma**2 - (0-muhat)**2/sigma**2    \n",
    "    return np.where(muhat>0,a,b)\n",
    "\n",
    "def qmu_asymp(mutest,muhat,sigma):\n",
    "    return np.where(muhat > mutest,np.zeros_like(muhat),tmu_asymp(mutest,muhat,sigma))\n",
    "\n",
    "def qmutilde_asymp(mutest,muhat,sigma):\n",
    "    return np.where(muhat > mutest,np.zeros_like(muhat),tmutilde_asymp(mutest,muhat,sigma))"
   ]
  },
  {
   "cell_type": "markdown",
   "metadata": {},
   "source": [
    "And now we can compare them to the empirical values:"
   ]
  },
  {
   "cell_type": "code",
   "execution_count": 126,
   "metadata": {},
   "outputs": [
    {
     "data": {
      "text/plain": [
       "(0.0, 10.0)"
      ]
     },
     "execution_count": 126,
     "metadata": {},
     "output_type": "execute_result"
    },
    {
     "data": {
      "image/png": "[encoded data removed]",
      "text/plain": [
       "<Figure size 432x288 with 4 Axes>"
      ]
     },
     "metadata": {
      "needs_background": "light"
     },
     "output_type": "display_data"
    }
   ],
   "source": [
    "muhat_asymp = np.linspace(-3,5)\n",
    "f,axarr = plt.subplots(2,2)\n",
    "axarr[0,0].scatter(muhat,tmu, alpha = 0.2, label = 't_μ')\n",
    "axarr[0,0].plot(muhat_asymp,tmu_asymp(1.0,muhat_asymp,muhat_sigma), label = 't_μ asymp', c = 'r')\n",
    "axarr[0,0].legend()\n",
    "axarr[0,0].set_ylim(0,10)\n",
    "axarr[0,1].scatter(muhat,tmutilde, alpha = 0.2, label = 't̃_μ')\n",
    "axarr[0,1].plot(muhat_asymp,tmutilde_asymp(1.0,muhat_asymp,muhat_sigma), label = 't_μ asymp', c = 'r')\n",
    "axarr[0,1].legend()\n",
    "axarr[0,1].set_ylim(0,10)\n",
    "axarr[1,0].scatter(muhat,qmu, alpha = 0.2, label = 'q_μ')\n",
    "axarr[1,0].plot(muhat_asymp,qmu_asymp(1.0,muhat_asymp,muhat_sigma), label = 'q_μ asymp', c = 'r')\n",
    "axarr[1,0].legend()\n",
    "axarr[1,0].set_ylim(0,10)\n",
    "axarr[1,1].scatter(muhat,qmutilde, alpha = 0.2, label = 'q̃_μ')\n",
    "axarr[1,1].plot(muhat_asymp,qmutilde_asymp(1.0,muhat_asymp,muhat_sigma), label = 'q̃_μ asymp', c = 'r')\n",
    "axarr[1,1].legend()\n",
    "axarr[1,1].set_ylim(0,10)"
   ]
  },
  {
   "cell_type": "code",
   "execution_count": null,
   "metadata": {},
   "outputs": [],
   "source": []
  }
 ],
 "metadata": {
  "kernelspec": {
   "display_name": "Python 3",
   "language": "python",
   "name": "python3"
  },
  "language_info": {
   "codemirror_mode": {
    "name": "ipython",
    "version": 3
   },
   "file_extension": ".py",
   "mimetype": "text/x-python",
   "name": "python",
   "nbconvert_exporter": "python",
   "pygments_lexer": "ipython3",
   "version": "3.7.2"
  }
 },
 "nbformat": 4,
 "nbformat_minor": 4
}

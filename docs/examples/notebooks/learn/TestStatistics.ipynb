{
 "cells": [
  {
   "cell_type": "markdown",
   "metadata": {},
   "source": [
    "# Empirical Test Statistics\n",
    "\n",
    "In this notebook we will compute test statistics empirically from pseudo-experiment and establish that they behave\n",
    "as assumed in the asymptotic approximation."
   ]
  },
  {
   "cell_type": "code",
   "execution_count": 1,
   "metadata": {},
   "outputs": [],
   "source": [
    "import numpy as np\n",
    "import matplotlib.pyplot as plt\n",
    "import pyhf"
   ]
  },
  {
   "cell_type": "markdown",
   "metadata": {},
   "source": [
    "First, we define the statistical model we will study. The parameters are chosen to lie comfortably in the asymptotic regime."
   ]
  },
  {
   "cell_type": "code",
   "execution_count": 2,
   "metadata": {},
   "outputs": [],
   "source": [
    "model = pyhf.simplemodels.hepdata_like([10.],[100.],[10.])"
   ]
  },
  {
   "cell_type": "markdown",
   "metadata": {},
   "source": [
    "The test statistics based on the profile likelihood described in `arXiv:1007.1727` cover scanarios for both \n",
    "\n",
    "* bounded models (e.g. POIs constrained to values >= 00\n",
    "* unbounded models (unconstrained range for POI values)\n",
    "\n",
    "We set up the bounds for the fit as follows"
   ]
  },
  {
   "cell_type": "code",
   "execution_count": 3,
   "metadata": {},
   "outputs": [],
   "source": [
    "unbounded_bounds = model.config.suggested_bounds()\n",
    "unbounded_bounds[model.config.poi_index] = (-10,10)\n",
    "\n",
    "\n",
    "bounded_bounds = model.config.suggested_bounds()"
   ]
  },
  {
   "cell_type": "markdown",
   "metadata": {},
   "source": [
    "Next we draw some synthetic datasets (also referrerd to as \"toys\" or pseudo-experiments)"
   ]
  },
  {
   "cell_type": "code",
   "execution_count": 4,
   "metadata": {},
   "outputs": [],
   "source": [
    "true_poi = 1.0\n",
    "toys = model.make_pdf(pyhf.tensorlib.astensor([true_poi,1.])).sample((200,))"
   ]
  },
  {
   "cell_type": "markdown",
   "metadata": {},
   "source": [
    "In the asymptotic treatment the test statistics are described as a function of the data's best-fit POI value $\\hat\\mu$. \n",
    "\n",
    "So let's run some fits so we can plots the empirical test statistics against $\\hat\\mu$ to observed the emergence of the asymptotic behavior."
   ]
  },
  {
   "cell_type": "code",
   "execution_count": 5,
   "metadata": {},
   "outputs": [
    {
     "name": "stderr",
     "output_type": "stream",
     "text": [
      "/Users/lukasheinrich/Code/pyhfdev/dev/pyhfsrc/src/pyhf/tensor/numpy_backend.py:271: RuntimeWarning: invalid value encountered in log\n",
      "  return n * np.log(lam) - lam - gammaln(n + 1.0)\n"
     ]
    }
   ],
   "source": [
    "results = [pyhf.infer.mle.fit(t,model, par_bounds = unbounded_bounds, return_fitted_val = True) for t in toys]\n",
    "\n",
    "pars = np.asarray([r[0] for r in results])\n",
    "vals = np.asarray([r[1] for r in results])\n",
    "vals = np.asarray([pyhf.tensorlib.astensor(v) for i,v in enumerate(vals)])"
   ]
  },
  {
   "cell_type": "markdown",
   "metadata": {},
   "source": [
    "We can now calculate all four test statistics described in `arXiv:1007.1727`"
   ]
  },
  {
   "cell_type": "code",
   "execution_count": 6,
   "metadata": {},
   "outputs": [],
   "source": [
    "tmu = np.asarray(\n",
    "    [pyhf.infer.test_statistics.tmu(\n",
    "        1.0,t,model,\n",
    "        init_pars = model.config.suggested_init(),\n",
    "        par_bounds = unbounded_bounds\n",
    "    ) for t in toys]\n",
    ")"
   ]
  },
  {
   "cell_type": "code",
   "execution_count": 7,
   "metadata": {},
   "outputs": [],
   "source": [
    "tmutilde = np.asarray(\n",
    "    [pyhf.infer.test_statistics.tmu_tilde(\n",
    "        1.0,t,model,\n",
    "        init_pars = model.config.suggested_init(),\n",
    "        par_bounds = bounded_bounds\n",
    "    ) for t in toys]\n",
    ")"
   ]
  },
  {
   "cell_type": "code",
   "execution_count": 8,
   "metadata": {},
   "outputs": [],
   "source": [
    "qmu = np.asarray(\n",
    "    [pyhf.infer.test_statistics.qmu(\n",
    "        1.0,t,model,\n",
    "        init_pars = model.config.suggested_init(),\n",
    "        par_bounds = unbounded_bounds\n",
    "    ) for t in toys]\n",
    ")"
   ]
  },
  {
   "cell_type": "code",
   "execution_count": 9,
   "metadata": {},
   "outputs": [],
   "source": [
    "qmutilde = np.asarray(\n",
    "    [pyhf.infer.test_statistics.qmu_tilde(\n",
    "        1.0,t,model,\n",
    "        init_pars = model.config.suggested_init(),\n",
    "        par_bounds = bounded_bounds\n",
    "    ) for t in toys]\n",
    ")"
   ]
  },
  {
   "cell_type": "markdown",
   "metadata": {},
   "source": [
    "Let's Plot all the test statistics we have computed"
   ]
  },
  {
   "cell_type": "code",
   "execution_count": 10,
   "metadata": {},
   "outputs": [],
   "source": [
    "muhat = pars[:,model.config.poi_index]\n",
    "muhat_sigma = np.std(muhat)"
   ]
  },
  {
   "cell_type": "markdown",
   "metadata": {},
   "source": [
    "We can check the asymptotic assumption that $\\hat{\\mu}$ is distributed normally around it's true value $\\mu' = 1$"
   ]
  },
  {
   "cell_type": "code",
   "execution_count": 11,
   "metadata": {},
   "outputs": [
    {
     "data": {
      "text/plain": [
       "<matplotlib.legend.Legend at 0x10ea714a8>"
      ]
     },
     "execution_count": 11,
     "metadata": {},
     "output_type": "execute_result"
    },
    {
     "data": {
      "image/png": "[encoded data removed]",
      "text/plain": [
       "<Figure size 432x288 with 1 Axes>"
      ]
     },
     "metadata": {
      "needs_background": "light"
     },
     "output_type": "display_data"
    }
   ],
   "source": [
    "plt.hist(muhat, bins = np.linspace(-4,5,31), density = True)\n",
    "plt.vlines([true_poi],0,1, label = 'true poi', colors = 'k', linestyles = 'dashed')\n",
    "plt.vlines([np.mean(muhat)],0,1, label = 'empirical mean', colors = 'r', linestyles = 'dashed')\n",
    "plt.legend()"
   ]
  },
  {
   "cell_type": "markdown",
   "metadata": {},
   "source": [
    "Here we define the asymptotic test statistics:"
   ]
  },
  {
   "cell_type": "code",
   "execution_count": 27,
   "metadata": {},
   "outputs": [],
   "source": [
    "def tmu_asymp(mutest,muhat,sigma):\n",
    "    return (mutest-muhat)**2/sigma**2\n",
    "\n",
    "def tmutilde_asymp(mutest,muhat,sigma):\n",
    "    a = tmu_asymp(mutest,muhat,sigma)\n",
    "    b = tmu_asymp(mutest,muhat,sigma)-tmu_asymp(0.0,muhat,sigma)\n",
    "    return np.where(muhat>0,a,b)\n",
    "\n",
    "def qmu_asymp(mutest,muhat,sigma):\n",
    "    return np.where(muhat < mutest,tmu_asymp(mutest,muhat,sigma),np.zeros_like(muhat))\n",
    "\n",
    "def qmutilde_asymp(mutest,muhat,sigma):\n",
    "    return np.where(muhat < mutest,tmutilde_asymp(mutest,muhat,sigma),np.zeros_like(muhat))"
   ]
  },
  {
   "cell_type": "markdown",
   "metadata": {},
   "source": [
    "$$t_\\mu = \\frac{(\\mu-\\hat\\mu)^2}{\\sigma^2}$$\n",
    "\n",
    "$$\\tilde{t}_\\mu =\n",
    "\\begin{cases}\n",
    "t_\\mu\\;\\text{if $\\hat{\\mu}>0$}\\\\\n",
    "t_\\mu - t_0\\; \\text{else}\n",
    "\\end{cases}\n",
    "$$\n",
    "\n",
    "\n",
    "\n",
    "$$q_\\mu =\n",
    "\\begin{cases}\n",
    "t_\\mu\\;\\text{if $\\hat{\\mu}<\\mu$}\\\\\n",
    "0\\; \\text{else}\n",
    "\\end{cases}\n",
    "$$\n",
    "\n",
    "$$\\tilde{q}_\\mu =\n",
    "\\begin{cases}\n",
    "\\tilde{t}_\\mu\\;\\text{if $\\hat{\\mu}<\\mu$}\\\\\n",
    "0\\; \\text{else}\n",
    "\\end{cases}\n",
    "$$"
   ]
  },
  {
   "cell_type": "markdown",
   "metadata": {},
   "source": [
    "And now we can compare them to the empirical values:"
   ]
  },
  {
   "cell_type": "code",
   "execution_count": 28,
   "metadata": {},
   "outputs": [
    {
     "data": {
      "image/png": "[encoded data removed]",
      "text/plain": [
       "<Figure size 432x288 with 4 Axes>"
      ]
     },
     "metadata": {
      "needs_background": "light"
     },
     "output_type": "display_data"
    }
   ],
   "source": [
    "muhat_asymp = np.linspace(-3,5)\n",
    "f,axarr = plt.subplots(2,2)\n",
    "labels = ['t_μ','t̃_μ','q_μ','q̃_μ']\n",
    "data   = [(tmu,tmu_asymp),(tmutilde,tmutilde_asymp),(qmu,qmu_asymp),(qmutilde,qmutilde_asymp)] \n",
    "\n",
    "for ax,(l,d) in zip(axarr.ravel(),zip(labels,data)): \n",
    "    empirical, asymp_func = d\n",
    "    ax.scatter(muhat,empirical, alpha = 0.2, label = l)\n",
    "    ax.plot(muhat_asymp,asymp_func(1.0,muhat_asymp,muhat_sigma), label = f'{l} asymp', c = 'r')\n",
    "    ax.legend()"
   ]
  },
  {
   "cell_type": "code",
   "execution_count": null,
   "metadata": {},
   "outputs": [],
   "source": []
  }
 ],
 "metadata": {
  "kernelspec": {
   "display_name": "Python 3.6.6 64-bit ('pyhfdevenv': virtualenv)",
   "language": "python",
   "name": "python36664bitpyhfdevenvvirtualenva88b87312bc4460ea31ed55ec8de5ec6"
  },
  "language_info": {
   "codemirror_mode": {
    "name": "ipython",
    "version": 3
   },
   "file_extension": ".py",
   "mimetype": "text/x-python",
   "name": "python",
   "nbconvert_exporter": "python",
   "pygments_lexer": "ipython3",
   "version": "3.7.2"
  }
 },
 "nbformat": 4,
 "nbformat_minor": 4
}

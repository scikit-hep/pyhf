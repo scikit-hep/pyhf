{
 "cells": [
  {
   "cell_type": "markdown",
   "metadata": {},
   "source": [
    "# Import XML"
   ]
  },
  {
   "cell_type": "code",
   "execution_count": 353,
   "metadata": {},
   "outputs": [
    {
     "name": "stdout",
     "output_type": "stream",
     "text": [
      "Populating the interactive namespace from numpy and matplotlib\n"
     ]
    }
   ],
   "source": [
    "%pylab inline"
   ]
  },
  {
   "cell_type": "code",
   "execution_count": 366,
   "metadata": {},
   "outputs": [
    {
     "data": {
      "text/plain": [
       "<pyhf.hfpdf at 0x131e068d0>"
      ]
     },
     "execution_count": 366,
     "metadata": {},
     "output_type": "execute_result"
    }
   ],
   "source": [
    "import pyhf\n",
    "import pyhf.readxml\n",
    "reload(pyhf.readxml)\n",
    "\n",
    "spec = pyhf.readxml.parse('../../validation/xmlimport_input/config/example.xml', '../../validation/xmlimport_input/')\n",
    "pdf = pyhf.hfpdf(spec['channels'])\n",
    "pdf"
   ]
  },
  {
   "cell_type": "code",
   "execution_count": 367,
   "metadata": {},
   "outputs": [
    {
     "data": {
      "text/plain": [
       "[122.0, 112.0, 0, 0, 0]"
      ]
     },
     "execution_count": 367,
     "metadata": {},
     "output_type": "execute_result"
    }
   ],
   "source": [
    "data = [binvalue for k in pdf.config.channel_order for binvalue in spec['data'][k]] + pdf.auxdata\n",
    "data"
   ]
  },
  {
   "cell_type": "code",
   "execution_count": 368,
   "metadata": {},
   "outputs": [
    {
     "name": "stdout",
     "output_type": "stream",
     "text": [
      "[0.0, 1.0, 0.0, 0.0]\n"
     ]
    },
    {
     "data": {
      "text/plain": [
       "[120.0, 110.0]"
      ]
     },
     "execution_count": 368,
     "metadata": {},
     "output_type": "execute_result"
    }
   ],
   "source": [
    "print pdf.config.suggested_init()\n",
    "pdf.expected_actualdata(pdf.config.suggested_init())"
   ]
  },
  {
   "cell_type": "code",
   "execution_count": 376,
   "metadata": {},
   "outputs": [
    {
     "name": "stdout",
     "output_type": "stream",
     "text": [
      "[120. 110.   0.   0.   0.]\n"
     ]
    },
    {
     "data": {
      "text/plain": [
       "array([20., 10.], dtype=float32)"
      ]
     },
     "execution_count": 376,
     "metadata": {},
     "output_type": "execute_result"
    }
   ],
   "source": [
    "def assemble(pdf, **kwargs):\n",
    "    pars = pdf.config.suggested_init()\n",
    "    for k, v in kwargs.items():\n",
    "        pars[pdf.config.par_slice(k)] = v\n",
    "    return pars\n",
    "\n",
    "def disassemble(pdf, pars):\n",
    "    return {\n",
    "        k: pars[pdf.config.par_slice(k)] for k in pdf.config.par_map\n",
    "    }\n",
    "\n",
    "print pdf.expected_data(assemble(pdf, SigXsecOverSM = [1.0], syst1 = [0.0], syst2 = [0.0], syst3 = [0.0]))\n",
    "\n",
    "pars = assemble(pdf, SigXsecOverSM = [2.0], syst2 = [0.0], syst3 = [0.0])\n",
    "disassemble(pdf,pars)\n",
    "\n",
    "\n",
    "spec['channels']['channel1']['signal']['data']"
   ]
  },
  {
   "cell_type": "code",
   "execution_count": 370,
   "metadata": {},
   "outputs": [],
   "source": [
    "mutests = np.linspace(0,3)\n",
    "results = [pyhf.runOnePoint(mu, data, pdf, pdf.config.suggested_init(), pdf.config.suggested_bounds()) for mu in mutests]"
   ]
  },
  {
   "cell_type": "code",
   "execution_count": 371,
   "metadata": {},
   "outputs": [
    {
     "data": {
      "image/png": "[encoded data removed]",
      "text/plain": [
       "<matplotlib.figure.Figure at 0x13207af90>"
      ]
     },
     "metadata": {},
     "output_type": "display_data"
    }
   ],
   "source": [
    "obs = [1./r[-2:][0] for r in results ]\n",
    "exp = [[1./r[-2:][1][i] for r in results] for i in range(5) ]\n",
    "\n",
    "def plot_results(testmus,cls_obs, cls_exp, test_size = 0.05):\n",
    "    plt.plot(testmus,cls_obs, c = 'k')\n",
    "    for i,c in zip(range(5),['grey','grey','grey','grey','grey']):\n",
    "        plt.plot(testmus,cls_exp[i], c = c)\n",
    "    plt.plot(testmus,[test_size]*len(testmus), c = 'r')\n",
    "    plt.ylim(0,1)\n",
    "    \n",
    "plot_results(mutests,obs,exp)"
   ]
  },
  {
   "cell_type": "code",
   "execution_count": null,
   "metadata": {},
   "outputs": [],
   "source": []
  }
 ],
 "metadata": {
  "kernelspec": {
   "display_name": "Python 2",
   "language": "python",
   "name": "python2"
  },
  "language_info": {
   "codemirror_mode": {
    "name": "ipython",
    "version": 2
   },
   "file_extension": ".py",
   "mimetype": "text/x-python",
   "name": "python",
   "nbconvert_exporter": "python",
   "pygments_lexer": "ipython2",
   "version": "2.7.14"
  }
 },
 "nbformat": 4,
 "nbformat_minor": 2
}

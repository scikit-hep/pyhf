{
 "cells": [
  {
   "cell_type": "markdown",
   "metadata": {},
   "source": [
    "# Histogrammar"
   ]
  },
  {
   "cell_type": "code",
   "execution_count": 111,
   "metadata": {},
   "outputs": [
    {
     "name": "stdout",
     "output_type": "stream",
     "text": [
      "Populating the interactive namespace from numpy and matplotlib\n"
     ]
    }
   ],
   "source": [
    "%pylab inline\n",
    "import histogrammar as hg\n",
    "import numpy as np"
   ]
  },
  {
   "cell_type": "markdown",
   "metadata": {},
   "source": [
    "## Some Datasets form which we create Histograms\n",
    "\n",
    "generally will be ROOT files / panda dataframes, etc... we have multiple files for each MC sample and data"
   ]
  },
  {
   "cell_type": "code",
   "execution_count": 112,
   "metadata": {},
   "outputs": [],
   "source": [
    "background_sample = np.random.normal(loc = 0.0, scale=1.0, size = 30)\n",
    "signal_sample     = np.random.normal(loc = 0.5, scale=1.0, size = 15)\n",
    "data_sample       = np.random.normal(loc = 0.1, scale=1.0, size = 45)"
   ]
  },
  {
   "cell_type": "markdown",
   "metadata": {},
   "source": [
    "## Creating Histograms with hg"
   ]
  },
  {
   "cell_type": "code",
   "execution_count": 113,
   "metadata": {},
   "outputs": [],
   "source": [
    "signal_histogram     = hg.Bin(3,-1.5,1.5,lambda d: d,hg.Count())\n",
    "background_histogram = hg.Bin(3,-1.5,1.5,lambda d: d,hg.Count())\n",
    "data_histogram       = hg.Bin(3,-1.5,1.5,lambda d: d,hg.Count())"
   ]
  },
  {
   "cell_type": "code",
   "execution_count": 114,
   "metadata": {},
   "outputs": [],
   "source": [
    "for d in background_sample:\n",
    "    background_histogram.fill(d)\n",
    "    \n",
    "for d in signal_sample:\n",
    "    signal_histogram.fill(d)\n",
    "    \n",
    "for d in data_sample:\n",
    "    data_histogram.fill(d)"
   ]
  },
  {
   "cell_type": "code",
   "execution_count": 115,
   "metadata": {},
   "outputs": [
    {
     "name": "stdout",
     "output_type": "stream",
     "text": [
      "[9.0, 11.0, 8.0]\n",
      "[1.0, 6.0, 5.0]\n",
      "[15.0, 15.0, 7.0]\n"
     ]
    }
   ],
   "source": [
    "print(background_histogram.toJson()['data']['values'])\n",
    "print(signal_histogram.toJson()['data']['values'])\n",
    "print(data_histogram.toJson()['data']['values'])"
   ]
  },
  {
   "cell_type": "markdown",
   "metadata": {},
   "source": [
    "# Creating a Statistical model based on the Histograms (HistFactory)"
   ]
  },
  {
   "cell_type": "code",
   "execution_count": 116,
   "metadata": {},
   "outputs": [],
   "source": [
    "import pyhf"
   ]
  },
  {
   "cell_type": "markdown",
   "metadata": {},
   "source": [
    "in this simple model, we just take the histograms for each sample. For the background normalization we assign a 10% normalization uncertainty"
   ]
  },
  {
   "cell_type": "code",
   "execution_count": 117,
   "metadata": {},
   "outputs": [],
   "source": [
    "spec = {\n",
    "    'singlechannel': {\n",
    "        'signal': {'data': signal_histogram.toJson()['data']['values'],\n",
    "            'mods': [\n",
    "                {'name': 'mu','type': 'normfactor','data': None}\n",
    "            ]\n",
    "        },\n",
    "        'background': {\n",
    "            'data': background_histogram.toJson()['data']['values'],\n",
    "            'mods': [\n",
    "                {'name': 'bkg_norm','type': 'normsys','data': {'lo': 0.90, 'hi': 1.10}}\n",
    "            ]\n",
    "        }\n",
    "    }\n",
    "}"
   ]
  },
  {
   "cell_type": "code",
   "execution_count": 118,
   "metadata": {},
   "outputs": [],
   "source": [
    "p = pyhf.hfpdf(spec)\n",
    "\n",
    "data = data_histogram.toJson()['data']['values'] + p.config.auxdata"
   ]
  },
  {
   "cell_type": "markdown",
   "metadata": {},
   "source": [
    "## Interval Estimation / Limit Setting\n",
    "\n",
    "let's set a limit on the signal strength µ"
   ]
  },
  {
   "cell_type": "code",
   "execution_count": 119,
   "metadata": {},
   "outputs": [],
   "source": [
    "def invert_interval(testmus,cls_obs, cls_exp, test_size = 0.05):\n",
    "    point05cross = {'exp':[],'obs':None}\n",
    "    for cls_exp_sigma in cls_exp:\n",
    "        yvals = [x for x in cls_exp_sigma]\n",
    "        point05cross['exp'].append(np.interp(test_size,list(reversed(yvals)),list(reversed(testmus))))\n",
    "        \n",
    "    yvals = cls_obs\n",
    "    point05cross['obs'] = np.interp(test_size,list(reversed(yvals)),list(reversed(testmus)))\n",
    "    return point05cross\n",
    "\n",
    "def plot_results(testmus,cls_obs, cls_exp, test_size = 0.05):\n",
    "    plt.plot(mutests,cls_obs, c = 'k')\n",
    "    for i,c in zip(range(5),['grey','grey','grey','grey','grey']):\n",
    "        plt.plot(mutests,cls_exp[i], c = c)\n",
    "    plt.plot(testmus,[test_size]*len(testmus), c = 'r')\n",
    "    plt.ylim(0,1)"
   ]
  },
  {
   "cell_type": "code",
   "execution_count": 120,
   "metadata": {},
   "outputs": [
    {
     "name": "stderr",
     "output_type": "stream",
     "text": [
      "WARNING: qmu negative: -5.240252676230739e-12\n",
      "/Users/lukas/Code/histfactory/pyhf/pyhf/__init__.py:399: RuntimeWarning: divide by zero encountered in double_scalars\n",
      "  CLs = CLb / CLsb\n"
     ]
    },
    {
     "data": {
      "text/plain": [
       "{'exp': [0.49635286138206663,\n",
       "  0.6820216889491351,\n",
       "  0.9744444893430112,\n",
       "  1.4144324596835618,\n",
       "  1.996560529135182],\n",
       " 'obs': 1.2330688941880004}"
      ]
     },
     "execution_count": 120,
     "metadata": {},
     "output_type": "execute_result"
    },
    {
     "data": {
      "image/png": "[encoded data removed]",
      "text/plain": [
       "<matplotlib.figure.Figure at 0x11496c9b0>"
      ]
     },
     "metadata": {},
     "output_type": "display_data"
    }
   ],
   "source": [
    "mutests = np.linspace(0,5,51)\n",
    "tests = [runOnePoint(muTest,data,p,p.config.suggested_init(),p.config.suggested_bounds())[-2:] for muTest in mutests]\n",
    "cls_obs = [test[0]  for test in tests]\n",
    "cls_exp = [[test[1][i]  for test in tests] for i in range(5)]\n",
    "\n",
    "plot_results(mutests, cls_obs, cls_exp)\n",
    "invert_interval(mutests, cls_obs, cls_exp)"
   ]
  }
 ],
 "metadata": {
  "kernelspec": {
   "display_name": "Python 3",
   "language": "python",
   "name": "python3"
  },
  "language_info": {
   "codemirror_mode": {
    "name": "ipython",
    "version": 3
   },
   "file_extension": ".py",
   "mimetype": "text/x-python",
   "name": "python",
   "nbconvert_exporter": "python",
   "pygments_lexer": "ipython3",
   "version": "3.6.4"
  }
 },
 "nbformat": 4,
 "nbformat_minor": 2
}

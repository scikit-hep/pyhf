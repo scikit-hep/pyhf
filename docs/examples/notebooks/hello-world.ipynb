{
 "cells": [
  {
   "cell_type": "markdown",
   "metadata": {},
   "source": [
    "# Hello World, `pyhf` style"
   ]
  },
  {
   "cell_type": "code",
   "execution_count": 1,
   "metadata": {},
   "outputs": [],
   "source": [
    "import pyhf\n",
    "import pyhf.simplemodels\n",
    "import pyhf.utils"
   ]
  },
  {
   "cell_type": "code",
   "execution_count": 2,
   "metadata": {},
   "outputs": [
    {
     "name": "stdout",
     "output_type": "stream",
     "text": [
      "Observed: [0.05290116] Expected: [0.06445521]\n"
     ]
    },
    {
     "name": "stderr",
     "output_type": "stream",
     "text": [
      "/home/mcf/Code/GitHub/pyhf/pyhf/tensor/numpy_backend.py:82: RuntimeWarning: divide by zero encountered in log\n",
      "  return np.log(tensor_in)\n",
      "/home/mcf/Code/GitHub/pyhf/pyhf/tensor/numpy_backend.py:126: RuntimeWarning: divide by zero encountered in log\n",
      "  return np.exp(n*np.log(lam)-lam-gammaln(n+1.))\n"
     ]
    }
   ],
   "source": [
    "pdf = pyhf.simplemodels.hepdata_like(signal_data=[12.,11.], bkg_data=[50.,52.], bkg_uncerts=[3.,7.])\n",
    "# *_, CLs_obs,CLs_exp = pyhf.utils.runOnePoint(1.0, [51, 48] + pdf.config.auxdata, pdf) # Python3\n",
    "_, _, _, _, CLs_obs,CLs_exp = pyhf.utils.runOnePoint(1.0, [51, 48] + pdf.config.auxdata, pdf)\n",
    "print('Observed: {} Expected: {}'.format(CLs_obs, CLs_exp[2]))"
   ]
  }
 ],
 "metadata": {
  "kernelspec": {
   "display_name": "Python 3",
   "language": "python",
   "name": "python3"
  },
  "language_info": {
   "codemirror_mode": {
    "name": "ipython",
    "version": 3
   },
   "file_extension": ".py",
   "mimetype": "text/x-python",
   "name": "python",
   "nbconvert_exporter": "python",
   "pygments_lexer": "ipython3",
   "version": "3.6.4"
  }
 },
 "nbformat": 4,
 "nbformat_minor": 2
}

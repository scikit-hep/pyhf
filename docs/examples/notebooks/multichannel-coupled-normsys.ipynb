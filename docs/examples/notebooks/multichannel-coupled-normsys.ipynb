{
 "cells": [
  {
   "cell_type": "markdown",
   "metadata": {},
   "source": [
    "# Multibin Coupled NormSys"
   ]
  },
  {
   "cell_type": "code",
   "execution_count": 1,
   "metadata": {},
   "outputs": [
    {
     "name": "stdout",
     "output_type": "stream",
     "text": [
      "Populating the interactive namespace from numpy and matplotlib\n"
     ]
    }
   ],
   "source": [
    "%pylab inline"
   ]
  },
  {
   "cell_type": "code",
   "execution_count": 2,
   "metadata": {},
   "outputs": [],
   "source": [
    "import pyhf\n",
    "import logging\n",
    "\n",
    "logging.basicConfig(level=logging.INFO)\n",
    "from pyhf import Model\n",
    "\n",
    "\n",
    "def prep_data(sourcedata):\n",
    "    spec = {\n",
    "        'signal': {\n",
    "            'signal': {\n",
    "                'data': sourcedata['signal']['bindata']['sig'],\n",
    "                'mods': [{'name': 'mu', 'type': 'normfactor', 'data': None}],\n",
    "            },\n",
    "            'bkg1': {\n",
    "                'data': sourcedata['signal']['bindata']['bkg1'],\n",
    "                'mods': [\n",
    "                    {\n",
    "                        'name': 'coupled_normsys',\n",
    "                        'type': 'normsys',\n",
    "                        'data': {'lo': 0.9, 'hi': 1.1},\n",
    "                    }\n",
    "                ],\n",
    "            },\n",
    "            'bkg2': {\n",
    "                'data': sourcedata['signal']['bindata']['bkg2'],\n",
    "                'mods': [\n",
    "                    {\n",
    "                        'name': 'coupled_normsys',\n",
    "                        'type': 'normsys',\n",
    "                        'data': {'lo': 0.5, 'hi': 1.5},\n",
    "                    }\n",
    "                ],\n",
    "            },\n",
    "        },\n",
    "        'control': {\n",
    "            'background': {\n",
    "                'data': sourcedata['control']['bindata']['bkg1'],\n",
    "                'mods': [\n",
    "                    {\n",
    "                        'name': 'coupled_normsys',\n",
    "                        'type': 'normsys',\n",
    "                        'data': {'lo': 0.9, 'hi': 1.1},\n",
    "                    }\n",
    "                ],\n",
    "            }\n",
    "        },\n",
    "    }\n",
    "    pdf = Model(spec)\n",
    "    data = []\n",
    "    for c in pdf.config.channel_order:\n",
    "        data += sourcedata[c]['bindata']['data']\n",
    "    data = data + pdf.config.auxdata\n",
    "    return data, pdf"
   ]
  },
  {
   "cell_type": "code",
   "execution_count": 3,
   "metadata": {
    "scrolled": false
   },
   "outputs": [
    {
     "name": "stderr",
     "output_type": "stream",
     "text": [
      "INFO:pyhf:adding modifier coupled_normsys (1 new nuisance parameters)\n",
      "INFO:pyhf:adding modifier mu (1 new nuisance parameters)\n",
      "INFO:pyhf:accepting existing normsys\n",
      "INFO:pyhf:accepting existing normsys\n"
     ]
    },
    {
     "name": "stdout",
     "output_type": "stream",
     "text": [
      "[105.0, 220.0, 110.0, 105.0, 0]\n",
      "UNCON [-0.71800968  1.4972384 ]\n",
      "CONS [-0.08242659  0.        ]\n"
     ]
    },
    {
     "data": {
      "text/plain": [
       "array([  1.46358696e+02,   1.93582082e+02,   9.91353093e+01,\n",
       "         9.91353093e+01,  -8.24265938e-02])"
      ]
     },
     "execution_count": 3,
     "metadata": {},
     "output_type": "execute_result"
    }
   ],
   "source": [
    "source = {\n",
    "    \"channels\": {\n",
    "        \"signal\": {\n",
    "            \"binning\": [2, -0.5, 1.5],\n",
    "            \"bindata\": {\n",
    "                \"data\": [105.0, 220.0],\n",
    "                \"bkg1\": [100.0, 100.0],\n",
    "                \"bkg2\": [50.0, 100.0],\n",
    "                \"sig\": [10.0, 35.0],\n",
    "            },\n",
    "        },\n",
    "        \"control\": {\n",
    "            \"binning\": [2, -0.5, 1.5],\n",
    "            \"bindata\": {\"data\": [110.0, 105.0], \"bkg1\": [100.0, 100.0]},\n",
    "        },\n",
    "    }\n",
    "}\n",
    "\n",
    "\n",
    "d, pdf = prep_data(source['channels'])\n",
    "\n",
    "print(d)\n",
    "\n",
    "init_pars = pdf.config.suggested_init()\n",
    "par_bounds = pdf.config.suggested_bounds()\n",
    "\n",
    "unconpars = pyhf.unconstrained_bestfit(d, pdf, init_pars, par_bounds)\n",
    "print('UNCON', unconpars)\n",
    "\n",
    "conpars = pyhf.constrained_bestfit(0.0, d, pdf, init_pars, par_bounds)\n",
    "print('CONS', conpars)\n",
    "\n",
    "pdf.expected_data(conpars)"
   ]
  },
  {
   "cell_type": "code",
   "execution_count": 4,
   "metadata": {
    "scrolled": false
   },
   "outputs": [
    {
     "name": "stderr",
     "output_type": "stream",
     "text": [
      "/home/mcf/anaconda3/lib/python3.5/site-packages/pyhf-0.0.3-py3.5.egg/pyhf/__init__.py:403: RuntimeWarning: divide by zero encountered in double_scalars\n"
     ]
    },
    {
     "data": {
      "text/plain": [
       "{'exp': [1.030070815690828,\n",
       "  1.3534848903845373,\n",
       "  1.8221856336048998,\n",
       "  2.437474640200779,\n",
       "  3.129496795556999],\n",
       " 'obs': 2.687307803283854}"
      ]
     },
     "execution_count": 4,
     "metadata": {},
     "output_type": "execute_result"
    },
    {
     "data": {
      "image/png": "[encoded data removed]",
      "text/plain": [
       "<matplotlib.figure.Figure at 0x7fb5165b7668>"
      ]
     },
     "metadata": {},
     "output_type": "display_data"
    }
   ],
   "source": [
    "def plot_results(testmus, cls_obs, cls_exp, test_size=0.05):\n",
    "    plt.plot(mutests, cls_obs, c='k')\n",
    "    for i, c in zip(range(5), ['grey', 'grey', 'grey', 'grey', 'grey']):\n",
    "        plt.plot(mutests, cls_exp[i], c=c)\n",
    "    plt.plot(testmus, [test_size] * len(testmus), c='r')\n",
    "    plt.ylim(0, 1)\n",
    "\n",
    "\n",
    "def invert_interval(testmus, cls_obs, cls_exp, test_size=0.05):\n",
    "    point05cross = {'exp': [], 'obs': None}\n",
    "    for cls_exp_sigma in cls_exp:\n",
    "        yvals = [x for x in cls_exp_sigma]\n",
    "        point05cross['exp'].append(\n",
    "            np.interp(test_size, list(reversed(yvals)), list(reversed(testmus)))\n",
    "        )\n",
    "\n",
    "    yvals = cls_obs\n",
    "    point05cross['obs'] = np.interp(\n",
    "        test_size, list(reversed(yvals)), list(reversed(testmus))\n",
    "    )\n",
    "    return point05cross\n",
    "\n",
    "\n",
    "pyhf.runOnePoint(1.0, d, pdf, init_pars, par_bounds)[-2:]\n",
    "\n",
    "\n",
    "mutests = np.linspace(0, 5, 61)\n",
    "tests = [\n",
    "    pyhf.runOnePoint(muTest, d, pdf, init_pars, par_bounds)[-2:] for muTest in mutests\n",
    "]\n",
    "cls_obs = [test[0] for test in tests]\n",
    "cls_exp = [[test[1][i] for test in tests] for i in range(5)]\n",
    "\n",
    "plot_results(mutests, cls_obs, cls_exp)\n",
    "\n",
    "invert_interval(mutests, cls_obs, cls_exp)"
   ]
  }
 ],
 "metadata": {
  "kernelspec": {
   "display_name": "Python 3",
   "language": "python",
   "name": "python3"
  },
  "language_info": {
   "codemirror_mode": {
    "name": "ipython",
    "version": 3
   },
   "file_extension": ".py",
   "mimetype": "text/x-python",
   "name": "python",
   "nbconvert_exporter": "python",
   "pygments_lexer": "ipython3",
   "version": "3.6.4"
  }
 },
 "nbformat": 4,
 "nbformat_minor": 2
}

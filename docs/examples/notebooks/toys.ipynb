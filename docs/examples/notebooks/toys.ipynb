{
 "cells": [
  {
   "cell_type": "code",
   "execution_count": 1,
   "metadata": {},
   "outputs": [],
   "source": [
    "import numpy as np\n",
    "import matplotlib.pyplot as plt\n",
    "import pyhf"
   ]
  },
  {
   "cell_type": "code",
   "execution_count": 2,
   "metadata": {},
   "outputs": [],
   "source": [
    "np.random.seed(0)"
   ]
  },
  {
   "cell_type": "markdown",
   "metadata": {},
   "source": [
    "# Running Monte Carlo simulations (toys)\n",
    "\n",
    "Finding the (expected) significance can involve costly Monte Carlo calculations (\"toys\"). The asymptotic approximation described in the paper by Cowan, Cranmer, Gross, Vitells: *Asymptotic formulae for likelihood-based tests of new physics* [[arXiv:1007.1727](https://arxiv.org/abs/1007.1727)] provides an alternative to these computationally expensive toy calculations.\n",
    "\n",
    "This notebook demonstrates a reproduction of one of the key plots in the paper using `pyhf`.\n",
    "\n",
    "![Figure 5 from arXiv:1007.1727 for background-only ($mu=0$) and background+signal ($mu=1$) are shown for two different test statistics, comparing the asymptotic and toy calculations.](img/1007.1727.fig5.png)\n",
    "\n",
    "## Counting Experiment\n",
    "\n",
    "Consider a counting experiment where one observes $n$ events, following a Poisson distribution with expectation value\n",
    "\n",
    "$$\n",
    "E[n] = \\mu s + b \n",
    "$$\n",
    "\n",
    "with $s$ expected signal events and $b$ expected background events, and signal strength parameter $\\mu$. Follow up in the paper to understand more of the math behind this as the notation is being introduced here. What we will show is the distribution of the (alternative) test statistic $q_1$ ($\\tilde{q}_1$) calculated under the assumption of the nominal signal model $(\\mu=1)$ for data corresponding to the strength parameter of the background-only $(\\mu' = 0)$ and signal+background $(\\mu' = 1)$ model hypotheses.\n",
    "\n",
    "The first thing we will do is set up the `pyhf` model with $s=6$ signal events and $b=9$ background events (adding a Poisson uncertainty on the background)."
   ]
  },
  {
   "cell_type": "code",
   "execution_count": 3,
   "metadata": {},
   "outputs": [
    {
     "name": "stdout",
     "output_type": "stream",
     "text": [
      "Channels: ['singlechannel']\n",
      "Samples: ['background', 'signal']\n",
      "Parameters: ['mu', 'uncorr_bkguncrt']\n"
     ]
    }
   ],
   "source": [
    "signal = 6\n",
    "background = 9\n",
    "background_uncertainty = 3\n",
    "model = pyhf.simplemodels.hepdata_like([signal], [background], [background_uncertainty])\n",
    "print(f\"Channels: {model.config.channels}\")\n",
    "print(f\"Samples: {model.config.samples}\")\n",
    "print(f\"Parameters: {model.config.parameters}\")"
   ]
  },
  {
   "cell_type": "markdown",
   "metadata": {},
   "source": [
    "This is a single channel with two samples: `signal` and `background`. `mu` here is the signal strength. Next, we need to define the p.d.f.s for $\\mu'=0$ and $\\mu'=1$."
   ]
  },
  {
   "cell_type": "code",
   "execution_count": 4,
   "metadata": {},
   "outputs": [
    {
     "name": "stdout",
     "output_type": "stream",
     "text": [
      "Background parameters: [('mu', 0.0), ('uncorr_bkguncrt', 1.0)]\n",
      "Signal parameters: [('mu', 1.0), ('uncorr_bkguncrt', 1.0)]\n"
     ]
    }
   ],
   "source": [
    "# mu' = 0: background-only\n",
    "pars_bkg = model.config.suggested_init()\n",
    "pars_bkg[model.config.poi_index] = 0.0\n",
    "print(f\"Background parameters: {list(zip(model.config.parameters, pars_bkg))}\")\n",
    "\n",
    "# mu' = 1: background+signal\n",
    "pars_sig = model.config.suggested_init()\n",
    "pars_sig[model.config.poi_index] = 1.0\n",
    "print(f\"Signal parameters: {list(zip(model.config.parameters, pars_sig))}\")\n",
    "\n",
    "# make the pdfs\n",
    "pdf_bkg = model.make_pdf(pyhf.tensorlib.astensor(pars_bkg))\n",
    "pdf_sig = model.make_pdf(pyhf.tensorlib.astensor(pars_sig))"
   ]
  },
  {
   "cell_type": "markdown",
   "metadata": {},
   "source": [
    "### Running Toys by Hand\n",
    "\n",
    "Now that we've built our pdfs, we can go ahead and randomly (Monte Carlo) sample them. In this case, we want to \"run 2,000 pseudo-experiments\" (or \"throw toys\" as particle physicists would say). This means to draw $N=2000$ samples from the pdfs:"
   ]
  },
  {
   "cell_type": "code",
   "execution_count": 5,
   "metadata": {},
   "outputs": [
    {
     "name": "stdout",
     "output_type": "stream",
     "text": [
      "(2000, 2)\n",
      "(2000, 2)\n"
     ]
    }
   ],
   "source": [
    "# note: pdf.sample takes in a \"shape\" N=(2000,) given the number of samples\n",
    "n_samples = 2000\n",
    "\n",
    "# mu' = 0\n",
    "mc_bkg = pdf_bkg.sample((n_samples,))\n",
    "# mu' = 1\n",
    "mc_sig = pdf_sig.sample((n_samples,))\n",
    "\n",
    "print(mc_bkg.shape)\n",
    "print(mc_sig.shape)"
   ]
  },
  {
   "cell_type": "markdown",
   "metadata": {},
   "source": [
    "You'll notice that the shape for `mc_bkg` and `mc_sig` is not the input shape we passed in `(2000,)` but rather `(2000,2)`! Why is that? The HistFactory model is a product of many separate pdfs: Poissons representing the main model, and Gaussians representing the auxiliary measurements. In `pyhf`, this is represented under the hood as a [`Simultaneous`](https://scikit-hep.org/pyhf/_generated/pyhf.probability.Simultaneous.html) pdf of the main model and the auxiliary model &mdash; hence the second dimension.\n",
    "\n",
    "So now we can go ahead and calculate the test statistic distributions for $\\tilde{q}_1$ given $\\mu'=0$ and $\\mu'=1$. This inference step (running the toys) will take some time:"
   ]
  },
  {
   "cell_type": "code",
   "execution_count": 6,
   "metadata": {},
   "outputs": [],
   "source": [
    "qtilde_bkg = pyhf.tensorlib.astensor(\n",
    "    [pyhf.infer.qmu(1.0, mc, model, None, None) for mc in mc_bkg]\n",
    ")\n",
    "qtilde_sig = pyhf.tensorlib.astensor(\n",
    "    [pyhf.infer.qmu(1.0, mc, model, None, None) for mc in mc_sig]\n",
    ")"
   ]
  },
  {
   "cell_type": "markdown",
   "metadata": {},
   "source": [
    "### Running Toys using Calculators\n",
    "\n",
    "However, as you can see, a lot of this is somewhat cumbersome as you need to carry around two pieces of information: one for background-like and one for signal-like. Instead, `pyhf` provides a statistics calculator API that both simplifies and harmonizes some of this work for you.\n",
    "\n",
    "This calculator API allows you to:\n",
    "\n",
    "- compute a test statistic for the observed data\n",
    "- provide distributions of that test statistic under various hypotheses\n",
    "\n",
    "These provided distributions additionally have extra functionality to compute a *p*-value for the observed test statistic.\n",
    "\n",
    "For now, we will create a toy-based calculator and evaluate it for data expected if the the nominal signal+background model hypothesis were true ($\\mu=1.0$). This will compute $\\tilde{q}_1$."
   ]
  },
  {
   "cell_type": "code",
   "execution_count": 7,
   "metadata": {},
   "outputs": [
    {
     "name": "stderr",
     "output_type": "stream",
     "text": [
      "                                                                      \r"
     ]
    }
   ],
   "source": [
    "toy_calculator_qtilde = pyhf.infer.utils.create_calculator(\n",
    "    \"toybased\", model.expected_data(model.config.suggested_init()), model, ntoys=n_samples\n",
    ")\n",
    "qtilde_sig, qtilde_bkg = toy_calculator_qtilde.distributions(1.0)"
   ]
  },
  {
   "cell_type": "markdown",
   "metadata": {},
   "source": [
    "To compute $q_1$, we just need to alleviate the bounds to allow for $\\mu$ (the parameter of interest) to go below zero. Right now, it is set to the default for `normfactor` which is `[0,10]` &mdash; a very sensible default most of the time. But if the $\\hat{\\mu}$ (the maximum likelihood estimator for $\\mu$) for our model is truly negative, then we should allow the fit to scan negative $\\mu$ values as well."
   ]
  },
  {
   "cell_type": "code",
   "execution_count": 8,
   "metadata": {},
   "outputs": [
    {
     "name": "stdout",
     "output_type": "stream",
     "text": [
      "Old bounds: [(0, 10), (1e-10, 10.0)]\n",
      "New bounds: [(-10, 10), (1e-10, 10.0)]\n"
     ]
    }
   ],
   "source": [
    "bounds = model.config.suggested_bounds()\n",
    "print(f\"Old bounds: {bounds}\")\n",
    "bounds[model.config.poi_index] = (-10, 10)\n",
    "print(f\"New bounds: {bounds}\")"
   ]
  },
  {
   "cell_type": "markdown",
   "metadata": {},
   "source": [
    "And then run the toys"
   ]
  },
  {
   "cell_type": "code",
   "execution_count": 9,
   "metadata": {},
   "outputs": [
    {
     "name": "stderr",
     "output_type": "stream",
     "text": [
      "Signal-like:   0%|          | 0/2000 [00:00<?, ?toy/s]/Users/jovyan/pyhf/src/pyhf/tensor/numpy_backend.py:253: RuntimeWarning: invalid value encountered in log\n",
      "  return n * np.log(lam) - lam - gammaln(n + 1.0)\n",
      "                                                                      \r"
     ]
    }
   ],
   "source": [
    "toy_calculator_qmu = pyhf.infer.utils.create_calculator(\n",
    "    \"toybased\",\n",
    "    model.expected_data(model.config.suggested_init()),\n",
    "    model,\n",
    "    par_bounds=bounds,\n",
    "    ntoys=n_samples,\n",
    ")\n",
    "qmu_sig, qmu_bkg = toy_calculator_qmu.distributions(1.0)"
   ]
  },
  {
   "cell_type": "markdown",
   "metadata": {},
   "source": [
    "Now that we've ran the toys, we can make the key plots 🙂."
   ]
  },
  {
   "cell_type": "code",
   "execution_count": 10,
   "metadata": {},
   "outputs": [
    {
     "data": {
      "image/png": "[encoded data removed]",
      "text/plain": [
       "<Figure size 1008x432 with 2 Axes>"
      ]
     },
     "metadata": {
      "needs_background": "light"
     },
     "output_type": "display_data"
    }
   ],
   "source": [
    "plt.rcParams.update({\"font.size\": 14})\n",
    "\n",
    "fig, axes = plt.subplots(nrows=1, ncols=2)\n",
    "for ax in axes:\n",
    "    ax.set_xticks(np.arange(0, 10))\n",
    "ax0, ax1 = axes.flatten()\n",
    "\n",
    "bins = np.linspace(0, 10, 26)\n",
    "\n",
    "ax0.hist(\n",
    "    qmu_sig.samples,\n",
    "    bins=bins,\n",
    "    histtype=\"step\",\n",
    "    density=True,\n",
    "    label=\"$f(q_1|1)$ signal-like\",\n",
    "    linewidth=2,\n",
    ")\n",
    "ax0.hist(\n",
    "    qmu_bkg.samples,\n",
    "    bins=bins,\n",
    "    histtype=\"step\",\n",
    "    density=True,\n",
    "    label=\"$f(q_1|0)$ background-like\",\n",
    "    linewidth=2,\n",
    ")\n",
    "ax0.set_xlabel(r\"(a) $q_1$\", fontsize=18)\n",
    "ax0.set_ylabel(r\"$f\\,(q_1|\\mu')$\", fontsize=18)\n",
    "ax0.set_title(r\"Test statistic $(q_1)$ distributions\")\n",
    "ax0.legend()\n",
    "\n",
    "ax1.hist(\n",
    "    qtilde_sig.samples,\n",
    "    bins=bins,\n",
    "    histtype=\"step\",\n",
    "    density=True,\n",
    "    label=r\"$f(\\tilde{q}_1|1)$ signal-like\",\n",
    "    linewidth=2,\n",
    ")\n",
    "ax1.hist(\n",
    "    qtilde_bkg.samples,\n",
    "    bins=bins,\n",
    "    histtype=\"step\",\n",
    "    density=True,\n",
    "    label=r\"$f(\\tilde{q}_1|0)$ background-like\",\n",
    "    linewidth=2,\n",
    ")\n",
    "ax1.set_xlabel(r\"(b) $\\tilde{q}_1$\", fontsize=18)\n",
    "ax1.set_ylabel(r\"$f\\,(\\tilde{q}_1|\\mu')$\", fontsize=18)\n",
    "ax1.set_title(r\"Alternative test statistic $(\\tilde{q}_1)$ distributions\")\n",
    "ax1.legend()\n",
    "\n",
    "\n",
    "plt.setp(axes, xlim=(0, 9), ylim=(1e-3, 2), yscale=\"log\")\n",
    "fig.set_size_inches(14, 6)\n",
    "fig.tight_layout(pad=2.0)"
   ]
  }
 ],
 "metadata": {
  "kernelspec": {
   "display_name": "Python 3",
   "language": "python",
   "name": "python3"
  },
  "language_info": {
   "codemirror_mode": {
    "name": "ipython",
    "version": 3
   },
   "file_extension": ".py",
   "mimetype": "text/x-python",
   "name": "python",
   "nbconvert_exporter": "python",
   "pygments_lexer": "ipython3",
   "version": "3.7.5"
  },
  "widgets": {
   "application/vnd.jupyter.widget-state+json": {
    "state": {
     "00734572c9b14d4bb05151197307ec05": {
      "model_module": "@jupyter-widgets/base",
      "model_module_version": "1.1.0",
      "model_name": "LayoutModel",
      "state": {}
     },
     "0119a8a68a6c43919c0a9beeffe5e61f": {
      "model_module": "@jupyter-widgets/base",
      "model_module_version": "1.1.0",
      "model_name": "LayoutModel",
      "state": {}
     },
     "01e50bc763ed4f94af8f7601237f5788": {
      "model_module": "@jupyter-widgets/base",
      "model_module_version": "1.1.0",
      "model_name": "LayoutModel",
      "state": {}
     },
     "02287564b426420a8937b34cc0c109a2": {
      "model_module": "@jupyter-widgets/output",
      "model_module_version": "1.0.0",
      "model_name": "OutputModel",
      "state": {
       "layout": "IPY_MODEL_9c2066ef6f9d434c8c64580d114587e6",
       "outputs": [
        {
         "data": {
          "image/png": "iVBORw0KGgoAAAANSUhEUgAAAXoAAAD8CAYAAAB5Pm/hAAAABHNCSVQICAgIfAhkiAAAAAlwSFlzAAALEgAACxIB0t1+/AAAADl0RVh0U29mdHdhcmUAbWF0cGxvdGxpYiB2ZXJzaW9uIDIuMi4yLCBodHRwOi8vbWF0cGxvdGxpYi5vcmcvhp/UCwAAHQtJREFUeJzt3X2QXNV55/HvM9JIQhjNWC8ZhMSosVEZ7FWMvbPYsV0uG1WyQORAFQ5L3BhEUTV/xK4S5M0iU2XL2FORK7URpMiyNRs7llJDgDKwKBTrDSUry+6yJpFsJ7IivBYwM0jRO8wAO+hlpGf/6NtSj+benu6Z2327T/8+VarpPn2n+1zoefr0c59zjrk7IiISrrasOyAiIrWlQC8iEjgFehGRwCnQi4gEToFeRCRwCvQiIoFToBcRCZwCvYhI4BToRUQCNzfrDgAsXbrUc7lc1t0QEWkqu3fvPu7uy6Y7riECfS6XY9euXVl3Q0SkqZjZcCXHKXUjIhI4BXoRkcAp0IuIBE6BXkQkcAr0IiKBU6AXEQlcRYHezIbMbI+Z/czMdkVti83sBTP7ZfTz/VG7mdmfm9l+M/tnM/t4LU9ARETKq2ZE/3l3v87de6L7G4Ed7r4a2BHdB7gJWB396wUeTauzIiJSvdmkbm4Btka3twK3lrRv84IfA51mtnwWryMiIrNQaaB34O/MbLeZ9UZtXe5+KLp9GOiKbq8A3ij53QNR2yRm1mtmu8xs17Fjx2bQdRERqUSlSyB8xt0PmtmvAC+Y2SulD7q7m5lX88LuPgAMAPT09FT1uyIiUrmKRvTufjD6eRR4BrgeOFJMyUQ/j0aHHwSuLPn1lVGbiIhkYNpAb2aXmtllxdvAbwA/B7YDd0eH3Q08G93eDtwVVd98EhgrSfGIiEidVZK66QKeMbPi8Y+5+w/N7B+BJ83sXmAYuD06/nngZmA/MA7ck3qvRUSkYtMGend/DfhoTPsJYG1MuwNfSaV3IiIya5oZKyISOAV6EZHAKdCLiAROgV5EJHAK9CIigVOgFxEJnAK9iEjgFOhFRAKnQC8iEjgFehGRwFW6TLGI1Mi+a66Nbb/2lX117omESiN6EZHAKdCLiAROgV5EJHDK0Ys0KOXuJS0a0YuIBE6BXkQkcAr0IiKBU45eJGO3PxD/Z/jkn0zUuScSKo3oRUQCpxG9SMb2vD4S277mge7442vZGQmSAr1Ig0r6ABCpllI3IiKBU6AXEQmcAr2ISOAU6EVEAqdALyISOAV6EZHAqbxSpE4SV6O8o84dkZajEb2ISOA0ohdpMlqnXqqlEb2ISOAqDvRmNsfMfmpmz0X3rzKzl81sv5k9YWbzovb50f390eO52nRdREQqUU3qZgOwD1gU3f8OsMXdHzez/wzcCzwa/XzL3a82szui4/5Din0WaWlJyxprsTNJUlGgN7OVwG8C/cDvmZkBNwBfig7ZCmyiEOhviW4D/AB4xMzM3T29bou0Li12JtWqNHXzEPBHwLno/hJg1N2LOyMcAFZEt1cAbwBEj49Fx4uISAamDfRmtg446u6703xhM+s1s11mtuvYsWNpPrWIiJSoZET/aeC3zGwIeJxCyuZhoNPMiqmflcDB6PZB4EqA6PEO4MTFT+ruA+7e4+49y5Ytm9VJiIhIsmkDvbs/4O4r3T0H3AH8yN3zwE7gi9FhdwPPRre3R/eJHv+R8vMiItmZTR391yhcmN1PIQf/3aj9u8CSqP33gI2z66KIiMxGVTNj3f3vgb+Pbr8GXB9zzEngt1Pom0hQEssiX69zR6TlaGasiEjgFOhFRAKnQC8iEjitXilSJ5rRKlnRiF5EJHAK9CIigVOgFxEJnAK9iEjgFOhFRAKnqhuRlCXu6XpHnTsiEtGIXkQkcBrRiwQi8ZvEK/vq3BNpNBrRS9MbHBwkl8vR1tZGLpdjcHAw6y6JNBSN6KWpDQ4O0tvby/j4OADDw8P09vYCkM/ns+xa3V17x79m3QVpUBrRS1Pr6+s7H+SLxsfH6evry6hHIo1HgV4yk0bKZWQkfv2YpHaRVqRAL5koplyGh4dx9/Mpl2qDfXd3d1XtIq1IgV4y8Yfr16eScunv72fhwoWT2hYuXEh/f/+s+ygSCgV6qbm4FM3hiYnYY0eGh/nT5VdwRXs7bWZc0d7Ony6/IvG58/k8AwMDrFq1CjNj1apVDAwMtNyFWJFyzN2z7gM9PT2+a9eurLshNXBxVQwURtzzTp5k9Ny5Kcd3mHEKOFnyvlxgxoNdl7Ouo2PK8Y1YI548MzajqphNY9m8rtScme12957pjtOIXlITN3JPqopxdxaYTWpfYIaZTQryUAj6W44fq3n/RUKlQC+pSLq4Ojw8HHv82+482HU5y+fOxYDlc+fyYNfljMWM8oHEVI+ITE8TpiQVSSP3OXPmcPbs2SnHXz53Lus6OqakY7YcP8ahmKB++Vy9VUVmSiN6SUVS3frZs2djq2LuX7os9vj7ly6LTencv3QZz42NsfbV/XzkF6+w9tX9PDem3LNIJRToJRVJdevFKpiLq2LiLqwCrOvoiE3pAHz9yGEOTUzgwKGJCb5+5LDWtRGpgKpuJBVJ1TWbFk1Nz8zE2lf3x6Z0ls+dy44PXj2lPctqHFXdSL1UWnWjxKekoli33tfXx8jICN3d3fT39/Pxb307ledPuhib5UXapIAu0miUupHU5PN5hoaGOHfuHENDQ6lOWkq6GKuLtCLT01+JNIX7ly7j60cOT5lIlXRRN8tNOG5/IP7Pas/rNX9pkVga0UtTSLpIm0b+XyRtjbYZjkb0kop65Kvj6u5letpisL4acTMcBXoJ1nNjY2w5fozDExNcPncu9y9dRitePk1MJdW5H62i3GY4WQX6aVM3ZrbAzP7BzP7JzPaa2Tej9qvM7GUz229mT5jZvKh9fnR/f/R4rranIPXWaF9L4zw3NpZYd1/r/u95fST2X1YarT/Nptr3SyNuhlNJjv4UcIO7fxS4DrjRzD4JfAfY4u5XA28B90bH3wu8FbVviY6TQCStadNos1S3HD8Wuzjahg0bUtnwRBpfGh/oVW+Qs6mD7kXxD2W5Gc60gd4L3o3utkf/HLgB+EHUvhW4Nbp9S3Sf6PG1ZhfNaZemlfS1tNFWl0yqrz9x4oT2mG0Bae1gNpM9ifvXzmdh++S2he1kuhlORTl6M5sD7AauBv4CeBUYdffiX9MBYEV0ewXwBoC7T5jZGLAEOJ5ivyUjSV8/G211ycvnzo2dSZtEe8yGpeo8+ab4i/wjI+/Etw8PJ/5Ofs28Qh92nGJkzOnuMPrXzs90M5yKAr27nwWuM7NO4Bngmtm+sJn1Ar2g/T2byeVz5jTF6pJJdfeXLl7MiRMnphyv92BYEvPkZQJ0nO7u7tiltrs7yicp8mvmnQ/4jaCqOnp3HwV2Ar8GdJpZ8a97JXAwun0QuBIgerwDmPKX5e4D7t7j7j3LlsVPepHGU251yUaSVHf/8MMPa4/ZFpC4afw0AfpiiXsSr53P4J7T5B56h7Zvvk3uoXcY3HN6xv2ttWmHYWa2DDjj7qNmdgnw6xQusO4Evgg8DtwNPBv9yvbo/v+JHv+RN8LKaZKKYh37xWWLjVjfHld3f23CmjxJX6u1nk1z6u/vj11kr39t/MY2SfK//F248Rx9O6wkDVN4jt6/Pcn4mcJxw2NO79+eLPxO0kg+6ZtEHRadm3b1SjP7VQoXV+dQ+AbwpLs/aGYfoBDkFwM/Be5091NmtgD4a+BjwJvAHe7+WrnX0OqVzaPZA1/SJKE0zyuzVSqrFfiqlsWtLCd9oP/yd1N57txD7zA8NjV2ruowhu67rLonm8X/h9RWr3T3f6YQtC9ufw24Pqb9JPDbFfZTpGHETbBqxG8qUpl8Pj/1m9qm5EA/uOf01AuoCaPzkZggX6697GuUP41UNNYVNJGMFCdYFS/eFidYAQr2jSyldMjgntNVpWK6Oyx2RF/uGkDiawwO1rwiR4uatbhyk0qaYQZstfZdc23sv6QJVo02P0Bqo2/HqfMBuGj8TKE9TmKt/Nr51b9GHeZwKNC3sHKTSpplBmxaGnFjk1aVxQCj2lRMfs08Br6wgFUdhlHIzQ98YUHZksrE16jDHA6lblrYdLP+YmfAnj4dZCojaYJVo80PCF1WKz/OJBVTba184mvUYQ6HRvQtrNziSyMxk0Qg3BFus8wPCN1MlhyItakj/l+CmaRiqpXl0ggK9C0scVJJd3fLbd2njU0aQ7nBRy1TOjNJxaT2GnVYGmHaOvp6UB19Ni7+mgyFSSUDAwP86x/8YewSAgp+02uaOvokGdbX53K52CUHllwC700w6WLmwnZSD8aZqEMdvUb0LSyfzzMwMMCqVaswM1atWsXAwAD5fF4jXElNNSPxpCUHgKqqYmQyBfoWl8/nGRoa4ty5cwwNDU36Grmuo4MdH7yavR+6hh0fvFpBXqpOn1S7XHDS4OPN9+Kff2TMm2rNmawodSOxmn2pgyyFmropl+pLyjMnpWJWrVrF0NBQxV3KdbbFVqzMJKVTzQzYulDqRkQaxUwqYpKqt6qtHU+qWIHqUjrF2anDY45zYXZq6N8CwiyhEKmDxE23X69zR+pkJnuhlqsdr2bRsaTNPL789Mn4PiVMTio3A7bpL+qWoRF9YEJctkAaQ7ly3CRJI/Gbb745PndfZmSdXzOPofsu49w3FjF032Xk18xLnNCU1D7TxcianUb0ASk3qxCmrsH+8W99O6uuSiNLmFjU3/+f4td4LzPhJ2kk3vf88/FpoB1W1ci6f+38SQuFQfmJTjOZARsCBfqAJOVQN2zYwHvvvTflA2DToqkbc4gkyVe5acv534tZKuDLTyfk7qscWSfuz5rwYVHtB0MoFOgDkpQrjdsjNeR1a5pN7uRjVR0/tOBLNerJ9GLXeJ+BNEfW1aw5U+0HQygU6AOStJFxklDXramFuE1JYEnW3WpaWY6sG23j7nrQxdiAJM0qXLIkPiCFum5N2oqbkhyamMC5sCnJxu372bh9P+9s2Mve9T/nnQ172bh9f9bdzUw1hQD1WFtGLtBfekCScqhA7EW0+xcpbVOJpE1JNvy3k5Mm61S0QXSgBm+7ZPLuScPD9N5zJ5QJ3q04ss6KZsa2gH3XXKv9UGfhI794hWr+SqrdILqZcvRJUt0su9U0wubgEoZ1HaqwmamkTUmShF6THadV69ObhQJ9QLQ+TW3cv3RZ7JLNly5wTsQsthV6TXacVq1Pbxa6GCsyjaQlmx++aUHNdyVqFvXYoUlmTiN6kQrEpb6uXfP/gMaqya52Zca0VnJs1fr0ZqFALzILjVQ5UlyZsdIqoGqPn04j/beQyZS6EQlEuZUZ0zhempcCvUgNZLHrUbWVL+XatWtTWJS6aXBxa3Zr1cnGlmZK5N29Oxl9cRtn3z7OnEVL6fzsXfBv44+ttvIl6fjFl5BqSkeypxF9A0vab/O5sZlPsJDaSysl8u7enbz5w0c4+/YxwDn79jHe/OEjiaPraitf0tq1SRqfAn0DS1p2eMvxYxn1SCqR1uSh0Re34ROTg6tPnEoMuNWuH5N0fLmNuKU5KXXTwJKWHT48MaElDRpYuRRKXDkjq+Of5+zbx2PbywXcaitf4o7v23FKk58Co0DfwJKWHV5kNmmmZnE1RUDBPmVJ+8JC8t6wSUvw3rx6Tmzu+5J/v5P3feTzU55nzqKlUdpmsrZFy8id/Ksp7WmtgdOqm3OETKmbBpa07LCZxa6mqJROY0hKiQz83/fH5r5HX9wW+zydn70Lmzs5uNrc+XR+9i7e3buTA4/ew/B3vsCBR+/h3b07a95/XYhtXtOO6M3sSmAb0AU4MODuD5vZYuAJIAcMAbe7+1tmZsDDwM3AOLDe3X9Sm+6H7ePf+jabFnWw5fTpCymaRR187aK8fdGhiYnYEeiTf6INRuotLiVy59PxqZikFE1xlD+l6gZ484ePnM/fn79IO6+6/Var7b80r0pSNxPA77v7T8zsMmC3mb0ArAd2uPtmM9sIbAS+BtxEIeu4GvgE8Gj0U2Ygbur9luPHYldTbF/SPqVNGkdSKmbOoqWxZZTv+8jnz/8rdeDRexIu0iYH+rSWOpDmNG3qxt0PFUfk7v4OsA9YAdwCbI0O2wrcGt2+BdjmBT8GOs1seeo9b2H3L13GApt8YWyBGV23dWXUI6lEUipmwQf+XWwZZVI6ptqLtMW6/uExx7lwbUCToFpHVRdjzSwHfAx4Gehy90PRQ4cppHag8CHwRsmvHYjaDpW0YWa9QC8ULjq2smqXF962eQlLX5rDkaeOcObEGdqXtLP0ti46P9VZox5KGpJSMUlllKMvbqvqIm1SVUy5un6N6ltDxYHezN4HPAXc5+5vW8mI0t3dzKoqsnX3AWAACjtMVfO7IYorl9y2OXnz6c5PdVYc2JMqR5S7r7+4VMyJ5/4s9tikkXvnZ++alKOHwjeD/rXxgV6bgkhFgd7M2ikE+UF3fzpqPmJmy939UJSaORq1HwSuLPn1lVFby0sauRc3n764XHLpS3MyG6Xrw6F+yuXu4yR9M8iv+S+xx2tTEKmk6saA7wL73L106LEduBvYHP18tqT9q2b2OIWLsGMlKR6J0XfmOGdiyiWPPHWkpoG+XI14tb8T6gfAntfjJ62lKWmEXqywiRP3zQDiA73q4qWSv/RPA18G9pjZz6K2P6YQ4J80s3uBYeD26LHnKZRW7qdQXnlPqj1uYklB8sz6M/HtJ+LbJSxJI/S4/PxMaFMQmTbQu/v/ApK+462NOd6Br8yyXy2lfUl7bFBXuWTriB+hp0d18a1NSyA0gK7bujj4/YP46QvpG5vXXOWSrZbSEWkmCvQNoJiHLy2X7FK5ZF0lfVAlrWcj0kwU6BtENeWSIiLVUKCvs9GXRjVyF5G6UqCvo9GXRifl4s+cOMPB7xemGLRasFdOX6R+FOjr6MhTRyZdcAXw07Wvl8/STGr1RSRdWo++jpLq4lUvLyK1pOFWDazZuia2XfXyIpIFBfoaibvoGkK9fK1Vm+pJyunrGoDIBUrdVGhwcJBcLkdbWxu5XI7BwcHE9uJF1+LovfSi64r1K86P4NuXtLNi/Ypg8/Mi0hjMPfulSnt6enzXrl1ZdyPR4OAgvb29jJds4bdw4ULmf2I+o/97dMoIvW1eG2ffPTvledqXtPOh//ihuvRZ4lX7DSDNRc1yJx9L7bnipLU5uNTZprEZ/6qZ7Xb3numOU+qmAn19fZOCPMD4+Djj/2Mczk0+1k87Z09PDfKgi66NrB6rVIpkRYG+AiMjCUHgXHxzEl10zZ6WOpBWpEBfge7uboaHh6c+0EZssG+7tA0/47roKnWVlBpSSkcU6CvQ399fVY7+ivwVgBYpa1W1zsWLVEuBvgL5fB4o5OpHRkbo7u6mv7+fzRObuXT1pYkBXYFdRBqBAn2F8vn8+YBftHnrZq06KSINT4G+AkkzXUVEmoEmTImIBE6BXkQkcAr0IiKBU6AXEQmcAr2ISOAU6EVEAqfyyhIqoxSRECnQS5C0GqXIBQr0F4nbGUozX0WkmSnQlyjuDFVcpKx0ZygFexFpVroYW+LIU0cmrUQJhY1Ejjx1JKMeiYjMXsuN6MtdcE3aAUo7Q4lIM2u5QF9O+5L22KCunaEaly66ikwv6NTN4OAguVyOtrY2crkcg4ODZY/vuq0Lm2eT2rQzlIg0u2lH9Gb2PWAdcNTd/03Uthh4AsgBQ8Dt7v6WmRnwMHAzMA6sd/ef1Kbr5Q0ODk7aFWp4eJje3l4W37mYzk91lq2uUdWNiISkktTN94FHgG0lbRuBHe6+2cw2Rve/BtwErI7+fQJ4NPpZd319fZO2/gMYHx/nzFOF1Ey56hoF9sajFI3IzE2bunH3F4E3L2q+Bdga3d4K3FrSvs0Lfgx0mtnytDpbjZGR+MBw5sQZVdeISEuZaY6+y90PRbcPA8Uk9grgjZLjDkRtdTd3cfyXlaQLrqDqGhEJ06wvxrq7Az7tgRcxs14z22Vmu44dOzbbbkxR7sJqUhWNqmtEJEQzLa88YmbL3f1QlJo5GrUfBK4sOW5l1DaFuw8AAwA9PT1Vf1BMZ7oLq6U5elB1jVQvd/KxrLsgUpGZBvrtwN3A5ujnsyXtXzWzxylchB0rSfHUXdKFVVXXSCtJ+kAaWvClOvdEslJJeeXfAJ8DlprZAeAbFAL8k2Z2LzAM3B4d/jyF0sr9FMor76lBn1Oh6ppsqYpGpH6mDfTu/jsJD62NOdaBr8y2UyIikp6gZ8aKiEgAa91oVygRkfI0ohcRCVzTj+ilsemiq0j2FOglFQroIo1LqRsRkcAp0IuIBE6pG6mKUjQizSeIQF9uExERkVbX9IF+9KXRspuIiIi0uqYP9OU2EVGgnzmlaETC0fQXY7WJiIhIeU0f6LWJiIhIeU0f6MvtJCUiIgHk6LWJyMwpD9/atCFJ62j6QA/aRKQoKXCvuaq7zj0Jh7YLlBAEEeilPI3cRVpb0+foRUSkPI3om5BG6CJSDQX6BqaALiJpUKCvI10sFZEsKNA3AI3cRaSWdDFWRCRwCvQiIoFToBcRCZxy9LOg3LqINAMFehG01EEprYETHgX6Ehqhi0iIlKMXEQlcsCN6jc5FRAqaPtAroIuIlKfUjYhI4GoyojezG4GHgTnAX7r75lq8jki1VF0zc+X+26kip7GlPqI3sznAXwA3AR8GfsfMPpz264iISGVqMaK/Htjv7q8BmNnjwC3Av9TgtUSkAaj2vrHVItCvAN4ouX8A+EQNXkdEqZgGpw+AxpBZ1Y2Z9QK90d13zewXKTztUuB4Cs/TTFr8nNdl2pE6Cur/s1V2WFDnnOibk/5rVHvOqyo5qBaB/iBwZcn9lVHbJO4+AAyk+cJmtsvde9J8zkanc24NOufWUKtzrkV55T8Cq83sKjObB9wBbK/B64iISAVSH9G7+4SZfRX47xTKK7/n7nvTfh0REalMTXL07v488HwtnnsaqaaCmoTOuTXonFtDTc7Z3L0WzysiIg1CSyCIiAQumEBvZjea2S/MbL+Zbcy6P7VgZt8zs6Nm9vOStsVm9oKZ/TL6+f4s+5g2M7vSzHaa2b+Y2V4z2xC1B3neZrbAzP7BzP4pOt9vRu1XmdnL0fv7iajQIShmNsfMfmpmz0X3gz5nMxsysz1m9jMz2xW11eR9HUSgb6FlF74P3HhR20Zgh7uvBnZE90MyAfy+u38Y+CTwlej/bajnfQq4wd0/ClwH3GhmnwS+A2xx96uBt4B7M+xjrWwA9pXcb4Vz/ry7X1dSUlmT93UQgZ6SZRfc/TRQXHYhKO7+IvDmRc23AFuj21uBW+vaqRpz90Pu/pPo9jsUAsEKAj1vL3g3utse/XPgBuAHUXsw51tkZiuB3wT+MrpvBH7OCWryvg4l0Mctu7Aio77UW5e7H4puHwa6suxMLZlZDvgY8DIBn3eUwvgZcBR4AXgVGHX3ieiQEN/fDwF/BJyL7i8h/HN24O/MbHe0UgDU6H3d9BuPyAXu7mYWZBmVmb0PeAq4z93fLgz4CkI7b3c/C1xnZp3AM8A1GXeppsxsHXDU3Xeb2eey7k8dfcbdD5rZrwAvmNkrpQ+m+b4OZURf0bILgTpiZssBop9HM+5P6sysnUKQH3T3p6Pm4M/b3UeBncCvAZ1mVhyYhfb+/jTwW2Y2RCHtegOF/SxCPmfc/WD08yiFD/TrqdH7OpRA38rLLmwH7o5u3w08m2FfUhflar8L7HP3Pyt5KMjzNrNl0UgeM7sE+HUK1yV2Al+MDgvmfAHc/QF3X+nuOQp/uz9y9zwBn7OZXWpmlxVvA78B/Jwava+DmTBlZjdTyPMVl13oz7hLqTOzvwE+R2GFuyPAN4D/CjwJdAPDwO3ufvEF26ZlZp8B/iewhwv52z+mkKcP7rzN7FcpXISbQ2Eg9qS7P2hmH6Aw2l0M/BS4091PZdfT2ohSN3/g7utCPufo3J6J7s4FHnP3fjNbQg3e18EEehERiRdK6kZERBIo0IuIBE6BXkQkcAr0IiKBU6AXEQmcAr2ISOAU6EVEAqdALyISuP8P6Pk+B+C+UPoAAAAASUVORK5CYII=\n",
          "text/plain": "<Figure size 432x288 with 1 Axes>"
         },
         "metadata": {},
         "output_type": "display_data"
        }
       ]
      }
     },
     "0257c302e4944299bbd2e0da679bd840": {
      "model_module": "@jupyter-widgets/controls",
      "model_module_version": "1.4.0",
      "model_name": "SliderStyleModel",
      "state": {
       "description_width": ""
      }
     },
     "02ac8de7054048b2bbf9197d69c9b5bd": {
      "model_module": "@jupyter-widgets/controls",
      "model_module_version": "1.4.0",
      "model_name": "IntSliderModel",
      "state": {
       "description": "mc1_weight_var1",
       "layout": "IPY_MODEL_af501f32925b4ec7b3ccaf7bf2db3429",
       "max": 5,
       "min": -5,
       "style": "IPY_MODEL_63acd75c082b44b091f13e37eec44ec8"
      }
     },
     "035df264797f42a8842b6cc2e3709423": {
      "model_module": "@jupyter-widgets/controls",
      "model_module_version": "1.4.0",
      "model_name": "VBoxModel",
      "state": {
       "_dom_classes": [
        "widget-interact"
       ],
       "children": [
        "IPY_MODEL_4e50593f384745e18426450c6fd936fd",
        "IPY_MODEL_43ca77bdfa34414e948229a09a2c556d",
        "IPY_MODEL_8e509a8016894a93a89cd2ffcc3b54fe",
        "IPY_MODEL_f7a468370d6a414a9f72493adae47927",
        "IPY_MODEL_7611ddd19e2043a69c6ee991792f37fe",
        "IPY_MODEL_37a404df72f24f2c86928ade8fc26fe0"
       ],
       "layout": "IPY_MODEL_b029a789d30145408162dda832c1b8a1"
      }
     },
     "036d67f8ba724f87a4fe6f025de79bec": {
      "model_module": "@jupyter-widgets/controls",
      "model_module_version": "1.4.0",
      "model_name": "SliderStyleModel",
      "state": {
       "description_width": ""
      }
     },
     "0394bef00682412284aea20f10601cdd": {
      "model_module": "@jupyter-widgets/controls",
      "model_module_version": "1.4.0",
      "model_name": "SliderStyleModel",
      "state": {
       "description_width": ""
      }
     },
     "03ec3889ec1c483abec6dcc8562a5d43": {
      "model_module": "@jupyter-widgets/controls",
      "model_module_version": "1.4.0",
      "model_name": "SliderStyleModel",
      "state": {
       "description_width": ""
      }
     },
     "048a5d709ba84138a32c889441fdcc80": {
      "model_module": "@jupyter-widgets/output",
      "model_module_version": "1.0.0",
      "model_name": "OutputModel",
      "state": {
       "layout": "IPY_MODEL_fb2ea65a42124f89999c4cc42c7ff596",
       "outputs": [
        {
         "data": {
          "image/png": "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\n",
          "text/plain": "<Figure size 720x360 with 1 Axes>"
         },
         "metadata": {
          "needs_background": "light"
         },
         "output_type": "display_data"
        }
       ]
      }
     },
     "05162696077e44dab1517a8c87ce974d": {
      "model_module": "@jupyter-widgets/base",
      "model_module_version": "1.1.0",
      "model_name": "LayoutModel",
      "state": {}
     },
     "0548318ded8d4a818bc0f0237f4a006d": {
      "model_module": "@jupyter-widgets/controls",
      "model_module_version": "1.4.0",
      "model_name": "IntSliderModel",
      "state": {
       "description": "mc1_weight_var1",
       "layout": "IPY_MODEL_c5cdbf37dfc443b3ad48e9894d1073a2",
       "max": 5,
       "min": -5,
       "style": "IPY_MODEL_cc2fcb88259746edbc57b80a7e9bd3df"
      }
     },
     "057323df429b482492ceae6a3530819b": {
      "model_module": "@jupyter-widgets/controls",
      "model_module_version": "1.4.0",
      "model_name": "SliderStyleModel",
      "state": {
       "description_width": ""
      }
     },
     "05de4afe9b274897b27fc9cdeb34a605": {
      "model_module": "@jupyter-widgets/base",
      "model_module_version": "1.1.0",
      "model_name": "LayoutModel",
      "state": {}
     },
     "05e305816c9541f38d934f3e4f5cc328": {
      "model_module": "@jupyter-widgets/controls",
      "model_module_version": "1.4.0",
      "model_name": "IntSliderModel",
      "state": {
       "description": "mc1_weight_var1",
       "layout": "IPY_MODEL_5768ee31bd864776be0172fdaff908c7",
       "max": 5,
       "min": -5,
       "style": "IPY_MODEL_1ce6a9beb61343648222ff4288193562"
      }
     },
     "063359cff1344f7dbf505d62535315e9": {
      "model_module": "@jupyter-widgets/controls",
      "model_module_version": "1.4.0",
      "model_name": "SliderStyleModel",
      "state": {
       "description_width": ""
      }
     },
     "0720f37fc10f452885f26d0788d4a4f8": {
      "model_module": "@jupyter-widgets/base",
      "model_module_version": "1.1.0",
      "model_name": "LayoutModel",
      "state": {}
     },
     "0773d617013a48419ef21aa397d43592": {
      "model_module": "@jupyter-widgets/controls",
      "model_module_version": "1.4.0",
      "model_name": "VBoxModel",
      "state": {
       "_dom_classes": [
        "widget-interact"
       ],
       "children": [
        "IPY_MODEL_787747fc9a0f4478958544ced70fa29c",
        "IPY_MODEL_1888b0e229ef46389d6a75834416df01",
        "IPY_MODEL_61a63e1a964d4bfca4dbe0e0386d88e7",
        "IPY_MODEL_e374b8a5ceb842a591f2665b470c3037",
        "IPY_MODEL_0d6c6356c78c43a5ba0033d1e6fcd124",
        "IPY_MODEL_67532340a66f4ac9bb375ed7a9c7b184"
       ],
       "layout": "IPY_MODEL_5dc816f1783b479294004f8778959ec2"
      }
     },
     "07e8e5bd0b2645f8b98f3ee641f99f35": {
      "model_module": "@jupyter-widgets/controls",
      "model_module_version": "1.4.0",
      "model_name": "SliderStyleModel",
      "state": {
       "description_width": ""
      }
     },
     "085919c8b8d2430b844602a97bc12b70": {
      "model_module": "@jupyter-widgets/controls",
      "model_module_version": "1.4.0",
      "model_name": "VBoxModel",
      "state": {
       "_dom_classes": [
        "widget-interact"
       ],
       "children": [
        "IPY_MODEL_3c94ca600a154ca399845e1a428d9a03",
        "IPY_MODEL_440fe475e37b4f8f98deca1d05ae4efb",
        "IPY_MODEL_b08813c0bb80489a84c0fbc9f5012742",
        "IPY_MODEL_e4239766cad549c9bdbd0a91c0bf7833",
        "IPY_MODEL_1362abf08b7c4ed788d67b708c114b31",
        "IPY_MODEL_304e2ba55304457fa4ddb38730b4e773"
       ],
       "layout": "IPY_MODEL_dd5af0e7da9e49eea51056b59ed03508"
      }
     },
     "0958057c00bf45a3895d639c98229827": {
      "model_module": "@jupyter-widgets/controls",
      "model_module_version": "1.4.0",
      "model_name": "IntSliderModel",
      "state": {
       "description": "SigXsecOverSM",
       "layout": "IPY_MODEL_00734572c9b14d4bb05151197307ec05",
       "max": 10,
       "style": "IPY_MODEL_1ec2b3e4557c4736b95459febd57c2b8",
       "value": 5
      }
     },
     "096542f0c0d640788e87ab9ef86bce35": {
      "model_module": "@jupyter-widgets/output",
      "model_module_version": "1.0.0",
      "model_name": "OutputModel",
      "state": {
       "layout": "IPY_MODEL_4042357bd06f45239836cb654733f1c6",
       "outputs": [
        {
         "data": {
          "image/png": "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\n",
          "text/plain": "<Figure size 720x360 with 1 Axes>"
         },
         "metadata": {
          "needs_background": "light"
         },
         "output_type": "display_data"
        }
       ]
      }
     },
     "097a2282fb274ef29c9f1d6e80ae7039": {
      "model_module": "@jupyter-widgets/controls",
      "model_module_version": "1.4.0",
      "model_name": "SliderStyleModel",
      "state": {
       "description_width": ""
      }
     },
     "098084a417e24f4badfa6aba9c8648e9": {
      "model_module": "@jupyter-widgets/controls",
      "model_module_version": "1.4.0",
      "model_name": "SliderStyleModel",
      "state": {
       "description_width": ""
      }
     },
     "09b9e04ccf2c4522b2a006d97e49ffce": {
      "model_module": "@jupyter-widgets/controls",
      "model_module_version": "1.4.0",
      "model_name": "SliderStyleModel",
      "state": {
       "description_width": ""
      }
     },
     "09e3f919d8924bf78142bb6b33675d24": {
      "model_module": "@jupyter-widgets/base",
      "model_module_version": "1.1.0",
      "model_name": "LayoutModel",
      "state": {}
     },
     "0a45e5b7b00c42c5b61409ed21312f56": {
      "model_module": "@jupyter-widgets/base",
      "model_module_version": "1.1.0",
      "model_name": "LayoutModel",
      "state": {}
     },
     "0aa707e1994e423dbe4b6823b467033d": {
      "model_module": "@jupyter-widgets/controls",
      "model_module_version": "1.4.0",
      "model_name": "SliderStyleModel",
      "state": {
       "description_width": ""
      }
     },
     "0b19d8eb621842d9abb140d43bf91fb0": {
      "model_module": "@jupyter-widgets/controls",
      "model_module_version": "1.4.0",
      "model_name": "SliderStyleModel",
      "state": {
       "description_width": ""
      }
     },
     "0b42f6809df64e70a2f7b8d3f1348bc3": {
      "model_module": "@jupyter-widgets/base",
      "model_module_version": "1.1.0",
      "model_name": "LayoutModel",
      "state": {}
     },
     "0b443d6d3cdf44d99403e72f3fa0f849": {
      "model_module": "@jupyter-widgets/base",
      "model_module_version": "1.1.0",
      "model_name": "LayoutModel",
      "state": {}
     },
     "0c3693b6bd6a4637a4270e9cc9b11e71": {
      "model_module": "@jupyter-widgets/controls",
      "model_module_version": "1.4.0",
      "model_name": "SliderStyleModel",
      "state": {
       "description_width": ""
      }
     },
     "0d56da0fce4a427d84d3f40356f6024d": {
      "model_module": "@jupyter-widgets/controls",
      "model_module_version": "1.4.0",
      "model_name": "IntSliderModel",
      "state": {
       "description": "SigXsecOverSM",
       "layout": "IPY_MODEL_caf11f98da264d579a8e3e7448705bc8",
       "max": 10,
       "style": "IPY_MODEL_728e8341803d48d5be4ce49cf6177489",
       "value": 6
      }
     },
     "0d6c6356c78c43a5ba0033d1e6fcd124": {
      "model_module": "@jupyter-widgets/controls",
      "model_module_version": "1.4.0",
      "model_name": "IntSliderModel",
      "state": {
       "description": "mc2_shape_conv",
       "layout": "IPY_MODEL_a45a0929ad004a8b9834a7064ae02552",
       "max": 5,
       "min": -5,
       "style": "IPY_MODEL_9ae6871135204aaebe564e16c06409ec"
      }
     },
     "0d916de608074d54823ff168f8c7a3b2": {
      "model_module": "@jupyter-widgets/controls",
      "model_module_version": "1.4.0",
      "model_name": "IntSliderModel",
      "state": {
       "description": "mc1_shape_conv",
       "layout": "IPY_MODEL_fd28d2e5907249bbbae2b382a065223c",
       "max": 5,
       "min": -5,
       "style": "IPY_MODEL_e5d3f369769c441fb79219844938245c"
      }
     },
     "0e04e7e91c644ae59bcb4af01e9da2e7": {
      "model_module": "@jupyter-widgets/base",
      "model_module_version": "1.1.0",
      "model_name": "LayoutModel",
      "state": {}
     },
     "0e144d1551d44fa4bdd586d5526e9b64": {
      "model_module": "@jupyter-widgets/controls",
      "model_module_version": "1.4.0",
      "model_name": "IntSliderModel",
      "state": {
       "description": "mc2_shape_conv",
       "layout": "IPY_MODEL_885cbbfd0b6245cca90c2d6b964bc231",
       "max": 5,
       "min": -5,
       "style": "IPY_MODEL_3e1c3822ac34487999ac1b46f50b74f6"
      }
     },
     "0e1d968680d14084a8ffd5381f2b094c": {
      "model_module": "@jupyter-widgets/controls",
      "model_module_version": "1.4.0",
      "model_name": "SliderStyleModel",
      "state": {
       "description_width": ""
      }
     },
     "0e2b17b229e040b1a1e8a0a35736b81d": {
      "model_module": "@jupyter-widgets/controls",
      "model_module_version": "1.4.0",
      "model_name": "SliderStyleModel",
      "state": {
       "description_width": ""
      }
     },
     "0e749886a1394ded9fc70edfd555225d": {
      "model_module": "@jupyter-widgets/controls",
      "model_module_version": "1.4.0",
      "model_name": "SliderStyleModel",
      "state": {
       "description_width": ""
      }
     },
     "0ee864e226314c24b3ebf622822070e2": {
      "model_module": "@jupyter-widgets/base",
      "model_module_version": "1.1.0",
      "model_name": "LayoutModel",
      "state": {}
     },
     "0f194b765d854707b331b114d9238574": {
      "model_module": "@jupyter-widgets/controls",
      "model_module_version": "1.4.0",
      "model_name": "SliderStyleModel",
      "state": {
       "description_width": ""
      }
     },
     "0f4248282b2c4cb794d6ada2c1ccf1a3": {
      "model_module": "@jupyter-widgets/controls",
      "model_module_version": "1.4.0",
      "model_name": "SliderStyleModel",
      "state": {
       "description_width": ""
      }
     },
     "0f80aee6b1b9494b976f6beaf5d8210e": {
      "model_module": "@jupyter-widgets/controls",
      "model_module_version": "1.4.0",
      "model_name": "IntSliderModel",
      "state": {
       "description": "mc2_weight_var1",
       "layout": "IPY_MODEL_301ed8eefd6f42ba9d8aea9b73150cc3",
       "max": 5,
       "min": -5,
       "style": "IPY_MODEL_e299da15e172437793291e30e9f0d3f6"
      }
     },
     "0fe1b963d39b4322b856010248bbd9ee": {
      "model_module": "@jupyter-widgets/base",
      "model_module_version": "1.1.0",
      "model_name": "LayoutModel",
      "state": {}
     },
     "1009ef9df55f4d9ea31b29d3426bf6ae": {
      "model_module": "@jupyter-widgets/controls",
      "model_module_version": "1.4.0",
      "model_name": "VBoxModel",
      "state": {
       "_dom_classes": [
        "widget-interact"
       ],
       "children": [
        "IPY_MODEL_744e780cf7c44647afaa4e59e0964130",
        "IPY_MODEL_eb9f2f6601f043139e67e3374ecf7c15",
        "IPY_MODEL_05e305816c9541f38d934f3e4f5cc328",
        "IPY_MODEL_ed1ee85528904814b33b071fd46c9d41",
        "IPY_MODEL_50730646d9da4f409eb85b5326df7070",
        "IPY_MODEL_2aecb3e4373944f3a6fcc8565603f1b6",
        "IPY_MODEL_f4510231652a46008f8c8302a7ee809f"
       ],
       "layout": "IPY_MODEL_d536bbe049204d4688bbcbdb8e29a4aa"
      }
     },
     "10b8541db2b64ce59436fb227291b928": {
      "model_module": "@jupyter-widgets/controls",
      "model_module_version": "1.4.0",
      "model_name": "IntSliderModel",
      "state": {
       "description": "mc1_shape_conv",
       "layout": "IPY_MODEL_2fee4766c9ec42d9a54dbc830da3b015",
       "max": 5,
       "min": -5,
       "style": "IPY_MODEL_580f71ddfdea44c693017f66e34da8f8"
      }
     },
     "11a2f3da851b4ba9b8e2056b4eddac23": {
      "model_module": "@jupyter-widgets/base",
      "model_module_version": "1.1.0",
      "model_name": "LayoutModel",
      "state": {}
     },
     "11adecc1eea040f2bdbf60c2792ce783": {
      "model_module": "@jupyter-widgets/base",
      "model_module_version": "1.1.0",
      "model_name": "LayoutModel",
      "state": {}
     },
     "1236bfc27c3f448ebf7542762a89d8ba": {
      "model_module": "@jupyter-widgets/base",
      "model_module_version": "1.1.0",
      "model_name": "LayoutModel",
      "state": {}
     },
     "128e733d0f7a42db87290bdea538362f": {
      "model_module": "@jupyter-widgets/output",
      "model_module_version": "1.0.0",
      "model_name": "OutputModel",
      "state": {
       "layout": "IPY_MODEL_ef3efa606e4049a9b26ba2023bc8c038",
       "outputs": [
        {
         "data": {
          "image/png": "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\n",
          "text/plain": "<Figure size 720x360 with 1 Axes>"
         },
         "metadata": {},
         "output_type": "display_data"
        }
       ]
      }
     },
     "12a6b35b7b9142b78d19d621a09ef7c3": {
      "model_module": "@jupyter-widgets/controls",
      "model_module_version": "1.4.0",
      "model_name": "VBoxModel",
      "state": {
       "_dom_classes": [
        "widget-interact"
       ],
       "children": [
        "IPY_MODEL_c4536355d90a44958d1ac03228707d30",
        "IPY_MODEL_92408d0ae9f24d7f8c468beabe2c5359",
        "IPY_MODEL_b5b8c714cd374fa7bf18870a159a55ea",
        "IPY_MODEL_bc3b6433a530492d8b2594919d8fe672",
        "IPY_MODEL_ca1b24b394d54b429d0778c5a52307c5",
        "IPY_MODEL_02287564b426420a8937b34cc0c109a2"
       ],
       "layout": "IPY_MODEL_da5125eb9e58454a905a78123ed03d93"
      }
     },
     "1357c6ee0c054e43bae8b9b25dc560bc": {
      "model_module": "@jupyter-widgets/controls",
      "model_module_version": "1.4.0",
      "model_name": "VBoxModel",
      "state": {
       "_dom_classes": [
        "widget-interact"
       ],
       "children": [
        "IPY_MODEL_18758a94c1c74ba5aa8d3ded96766916",
        "IPY_MODEL_1d785d0aa60d4d2fb523d513196574ea",
        "IPY_MODEL_32b3a3dbd7474499af3b52676a4998e2",
        "IPY_MODEL_312070f4e4ce4a5b8a41e82bae049131",
        "IPY_MODEL_b65c63419f2a4c0c9337dd151d529c97",
        "IPY_MODEL_5a973dc546dd47a08cc0500258e3585d",
        "IPY_MODEL_49a176496f81472cb638be3ad9ff3e5e"
       ],
       "layout": "IPY_MODEL_6224dae8def84f86b62771bbdd58a589"
      }
     },
     "1362abf08b7c4ed788d67b708c114b31": {
      "model_module": "@jupyter-widgets/controls",
      "model_module_version": "1.4.0",
      "model_name": "IntSliderModel",
      "state": {
       "description": "mc2_shape_conv",
       "layout": "IPY_MODEL_a957b37dff6443aaab44fb0d39b2434d",
       "max": 5,
       "min": -5,
       "style": "IPY_MODEL_e89033570d2447068eba5387f93b7bea"
      }
     },
     "15157064e4cb461287891c95ed226336": {
      "model_module": "@jupyter-widgets/controls",
      "model_module_version": "1.4.0",
      "model_name": "IntSliderModel",
      "state": {
       "description": "mc1_weight_var1",
       "layout": "IPY_MODEL_d524bd8d4e734486973e6ec7edeaecc2",
       "max": 5,
       "min": -5,
       "style": "IPY_MODEL_effd97cd46ad4485a7792b3eb04ebf18"
      }
     },
     "153e6ce437c64bf8be9b30d2bdf13026": {
      "model_module": "@jupyter-widgets/controls",
      "model_module_version": "1.4.0",
      "model_name": "SliderStyleModel",
      "state": {
       "description_width": ""
      }
     },
     "159409eb99414b97ab9416595c4b641b": {
      "model_module": "@jupyter-widgets/controls",
      "model_module_version": "1.4.0",
      "model_name": "SliderStyleModel",
      "state": {
       "description_width": ""
      }
     },
     "1635927711ea4d9ab694f8531a74275e": {
      "model_module": "@jupyter-widgets/base",
      "model_module_version": "1.1.0",
      "model_name": "LayoutModel",
      "state": {}
     },
     "16527d6b6204464397ac075eecdb0d88": {
      "model_module": "@jupyter-widgets/base",
      "model_module_version": "1.1.0",
      "model_name": "LayoutModel",
      "state": {}
     },
     "1664a4a5ec154b8ca4fdc90e8d654d11": {
      "model_module": "@jupyter-widgets/base",
      "model_module_version": "1.1.0",
      "model_name": "LayoutModel",
      "state": {}
     },
     "16aae9c2b66348e2b45b9e19d5303667": {
      "model_module": "@jupyter-widgets/controls",
      "model_module_version": "1.4.0",
      "model_name": "IntSliderModel",
      "state": {
       "description": "mc2_weight_var1",
       "layout": "IPY_MODEL_46319e7096794a9c822643cf56e181a3",
       "max": 5,
       "min": -5,
       "style": "IPY_MODEL_d6a946b866f146528d0bb6c30d97e0dd"
      }
     },
     "17aff49836a340c0aa0953e6d1da49b3": {
      "model_module": "@jupyter-widgets/controls",
      "model_module_version": "1.4.0",
      "model_name": "IntSliderModel",
      "state": {
       "description": "mc2_shape_conv",
       "layout": "IPY_MODEL_635bbd3044f846e89943a3a9df39e0e2",
       "max": 5,
       "min": -5,
       "style": "IPY_MODEL_dc46fd29c3694ab18176d92d593309a3"
      }
     },
     "1816b5bc555748299d40fbd439f52bdf": {
      "model_module": "@jupyter-widgets/controls",
      "model_module_version": "1.4.0",
      "model_name": "IntSliderModel",
      "state": {
       "description": "mc2_weight_var1",
       "layout": "IPY_MODEL_c8c647f7897b473b971df36ef37ba3e5",
       "max": 5,
       "min": -5,
       "style": "IPY_MODEL_4ac0a3c0dbfb4b128a4b96ef1dad6179",
       "value": 2
      }
     },
     "186eef5a5ed74d7baebc905240add3c2": {
      "model_module": "@jupyter-widgets/controls",
      "model_module_version": "1.4.0",
      "model_name": "IntSliderModel",
      "state": {
       "description": "mc2_shape_conv",
       "layout": "IPY_MODEL_f1e714f5cf3d4ad29e38835fce77d6d7",
       "max": 5,
       "min": -5,
       "style": "IPY_MODEL_2c6d51b6971c45b19ba0570191453727"
      }
     },
     "18758a94c1c74ba5aa8d3ded96766916": {
      "model_module": "@jupyter-widgets/controls",
      "model_module_version": "1.4.0",
      "model_name": "DropdownModel",
      "state": {
       "_options_labels": [
        "1",
        "2",
        "3",
        "0"
       ],
       "description": "order",
       "index": 0,
       "layout": "IPY_MODEL_a0ddc8476b914cc6bd7a2a0e032956cd",
       "style": "IPY_MODEL_ada53a05cb814c3e93a385a7a4c10194"
      }
     },
     "1888089cd3424f958d6aeca209b04bc9": {
      "model_module": "@jupyter-widgets/controls",
      "model_module_version": "1.4.0",
      "model_name": "SliderStyleModel",
      "state": {
       "description_width": ""
      }
     },
     "1888b0e229ef46389d6a75834416df01": {
      "model_module": "@jupyter-widgets/controls",
      "model_module_version": "1.4.0",
      "model_name": "IntSliderModel",
      "state": {
       "description": "mc1_weight_var1",
       "layout": "IPY_MODEL_da4aa588170a45fd90e2593f0eb86bf1",
       "max": 5,
       "min": -5,
       "style": "IPY_MODEL_efa29e483d4a46a4ae75cf9aedf553e6"
      }
     },
     "1957c55b9d73401485d7a4ab49cd3730": {
      "model_module": "@jupyter-widgets/controls",
      "model_module_version": "1.4.0",
      "model_name": "IntSliderModel",
      "state": {
       "description": "SigXsecOverSM",
       "layout": "IPY_MODEL_c89a69c1eb3c44daa65e750ff9568274",
       "max": 10,
       "style": "IPY_MODEL_07e8e5bd0b2645f8b98f3ee641f99f35",
       "value": 3
      }
     },
     "199fd8e490054e8f9bdd0b75309e2527": {
      "model_module": "@jupyter-widgets/controls",
      "model_module_version": "1.4.0",
      "model_name": "SliderStyleModel",
      "state": {
       "description_width": ""
      }
     },
     "19aa0826c03e446c8d447834f095ab9d": {
      "model_module": "@jupyter-widgets/base",
      "model_module_version": "1.1.0",
      "model_name": "LayoutModel",
      "state": {}
     },
     "1a37fd50f9ca402bac9904add7a3a48b": {
      "model_module": "@jupyter-widgets/base",
      "model_module_version": "1.1.0",
      "model_name": "LayoutModel",
      "state": {}
     },
     "1a7fd95e2716428691823595f61aff5b": {
      "model_module": "@jupyter-widgets/base",
      "model_module_version": "1.1.0",
      "model_name": "LayoutModel",
      "state": {}
     },
     "1c3e4c0738dd4731ab448d9d5abc6750": {
      "model_module": "@jupyter-widgets/base",
      "model_module_version": "1.1.0",
      "model_name": "LayoutModel",
      "state": {}
     },
     "1c4f9a9155f447debf935ca671cd04e5": {
      "model_module": "@jupyter-widgets/base",
      "model_module_version": "1.1.0",
      "model_name": "LayoutModel",
      "state": {}
     },
     "1cce1d6817be435a8f0497ba55f3ddb7": {
      "model_module": "@jupyter-widgets/controls",
      "model_module_version": "1.4.0",
      "model_name": "SliderStyleModel",
      "state": {
       "description_width": ""
      }
     },
     "1ce6a9beb61343648222ff4288193562": {
      "model_module": "@jupyter-widgets/controls",
      "model_module_version": "1.4.0",
      "model_name": "SliderStyleModel",
      "state": {
       "description_width": ""
      }
     },
     "1d4d01e6953443f3906dfcac001a036b": {
      "model_module": "@jupyter-widgets/output",
      "model_module_version": "1.0.0",
      "model_name": "OutputModel",
      "state": {
       "layout": "IPY_MODEL_9e1308c73fce44ebb6115cb22740cd80",
       "outputs": [
        {
         "data": {
          "image/png": "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\n",
          "text/plain": "<Figure size 720x360 with 1 Axes>"
         },
         "metadata": {
          "needs_background": "light"
         },
         "output_type": "display_data"
        }
       ]
      }
     },
     "1d785d0aa60d4d2fb523d513196574ea": {
      "model_module": "@jupyter-widgets/controls",
      "model_module_version": "1.4.0",
      "model_name": "IntSliderModel",
      "state": {
       "description": "SigXsecOverSM",
       "layout": "IPY_MODEL_1c4f9a9155f447debf935ca671cd04e5",
       "max": 10,
       "style": "IPY_MODEL_bbc2ed6abbaa43649b976e824f78230d",
       "value": 5
      }
     },
     "1d7a1943ffeb409f915218a17372c876": {
      "model_module": "@jupyter-widgets/controls",
      "model_module_version": "1.4.0",
      "model_name": "SliderStyleModel",
      "state": {
       "description_width": ""
      }
     },
     "1dcb9d23d8ae49958bc7dacd5e40c2a9": {
      "model_module": "@jupyter-widgets/controls",
      "model_module_version": "1.4.0",
      "model_name": "SliderStyleModel",
      "state": {
       "description_width": ""
      }
     },
     "1e92efacfbb64ab4a743a5029acb2097": {
      "model_module": "@jupyter-widgets/controls",
      "model_module_version": "1.4.0",
      "model_name": "IntSliderModel",
      "state": {
       "description": "mc2_shape_conv",
       "layout": "IPY_MODEL_d0ebb7a95b2e4e90bc12bb104e168098",
       "max": 5,
       "min": -5,
       "style": "IPY_MODEL_d771b11888b24d89a05b2341566d3d17"
      }
     },
     "1ec2b3e4557c4736b95459febd57c2b8": {
      "model_module": "@jupyter-widgets/controls",
      "model_module_version": "1.4.0",
      "model_name": "SliderStyleModel",
      "state": {
       "description_width": ""
      }
     },
     "1ed4ca66f4e84483b04571d19aa33bcd": {
      "model_module": "@jupyter-widgets/controls",
      "model_module_version": "1.4.0",
      "model_name": "IntSliderModel",
      "state": {
       "description": "mc1_shape_conv",
       "layout": "IPY_MODEL_b6e330c2f1a94ce0b1f50af636732edb",
       "max": 5,
       "min": -5,
       "style": "IPY_MODEL_0e749886a1394ded9fc70edfd555225d"
      }
     },
     "1fb94012b1b1429e90ef43eca09de1fe": {
      "model_module": "@jupyter-widgets/base",
      "model_module_version": "1.1.0",
      "model_name": "LayoutModel",
      "state": {}
     },
     "206d520a53a74b808d04650746b31e19": {
      "model_module": "@jupyter-widgets/base",
      "model_module_version": "1.1.0",
      "model_name": "LayoutModel",
      "state": {}
     },
     "20ee9667b2124585b3db54b301f976aa": {
      "model_module": "@jupyter-widgets/controls",
      "model_module_version": "1.4.0",
      "model_name": "SliderStyleModel",
      "state": {
       "description_width": ""
      }
     },
     "213e31b65836408b9a2755096627b60d": {
      "model_module": "@jupyter-widgets/output",
      "model_module_version": "1.0.0",
      "model_name": "OutputModel",
      "state": {
       "layout": "IPY_MODEL_490ad5047c0a4c8a8f108e969ff6e79e",
       "outputs": [
        {
         "data": {
          "image/png": "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\n",
          "text/plain": "<Figure size 432x288 with 1 Axes>"
         },
         "metadata": {},
         "output_type": "display_data"
        }
       ]
      }
     },
     "216a66f9d08e40ecb4a5394a35d93920": {
      "model_module": "@jupyter-widgets/controls",
      "model_module_version": "1.4.0",
      "model_name": "SliderStyleModel",
      "state": {
       "description_width": ""
      }
     },
     "21f36c3345b5483a9a65260a2bafdf81": {
      "model_module": "@jupyter-widgets/base",
      "model_module_version": "1.1.0",
      "model_name": "LayoutModel",
      "state": {}
     },
     "22634155e2c14a51a4c05664b1729ad5": {
      "model_module": "@jupyter-widgets/controls",
      "model_module_version": "1.4.0",
      "model_name": "IntSliderModel",
      "state": {
       "description": "SigXsecOverSM",
       "layout": "IPY_MODEL_97cd405599e947c1b4c835debf46c608",
       "max": 10,
       "style": "IPY_MODEL_f8fed80dbec442eeac39f0bcc2c8c0a9",
       "value": 5
      }
     },
     "22f22593ab42405f8c91ed6fe0e94337": {
      "model_module": "@jupyter-widgets/controls",
      "model_module_version": "1.4.0",
      "model_name": "VBoxModel",
      "state": {
       "_dom_classes": [
        "widget-interact"
       ],
       "children": [
        "IPY_MODEL_f7fe9f0358e64b0da672d42330b32789",
        "IPY_MODEL_56c0d2162e71476eb173635bf2f02913",
        "IPY_MODEL_0d916de608074d54823ff168f8c7a3b2",
        "IPY_MODEL_aefa24cd6f314f7e9cd2e8f0caf9130a",
        "IPY_MODEL_cd4bbcc0e0074e1ca33d8bc6cd044650",
        "IPY_MODEL_e4b5bd15768c40279e2fcbcdf1708324"
       ],
       "layout": "IPY_MODEL_a817b6d62e9348e9986d4779b43a6e29"
      }
     },
     "2301dca9a16148809453509afea3c5af": {
      "model_module": "@jupyter-widgets/base",
      "model_module_version": "1.1.0",
      "model_name": "LayoutModel",
      "state": {}
     },
     "234983914bb2479abdefeb37af2f2ca0": {
      "model_module": "@jupyter-widgets/controls",
      "model_module_version": "1.4.0",
      "model_name": "IntSliderModel",
      "state": {
       "description": "SigXsecOverSM",
       "layout": "IPY_MODEL_ea9c75dbc7e14a2b82bbfc159f019f21",
       "max": 10,
       "style": "IPY_MODEL_bf99854d4a9a46deaa5827c6356e6065",
       "value": 4
      }
     },
     "23d6e926aea84574aa3d55899a0c5e47": {
      "model_module": "@jupyter-widgets/base",
      "model_module_version": "1.1.0",
      "model_name": "LayoutModel",
      "state": {}
     },
     "253a7a1ed71e4e9a9edc2e26b41e1497": {
      "model_module": "@jupyter-widgets/output",
      "model_module_version": "1.0.0",
      "model_name": "OutputModel",
      "state": {
       "layout": "IPY_MODEL_c80e1d8f80604fabbcaf46643caac594",
       "outputs": [
        {
         "data": {
          "image/png": "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\n",
          "text/plain": "<Figure size 720x360 with 1 Axes>"
         },
         "metadata": {},
         "output_type": "display_data"
        }
       ]
      }
     },
     "25bf2037c79f4481ae831b771033573e": {
      "model_module": "@jupyter-widgets/base",
      "model_module_version": "1.1.0",
      "model_name": "LayoutModel",
      "state": {}
     },
     "265b3284802b4f66b16381652b5553a6": {
      "model_module": "@jupyter-widgets/base",
      "model_module_version": "1.1.0",
      "model_name": "LayoutModel",
      "state": {}
     },
     "2694041e009047a9aa9d59507a712edd": {
      "model_module": "@jupyter-widgets/base",
      "model_module_version": "1.1.0",
      "model_name": "LayoutModel",
      "state": {}
     },
     "26f10a28232944ce86d9726d5c310780": {
      "model_module": "@jupyter-widgets/controls",
      "model_module_version": "1.4.0",
      "model_name": "VBoxModel",
      "state": {
       "_dom_classes": [
        "widget-interact"
       ],
       "children": [
        "IPY_MODEL_770db87bce60472681c2fefe3f6337d2",
        "IPY_MODEL_3f1fe68ea1314a5c88dc219278efc0ed",
        "IPY_MODEL_75845cc8ca2d4308b9d8849cfe33fb86",
        "IPY_MODEL_4c7dba74f7364390bfc8041e6e2db3ac",
        "IPY_MODEL_dc60162f447f4688af05c91187cf5216",
        "IPY_MODEL_213e31b65836408b9a2755096627b60d"
       ],
       "layout": "IPY_MODEL_0119a8a68a6c43919c0a9beeffe5e61f"
      }
     },
     "2715466f17de467da40539306b42eef8": {
      "model_module": "@jupyter-widgets/controls",
      "model_module_version": "1.4.0",
      "model_name": "SliderStyleModel",
      "state": {
       "description_width": ""
      }
     },
     "279396b720bd4f60b85178a1c1df4ee0": {
      "model_module": "@jupyter-widgets/base",
      "model_module_version": "1.1.0",
      "model_name": "LayoutModel",
      "state": {}
     },
     "2870f932c3444db084c0a9d7e96c4d6a": {
      "model_module": "@jupyter-widgets/controls",
      "model_module_version": "1.4.0",
      "model_name": "SliderStyleModel",
      "state": {
       "description_width": ""
      }
     },
     "2874931d84e84c319001559ba5aeb93c": {
      "model_module": "@jupyter-widgets/controls",
      "model_module_version": "1.4.0",
      "model_name": "SliderStyleModel",
      "state": {
       "description_width": ""
      }
     },
     "2982538e70f84dd39da4734564b7fd59": {
      "model_module": "@jupyter-widgets/controls",
      "model_module_version": "1.4.0",
      "model_name": "VBoxModel",
      "state": {
       "_dom_classes": [
        "widget-interact"
       ],
       "children": [
        "IPY_MODEL_976f1306fa0f44af94bf249d3e99d998",
        "IPY_MODEL_35d3ee9515e04dc29f6de87962bb0675",
        "IPY_MODEL_f61666698fc94fb393ad5a2cde25c394",
        "IPY_MODEL_16aae9c2b66348e2b45b9e19d5303667",
        "IPY_MODEL_c6a88aad6c1a4cb085a2dd661f4fc23b",
        "IPY_MODEL_f2b248ed4dd74f2eb96ac2a89d3a1dc9"
       ],
       "layout": "IPY_MODEL_7b14f85062494afa8b6c4bccd15e3732"
      }
     },
     "29840dbc8e17460ea386095acc779f50": {
      "model_module": "@jupyter-widgets/controls",
      "model_module_version": "1.4.0",
      "model_name": "SliderStyleModel",
      "state": {
       "description_width": ""
      }
     },
     "298f92144303431f8f788d6cf6d61205": {
      "model_module": "@jupyter-widgets/controls",
      "model_module_version": "1.4.0",
      "model_name": "VBoxModel",
      "state": {
       "_dom_classes": [
        "widget-interact"
       ],
       "layout": "IPY_MODEL_3d5aeaeb997c4e96848bd891ceadb017"
      }
     },
     "2aecb3e4373944f3a6fcc8565603f1b6": {
      "model_module": "@jupyter-widgets/controls",
      "model_module_version": "1.4.0",
      "model_name": "IntSliderModel",
      "state": {
       "description": "mc2_shape_conv",
       "layout": "IPY_MODEL_5014e59a0c2b48b98dc5ebd0a82cbf2b",
       "max": 5,
       "min": -5,
       "style": "IPY_MODEL_0c3693b6bd6a4637a4270e9cc9b11e71"
      }
     },
     "2bcf1ad2ca82465993e26169cbc93c61": {
      "model_module": "@jupyter-widgets/controls",
      "model_module_version": "1.4.0",
      "model_name": "SliderStyleModel",
      "state": {
       "description_width": ""
      }
     },
     "2c22300c260d4554aa0b29d5ee109153": {
      "model_module": "@jupyter-widgets/base",
      "model_module_version": "1.1.0",
      "model_name": "LayoutModel",
      "state": {}
     },
     "2c607eae3a25471d98e0da1a93ad20ad": {
      "model_module": "@jupyter-widgets/controls",
      "model_module_version": "1.4.0",
      "model_name": "SliderStyleModel",
      "state": {
       "description_width": ""
      }
     },
     "2c6d51b6971c45b19ba0570191453727": {
      "model_module": "@jupyter-widgets/controls",
      "model_module_version": "1.4.0",
      "model_name": "SliderStyleModel",
      "state": {
       "description_width": ""
      }
     },
     "2c95314c553f4fb38adafa56d27569a5": {
      "model_module": "@jupyter-widgets/controls",
      "model_module_version": "1.4.0",
      "model_name": "SliderStyleModel",
      "state": {
       "description_width": ""
      }
     },
     "2dbaed997e87490d90042f9233636268": {
      "model_module": "@jupyter-widgets/controls",
      "model_module_version": "1.4.0",
      "model_name": "VBoxModel",
      "state": {
       "_dom_classes": [
        "widget-interact"
       ],
       "children": [
        "IPY_MODEL_4e7d343222a14858b9af5967dde0d259",
        "IPY_MODEL_c3ff3589ba8e4954964fb4187f02a67b"
       ],
       "layout": "IPY_MODEL_95ed22c38f4e47948cf591d15c8c1225"
      }
     },
     "2e25ca9cc253458f930e28d215ede918": {
      "model_module": "@jupyter-widgets/base",
      "model_module_version": "1.1.0",
      "model_name": "LayoutModel",
      "state": {}
     },
     "2e36d06829c44f30ac13ca8b1b9d1edc": {
      "model_module": "@jupyter-widgets/controls",
      "model_module_version": "1.4.0",
      "model_name": "IntSliderModel",
      "state": {
       "description": "mc1_weight_var1",
       "layout": "IPY_MODEL_4d0de5a1477247ad900a94892c930c64",
       "max": 5,
       "min": -5,
       "style": "IPY_MODEL_e7a73de9287d4aacbfd11c4e421c20fd"
      }
     },
     "2e99ce718aaa44acb92fa797f4a38f6a": {
      "model_module": "@jupyter-widgets/output",
      "model_module_version": "1.0.0",
      "model_name": "OutputModel",
      "state": {
       "layout": "IPY_MODEL_871584de4613456ca8af358c81925a6c",
       "outputs": [
        {
         "data": {
          "image/png": "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\n",
          "text/plain": "<Figure size 720x360 with 1 Axes>"
         },
         "metadata": {},
         "output_type": "display_data"
        }
       ]
      }
     },
     "2ead0ec39df249ba94e2cf3cf299b0d1": {
      "model_module": "@jupyter-widgets/base",
      "model_module_version": "1.1.0",
      "model_name": "LayoutModel",
      "state": {}
     },
     "2ec94cf60fcc4967b89a5ec9cfbe9d08": {
      "model_module": "@jupyter-widgets/controls",
      "model_module_version": "1.4.0",
      "model_name": "IntSliderModel",
      "state": {
       "description": "mc1_weight_var1",
       "layout": "IPY_MODEL_57e85869b01442e29e02bb809bd60aff",
       "max": 5,
       "min": -5,
       "style": "IPY_MODEL_c0be84354368415ba32520d8ccebd0c5"
      }
     },
     "2fee4766c9ec42d9a54dbc830da3b015": {
      "model_module": "@jupyter-widgets/base",
      "model_module_version": "1.1.0",
      "model_name": "LayoutModel",
      "state": {}
     },
     "301ed8eefd6f42ba9d8aea9b73150cc3": {
      "model_module": "@jupyter-widgets/base",
      "model_module_version": "1.1.0",
      "model_name": "LayoutModel",
      "state": {}
     },
     "304e2ba55304457fa4ddb38730b4e773": {
      "model_module": "@jupyter-widgets/output",
      "model_module_version": "1.0.0",
      "model_name": "OutputModel",
      "state": {
       "layout": "IPY_MODEL_3714c80fb3864acb96e0de2eaf6041c2",
       "outputs": [
        {
         "data": {
          "image/png": "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\n",
          "text/plain": "<Figure size 720x360 with 1 Axes>"
         },
         "metadata": {
          "needs_background": "light"
         },
         "output_type": "display_data"
        }
       ]
      }
     },
     "3052af1a02e2415582d470e75f0b6698": {
      "model_module": "@jupyter-widgets/controls",
      "model_module_version": "1.4.0",
      "model_name": "IntSliderModel",
      "state": {
       "description": "mc1_shape_conv",
       "layout": "IPY_MODEL_747a849f0efc43cf879bf4f18254a8fc",
       "max": 5,
       "min": -5,
       "style": "IPY_MODEL_8cebab913d7b4a5884bb33e093596573"
      }
     },
     "307512735a8f4497a4a82cdbe5d59b9d": {
      "model_module": "@jupyter-widgets/controls",
      "model_module_version": "1.4.0",
      "model_name": "SliderStyleModel",
      "state": {
       "description_width": ""
      }
     },
     "308e17c6abc844578239382ce1d80881": {
      "model_module": "@jupyter-widgets/base",
      "model_module_version": "1.1.0",
      "model_name": "LayoutModel",
      "state": {}
     },
     "30b8fdbdf639472faf9d35c2afb81b0d": {
      "model_module": "@jupyter-widgets/controls",
      "model_module_version": "1.4.0",
      "model_name": "IntSliderModel",
      "state": {
       "description": "SigXsecOverSM",
       "layout": "IPY_MODEL_90846669dd4c4b8e9619e18a5e28f9ca",
       "max": 10,
       "style": "IPY_MODEL_a23aee6ec120449eb80a613616b34d59",
       "value": 5
      }
     },
     "312070f4e4ce4a5b8a41e82bae049131": {
      "model_module": "@jupyter-widgets/controls",
      "model_module_version": "1.4.0",
      "model_name": "IntSliderModel",
      "state": {
       "description": "mc1_shape_conv",
       "layout": "IPY_MODEL_3947ca77bf664c81a81ed49083cb8e5f",
       "max": 5,
       "min": -5,
       "style": "IPY_MODEL_65302216142c4c16bb2125b8cb54ae6b"
      }
     },
     "31219b1d714349c99d4d85a351055311": {
      "model_module": "@jupyter-widgets/controls",
      "model_module_version": "1.4.0",
      "model_name": "SliderStyleModel",
      "state": {
       "description_width": ""
      }
     },
     "31bd62e8a3cf4dd08b00b36c56633ef5": {
      "model_module": "@jupyter-widgets/controls",
      "model_module_version": "1.4.0",
      "model_name": "SliderStyleModel",
      "state": {
       "description_width": ""
      }
     },
     "3219c6471ac24102aa35c494680d449a": {
      "model_module": "@jupyter-widgets/controls",
      "model_module_version": "1.4.0",
      "model_name": "SliderStyleModel",
      "state": {
       "description_width": ""
      }
     },
     "3245048fbe694b06b00b6f1df83ad001": {
      "model_module": "@jupyter-widgets/base",
      "model_module_version": "1.1.0",
      "model_name": "LayoutModel",
      "state": {}
     },
     "3261f35add574cfd88ea59a454574860": {
      "model_module": "@jupyter-widgets/base",
      "model_module_version": "1.1.0",
      "model_name": "LayoutModel",
      "state": {}
     },
     "32b3a3dbd7474499af3b52676a4998e2": {
      "model_module": "@jupyter-widgets/controls",
      "model_module_version": "1.4.0",
      "model_name": "IntSliderModel",
      "state": {
       "description": "mc1_weight_var1",
       "layout": "IPY_MODEL_2e25ca9cc253458f930e28d215ede918",
       "max": 5,
       "min": -5,
       "style": "IPY_MODEL_5d5ce735f00545139542c51207605d58"
      }
     },
     "32f5dbb0421644a2ac46c3299bc51557": {
      "model_module": "@jupyter-widgets/controls",
      "model_module_version": "1.4.0",
      "model_name": "DropdownModel",
      "state": {
       "_options_labels": [
        "-5",
        "5"
       ],
       "description": "mc2_weight_var1",
       "index": 0,
       "layout": "IPY_MODEL_9938758cc2594d1086590d878cc0e79c",
       "style": "IPY_MODEL_de74a5c8eac348e9a0e03722de5bd42f"
      }
     },
     "3304e637884a4698961263d642e8a607": {
      "model_module": "@jupyter-widgets/controls",
      "model_module_version": "1.4.0",
      "model_name": "IntSliderModel",
      "state": {
       "description": "mc2_shape_conv",
       "layout": "IPY_MODEL_c58e6fe1badb41ce8e62d83f04c0bc2b",
       "max": 5,
       "min": -5,
       "style": "IPY_MODEL_72ea721255ee4735877feb10267b333c"
      }
     },
     "334b3c5cfc1e4327823cb1df3a53972a": {
      "model_module": "@jupyter-widgets/base",
      "model_module_version": "1.1.0",
      "model_name": "LayoutModel",
      "state": {}
     },
     "33be8baa63f24f97bcdf99360f11c6a7": {
      "model_module": "@jupyter-widgets/controls",
      "model_module_version": "1.4.0",
      "model_name": "FloatSliderModel",
      "state": {
       "description": "mc2_weight_var1",
       "layout": "IPY_MODEL_63af36ecb2ed462bafea39a2a82e426e",
       "max": 5,
       "min": -5,
       "step": 0.1,
       "style": "IPY_MODEL_4d46844fbead483da7ee9f5f1b78794d"
      }
     },
     "3419bf0fe3194ed6b6b81251e85d9675": {
      "model_module": "@jupyter-widgets/controls",
      "model_module_version": "1.4.0",
      "model_name": "FloatSliderModel",
      "state": {
       "description": "mc1_shape_conv",
       "layout": "IPY_MODEL_726a7dcee4bb44d1a9f4aff238f4b24a",
       "max": 5,
       "min": -5,
       "step": 0.1,
       "style": "IPY_MODEL_b6e517fc2454487e8ba8c7bcb6e1f96a"
      }
     },
     "35240d11ad7c4e0b8fd1be65d93474c0": {
      "model_module": "@jupyter-widgets/controls",
      "model_module_version": "1.4.0",
      "model_name": "SliderStyleModel",
      "state": {
       "description_width": ""
      }
     },
     "35433e2d943643daa20f88d25302436d": {
      "model_module": "@jupyter-widgets/controls",
      "model_module_version": "1.4.0",
      "model_name": "SliderStyleModel",
      "state": {
       "description_width": ""
      }
     },
     "35d3ee9515e04dc29f6de87962bb0675": {
      "model_module": "@jupyter-widgets/controls",
      "model_module_version": "1.4.0",
      "model_name": "IntSliderModel",
      "state": {
       "description": "mc1_weight_var1",
       "layout": "IPY_MODEL_730a2ae592014c88bdda97e9c159c74c",
       "max": 5,
       "min": -5,
       "style": "IPY_MODEL_74bd9caad42b43f3a801c130468aee1c"
      }
     },
     "35f1df79108c4dfbb8341681950df05c": {
      "model_module": "@jupyter-widgets/controls",
      "model_module_version": "1.4.0",
      "model_name": "SliderStyleModel",
      "state": {
       "description_width": ""
      }
     },
     "3665d6cdef804038b51e59e14615b610": {
      "model_module": "@jupyter-widgets/controls",
      "model_module_version": "1.4.0",
      "model_name": "SliderStyleModel",
      "state": {
       "description_width": ""
      }
     },
     "36b588456b434019bcf9702577ce2047": {
      "model_module": "@jupyter-widgets/controls",
      "model_module_version": "1.4.0",
      "model_name": "SliderStyleModel",
      "state": {
       "description_width": ""
      }
     },
     "3714c80fb3864acb96e0de2eaf6041c2": {
      "model_module": "@jupyter-widgets/base",
      "model_module_version": "1.1.0",
      "model_name": "LayoutModel",
      "state": {}
     },
     "37a404df72f24f2c86928ade8fc26fe0": {
      "model_module": "@jupyter-widgets/output",
      "model_module_version": "1.0.0",
      "model_name": "OutputModel",
      "state": {
       "layout": "IPY_MODEL_ccca87b31ce84809acbd2e3484f057c3",
       "outputs": [
        {
         "data": {
          "image/png": "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\n",
          "text/plain": "<Figure size 720x360 with 1 Axes>"
         },
         "metadata": {},
         "output_type": "display_data"
        }
       ]
      }
     },
     "38c49877fde5420cbfa6f60a739c2c92": {
      "model_module": "@jupyter-widgets/controls",
      "model_module_version": "1.4.0",
      "model_name": "IntSliderModel",
      "state": {
       "description": "mc2_shape_conv",
       "layout": "IPY_MODEL_1a37fd50f9ca402bac9904add7a3a48b",
       "max": 5,
       "min": -5,
       "style": "IPY_MODEL_0394bef00682412284aea20f10601cdd"
      }
     },
     "3947ca77bf664c81a81ed49083cb8e5f": {
      "model_module": "@jupyter-widgets/base",
      "model_module_version": "1.1.0",
      "model_name": "LayoutModel",
      "state": {}
     },
     "398ef30934fd4fb4b418951b9657e0ef": {
      "model_module": "@jupyter-widgets/base",
      "model_module_version": "1.1.0",
      "model_name": "LayoutModel",
      "state": {}
     },
     "3b3f93ba8c2f471eaddaed08b29195e6": {
      "model_module": "@jupyter-widgets/base",
      "model_module_version": "1.1.0",
      "model_name": "LayoutModel",
      "state": {}
     },
     "3b5571ab8e3c4a52b350c67d32f7fa46": {
      "model_module": "@jupyter-widgets/base",
      "model_module_version": "1.1.0",
      "model_name": "LayoutModel",
      "state": {}
     },
     "3b91806b944b4e82a605cdebbcd7887b": {
      "model_module": "@jupyter-widgets/output",
      "model_module_version": "1.0.0",
      "model_name": "OutputModel",
      "state": {
       "layout": "IPY_MODEL_e42c063910d64995bb9a11fde034af61",
       "outputs": [
        {
         "data": {
          "image/png": "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\n",
          "text/plain": "<Figure size 432x288 with 1 Axes>"
         },
         "metadata": {},
         "output_type": "display_data"
        }
       ]
      }
     },
     "3bbaf9f491a7431aa89a0701c86fb657": {
      "model_module": "@jupyter-widgets/controls",
      "model_module_version": "1.4.0",
      "model_name": "IntSliderModel",
      "state": {
       "description": "mc1_shape_conv",
       "layout": "IPY_MODEL_49deb6b4f60244f9af46953f1c30f326",
       "max": 5,
       "min": -5,
       "style": "IPY_MODEL_b1df308efc48489798d329ad9a3152e8"
      }
     },
     "3bf15048cc7341f5bac342d936bdd007": {
      "model_module": "@jupyter-widgets/controls",
      "model_module_version": "1.4.0",
      "model_name": "IntSliderModel",
      "state": {
       "description": "SigXsecOverSM",
       "layout": "IPY_MODEL_87ac77f69b9648c68e8e31222398a0cc",
       "max": 10,
       "style": "IPY_MODEL_88f537ee1f8443a4944cf1e3e9478a95",
       "value": 5
      }
     },
     "3c94ca600a154ca399845e1a428d9a03": {
      "model_module": "@jupyter-widgets/controls",
      "model_module_version": "1.4.0",
      "model_name": "IntSliderModel",
      "state": {
       "description": "SigXsecOverSM",
       "layout": "IPY_MODEL_611430730058472799123f5184529c0d",
       "max": 10,
       "style": "IPY_MODEL_1cce1d6817be435a8f0497ba55f3ddb7",
       "value": 5
      }
     },
     "3d0f4b6a2eba41aebd294103ab4deb11": {
      "model_module": "@jupyter-widgets/controls",
      "model_module_version": "1.4.0",
      "model_name": "SliderStyleModel",
      "state": {
       "description_width": ""
      }
     },
     "3d4059b0edae464996699bebe3b93833": {
      "model_module": "@jupyter-widgets/base",
      "model_module_version": "1.1.0",
      "model_name": "LayoutModel",
      "state": {}
     },
     "3d5aeaeb997c4e96848bd891ceadb017": {
      "model_module": "@jupyter-widgets/base",
      "model_module_version": "1.1.0",
      "model_name": "LayoutModel",
      "state": {}
     },
     "3d60c0fdeb8646a9bf82085b8c2bb0be": {
      "model_module": "@jupyter-widgets/base",
      "model_module_version": "1.1.0",
      "model_name": "LayoutModel",
      "state": {}
     },
     "3d62394d935f4d198c524601086a6b38": {
      "model_module": "@jupyter-widgets/controls",
      "model_module_version": "1.4.0",
      "model_name": "SliderStyleModel",
      "state": {
       "description_width": ""
      }
     },
     "3dbcc2cfed7c43179a557c6c9b7c4c80": {
      "model_module": "@jupyter-widgets/controls",
      "model_module_version": "1.4.0",
      "model_name": "SliderStyleModel",
      "state": {
       "description_width": ""
      }
     },
     "3dc3187a154d469c94d1d7720afc8946": {
      "model_module": "@jupyter-widgets/controls",
      "model_module_version": "1.4.0",
      "model_name": "IntSliderModel",
      "state": {
       "description": "mc2_shape_conv",
       "layout": "IPY_MODEL_f91aa1d5c8f946dfa9fb5443aa2049d8",
       "max": 5,
       "min": -5,
       "style": "IPY_MODEL_3e06afc29d014e199a8aa29921215033"
      }
     },
     "3deaf491602c48d19af52a49aebaeb18": {
      "model_module": "@jupyter-widgets/controls",
      "model_module_version": "1.4.0",
      "model_name": "SliderStyleModel",
      "state": {
       "description_width": ""
      }
     },
     "3e06afc29d014e199a8aa29921215033": {
      "model_module": "@jupyter-widgets/controls",
      "model_module_version": "1.4.0",
      "model_name": "SliderStyleModel",
      "state": {
       "description_width": ""
      }
     },
     "3e1c3822ac34487999ac1b46f50b74f6": {
      "model_module": "@jupyter-widgets/controls",
      "model_module_version": "1.4.0",
      "model_name": "SliderStyleModel",
      "state": {
       "description_width": ""
      }
     },
     "3e5a67cb2c85445aa37551c3d6509997": {
      "model_module": "@jupyter-widgets/base",
      "model_module_version": "1.1.0",
      "model_name": "LayoutModel",
      "state": {}
     },
     "3e835208296a4ce3ac99dbb1e3167964": {
      "model_module": "@jupyter-widgets/controls",
      "model_module_version": "1.4.0",
      "model_name": "IntSliderModel",
      "state": {
       "description": "mc1_weight_var1",
       "layout": "IPY_MODEL_b639fa86d6e54fe99a89e80279713f27",
       "max": 5,
       "min": -5,
       "style": "IPY_MODEL_2874931d84e84c319001559ba5aeb93c",
       "value": -1
      }
     },
     "3f1c337ddac5466a89e17d70ff059405": {
      "model_module": "@jupyter-widgets/controls",
      "model_module_version": "1.4.0",
      "model_name": "SliderStyleModel",
      "state": {
       "description_width": ""
      }
     },
     "3f1fe68ea1314a5c88dc219278efc0ed": {
      "model_module": "@jupyter-widgets/controls",
      "model_module_version": "1.4.0",
      "model_name": "FloatSliderModel",
      "state": {
       "description": "mc1_weight_var1",
       "layout": "IPY_MODEL_1664a4a5ec154b8ca4fdc90e8d654d11",
       "max": 5,
       "min": -5,
       "step": 0.1,
       "style": "IPY_MODEL_5d2f5f170688451696469eef0a7e0728"
      }
     },
     "4042357bd06f45239836cb654733f1c6": {
      "model_module": "@jupyter-widgets/base",
      "model_module_version": "1.1.0",
      "model_name": "LayoutModel",
      "state": {}
     },
     "40abc52aa6994c74b2e1756e74e4a5b7": {
      "model_module": "@jupyter-widgets/base",
      "model_module_version": "1.1.0",
      "model_name": "LayoutModel",
      "state": {}
     },
     "41485b6858b64b6ebb2540c482bede4e": {
      "model_module": "@jupyter-widgets/controls",
      "model_module_version": "1.4.0",
      "model_name": "VBoxModel",
      "state": {
       "_dom_classes": [
        "widget-interact"
       ],
       "children": [
        "IPY_MODEL_71bb809472c24186bf5dc1b4411a1ce6",
        "IPY_MODEL_c8284073b5b94486b42c5bb56f1e423b",
        "IPY_MODEL_3bbaf9f491a7431aa89a0701c86fb657",
        "IPY_MODEL_bb9119e70e7142329c00bcc117088631",
        "IPY_MODEL_cf15b393f01b40169ca4881187cc4652",
        "IPY_MODEL_2e99ce718aaa44acb92fa797f4a38f6a"
       ],
       "layout": "IPY_MODEL_e31ce6e19e89490e9a67db665c277583"
      }
     },
     "417afa7a21804ea29bde6e9769599fec": {
      "model_module": "@jupyter-widgets/controls",
      "model_module_version": "1.4.0",
      "model_name": "IntSliderModel",
      "state": {
       "description": "mc2_weight_var1",
       "layout": "IPY_MODEL_e7062c4a4c0646798cdc6eeffb8f22c4",
       "max": 5,
       "min": -5,
       "style": "IPY_MODEL_2870f932c3444db084c0a9d7e96c4d6a",
       "value": 3
      }
     },
     "421c9f90d30a40428952b8bddad782bc": {
      "model_module": "@jupyter-widgets/base",
      "model_module_version": "1.1.0",
      "model_name": "LayoutModel",
      "state": {}
     },
     "4278baed9bfc4ce3a4416b5c7adf8c00": {
      "model_module": "@jupyter-widgets/controls",
      "model_module_version": "1.4.0",
      "model_name": "SliderStyleModel",
      "state": {
       "description_width": ""
      }
     },
     "431b6596f881493ca78bb4d91655fbb3": {
      "model_module": "@jupyter-widgets/controls",
      "model_module_version": "1.4.0",
      "model_name": "SliderStyleModel",
      "state": {
       "description_width": ""
      }
     },
     "43ca77bdfa34414e948229a09a2c556d": {
      "model_module": "@jupyter-widgets/controls",
      "model_module_version": "1.4.0",
      "model_name": "IntSliderModel",
      "state": {
       "description": "mc1_weight_var1",
       "layout": "IPY_MODEL_b19fe34b089942f09c73ade6c684edcb",
       "max": 5,
       "min": -5,
       "style": "IPY_MODEL_159409eb99414b97ab9416595c4b641b"
      }
     },
     "440fe475e37b4f8f98deca1d05ae4efb": {
      "model_module": "@jupyter-widgets/controls",
      "model_module_version": "1.4.0",
      "model_name": "IntSliderModel",
      "state": {
       "description": "mc1_weight_var1",
       "layout": "IPY_MODEL_7f90ac1c981743f68a2c9686c3c15ade",
       "max": 5,
       "min": -5,
       "style": "IPY_MODEL_6a7dabde567045ad9a4212eb3c27f371"
      }
     },
     "4470c7bfa7104a6ba1191bafbc35e8a3": {
      "model_module": "@jupyter-widgets/base",
      "model_module_version": "1.1.0",
      "model_name": "LayoutModel",
      "state": {}
     },
     "44acd5b4fd6e4e93bd6fff5c53b2687e": {
      "model_module": "@jupyter-widgets/controls",
      "model_module_version": "1.4.0",
      "model_name": "IntSliderModel",
      "state": {
       "description": "mc1_weight_var1",
       "layout": "IPY_MODEL_21f36c3345b5483a9a65260a2bafdf81",
       "max": 5,
       "min": -5,
       "style": "IPY_MODEL_646dd1095c094e018d1abb5d2b20494c"
      }
     },
     "46319e7096794a9c822643cf56e181a3": {
      "model_module": "@jupyter-widgets/base",
      "model_module_version": "1.1.0",
      "model_name": "LayoutModel",
      "state": {}
     },
     "4635079f74a9458b9e1e03449d2383c0": {
      "model_module": "@jupyter-widgets/base",
      "model_module_version": "1.1.0",
      "model_name": "LayoutModel",
      "state": {}
     },
     "467041e8259f44b783a5ac75e8ec5f8d": {
      "model_module": "@jupyter-widgets/base",
      "model_module_version": "1.1.0",
      "model_name": "LayoutModel",
      "state": {}
     },
     "46b9578dc9354edab6100f6177b53c20": {
      "model_module": "@jupyter-widgets/controls",
      "model_module_version": "1.4.0",
      "model_name": "SliderStyleModel",
      "state": {
       "description_width": ""
      }
     },
     "46d7b743fe184ffbaa8301adf8bacb1a": {
      "model_module": "@jupyter-widgets/base",
      "model_module_version": "1.1.0",
      "model_name": "LayoutModel",
      "state": {}
     },
     "46dfb594164e4d5081bddf2ea80d895e": {
      "model_module": "@jupyter-widgets/controls",
      "model_module_version": "1.4.0",
      "model_name": "VBoxModel",
      "state": {
       "_dom_classes": [
        "widget-interact"
       ],
       "children": [
        "IPY_MODEL_724b8232238d4ade943134d48c063856",
        "IPY_MODEL_3e835208296a4ce3ac99dbb1e3167964",
        "IPY_MODEL_b5b5c85dbe234743b7d1608d344aa575"
       ],
       "layout": "IPY_MODEL_e670398b710f4b3b9e2e5b555c629a0e"
      }
     },
     "475468c3a1494196be0951fc4ec42d74": {
      "model_module": "@jupyter-widgets/controls",
      "model_module_version": "1.4.0",
      "model_name": "SliderStyleModel",
      "state": {
       "description_width": ""
      }
     },
     "47ce7ae5ab42476288defdcca3e1afd9": {
      "model_module": "@jupyter-widgets/base",
      "model_module_version": "1.1.0",
      "model_name": "LayoutModel",
      "state": {}
     },
     "482fcbf2cd914caea849a396d085c996": {
      "model_module": "@jupyter-widgets/controls",
      "model_module_version": "1.4.0",
      "model_name": "SliderStyleModel",
      "state": {
       "description_width": ""
      }
     },
     "484d37dd133240fcbe9faa2f33ed691e": {
      "model_module": "@jupyter-widgets/controls",
      "model_module_version": "1.4.0",
      "model_name": "FloatSliderModel",
      "state": {
       "description": "mc2_shape_conv",
       "layout": "IPY_MODEL_97e8b9f7207a4eb28d357f84765e2c04",
       "max": 5,
       "min": -5,
       "step": 0.1,
       "style": "IPY_MODEL_ba70f430e52d4ad99f8e62bb32942633"
      }
     },
     "490ad5047c0a4c8a8f108e969ff6e79e": {
      "model_module": "@jupyter-widgets/base",
      "model_module_version": "1.1.0",
      "model_name": "LayoutModel",
      "state": {}
     },
     "491e5240d56b452f940517d3fbd001fc": {
      "model_module": "@jupyter-widgets/base",
      "model_module_version": "1.1.0",
      "model_name": "LayoutModel",
      "state": {}
     },
     "49764b0d41b34c3294344f60904d15d8": {
      "model_module": "@jupyter-widgets/base",
      "model_module_version": "1.1.0",
      "model_name": "LayoutModel",
      "state": {}
     },
     "49a176496f81472cb638be3ad9ff3e5e": {
      "model_module": "@jupyter-widgets/output",
      "model_module_version": "1.0.0",
      "model_name": "OutputModel",
      "state": {
       "layout": "IPY_MODEL_a3c0167728bb430bb8a250b67aa37bba",
       "outputs": [
        {
         "data": {
          "image/png": "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\n",
          "text/plain": "<Figure size 720x360 with 1 Axes>"
         },
         "metadata": {},
         "output_type": "display_data"
        }
       ]
      }
     },
     "49d241f16eed4a1ab5949cfc7418d96e": {
      "model_module": "@jupyter-widgets/base",
      "model_module_version": "1.1.0",
      "model_name": "LayoutModel",
      "state": {}
     },
     "49deb6b4f60244f9af46953f1c30f326": {
      "model_module": "@jupyter-widgets/base",
      "model_module_version": "1.1.0",
      "model_name": "LayoutModel",
      "state": {}
     },
     "4ac0a3c0dbfb4b128a4b96ef1dad6179": {
      "model_module": "@jupyter-widgets/controls",
      "model_module_version": "1.4.0",
      "model_name": "SliderStyleModel",
      "state": {
       "description_width": ""
      }
     },
     "4ba9ae9db75b40e9918b9e7c55806aa7": {
      "model_module": "@jupyter-widgets/controls",
      "model_module_version": "1.4.0",
      "model_name": "IntSliderModel",
      "state": {
       "description": "SigXsecOverSM",
       "layout": "IPY_MODEL_71be7d3bbf524f2e9d40a062af6f7495",
       "max": 10,
       "style": "IPY_MODEL_153e6ce437c64bf8be9b30d2bdf13026",
       "value": 5
      }
     },
     "4c7dba74f7364390bfc8041e6e2db3ac": {
      "model_module": "@jupyter-widgets/controls",
      "model_module_version": "1.4.0",
      "model_name": "FloatSliderModel",
      "state": {
       "description": "mc2_weight_var1",
       "layout": "IPY_MODEL_bf02f44a9c2c49ed9ef4ec155f4d0cc7",
       "max": 5,
       "min": -5,
       "step": 0.1,
       "style": "IPY_MODEL_0b19d8eb621842d9abb140d43bf91fb0"
      }
     },
     "4d0de5a1477247ad900a94892c930c64": {
      "model_module": "@jupyter-widgets/base",
      "model_module_version": "1.1.0",
      "model_name": "LayoutModel",
      "state": {}
     },
     "4d46844fbead483da7ee9f5f1b78794d": {
      "model_module": "@jupyter-widgets/controls",
      "model_module_version": "1.4.0",
      "model_name": "SliderStyleModel",
      "state": {
       "description_width": ""
      }
     },
     "4dad7ab5b4f14d4387d0ec6d25926eb7": {
      "model_module": "@jupyter-widgets/controls",
      "model_module_version": "1.4.0",
      "model_name": "SliderStyleModel",
      "state": {
       "description_width": ""
      }
     },
     "4e50593f384745e18426450c6fd936fd": {
      "model_module": "@jupyter-widgets/controls",
      "model_module_version": "1.4.0",
      "model_name": "IntSliderModel",
      "state": {
       "description": "SigXsecOverSM",
       "layout": "IPY_MODEL_fba28037e2db4781b9081009e044e600",
       "max": 10,
       "style": "IPY_MODEL_482fcbf2cd914caea849a396d085c996",
       "value": 5
      }
     },
     "4e7d343222a14858b9af5967dde0d259": {
      "model_module": "@jupyter-widgets/controls",
      "model_module_version": "1.4.0",
      "model_name": "IntSliderModel",
      "state": {
       "description": "SigXsecOverSM",
       "layout": "IPY_MODEL_f1675723f35442b587b51a94cdf2faf1",
       "max": 5,
       "style": "IPY_MODEL_8baa24f2263d4940958849dcabb3add7",
       "value": 1
      }
     },
     "4eb3bd3d97d44588bd084e295023c370": {
      "model_module": "@jupyter-widgets/base",
      "model_module_version": "1.1.0",
      "model_name": "LayoutModel",
      "state": {}
     },
     "4fcf2bbe3339417f856b8a7c32ade0d3": {
      "model_module": "@jupyter-widgets/base",
      "model_module_version": "1.1.0",
      "model_name": "LayoutModel",
      "state": {}
     },
     "5014e59a0c2b48b98dc5ebd0a82cbf2b": {
      "model_module": "@jupyter-widgets/base",
      "model_module_version": "1.1.0",
      "model_name": "LayoutModel",
      "state": {}
     },
     "5016d6978ff848328b2105d590b1d067": {
      "model_module": "@jupyter-widgets/controls",
      "model_module_version": "1.4.0",
      "model_name": "VBoxModel",
      "state": {
       "_dom_classes": [
        "widget-interact"
       ],
       "layout": "IPY_MODEL_7140b42197b241b78caedb4f49427b1c"
      }
     },
     "50730646d9da4f409eb85b5326df7070": {
      "model_module": "@jupyter-widgets/controls",
      "model_module_version": "1.4.0",
      "model_name": "IntSliderModel",
      "state": {
       "description": "mc2_weight_var1",
       "layout": "IPY_MODEL_714e22c772cc42f7b63a68fb89463e21",
       "max": 5,
       "min": -5,
       "style": "IPY_MODEL_57f974812a604d82b68c3c6c4111b20f"
      }
     },
     "508536d5376c406091e46799c85b7865": {
      "model_module": "@jupyter-widgets/output",
      "model_module_version": "1.0.0",
      "model_name": "OutputModel",
      "state": {
       "layout": "IPY_MODEL_c705950ab89647d79a096ec585471cf3",
       "outputs": [
        {
         "data": {
          "image/png": "iVBORw0KGgoAAAANSUhEUgAAAXoAAAD8CAYAAAB5Pm/hAAAABHNCSVQICAgIfAhkiAAAAAlwSFlzAAALEgAACxIB0t1+/AAAADl0RVh0U29mdHdhcmUAbWF0cGxvdGxpYiB2ZXJzaW9uIDIuMi4yLCBodHRwOi8vbWF0cGxvdGxpYi5vcmcvhp/UCwAAHNFJREFUeJzt3X1sXNd55/HvI5GyxNamLIqhXslxa6NSumqcgLDTOFikFtp1Vbc26tRId+y1s0a4QJPCdnfR2BGQyAGIdbbYSi4QLDBIspG6TB0jimtHMHZrKA66m27cUkkaJZUDy45ImytRbxajQK+Un/1j7khD8t7hXPLO25nfxyA4c+bO3HOt4TNnnvNm7o6IiIRrSaMrICIitaVALyISOAV6EZHAKdCLiAROgV5EJHAK9CIigVOgFxEJnAK9iEjgFOhFRALX0egKAKxevdpzuVyjqyEi0lIOHDhw0t175zuuKQJ9LpdjdHS00dUQEWkpZjZWzXFK3YiIBE6BXkQkcAr0IiKBa4ocvUizOrRpc+Jjm187VMeaiCycWvQiIoFTi15kgZJa+2rpS7OpqkVvZkfM7KCZ/dDMRqOyVWb2spm9Hv2+MSo3M/srMztsZj8ysw/U8gJERKSyNKmb33L3W919MLr/BLDf3W8B9kf3AX4XuCX6GQL+W1aVFRGR9BaTo78H2B3d3g3cW1a+x4u+B6w0s7WLOI+IiCxCtYHegb8zswNmNhSV9bn70ej2MaAvur0eeKvsuW9HZTOY2ZCZjZrZ6IkTJxZQdRERqUa1nbEfdvcJM3sP8LKZvVb+oLu7mXmaE7t7ASgADA4OpnquiIhUr6oWvbtPRL+PA88DtwGTpZRM9Pt4dPgEsLHs6RuiMhERaYB5A72Z/ZKZXV+6DfwO8GPgReCh6LCHgBei2y8C/y4affNBYKosxSMiInVWTeqmD3jezErHf83d/6eZ/RPwnJk9AowB90fHvwRsAw4D54CPZ15rkYxVmgEr0urmDfTu/ibwvpjyU8DWmHIHPplJ7URakCZSSbPREggiIoFToBcRCZwCvYhI4BToRUQCp0AvIhI4BXoRkcBpPXqROtGwS2kUBXqRBtMHgNSaUjciIoFToBcRCZwCvYhI4BToRUQCp85YaStapVLakVr0IiKBU6AXEQmcAr2ISOAU6EVEAqdALyISOAV6EZHAKdCLiAROgV5EJHAK9CIigVOgFxEJnAK9iEjgFOhFRAKnQC8iEjgFehGRwCnQi4gEToFeRCRw2nhEgqQNRkSuUaAXaVJJH1abXztU55pIq1PqRkQkcFUHejNbamY/MLN90f2bzOxVMztsZl83s2VR+XXR/cPR47naVF1ERKqRpkX/KFD+nfELwE53vxl4B3gkKn8EeCcq3xkdJyIiDVJVoDezDcDvAV+K7htwJ/CN6JDdwL3R7Xui+0SPb42OFxGRBqi2Rb8L+HPg3eh+D3DG3aej+28D66Pb64G3AKLHp6LjRUSkAeYN9GZ2N3Dc3Q9keWIzGzKzUTMbPXHiRJYvLSIiZapp0d8B/IGZHQGepZiyeQZYaWal4ZkbgIno9gSwESB6vBs4NftF3b3g7oPuPtjb27uoixARkWTzBnp3f9LdN7h7DvgY8G13zwOvAB+NDnsIeCG6/WJ0n+jxb7u7Z1prERGp2mLG0X8a+DMzO0wxB//lqPzLQE9U/mfAE4urooiILEaqmbHu/h3gO9HtN4HbYo65APxRBnUTEZEMaGasiEjgFOhFRAKnRc2kpWmVSpH5qUUvIhI4BXoRkcAp0IuIBE6BXkQkcOqMFWkx2nlK0lKLXkQkcAr0IiKBU6AXEQmcAr2ISODUGSstb9/UFDtPnuDY9DRrOjp4fHUvd3d3N7paIk1DgV5a2r6pKT47eYwL0ZYHR6en+ezkMQAFe5GIUjfS0naePHE1yJdccGfnSW1PKVKiQC8NMzIyQi6XY8mSJeRyOUZGRlK/xrHp6VTlIu1IqRtpiJGREYaGhjh37hwAY2NjDA0NAZDP56t+nTUdHRyNCeprOvTWFilRi14aYvv27VeDfMm5c+fYvn17qtd5fHUvy81mlC034/HV2nBepESBXmouLkUzPj4ee+z4+HiqlM7d3d18vm8Nazs6MGBtRwef71ujjliRMuazOrIaYXBw0EdHRxtdDamB2SkagK6uLlasWMGpU6fmHN/T08P58+fnHF8oFGJTOtp45BqtddN+zOyAuw/Od5xa9JKZuJZ4UooGigG8XOl+FikdEblGgV4yUWq5j42N4e5XO1fHxsZijz99+jSFQoGBgQHMjIGBAQqFAqdPn449PinVIyLzU+pGMpHL5WKD+tKlS7ly5cqc8oGBAY4cOVL16yQdr9TNNUrdtB+lbqSuklrcV65ciU3RDA8Pxx4/PDyceHwW4+5F2pECvWSiv78/tryUkpmdokkaK5/P52OPB2JTQ/umpmp2Ta3m0KbNsT8iSt1IJpJG11QK6mms6+yMnRi1tqOD/b9686JfP2RK6YRLqRupq6SWeBZBHrTUgchiaJ64ZCafz2cW2GfTUgciC6cWvbQELXUgsnAK9NIStNSBtJJmGyGm773SMu7u7lZgl6aX1cqsWVKLXoK1b2qKrW8c5td/+hpb3zisoZhSF1mtzJqleQO9mS03s380s382s5+Y2VNR+U1m9qqZHTazr5vZsqj8uuj+4ejxXG0vQeqt2b6WxiltMXh0ehrn2haD+6am9AEgqaR9v1dambVRqmnRXwTudPf3AbcCd5nZB4EvADvd/WbgHeCR6PhHgHei8p3RcRKIpDVtmi3YJ20xODx5LPEDQMKSRYMk9ft9Rzf9N8Q/lDSpsB7mDfRe9Ivobmf048CdwDei8t3AvdHte6L7RI9vNZs1XEJaVjN+LY2TNL5+yl17zLaBrBokC3m/D2+9jq7OmWVdnSQu+1EPVXXGmtlS4ABwM/BF4A3gjLuX/preBtZHt9cDbwG4+7SZTQE9wMkM6y0N0oxfS+MkjbtPoolXYakUoGM7RHfEd/KPj5+NLx8bS3xOfsuyYh32X2R8yunvNoa3XtewjlioMtC7+xXgVjNbCTwPbFrsic1sCBiCxn6lkXT6+/tjV5dstn/Dx1f38tnJYzNa78vNWG7GmXffnXO8Jl6FJbFBUiFAx0l8v3dXTlLktyy7GvCbQapRN+5+BngF+E1gpZmV/jo2ABPR7QlgI0D0eDcwZyshdy+4+6C7D/b2atJLq6i0umQzSRp3/5n39GniVRtIanjMF6BnS3y/b72OkYOXyO06y5Knfk5u11lGDl5acH1rbd5mjJn1Apfd/YyZrQB+m2IH6yvAR4FngYeAF6KnvBjd/7/R49/2Zlg5TTJR+vq5fft2xsfH6e/vZ3h4uKFfS5NUGne/8+QJjk1Ps6ajg8dX9wY9Pj9pBcuQFzsbHh6OXWRveOvcb3OV5F//E7jrXbbvt7I0TPE1hr51gXOXi8eNTTlD37pQfE5SSz7pm8SO2g8EmHf1SjP7DYqdq0spfgN4zt0/b2a/QjHIrwJ+ADzg7hfNbDnw18D7gdPAx9z9zUrn0OqVMp+Ql9u9/8n49tZz/7m2/QYhB3rg6laWMxokr/9JJq+d23WWsam5sXOg2zjy2PXpXmwRgb7a1SvnbdG7+48oBu3Z5W8Ct8WUXwD+qMp6ijSNfVNTbdXSD0Glbyuxi+ztSA70Iwcvze1ATWidj8cE+UrlFc9R8RnZUA+UCNcmWJU6b0vj64GGBftGtfRbyeaP/b9MXmfk4KVUqZj+bott0VfqA0g8x8hIzVOfWgKhzVWaVNIKM2CzkjTBSuPr28P2/RevBuCSc5eL5XESx8pvvS79OeowB0WBvo1VmlTSKjNgs6KNTZpHIxoYaVMx+S3LKPz+cga6DaOYmy/8/vKKQyoTz1GHOShK3bSx+Wb9pZpw0uIaubHJwZ/F/6Fvuam55ibUQ6NWflxIKibtWPnEc9RhDor2jG1jS5YsIe7fv7RiRdJj78ZMOKq1Wo+6mZ2jh+L4+nqseZ82z5z0AZA2d9+Mo25yuVzsBKWBgQGOHDky9wkpJj9VMjt/DsVUzHyt9EzO8d//x4I/xLRnrMwrcVJJf3/Fx0KkjU2aQ6UZrX+xdh3rOjtZYsa6zk7+Yu26zM67kFRMZueowzdkpW7aWOKkkmiWa6XHQqSNTRovacmBVStgx6mjnIu+tBydnmbHqaOsO5hdMK7HsgWNWhpBLfo2ls/nKRQKDAwMYGYMDAxQKBSujj9Oekwa6+DPxmN/mlWaztWkJQeAVKNiZCbl6KUlhDAzNmlcfFZB+tCz6VIZC8nRx842rfDhP7tzFYqBu1KjIe4cDz7wAHGRyoC//sPlVU90akp1mBmrQC8tQYF+fmkDfZKkD4CFBO11nZ2xo5kSO1cT5FYuiR2x0rMCzk+TqhM1zQzYumiGJRBEpDXUeiZt6jXeIXFPgLRjx4e3Xhc7YgWSUzpxwTvtDNhQKEcvIlVZyKYzAwnj0Pv7++Nz9zu6Y3+SRqycPp9Q14TJSWlnwIZCgT4w7bRsgcxU607ahQy5TVoqYNu2bfEzryus6Z7fsowjj13Pu5+7gSOPXU9+y7LECU1J5QtdjKzVKdAHZL4lDfQBINU4tGlz7M9CNp1Jaom/9NJL8WmglC3rtGvOpP1gCIVy9AFJyqE++uijnD9/vu7TyqU5ZJW7X+imM3Fjxx/85tyx8pC+ZZ24P2tCvj0p119pMbIQKNAHJClXeurUnJ0cg163RmZKSt8cIv0ondg13hdgIWvLJNYpxSSktB8MoVCgD0jSrMIk9Vg1LxRZbErSzJOa6q2RLetm27i7HpSjD0hSDrWnpyf2+FDXrclaacGzo9PTONc2Jdk3NcW+qSm2vnGYX//pa2x94zD7pmq//2czOrRpc6q1aOqxtoxcoxZ9QJJyqNB+69ZkKWlTkuHJY1yMbkNz7EqVhcScfoVJa0k7dK07mJwWaceWdaMo0AemUg41bSeaFCVtPjIVM6u8tCtVKwT6tDN1K+X0v3j+WOyHYdLEJakvBfo2kVUnWq0141IHSZuSJGmVXamy7DNo1/HprUKBXmQej6/ujd2UZLkZZ2I2Yeno6YxtLR/8WU2rWXOVNkjp35XdKBrJnjpjReaRtCnJZ97Tx3KbGciWm9F3X19jKtpAC9ksW+pHLXqRKlTalGT2sMs9H1pZ59pdk3ZlxqxWcmzX8emtQoFeZBHiPgD2NKguaVdmzHolR42iaV4K9BIrqVO0GTeUlqJKKzPGBeC0x0vrUqCXVNKOimnXD4Yz/3CGyb2TXD51mc6ezmLefm1tz5l25Eul8qbbnEMWRZ2xTS7NqpNJqw5KfZ35hzNMfHWCy6eKzeXLpy4z8dWJikvwJhk5eIncrrMseern5HadrfgaaVdmTCpftQKGvnWBsSnHuZbSWUj9pTmoRd/EZm/dlvWqk/oQqI3JvZP4pZmtZb+UfvJQ2hx62vVjstq1SZqfAn0TW8jWbXEU0GsjaWbp5Ycvx5annTyUNoeeduRL0vEPfvNCJvWX5qFA38Qqbd02MjIyZ0mDD9S5ftVox07dgQpL8KbJfS9ktmnakS9xx2/ff1GTnwKjQN/EkpYdXrVqVWxKZ8cNyWO9m03I3zKSUiLbblmaKhWT5ZrtabTr5hwhU2dsE0tadvjKO+/EpnR2njxRz+pJgsTt816/kmpj6kqzTdN00mZVf+XnW9e8LXoz20hxDkgf4EDB3Z8xs1XA14EccAS4393fMTMDngG2AeeAh939+7WpftiSlh1+8IEHYo9vlcW02kH89nnpct9JOXQg04lOSedWYA+HecxSqzMOMFsLrHX375vZ9cAB4F7gYeC0uz9tZk8AN7r7p81sG/CnFAP97cAz7n57pXMMDg766Ojo4q+mTazr7IxdTXFtRwf7f/XmBtSo9rLa9zRLaZf5ze06G5uKGYgCeLW5+0qvc+Sx62Ofo3HxTWzHwjerMbMD7j4433Hztujd/ShwNLp91swOAeuBe4CPRIftBr4DfDoq3+PFT5DvmdlKM1sbvY6kkJTHTlpN8fHVvfWqWs0kBc9GybI+WeXu03bSZr3UgbSeVDl6M8sB7wdeBfrKgvcxiqkdKH4IvFX2tLejstmvNWRmo2Y2euKEcstpJK2m2Codse0qq9x92glQlYZpSnuourliZr8M7AUec/efW9nyrO7uZpZqkK27F4ACFFM3aZ4borTDJSutpthOmjGlU0kWufu0o2K0KYhU1aI3s06KQX7E3b8ZFU9G+ftSHv94VD4BbCx7+oaoTBKUZsCOjY3h7leHS7brRtPtJm0LPe2omLSvL+GpZtSNAV8GDrn7X5Y99CLwEPB09PuFsvJPmdmzFDtjp5SfryxpBuzOS5eCbbU3Wy6+kRYybj3NqBiNi5dq/truAB4EDprZD6Oyz1AM8M+Z2SPAGHB/9NhLFEfcHKY4vPLjmdY4QEkzYDVccuHSpnQa+cFT6007tCmIVDPq5v8ASd/xtsYc78AnF1mvtrJm6dLY4ZJrOtTqbRe1HreucfHtTZGkCYQ8XDJkSePlRZqNAn0TKOXh5+w9+nRP7LZ0zTqiRESakwJ9k0iz92jafLI+GETamwJ9HR3atJl9U1NzWu6hjqxpRhrtI+1I7/o62jc1NSMXf3R6ms9OHgNQsBeRmlGgr6Ptl09yedYichfc2X75JHue7GlQrUQkdFqPvo5Km0VXWy4ikgUF+jrq7OlMVS4ikgUF+hoZGRkhl8uxZMkScrkcIyMj9N3Xhy2bOffMlhl99/UlvIqIyOIp0FcpLnAnlSctUgaw/uH1V1vwnT2drH94PSs/tLKmdb//yY7YHxFpD/prr0IpcM/ejPu73/0uu3fvnlO+YsWK2EXKLu+9zK/911+reWCX7Gj2q4RAgb4KSatLFgoFrly5Mqd89rEl6nQVkUZQ6qYKSatLzg7y81Gnq4g0glr0Vejv72dsbGxO+dKlS2ODfbcZF2HOImWr27DTVX0BIo2nFn0VhoeH6erqmlHW1dXF0NBQbPn1n1jP6k/M7HRd/Ynad7qKiMRRc6sK+XweYM6ervl8njvuuGNO+dPTTwM0fWCv1NrWQmgi4TD3xm8QPDg46KOjo42uRma27N7S6CosWlaBvtVTNxp1IzW3Y+F7Q5vZAXcfnO+41v4rbLBDmzbHP9DiwQ1aP0CnpYAuIWuvv+aMtVswFJHWpM5YEZHAKdCLiAROgV5EJHAK9CIigVOgFxEJnAK9iEjgND5QgpQ0Ln7LTf11rolI46lFP0vcRiKHNm2O/RERaQVq0ZdJ2mBk1QOrmn7dGqmOZsBKO1KLvkzSBiOTeycbVCMRkcVToC+TtMGIdoYSkVamQF+mvz++o047Q4lIKws60Md1rFZy5d9cwZbZjDJbZvS14c5QreLgz8Zjf0TkmnkDvZl9xcyOm9mPy8pWmdnLZvZ69PvGqNzM7K/M7LCZ/cjMPlDLyldS6lgdGxvD3a92rJaCfdyHwMoPrWT9wzN3hlr/sHaGEpHWNu/GI2b2r4FfAHvc/V9FZf8FOO3uT5vZE8CN7v5pM9sG/CmwDbgdeMbdb5+vErXYeCSXy8Xu8zowMMDw8PCM0TVQ3AJQo2ual1rpEqw6bDwyb4ve3f8eOD2r+B5gd3R7N3BvWfkeL/oesNLM1lZf7ewkdayOj49rdI2ItJWF5uj73P1odPsYUEpirwfeKjvu7ais7pI6Vvv7+zW6RkTayqI7Y72Y+0m98ayZDZnZqJmNnjhxYrHVmGN4eJiurq4ZZV1dXQwPD2t0jYi0lYUG+slSSib6fTwqnwA2lh23ISqbw90L7j7o7oO9vb0LrEayfD5PoVBgYGAAM2NgYIBCoUA+n0/8ENDoGhEJ0UKXQHgReAh4Ovr9Qln5p8zsWYqdsVNlKZ66y+fz5PP5GWWHNm3mA8COG7rZeekSx6anWdPRweM3dLNHHbHSALkLX0t1/JHl/7ZGNZFQzRvozexvgI8Aq83sbeBzFAP8c2b2CDAG3B8d/hLFETeHgXPAx2tQ50W5tqF3T/Rf0Z5GVahNaRSNSP3MG+jd/Y8THtoac6wDn1xspUREJDtBz4wVEREFehGR4CnQi4gELtiNR7bs3tLoKgjqdC2XdnRN2tfRaBxJEmygl/pSQBdpXkrdiIgEToFeRCRwSt1IKkrRiLSeIFr0aXeSEhFpJy3fot/4HzYy8dUJ/FJxAc2xsTEe/PcPamcoEZFIywf6yb2TV4N8iV9yJvdOKtAvglI0IuFo+dRN0mYh2kRERKSo5Vv0nT2dsUFdm4hIo2Q1MSqr82oilbR8i77vvj5smc0os2WmTURERCIt36Iv5eEn905y+dRlOns66buvT/n5KigPL9IeWj7QQzHYK7AnB+4tN8XvkSsi7SGIQC+VqeUu0t5aPkcvIiKVqUXfgtRCF5E0FOibmAK6iGRBgb6O1FkqIo2gQN8E1HJvTY2aGJWWJlKJOmNFRAKnQC8iEjgFehGRwClHvwjKrYtIK1CLXkQkcGrRl1ELXURCpEAvUkGrDKFcCA27bB/BBnq1zkVEilo+0Cugi4hUps5YEZHA1aRFb2Z3Ac8AS4EvufvTtTiPSFZCzsWnpdx9eDJv0ZvZUuCLwO8C7wX+2Mzem/V5RESkOrVo0d8GHHb3NwHM7FngHuBfanAukVTUcl+4Sv/v1NpvbrUI9OuBt8ruvw3cXoPziCRSQK8vpXuaW8NG3ZjZEDAU3f2Fmf00g5ddDZzM4HVaia451t11qUgdteS/sy3u6S15zak9NeP/UtprHqjmoFoE+glgY9n9DVHZDO5eAApZntjMRt19MMvXbHa65vaga24PtbrmWgyv/CfgFjO7ycyWAR8DXqzBeUREpAqZt+jdfdrMPgX8L4rDK7/i7j/J+jwiIlKdmuTo3f0l4KVavPY8Mk0FtQhdc3vQNbeHmlyzuXstXldERJqElkAQEQlcMIHezO4ys5+a2WEze6LR9akFM/uKmR03sx+Xla0ys5fN7PXo942NrGPWzGyjmb1iZv9iZj8xs0ej8iCv28yWm9k/mtk/R9f7VFR+k5m9Gr2/vx4NdAiKmS01sx+Y2b7oftDXbGZHzOygmf3QzEajspq8r4MI9G207MJXgbtmlT0B7Hf3W4D90f2QTAP/0d3fC3wQ+GT0bxvqdV8E7nT39wG3AneZ2QeBLwA73f1m4B3gkQbWsVYeBQ6V3W+Ha/4td7+1bEhlTd7XQQR6ypZdcPdLQGnZhaC4+98Dp2cV3wPsjm7vBu6ta6VqzN2Puvv3o9tnKQaC9QR63V70i+huZ/TjwJ3AN6LyYK63xMw2AL8HfCm6bwR+zQlq8r4OJdDHLbuwvkF1qbc+dz8a3T4G9DWyMrVkZjng/cCrBHzdUQrjh8Bx4GXgDeCMu09Hh4T4/t4F/DnwbnS/h/Cv2YG/M7MD0UoBUKP3dctvPCLXuLubWZDDqMzsl4G9wGPu/vNig68otOt29yvArWa2Enge2NTgKtWUmd0NHHf3A2b2kUbXp44+7O4TZvYe4GUze638wSzf16G06KtadiFQk2a2FiD6fbzB9cmcmXVSDPIj7v7NqDj463b3M8ArwG8CK82s1DAL7f19B/AHZnaEYtr1Tor7WYR8zbj7RPT7OMUP9Nuo0fs6lEDfzssuvAg8FN1+CHihgXXJXJSr/TJwyN3/suyhIK/bzHqjljxmtgL4bYr9Eq8AH40OC+Z6Adz9SXff4O45in+733b3PAFfs5n9kpldX7oN/A7wY2r0vg5mwpSZbaOY5ystuzDc4Cplzsz+BvgIxRXuJoHPAX8LPAf0A2PA/e4+u8O2ZZnZh4H/DRzkWv72MxTz9MFdt5n9BsVOuKUUG2LPufvnzexXKLZ2VwE/AB5w94uNq2ltRKmb/+Tud4d8zdG1PR/d7QC+5u7DZtZDDd7XwQR6ERGJF0rqRkREEijQi4gEToFeRCRwCvQiIoFToBcRCZwCvYhI4BToRUQCp0AvIhK4/w/GjlkALuM8rgAAAABJRU5ErkJggg==\n",
          "text/plain": "<Figure size 432x288 with 1 Axes>"
         },
         "metadata": {},
         "output_type": "display_data"
        }
       ]
      }
     },
     "5104e65ea9784a58b846fa426e3734b5": {
      "model_module": "@jupyter-widgets/controls",
      "model_module_version": "1.4.0",
      "model_name": "IntSliderModel",
      "state": {
       "description": "mc2_weight_var1",
       "layout": "IPY_MODEL_fc6affd680b94fd48e7440dcef8cc4fd",
       "max": 5,
       "min": -5,
       "style": "IPY_MODEL_86df9cdf283b41e8bad874b3057a92d3"
      }
     },
     "5111dd2107c444e78707e22a04aa640c": {
      "model_module": "@jupyter-widgets/controls",
      "model_module_version": "1.4.0",
      "model_name": "SliderStyleModel",
      "state": {
       "description_width": ""
      }
     },
     "5233d42254a9464295681ea859284751": {
      "model_module": "@jupyter-widgets/controls",
      "model_module_version": "1.4.0",
      "model_name": "IntSliderModel",
      "state": {
       "description": "mc1_shape_conv",
       "layout": "IPY_MODEL_8e1754f0bd2f41bb81bec6449d35edca",
       "max": 5,
       "min": -5,
       "style": "IPY_MODEL_910254b4cfa44dad9a81268677cfe99e"
      }
     },
     "52b0c6e2e4464d5589059e4866ee5da5": {
      "model_module": "@jupyter-widgets/controls",
      "model_module_version": "1.4.0",
      "model_name": "VBoxModel",
      "state": {
       "_dom_classes": [
        "widget-interact"
       ],
       "children": [
        "IPY_MODEL_daf08d42c7064dc2be230818eee4b45e",
        "IPY_MODEL_eda41b047dcf4457887fca4da7aa45d7",
        "IPY_MODEL_2e36d06829c44f30ac13ca8b1b9d1edc",
        "IPY_MODEL_10b8541db2b64ce59436fb227291b928",
        "IPY_MODEL_f9552e197e0a46af847ac7666f91782b",
        "IPY_MODEL_6d12d94120874f55802bb6c54bca00e3",
        "IPY_MODEL_557b92df14b8413099c3de99867c358b"
       ],
       "layout": "IPY_MODEL_f235af08cc164c32903472e3bac18c07"
      }
     },
     "52c1039261174439b55b0d55b62bb6f7": {
      "model_module": "@jupyter-widgets/base",
      "model_module_version": "1.1.0",
      "model_name": "LayoutModel",
      "state": {}
     },
     "53378d1af3dc4003a34c40493fe9385d": {
      "model_module": "@jupyter-widgets/controls",
      "model_module_version": "1.4.0",
      "model_name": "IntSliderModel",
      "state": {
       "description": "SigXsecOverSM",
       "layout": "IPY_MODEL_822f217e79e94b84931bfc742e509f59",
       "max": 10,
       "style": "IPY_MODEL_cebf342427274d1ea75cf22665d8c355",
       "value": 5
      }
     },
     "54b2e859b3004a33beb3bd2d464f1777": {
      "model_module": "@jupyter-widgets/controls",
      "model_module_version": "1.4.0",
      "model_name": "SliderStyleModel",
      "state": {
       "description_width": ""
      }
     },
     "54e2964bc9e84f2f803444d40f8b3e49": {
      "model_module": "@jupyter-widgets/base",
      "model_module_version": "1.1.0",
      "model_name": "LayoutModel",
      "state": {}
     },
     "557b92df14b8413099c3de99867c358b": {
      "model_module": "@jupyter-widgets/output",
      "model_module_version": "1.0.0",
      "model_name": "OutputModel",
      "state": {
       "layout": "IPY_MODEL_0b443d6d3cdf44d99403e72f3fa0f849",
       "outputs": [
        {
         "ename": "TypeError",
         "evalue": "'int' object is not iterable",
         "output_type": "error",
         "traceback": [
          "\u001b[0;31m---------------------------------------------------------------------------\u001b[0m",
          "\u001b[0;31mTypeError\u001b[0m                                 Traceback (most recent call last)",
          "\u001b[0;32m~/.local/share/virtualenvs/pyhf-EFAVEj2h/lib/python3.6/site-packages/ipywidgets/widgets/interaction.py\u001b[0m in \u001b[0;36mupdate\u001b[0;34m(self, *args)\u001b[0m\n\u001b[1;32m    249\u001b[0m                     \u001b[0mvalue\u001b[0m \u001b[0;34m=\u001b[0m \u001b[0mwidget\u001b[0m\u001b[0;34m.\u001b[0m\u001b[0mget_interact_value\u001b[0m\u001b[0;34m(\u001b[0m\u001b[0;34m)\u001b[0m\u001b[0;34m\u001b[0m\u001b[0m\n\u001b[1;32m    250\u001b[0m                     \u001b[0mself\u001b[0m\u001b[0;34m.\u001b[0m\u001b[0mkwargs\u001b[0m\u001b[0;34m[\u001b[0m\u001b[0mwidget\u001b[0m\u001b[0;34m.\u001b[0m\u001b[0m_kwarg\u001b[0m\u001b[0;34m]\u001b[0m \u001b[0;34m=\u001b[0m \u001b[0mvalue\u001b[0m\u001b[0;34m\u001b[0m\u001b[0m\n\u001b[0;32m--> 251\u001b[0;31m                 \u001b[0mself\u001b[0m\u001b[0;34m.\u001b[0m\u001b[0mresult\u001b[0m \u001b[0;34m=\u001b[0m \u001b[0mself\u001b[0m\u001b[0;34m.\u001b[0m\u001b[0mf\u001b[0m\u001b[0;34m(\u001b[0m\u001b[0;34m**\u001b[0m\u001b[0mself\u001b[0m\u001b[0;34m.\u001b[0m\u001b[0mkwargs\u001b[0m\u001b[0;34m)\u001b[0m\u001b[0;34m\u001b[0m\u001b[0m\n\u001b[0m\u001b[1;32m    252\u001b[0m                 \u001b[0mshow_inline_matplotlib_plots\u001b[0m\u001b[0;34m(\u001b[0m\u001b[0;34m)\u001b[0m\u001b[0;34m\u001b[0m\u001b[0m\n\u001b[1;32m    253\u001b[0m                 \u001b[0;32mif\u001b[0m \u001b[0mself\u001b[0m\u001b[0;34m.\u001b[0m\u001b[0mauto_display\u001b[0m \u001b[0;32mand\u001b[0m \u001b[0mself\u001b[0m\u001b[0;34m.\u001b[0m\u001b[0mresult\u001b[0m \u001b[0;32mis\u001b[0m \u001b[0;32mnot\u001b[0m \u001b[0;32mNone\u001b[0m\u001b[0;34m:\u001b[0m\u001b[0;34m\u001b[0m\u001b[0m\n",
          "\u001b[0;32m<ipython-input-79-258daffff45f>\u001b[0m in \u001b[0;36mplot\u001b[0;34m(ax, order, **parsettings)\u001b[0m\n\u001b[1;32m      7\u001b[0m     \u001b[0;32mfor\u001b[0m \u001b[0mk\u001b[0m\u001b[0;34m,\u001b[0m\u001b[0mv\u001b[0m \u001b[0;32min\u001b[0m \u001b[0mparsettings\u001b[0m\u001b[0;34m.\u001b[0m\u001b[0mitems\u001b[0m\u001b[0;34m(\u001b[0m\u001b[0;34m)\u001b[0m\u001b[0;34m:\u001b[0m\u001b[0;34m\u001b[0m\u001b[0m\n\u001b[1;32m      8\u001b[0m         \u001b[0mpars\u001b[0m\u001b[0;34m[\u001b[0m\u001b[0mparnamedict\u001b[0m\u001b[0;34m[\u001b[0m\u001b[0mk\u001b[0m\u001b[0;34m]\u001b[0m\u001b[0;34m]\u001b[0m \u001b[0;34m=\u001b[0m \u001b[0mv\u001b[0m\u001b[0;34m\u001b[0m\u001b[0m\n\u001b[0;32m----> 9\u001b[0;31m     \u001b[0mmccounts\u001b[0m \u001b[0;34m=\u001b[0m \u001b[0;34m[\u001b[0m\u001b[0mp\u001b[0m\u001b[0;34m.\u001b[0m\u001b[0mexpected_sample\u001b[0m\u001b[0;34m(\u001b[0m\u001b[0mc\u001b[0m\u001b[0;34m,\u001b[0m\u001b[0ms\u001b[0m\u001b[0;34m,\u001b[0m \u001b[0mpars\u001b[0m\u001b[0;34m)\u001b[0m \u001b[0;32mfor\u001b[0m \u001b[0ms\u001b[0m \u001b[0;32min\u001b[0m \u001b[0;34m[\u001b[0m\u001b[0mc\u001b[0m\u001b[0;34m[\u001b[0m\u001b[0;34m'samples'\u001b[0m\u001b[0;34m]\u001b[0m\u001b[0;34m[\u001b[0m\u001b[0mo\u001b[0m\u001b[0;34m]\u001b[0m \u001b[0;32mfor\u001b[0m \u001b[0mo\u001b[0m \u001b[0;32min\u001b[0m \u001b[0morder\u001b[0m\u001b[0;34m]\u001b[0m\u001b[0;34m]\u001b[0m\u001b[0;34m\u001b[0m\u001b[0m\n\u001b[0m\u001b[1;32m     10\u001b[0m     \u001b[0mbottom\u001b[0m \u001b[0;34m=\u001b[0m \u001b[0;32mNone\u001b[0m\u001b[0;34m\u001b[0m\u001b[0m\n\u001b[1;32m     11\u001b[0m     \u001b[0;32mfor\u001b[0m \u001b[0mi\u001b[0m\u001b[0;34m,\u001b[0m\u001b[0mbardata\u001b[0m \u001b[0;32min\u001b[0m \u001b[0menumerate\u001b[0m\u001b[0;34m(\u001b[0m\u001b[0mmccounts\u001b[0m\u001b[0;34m)\u001b[0m\u001b[0;34m:\u001b[0m\u001b[0;34m\u001b[0m\u001b[0m\n",
          "\u001b[0;31mTypeError\u001b[0m: 'int' object is not iterable"
         ]
        }
       ]
      }
     },
     "558aec0d8c2a4e6486acba9a10b8c857": {
      "model_module": "@jupyter-widgets/base",
      "model_module_version": "1.1.0",
      "model_name": "LayoutModel",
      "state": {}
     },
     "56238036499d436fbcd6b652ac3ff269": {
      "model_module": "@jupyter-widgets/controls",
      "model_module_version": "1.4.0",
      "model_name": "SliderStyleModel",
      "state": {
       "description_width": ""
      }
     },
     "56c0d2162e71476eb173635bf2f02913": {
      "model_module": "@jupyter-widgets/controls",
      "model_module_version": "1.4.0",
      "model_name": "IntSliderModel",
      "state": {
       "description": "mc1_weight_var1",
       "layout": "IPY_MODEL_5795fc2943084388b5a84491d41f60a9",
       "max": 5,
       "min": -5,
       "style": "IPY_MODEL_063359cff1344f7dbf505d62535315e9"
      }
     },
     "5768ee31bd864776be0172fdaff908c7": {
      "model_module": "@jupyter-widgets/base",
      "model_module_version": "1.1.0",
      "model_name": "LayoutModel",
      "state": {}
     },
     "5795fc2943084388b5a84491d41f60a9": {
      "model_module": "@jupyter-widgets/base",
      "model_module_version": "1.1.0",
      "model_name": "LayoutModel",
      "state": {}
     },
     "57ab3cc9a459498d9d2eafa0e5d2ed6e": {
      "model_module": "@jupyter-widgets/base",
      "model_module_version": "1.1.0",
      "model_name": "LayoutModel",
      "state": {}
     },
     "57e85869b01442e29e02bb809bd60aff": {
      "model_module": "@jupyter-widgets/base",
      "model_module_version": "1.1.0",
      "model_name": "LayoutModel",
      "state": {}
     },
     "57f974812a604d82b68c3c6c4111b20f": {
      "model_module": "@jupyter-widgets/controls",
      "model_module_version": "1.4.0",
      "model_name": "SliderStyleModel",
      "state": {
       "description_width": ""
      }
     },
     "580f71ddfdea44c693017f66e34da8f8": {
      "model_module": "@jupyter-widgets/controls",
      "model_module_version": "1.4.0",
      "model_name": "SliderStyleModel",
      "state": {
       "description_width": ""
      }
     },
     "58364e874bcc46ed88797aed27487af7": {
      "model_module": "@jupyter-widgets/base",
      "model_module_version": "1.1.0",
      "model_name": "LayoutModel",
      "state": {}
     },
     "584b01183df542c0be4994cef3fb2806": {
      "model_module": "@jupyter-widgets/controls",
      "model_module_version": "1.4.0",
      "model_name": "IntSliderModel",
      "state": {
       "description": "SigXsecOverSM",
       "layout": "IPY_MODEL_0b42f6809df64e70a2f7b8d3f1348bc3",
       "max": 10,
       "style": "IPY_MODEL_2c607eae3a25471d98e0da1a93ad20ad",
       "value": 5
      }
     },
     "58c8d14a1017451d9fdb01d83274fe1f": {
      "model_module": "@jupyter-widgets/base",
      "model_module_version": "1.1.0",
      "model_name": "LayoutModel",
      "state": {}
     },
     "591eab1f74aa4709b7cf9727e2246a30": {
      "model_module": "@jupyter-widgets/base",
      "model_module_version": "1.1.0",
      "model_name": "LayoutModel",
      "state": {}
     },
     "594a86a9367a4739b220bd5ac1d9512f": {
      "model_module": "@jupyter-widgets/base",
      "model_module_version": "1.1.0",
      "model_name": "LayoutModel",
      "state": {}
     },
     "5a8a9146cbf74f3e9cf3cfe0c121e2b6": {
      "model_module": "@jupyter-widgets/controls",
      "model_module_version": "1.4.0",
      "model_name": "IntSliderModel",
      "state": {
       "description": "mc1_shape_conv",
       "layout": "IPY_MODEL_b89ae0a6686a4413a6a7fbba846831f0",
       "max": 5,
       "min": -5,
       "style": "IPY_MODEL_cc3f30a890574a3699bf8aabbad86240"
      }
     },
     "5a973dc546dd47a08cc0500258e3585d": {
      "model_module": "@jupyter-widgets/controls",
      "model_module_version": "1.4.0",
      "model_name": "IntSliderModel",
      "state": {
       "description": "mc2_shape_conv",
       "layout": "IPY_MODEL_9af75d6a6f2b4d758ff446ef27c31d91",
       "max": 5,
       "min": -5,
       "style": "IPY_MODEL_d5a1dfcaeee5407bbf5464adf01adaf5"
      }
     },
     "5b7c437cf5f94c0bbf307c71fa2835c1": {
      "model_module": "@jupyter-widgets/base",
      "model_module_version": "1.1.0",
      "model_name": "LayoutModel",
      "state": {}
     },
     "5ba9a8744d4446a49f10021d91189617": {
      "model_module": "@jupyter-widgets/base",
      "model_module_version": "1.1.0",
      "model_name": "LayoutModel",
      "state": {}
     },
     "5bcc735c385d4cdbb16eceaaa7d4aa6c": {
      "model_module": "@jupyter-widgets/controls",
      "model_module_version": "1.4.0",
      "model_name": "IntSliderModel",
      "state": {
       "description": "mc2_weight_var1",
       "layout": "IPY_MODEL_58364e874bcc46ed88797aed27487af7",
       "max": 5,
       "min": -5,
       "style": "IPY_MODEL_057323df429b482492ceae6a3530819b"
      }
     },
     "5bd3d180e52c420284d9c558b67691f6": {
      "model_module": "@jupyter-widgets/controls",
      "model_module_version": "1.4.0",
      "model_name": "VBoxModel",
      "state": {
       "_dom_classes": [
        "widget-interact"
       ],
       "children": [
        "IPY_MODEL_0958057c00bf45a3895d639c98229827",
        "IPY_MODEL_2ec94cf60fcc4967b89a5ec9cfbe9d08",
        "IPY_MODEL_bb6689fc1df44614b637906957e72287",
        "IPY_MODEL_e854f7952584472a80c3c94c8af0a00a",
        "IPY_MODEL_1e92efacfbb64ab4a743a5029acb2097",
        "IPY_MODEL_096542f0c0d640788e87ab9ef86bce35"
       ],
       "layout": "IPY_MODEL_a82cee25d20c45cf8531390646401ccc"
      }
     },
     "5bd6ff351fa84b8fbabf1554e2d4f56d": {
      "model_module": "@jupyter-widgets/controls",
      "model_module_version": "1.4.0",
      "model_name": "SliderStyleModel",
      "state": {
       "description_width": ""
      }
     },
     "5c5a4605a7e64530bf76a36646f52b7b": {
      "model_module": "@jupyter-widgets/controls",
      "model_module_version": "1.4.0",
      "model_name": "SliderStyleModel",
      "state": {
       "description_width": ""
      }
     },
     "5cd643a7f6e841a3bd0f7c26c2a084bf": {
      "model_module": "@jupyter-widgets/controls",
      "model_module_version": "1.4.0",
      "model_name": "VBoxModel",
      "state": {
       "_dom_classes": [
        "widget-interact"
       ],
       "children": [
        "IPY_MODEL_30b8fdbdf639472faf9d35c2afb81b0d",
        "IPY_MODEL_9d69bb63205f47fc856882a189321ce5",
        "IPY_MODEL_6153a53a63c84a5d880ef413e67bd45f",
        "IPY_MODEL_0f80aee6b1b9494b976f6beaf5d8210e",
        "IPY_MODEL_17aff49836a340c0aa0953e6d1da49b3",
        "IPY_MODEL_dac7b54d88024193bdebe211aae9ab4e"
       ],
       "layout": "IPY_MODEL_75c72c9620dd4645a324fb0e9fbf6054"
      }
     },
     "5ce4745131274ccaaf1b58f017eef5d5": {
      "model_module": "@jupyter-widgets/controls",
      "model_module_version": "1.4.0",
      "model_name": "IntSliderModel",
      "state": {
       "description": "SigXsecOverSM",
       "layout": "IPY_MODEL_b15536adcb97476dba47e35b4e384354",
       "max": 10,
       "style": "IPY_MODEL_70477677201440348e1355452e44b03e",
       "value": 6
      }
     },
     "5d232a83695d4e92b40399e2b9f3b5ab": {
      "model_module": "@jupyter-widgets/controls",
      "model_module_version": "1.4.0",
      "model_name": "IntSliderModel",
      "state": {
       "description": "mc2_weight_var1",
       "layout": "IPY_MODEL_308e17c6abc844578239382ce1d80881",
       "max": 5,
       "min": -5,
       "style": "IPY_MODEL_35433e2d943643daa20f88d25302436d"
      }
     },
     "5d2a0684b1c24a9e9fa253ce36f86d60": {
      "model_module": "@jupyter-widgets/controls",
      "model_module_version": "1.4.0",
      "model_name": "IntSliderModel",
      "state": {
       "description": "mc1_weight_var1",
       "layout": "IPY_MODEL_5f95ae1a5bb44f5b84cb2f75ba5ee9f7",
       "max": 5,
       "min": -5,
       "style": "IPY_MODEL_9cd64df054d34aceb5f6db25afdc0305"
      }
     },
     "5d2f5f170688451696469eef0a7e0728": {
      "model_module": "@jupyter-widgets/controls",
      "model_module_version": "1.4.0",
      "model_name": "SliderStyleModel",
      "state": {
       "description_width": ""
      }
     },
     "5d5ce735f00545139542c51207605d58": {
      "model_module": "@jupyter-widgets/controls",
      "model_module_version": "1.4.0",
      "model_name": "SliderStyleModel",
      "state": {
       "description_width": ""
      }
     },
     "5dc816f1783b479294004f8778959ec2": {
      "model_module": "@jupyter-widgets/base",
      "model_module_version": "1.1.0",
      "model_name": "LayoutModel",
      "state": {}
     },
     "5ded0118413c4ba7bbfc63a097c566fb": {
      "model_module": "@jupyter-widgets/base",
      "model_module_version": "1.1.0",
      "model_name": "LayoutModel",
      "state": {}
     },
     "5f110386c00040a2b2acc2736030dcf3": {
      "model_module": "@jupyter-widgets/base",
      "model_module_version": "1.1.0",
      "model_name": "LayoutModel",
      "state": {}
     },
     "5f95ae1a5bb44f5b84cb2f75ba5ee9f7": {
      "model_module": "@jupyter-widgets/base",
      "model_module_version": "1.1.0",
      "model_name": "LayoutModel",
      "state": {}
     },
     "5ffb72637a934eb2b102029a8f290fb6": {
      "model_module": "@jupyter-widgets/controls",
      "model_module_version": "1.4.0",
      "model_name": "IntSliderModel",
      "state": {
       "description": "SigXsecOverSM",
       "layout": "IPY_MODEL_6f063a73a1dc4bdf8d6890249f00cc7a",
       "max": 10,
       "style": "IPY_MODEL_46b9578dc9354edab6100f6177b53c20",
       "value": 5
      }
     },
     "600ccfad3b3e44b1a9a1841feb5877b9": {
      "model_module": "@jupyter-widgets/base",
      "model_module_version": "1.1.0",
      "model_name": "LayoutModel",
      "state": {}
     },
     "605e8849c81d4de5820f4dd361fa2f6f": {
      "model_module": "@jupyter-widgets/controls",
      "model_module_version": "1.4.0",
      "model_name": "FloatSliderModel",
      "state": {
       "description": "mc1_weight_var1",
       "layout": "IPY_MODEL_63043379d0ce48a5820e6ff37f38c97f",
       "max": 5,
       "min": -5,
       "step": 0.1,
       "style": "IPY_MODEL_dadd4621b0d347118a0f2a0758055952",
       "value": -2.4
      }
     },
     "611430730058472799123f5184529c0d": {
      "model_module": "@jupyter-widgets/base",
      "model_module_version": "1.1.0",
      "model_name": "LayoutModel",
      "state": {}
     },
     "6153a53a63c84a5d880ef413e67bd45f": {
      "model_module": "@jupyter-widgets/controls",
      "model_module_version": "1.4.0",
      "model_name": "IntSliderModel",
      "state": {
       "description": "mc1_shape_conv",
       "layout": "IPY_MODEL_b32ca263a77040c48c20813244138746",
       "max": 5,
       "min": -5,
       "style": "IPY_MODEL_4278baed9bfc4ce3a4416b5c7adf8c00"
      }
     },
     "61a63e1a964d4bfca4dbe0e0386d88e7": {
      "model_module": "@jupyter-widgets/controls",
      "model_module_version": "1.4.0",
      "model_name": "IntSliderModel",
      "state": {
       "description": "mc1_shape_conv",
       "layout": "IPY_MODEL_3d4059b0edae464996699bebe3b93833",
       "max": 5,
       "min": -5,
       "style": "IPY_MODEL_8f3ed172245249e0bb50cf38b7090f94"
      }
     },
     "6224dae8def84f86b62771bbdd58a589": {
      "model_module": "@jupyter-widgets/base",
      "model_module_version": "1.1.0",
      "model_name": "LayoutModel",
      "state": {}
     },
     "623249cc134f4874afc1556c8c0cd22a": {
      "model_module": "@jupyter-widgets/base",
      "model_module_version": "1.1.0",
      "model_name": "LayoutModel",
      "state": {}
     },
     "6266dfabeaee4a1a9a7871f01b0bde98": {
      "model_module": "@jupyter-widgets/controls",
      "model_module_version": "1.4.0",
      "model_name": "IntSliderModel",
      "state": {
       "description": "mc2_weight_var1",
       "layout": "IPY_MODEL_c3b779a3d2004b38b628d0fb96e3944c",
       "max": 5,
       "min": -5,
       "style": "IPY_MODEL_bc0386514b7d42d39e9cbd1603209f0e"
      }
     },
     "62a46207876a4b2f9dbde2f237498726": {
      "model_module": "@jupyter-widgets/controls",
      "model_module_version": "1.4.0",
      "model_name": "SliderStyleModel",
      "state": {
       "description_width": ""
      }
     },
     "63043379d0ce48a5820e6ff37f38c97f": {
      "model_module": "@jupyter-widgets/base",
      "model_module_version": "1.1.0",
      "model_name": "LayoutModel",
      "state": {}
     },
     "634599e8dead4727b7a953c97ffba925": {
      "model_module": "@jupyter-widgets/output",
      "model_module_version": "1.0.0",
      "model_name": "OutputModel",
      "state": {
       "layout": "IPY_MODEL_8d404d9c0b104cf4b6c6c786b01c02da",
       "outputs": [
        {
         "data": {
          "image/png": "iVBORw0KGgoAAAANSUhEUgAAAXoAAAD8CAYAAAB5Pm/hAAAABHNCSVQICAgIfAhkiAAAAAlwSFlzAAALEgAACxIB0t1+/AAAADl0RVh0U29mdHdhcmUAbWF0cGxvdGxpYiB2ZXJzaW9uIDIuMi4yLCBodHRwOi8vbWF0cGxvdGxpYi5vcmcvhp/UCwAAHxJJREFUeJzt3X9wXeV95/H315KMowBWbKuyI1sWBTf8iFOT8ZKEZKYUT7uQdUtSdllSkeIsE6VbmAYvmw2gXX4k0ZTOtHHY2Q07akNtOjcBTx0a4mU3YV122IQEahLAEMPEBMug2PKPIAFVbUv2d/+45xpJPufee67O/XHO/bxmNLr3uefe+xyQv/e53/M838fcHRERya559e6AiIhUlwK9iEjGKdCLiGScAr2ISMYp0IuIZJwCvYhIxinQi4hknAK9iEjGKdCLiGRca707ALBkyRLv7e2tdzdERFLlmWeeOezunaWOa4hA39vby86dO+vdDRGRVDGz4XKOU+pGRCTjFOhFRDJOgV5EJOMU6EVEMk6BXkQk4xToRUQyToFeRCTjFOhFRDJOgV5EJONKBnozW2BmT5vZc2b2opndHbRvNrNXzezZ4GdN0G5m9l/NbI+ZPW9mH6z2SUhzy+Vy9Pb2Mm/ePHp7e8nlcvXukkhDKacEwjHgcnd/28zagB+Y2f8KHvuCu//drOOvBFYFPx8C7gt+iyQul8vR39/PxMQEAMPDw/T39wPQ19dXz66JNIySI3rPezu42xb8eJGnXAU8EDzvx0CHmS2be1dFTjcwMHAqyBdMTEwwMDBQpx6JNJ6ycvRm1mJmzwIHgcfc/angocEgPbPJzM4I2rqB16Y9/fWgbfZr9pvZTjPbeejQoTmcgjSzffv2xWoXaUZlBXp3P+Hua4DlwCVm9n7gNuB84F8Ai4Avxnljdx9y97Xuvrazs2SVTcmgJHLrPT09sdpFmlGsWTfuPgY8Dlzh7vuD9Mwx4G+AS4LDRoAV0562PGgTOaWQWx8eHsbdT+XW4wb7wcFB2tvbZ7S1t7czODiYZHdFUq2cWTedZtYR3H4X8DvAS4W8u5kZ8AngheApjwB/FMy++TAw7u77q9J7Sa0vbNiQSG69r6+PoaEhVq5ciZmxcuVKhoaGdCFWZBpzL3ZdFczsA8AWoIX8B8NWd/+Smf0D0AkY8Czwx8HMHAP+G3AFMAF8xt2L7iqydu1a18YjzWWeWegVfQNefN/5p7Vf8NLuqvdJJG3M7Bl3X1vquJLTK939eeDikPbLI4534MZyOinNa2lrK/unpkLbw+w+/4LQdn0AiJSmlbFSdWEXXTcu6WSB2YzjFpixcUkn28fHWffKHi56+SXWvbKH7ePjdeq5SDYo0EtVRV10BfhS11KWtbZiwLLWVr7UtRSAO0YPsH9qCgf2T01xx+gBBXuROVCgl8SEjdyjFjRtOnyI9QsXsuPc83jxfeez49zzWL9wIZsOH+LorOtGR93ZdFhrLUQqVU4JBJGSokoRzA7yBQdC8vOVtItIaRrRSyKiRu4tLS2hx0dddI3bLiKlKdBLIqJKDpw4cSJ0QdPGJeGroYtdpBWRyijQSyKiSg4UFjDNXtC0fuHC0OPXL1wYepE26ngRKa3kgqla0IKp9Judo4f8yD1qlWrUvPhito+Ps+nwIQ5MTbG0tZWNSzr5wv5fzqnfImmW2IIpkXIUgvnAwAD79u2jp6eHwcFBPvjlr7D7y1+Z8+tvHx/njtEDp2bkFKZdsuy9oaN9LaQSeYdG9FJVlYzcw6x7ZU/oStplra3sOPe809oV6KUZlDuiV45eUkHTLkUqp0AvqaBplyKVU6CXVNC0S5HKaTgkqVC44Dp71o2mXYqUpkAviUjqomsx6xcuLDuwq6yxyDuUuhERSVgS+yEnSSN6EZEERRX4A+q2xaVG9JJZ2sBE6iGqwF/c/ZCTpEAvmVRYSTt7A5N6f4WW7Isq8BfVXgsK9BJbo+Ufw0RtYDIwMJCK/kt69Zwd0R5R+K8WSgZ6M1tgZk+b2XNm9qKZ3R20n2NmT5nZHjN7yMzmB+1nBPf3BI/3VvcUpJaitgZstLRI1IrZQn9n91/BPnuS+kCP+zqD686gvW1mW3sbDA4OVvT+SShZ68bMDHi3u79tZm3AD4DPA/8B+La7P2hm/wN4zt3vM7M/AT7g7n9sZtcCn3T3f1vsPVTrJj16e3sZHh4+rT2q5ky9RNXGaWlp4cSJE6e1r1y5kr1799agZ1ILcaupclf4tN3cqq9Hv87P/yT6/XcdZ2DHMfaNOz0LjcF1Z9C37Z8rP6EI5da6iVXUzMzayQf6fw/8T2Cpu0+Z2UeAu9z9X5rZ94LbPzKzVuAA0OlF3kiBPj3mzZtH2P9KA1583/m171CE2dUuIb+SdnY6p8DMOHnyZK26J1UWNSCJ/ECPCPS9m98T/Tob3ojXqbuS/9abaFEzM2sxs2eBg8BjwCvAmLsXhkyvA93B7W7gNYDg8XFgcchr9pvZTjPbeeiQNn5Oi6Uxtwasl6gNTFauXBl6fD3zp5K8pC6INuKF1UqU9a/T3U8Aa8ysA3gYmPPQzd2HgCHIj+jn+npSGxuXdIaOlBux5kzYStr3/pf/HPpVvJ75U0leT09P6Ei852wiR++xXqenB4g5oq+jWLNu3H0MeBz4CNARpGYAlgMjwe0RYAVA8PhC4EgivZW6S/tWf319faFbG9ZrIYtUx+DgYOhexYPrzkjmdVI2MCjnYmwnMOnuY2b2LuD7wJ8D1wPbpl2Mfd7dv25mNwKrp12M/QN3v6bYeyhHnx61qGlTTap10zxyudxpO54Vu4Aa+TphF1ZXz0+uo3PI3Sd2MdbMPgBsAVrIfwPY6u5fMrNfBx4EFgE/Ba5z92NmtgD4W+Bi4FfAte7+i2LvoUCfHgr0kmox0jblSORDoAaBvmSO3t2fJx+0Z7f/ArgkpP0o8G/K7KeISCrldh2n/7tHmZjM3x8ed/q/exQg2RF/ArQyVkSkAgM7jp0K8gUTk/n2RtNYc+JEROKISsVUkA6Jm4bZNx6e9o5qj3yP2D2NTyN6kWlUB6c5FdIww+OO804aJrfreORzehZarPbI96jB35gCvUggqo6Pgn32VZKGiaxpEzGFM/I9alC+WIFeIkexzTa6bcQ64lIblaRh+lbPZ+j3FrByoWHAyoXG0O8tiEz3RL5HDVbZKkff5KJ2w/nhD3/Ili1bTmu/6+zy921Nm6wsd5f4ehYawyGBOCoNU9C3en7ZM2wi36MG5Tc0om9yUaPYoaGh0PZNh9Ndl2j3+RdE/kT9g1MdnNqqxzfJuGmYRN+jBqtsNaJvclGj1bBSvhBd5z0LBgcHVQenzhLbbzXmwqjCqLyaK2Aj36MG5TdilSmuFq2MrZ+ocq7zgLCivY1Wdz5JF7y0O3zZvOrg1ExS5YVTpRFKINSCAn39RG3Q8Putbfz9W2+eVqUyTQXMkqKyCbVTbL+Dk3dG7NGXdo1QAkGyrTBanT2K/eCXv8IH29vZdPgQB6amWNraysYlnU0X5Gshqn5QM37ARJYFXmjVLy6WYRrRS6i0Fy9LUrUDrgL9O6K+YV5/4XG2PDc1Yx56extFpzOmRg1G9Jp1IyJVFWcWTdR+AY/+/ERq6so0IqVuRKRqKplF09fXd9pjn77uutBj9427Ujpl0IheRGKJM0JParVx1MKlRe8ido2aZqRALyJli1sPKKnVxlGLjQCldMqgQC/SoKJW8NZT3BF666Lw7HDc1cZRdWV+9c/hx5cqFdz7tbeYd/eb9H7traYY/StHL1Ij9Q7SSYg7Qv+b32qh/7uTp82WiVxtXGQBVFhdmYEdx2LVqEnTrlBJ0oheRMoWtx5QZIXHvr5EatokVio446keBfqMabbSwrXQiCmUehkcHKS9vX1GW6l6QH2r57P35rM4eefZ7L35LPpWz4/O9cdMoyRWKrhIqicLSqZuzGwF8ADQBTgw5O73mtldwGeBQjnD29390eA5twE3ACeAP3X371Wh7zJLJVPZmjVgSWWiVlLHrQcUmevfYbFTKImUCi5RjjjtysnRTwG3uPtPzOws4Bkzeyx4bJO7/8X0g83sQuBa4CLgvcD/MbPfcPfwcoiSmGIXygpflU8rdVCnvso7rrkt/J/h1j8LrxRa75W0YfPc49oXUuYAqj+yHlx3xowcPSRfjrgRlQz07r4f2B/cfsvMdgPdRZ5yFfCgux8DXjWzPcAlwI8S6K8UUexCWdRoP8sbidSLviWVVq+RdS3KETeiWLNuzKwXuBh4CvgocJOZ/RGwk/yo/w3yHwI/nva01wn5YDCzfqAftLFDUiILQvX0RI72Nx0/rkBfoWoH9Lgj/TSp58g6TqonK8q+GGtmZwLbgJvd/U3gPuBcYA35Ef9fxnljdx9y97XuvrazszPOUyVCsQtlUaP9LG8kkha7Xt0X+pNlcS+iytyUNaI3szbyQT7n7t8GcPfRaY//FbA9uDsCrJj29OVBm1RZsQtlAwMDoaP9pa1aSlGO7ePjDVOyOWqkv6vG/ZirZhxZ10s5s24M+Aaw292/Oq19WZC/B/gk8EJw+xHgm2b2VfIXY1cBTyfaa4kUdaEsapu8jWcrbVPK9vFx7hg9cGoTlv1TU9wxegCgqsE+alS/+hylOiWecoZzHwU+Dewys2eDttuBT5nZGvJTLvcCnwNw9xfNbCvwM/Izdm7UjJv6K7bBiBS36fChGTttARx1P7VReq1H+lEfAPWejRO6DWNN3llK0cYjTUCzQObmopdfIupfyQKzOW+3eMG1v5xjD/N2P/jeWMcn+QGw4nMrGNk8gh9/57+FzTf+dn32Z7TMmbYSFKm/pa2t7A+5aD0PIkf69cjfR+Xuo0Tl9IsNDKI+HFoemhnkAfy4M7DjmAJ9A1CgFylh45LOGTl6OH0kP129ZjIlNVOnkm8YzVpaIC0U6DNEKZrqKIzOZ+fiNx0+FDrSb8aZTM1aWiAtmu8vUqQC6xeGryAOG+lvXJLhdSERZYSbtbRAWijQi1QoaqSflpXGq7esDm2vZD5+s5YWSAsFepE5iBrph4lc6PRqkj0qX9Krb7UAqnGpHr1IhsTdJq8Zt9VrRhrRi2RE3G3ymnVbvWakEb1IRsTdJq9Zt9VrRgr0IhkRdy675r43D6VuRGqk2qWH485lL3V8btdxzaLJCAX6FNLCqMYXVta42v/X4s5lL3a88vfZotRNg8vlcvT29jJv3jx6e3vJ5XL17pKUUChrvH9qCuedssaVzGiJMysm7mYexY5X/j5bVL2ygc3e5xXyNeS1z2tjW/fKntDSCCsXGntvPqvs15k9qob8iLsWOzHNu/vN0IqdBpy88+yqvnfTqUH1So3oG1jkPq9BHXRpTFFFzeJe5KznqLpYXl/SR4G+gWmf13SKKmoWN0jWc1bM4LozaG+b2abaNemlQN/AenrCt4xb2trK9vFx1r2yh4tefol1r+xh+3jlX/8kWRuXdLLAZgb1BWanLnKWm3Ov56ham3dni2bdNLCofV5/q7WtLnuYSnmiip3BG7FmstS7IqRq12SHLsY2sN3nXxA6TS+qDvqy1lZ2nHteHXoq5bjywMuh89aLXaTVXPYmoK0EJaw64hcP7A89Vrn7xlZJzj1qVK0PAImjZKA3sxXAA0AX4MCQu99rZouAh4BeYC9wjbu/YWYG3At8HJgANrj7T6rT/eYUtYdp6+K20FK4W/9MHwC1FFWOuOfzyezCpMVMElc5F2OngFvc/ULgw8CNZnYhcCuww91XATuC+wBXAquCn37gvsR73eSiLvZ1Xd1Vpx5JOZKayVLJtEuVI25uJQO9u+8vjMjd/S1gN9ANXAVsCQ7bAnwiuH0V8IDn/RjoMLNlife8iT1wz2KWfLabtsX5qNG2uI0ln+2m49KOOvdMiik2kyVOII6bAip8Axged5x3vgEo2DePWDl6M+sFLgaeArrcvZAsPkA+tQP5D4HXpj3t9aBtRmLZzPrJj/gjpxE2i0pq13Rc2qHAnkJhOfe4qZi4xcuKfQNQqqc5lD2P3szOBLYBN7v7m9Mf8/zUnVjTd9x9yN3Xuvvazs4Mb6YsUkLcVEzcFJDKEUtZI3ozayMf5HPu/u2gedTMlrn7/iA1czBoHwFWTHv68qBNigibRvnAPYsTee2oi4OgC7WNIG4gjrsRd9xvAJI95cy6MeAbwG53/+q0hx4BrgfuCX5/Z1r7TWb2IPAhYHxaikdCFKodzl4AteTJFqVnUihu3flKAnGcxUz1Xngl9VfOiP6jwKeBXWb2bNB2O/kAv9XMbgCGgWuCxx4lP7VyD/nplZ9JtMcpFpWLH5g8zOSshWtH3RndNlr1QF9stB9G3wCSV+1AHPcbgGRPyX/l7v4D8tVJw6wLOd6BG+fYr6YyeWQyVns9RX0w6AOgcrUIxCpn0Ny0MraGooJk2y1toUG9MH1Ssk+BWKpJ1SsbQNfVXdj8mV+abL4WQIlIMjSibwCFPPzotlEmj0zStriNrqu7dCG2wUV9Q9v1ao07IlKCAn2DSPsCKOXuRRqXUjciIhmnQC8iknEK9CIiGadALyKScboYW2NjT45pdg26eCtSSwr0NTT25Bgjm0fw4/lyB5NHJhnZnK/31ozBPi3ilokQaTT6C66h0W2jp4J8gR+vTU2beslykIxbvEykXpSjr6E01bQRkezI7nCrjqKqVLYtVk0bEak9BfoqiEpXdD3ZNSNHD6ppIyLVp0BfQ6ppU5rq44skT4G+SqKmUaa9pk2WZfnCsTQ3/WWXKZfLMTAwwL59++jp6WFwcJC+vr7QYzWNsv40T1/kHQr0ZcjlcvT39zMxMQHA8PAw/f393PrErcDpqZhmnEZZLxqFi5SmfyVlGBgYOBXkCyYmJjiaO4pP+mkj99lBvkDTKEWkHhToy7BvX/jCmJP/dPK0Nj/u+dUJpz+kaZQiUhclA72Z3Q+sBw66+/uDtruAzwKHgsNud/dHg8duA24ATgB/6u7fq0K/a6qnp4fh4eHyn3AyP21S0yizQStgJe3KWRm7GbgipH2Tu68JfgpB/kLgWuCi4DlfN7OWpDpbL4ODg7S3t89oa29vp+XM8FNrW9xG94buUyP4wn3l50WkHkqO6N39CTPrLfP1rgIedPdjwKtmtge4BPhRxT1sAIXZNbNn3dz6xK2RC6A0jVJEGsVcat3cZGbPm9n9ZvaeoK0beG3aMa8HbanX19fH3r17OXnyJHv37qWvr4+OSzs0cheRhlfpxdj7gC8DHvz+S+DfxXkBM+sH+iGfA08rjdzTRdMxpRlVNKJ391F3P+HuJ4G/Ip+eARgBVkw7dHnQFvYaQ+6+1t3XdnZ2VtINEREpQ0WB3syWTbv7SeCF4PYjwLVmdoaZnQOsAp6eWxdFRGQuyple+S3gMmCJmb0O3AlcZmZryKdu9gKfA3D3F81sK/AzYAq40d1PVKfrtbN6y+p6d0FEpGLlzLr5VEjzN4ocPwgMzqVTIiKSHF2ZEgloYZRklbYSFBHJOAV6EZGMU6AXEck4BXoRkYxToBcRyTgFehGRjNP0ymm0MEpEskgjehGRjFOgFxHJOKVuJJOiVrmuPie9JbFFKqVAP8vYk2OMbhtl8sgkbYvbTu0WJSKSVgr004w9OTZja8DJI5OMbM6X01ewF5G0UqCfZnTb6Iz9XwH8uDO6bVSBPiNUuEyaUVMG+t3nXxDaPnlkMla7iEgaNGWgj9o3tO2WttCgXtj8W0QkjTS9cpquq7uw+TajzeYbXVd31alHIiJz15Qj+iiFPLxm3aSHcu4ipSnQz9JxaYcCu4hkSuZTN7lcjt7eXubNm0dvby+5XK7eXRIRqamSI3ozux9YDxx09/cHbYuAh4BeYC9wjbu/YWYG3At8HJgANrj7T6rT9dJyuRz9/f1MTEwAMDw8TH9/P4uuWwQoRZMmStGIVK6cEf1m4IpZbbcCO9x9FbAjuA9wJbAq+OkH7kumm5UZGBg4FeQLJiYm+GXul4xsHjk1w6awMGrsybF6dFNEpKpKBnp3fwL41azmq4Atwe0twCemtT/geT8GOsxsWVKdjWvfvvBR4Ml/Ohm5MEpEJGsqzdF3ufv+4PYBoDD/sBt4bdpxrwdtddG6KN61Zi2MEpEsmvPFWHd3wEseOIuZ9ZvZTjPbeejQobl2I1TUvPiWM1tCj9fCKBHJokoD/WghJRP8Phi0jwArph23PGg7jbsPuftad1/b2dlZYTeK67i0g+4N3acCeNviNro3dLPsD5dpYZSINI1K59E/AlwP3BP8/s609pvM7EHgQ8D4tBRPXRSbF69ZNyLSDMqZXvkt4DJgiZm9DtxJPsBvNbMbgGHgmuDwR8lPrdxDfnrlZ6rQ50RoYZSINIuSgd7dPxXx0LqQYx24ca6dkuzTvHiR2sn8ylgRkWanQC8iknEK9CIiGadALyKScakvU7x6y+p6d0FEpKFpRC8iknEK9CIiGZf61I00Ns2XF6k/BXpJhAK6SONS6kZEJOMU6EVEMk6BXkQk45Sjl1iUixdJH43oRUQyToFeRCTjMpG6GXtyTLtFiYhESH2gH3tyjJHNI/jx/P7kk0cmGdmc36ZWwb5yysXXTu/Rb8Y6fu+CP6xSTySrUp+6Gd02eirIF/hxZ3TbaJ16JCLSWFIf6CePTMZqFxFpNqkP9G2L22K1i4g0mzkFejPba2a7zOxZM9sZtC0ys8fM7OfB7/ck09VwXVd3YfNtZr/mG11Xd1XzbUVEUiOJEf1vu/sad18b3L8V2OHuq4Adwf2q6bi0g+4N3adG8G2L2+je0K0LsSIigWrMurkKuCy4vQX4v8AXq/A+p3Rc2qHAXiHNrqmduLNr4r6OZuNIlLmO6B34vpk9Y2b9QVuXu+8Pbh8AlEMREamjuY7oP+buI2b2a8BjZvbS9Afd3c3Mw54YfDD0A/T09MyxGwLRo/PV5+i/r0gzm1Ogd/eR4PdBM3sYuAQYNbNl7r7fzJYBByOeOwQMAaxduzb0w0CSofSMSHOrOHVjZu82s7MKt4HfBV4AHgGuDw67HvjOXDspIiKVm8uIvgt42MwKr/NNd//fZvaPwFYzuwEYBq6ZezdFRKRSFQd6d/8F8Jsh7UeAdXPplBSnVIyIxJH6omZZpoAuIklQoBfJCM2vlygK9DWk6Y/NIamFUSJJUaBvAErRiEg1pb56pYiIFKdALyKScQr0IiIZp0AvIpJxuhg7B5pFIyJpoEBfBZpFIyKNRIFepEJpmS+vhVSiHL2ISMZpRD+NUi4ikkUa0YuIZFxTjug1cheRZpLpQK+ALiKSgUCvYC5SGc3GaR6pD/Qi1ZaWaZQiUXQxVkQk4xToRUQyrmqpGzO7ArgXaAH+2t3vqdZ7iSRBKZq8Yv8dlL9Pp6qM6M2sBfjvwJXAhcCnzOzCaryXiIgUV60R/SXAHnf/BYCZPQhcBfysSu8nUhaN2udGM3XSqVqBvht4bdr914EPVem9RE6jgF5b+gBobHWbXmlm/UB/cPdtM3s5gZddAhxO4HXSROccan1NOlJDqfz/bHN7eirPOba7Z/xXinvOK8s5qFqBfgRYMe3+8qDtFHcfAoaSfFMz2+nua5N8zUanc24OOufmUK1zrtb0yn8EVpnZOWY2H7gWeKRK7yUiIkVUZUTv7lNmdhPwPfLTK+939xer8V4iIlJc1XL07v4o8Gi1Xj9CoqmglNA5Nwedc3Ooyjmbu1fjdUVEpEGoBIKISMZlJtCb2RVm9rKZ7TGzW+vdn2ows/vN7KCZvTCtbZGZPWZmPw9+v6eefUyama0ws8fN7Gdm9qKZfT5oz+x5m9kCM3vazJ4LzvnuoP0cM3sq+Bt/KJjokBlm1mJmPzWz7cH9rJ/vXjPbZWbPmtnOoK0qf9eZCPRNVHJhM3DFrLZbgR3uvgrYEdzPkingFne/EPgwcGPw/zbL530MuNzdfxNYA1xhZh8G/hzY5O7nAW8AN9Sxj9XweWD3tPtZP1+A33b3NdOmVFbl7zoTgZ5pJRfc/ThQKLmQKe7+BPCrWc1XAVuC21uAT9S0U1Xm7vvd/SfB7bfIB4JuMnzenvd2cLct+HHgcuDvgvZMnbOZLQf+FfDXwX0jw+dbRFX+rrMS6MNKLnTXqS+11uXu+4PbB4CuenammsysF7gYeIqMn3eQxngWOAg8BrwCjLn7VHBI1v7Gvwb8J+BkcH8x2T5fyH94f9/MngkqBUCV/q61w1SGuLubWSanUZnZmcA24GZ3fzM/4MvL4nm7+wlgjZl1AA8D59e5S1VjZuuBg+7+jJldVu/+1NDH3H3EzH4NeMzMXpr+YJJ/11kZ0ZcsuZBho2a2DCD4fbDO/UmcmbWRD/I5d/920Jz58wZw9zHgceAjQIeZFQZnWfob/yjw+2a2l3za9XLye1lk9XwBcPeR4PdB8h/ml1Clv+usBPpmLrnwCHB9cPt64Dt17EviglztN4Dd7v7VaQ9l9rzNrDMYyWNm7wJ+h/y1iceBfx0clplzdvfb3H25u/eS/7f7D+7eR0bPF8DM3m1mZxVuA78LvECV/q4zs2DKzD5OPs9XKLkwWOcuJc7MvgVcRr7C3ShwJ/D3wFagBxgGrnH32RdsU8vMPgb8P2AX7+Rvbyefp8/keZvZB8hfiGshPxjb6u5fMrNfJz/iXQT8FLjO3Y/Vr6fJC1I3/9Hd12f5fINzezi42wp8090HzWwxVfi7zkygFxGRcFlJ3YiISAQFehGRjFOgFxHJOAV6EZGMU6AXEck4BXoRkYxToBcRyTgFehGRjPv/tehqkD098IsAAAAASUVORK5CYII=\n",
          "text/plain": "<Figure size 432x288 with 1 Axes>"
         },
         "metadata": {},
         "output_type": "display_data"
        }
       ]
      }
     },
     "6353cce476f7439db054353c980a4dab": {
      "model_module": "@jupyter-widgets/base",
      "model_module_version": "1.1.0",
      "model_name": "LayoutModel",
      "state": {}
     },
     "635bbd3044f846e89943a3a9df39e0e2": {
      "model_module": "@jupyter-widgets/base",
      "model_module_version": "1.1.0",
      "model_name": "LayoutModel",
      "state": {}
     },
     "63acd75c082b44b091f13e37eec44ec8": {
      "model_module": "@jupyter-widgets/controls",
      "model_module_version": "1.4.0",
      "model_name": "SliderStyleModel",
      "state": {
       "description_width": ""
      }
     },
     "63af36ecb2ed462bafea39a2a82e426e": {
      "model_module": "@jupyter-widgets/base",
      "model_module_version": "1.1.0",
      "model_name": "LayoutModel",
      "state": {}
     },
     "63ef3083daca434dbc676113321e7bbb": {
      "model_module": "@jupyter-widgets/base",
      "model_module_version": "1.1.0",
      "model_name": "LayoutModel",
      "state": {}
     },
     "646dd1095c094e018d1abb5d2b20494c": {
      "model_module": "@jupyter-widgets/controls",
      "model_module_version": "1.4.0",
      "model_name": "SliderStyleModel",
      "state": {
       "description_width": ""
      }
     },
     "64c30f7d101341eb9a09480a671e808c": {
      "model_module": "@jupyter-widgets/controls",
      "model_module_version": "1.4.0",
      "model_name": "SliderStyleModel",
      "state": {
       "description_width": ""
      }
     },
     "65302216142c4c16bb2125b8cb54ae6b": {
      "model_module": "@jupyter-widgets/controls",
      "model_module_version": "1.4.0",
      "model_name": "SliderStyleModel",
      "state": {
       "description_width": ""
      }
     },
     "67103f9ba3174395b9c2e35104bfcd40": {
      "model_module": "@jupyter-widgets/output",
      "model_module_version": "1.0.0",
      "model_name": "OutputModel",
      "state": {
       "layout": "IPY_MODEL_01e50bc763ed4f94af8f7601237f5788",
       "outputs": [
        {
         "data": {
          "image/png": "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\n",
          "text/plain": "<Figure size 432x288 with 1 Axes>"
         },
         "metadata": {},
         "output_type": "display_data"
        }
       ]
      }
     },
     "67532340a66f4ac9bb375ed7a9c7b184": {
      "model_module": "@jupyter-widgets/output",
      "model_module_version": "1.0.0",
      "model_name": "OutputModel",
      "state": {
       "layout": "IPY_MODEL_985180a860ad4d8dab3c4c0eb05ba202",
       "outputs": [
        {
         "data": {
          "image/png": "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\n",
          "text/plain": "<Figure size 720x360 with 1 Axes>"
         },
         "metadata": {},
         "output_type": "display_data"
        }
       ]
      }
     },
     "6782ceeafadd4f2cbd62ba14a306cb56": {
      "model_module": "@jupyter-widgets/controls",
      "model_module_version": "1.4.0",
      "model_name": "VBoxModel",
      "state": {
       "_dom_classes": [
        "widget-interact"
       ],
       "children": [
        "IPY_MODEL_76f3b2ec6c574d67b991d2f74b3030bf",
        "IPY_MODEL_15157064e4cb461287891c95ed226336",
        "IPY_MODEL_1ed4ca66f4e84483b04571d19aa33bcd",
        "IPY_MODEL_fad7f56ed4d9491e94d51458f964906a",
        "IPY_MODEL_aa3291dc95044835ad91d23561a8dec3",
        "IPY_MODEL_97c4d70c6051481f917d717f3979f49a"
       ],
       "layout": "IPY_MODEL_9b28aad0548f4cd0b803e88f5d8ec47d"
      }
     },
     "68a2d717627e41198a772b7d1a394342": {
      "model_module": "@jupyter-widgets/controls",
      "model_module_version": "1.4.0",
      "model_name": "SliderStyleModel",
      "state": {
       "description_width": ""
      }
     },
     "6969067c70dd4c1dbaa762918d1668fb": {
      "model_module": "@jupyter-widgets/controls",
      "model_module_version": "1.4.0",
      "model_name": "VBoxModel",
      "state": {
       "_dom_classes": [
        "widget-interact"
       ],
       "children": [
        "IPY_MODEL_22634155e2c14a51a4c05664b1729ad5",
        "IPY_MODEL_5d2a0684b1c24a9e9fa253ce36f86d60",
        "IPY_MODEL_779da85fc3bf4b568baaa6eec716e794",
        "IPY_MODEL_5d232a83695d4e92b40399e2b9f3b5ab",
        "IPY_MODEL_186eef5a5ed74d7baebc905240add3c2",
        "IPY_MODEL_801eccc5b94f4dd6a23b353bbe5090a2"
       ],
       "layout": "IPY_MODEL_f567876e8d6a4d628379d42d8afd5db0"
      }
     },
     "6a31e7c45d1c419b954cb0cb086bc783": {
      "model_module": "@jupyter-widgets/base",
      "model_module_version": "1.1.0",
      "model_name": "LayoutModel",
      "state": {}
     },
     "6a6af010dd6e4ebba450a183880cb1ef": {
      "model_module": "@jupyter-widgets/controls",
      "model_module_version": "1.4.0",
      "model_name": "IntSliderModel",
      "state": {
       "description": "mc2_shape_conv",
       "layout": "IPY_MODEL_7500f885d02a45f6bb0ec2badd248af4",
       "max": 5,
       "min": -5,
       "style": "IPY_MODEL_f1f090cf0b61441493059e97137acb4c"
      }
     },
     "6a7dabde567045ad9a4212eb3c27f371": {
      "model_module": "@jupyter-widgets/controls",
      "model_module_version": "1.4.0",
      "model_name": "SliderStyleModel",
      "state": {
       "description_width": ""
      }
     },
     "6a97b010e81942a7a556a87aac69c9fd": {
      "model_module": "@jupyter-widgets/base",
      "model_module_version": "1.1.0",
      "model_name": "LayoutModel",
      "state": {}
     },
     "6cc51059321746779b3dbb27c239ff20": {
      "model_module": "@jupyter-widgets/controls",
      "model_module_version": "1.4.0",
      "model_name": "SliderStyleModel",
      "state": {
       "description_width": ""
      }
     },
     "6d12d94120874f55802bb6c54bca00e3": {
      "model_module": "@jupyter-widgets/controls",
      "model_module_version": "1.4.0",
      "model_name": "IntSliderModel",
      "state": {
       "description": "mc2_shape_conv",
       "layout": "IPY_MODEL_aa0f5f9ed1a7456785bcf773986f5bb1",
       "max": 5,
       "min": -5,
       "style": "IPY_MODEL_3665d6cdef804038b51e59e14615b610"
      }
     },
     "6e040d123c0a41d5bc27cf66671a7f23": {
      "model_module": "@jupyter-widgets/base",
      "model_module_version": "1.1.0",
      "model_name": "LayoutModel",
      "state": {}
     },
     "6e34b1cd36a7407799bb6115ff5f5822": {
      "model_module": "@jupyter-widgets/controls",
      "model_module_version": "1.4.0",
      "model_name": "SliderStyleModel",
      "state": {
       "description_width": ""
      }
     },
     "6ed44bd841be4326b18826ae1739b78f": {
      "model_module": "@jupyter-widgets/controls",
      "model_module_version": "1.4.0",
      "model_name": "IntSliderModel",
      "state": {
       "description": "SigXsecOverSM",
       "layout": "IPY_MODEL_c34d009e54444979bf9c433d415a12e0",
       "max": 10,
       "style": "IPY_MODEL_dcc27ad9614c41eea6ec4110184a3431",
       "value": 5
      }
     },
     "6f063a73a1dc4bdf8d6890249f00cc7a": {
      "model_module": "@jupyter-widgets/base",
      "model_module_version": "1.1.0",
      "model_name": "LayoutModel",
      "state": {}
     },
     "70477677201440348e1355452e44b03e": {
      "model_module": "@jupyter-widgets/controls",
      "model_module_version": "1.4.0",
      "model_name": "SliderStyleModel",
      "state": {
       "description_width": ""
      }
     },
     "709e1fe13a094d22b85dee3ae1e2f56b": {
      "model_module": "@jupyter-widgets/controls",
      "model_module_version": "1.4.0",
      "model_name": "VBoxModel",
      "state": {
       "_dom_classes": [
        "widget-interact"
       ],
       "children": [
        "IPY_MODEL_f6eb4d477a2949a997838994ff1772e7",
        "IPY_MODEL_97944fcaf45040e9b7ca19962d4957a9",
        "IPY_MODEL_3419bf0fe3194ed6b6b81251e85d9675",
        "IPY_MODEL_97a3e3b0aec647e99ceb596a925e8a71",
        "IPY_MODEL_a87b4e218f44439bb7c1185dc31ae000",
        "IPY_MODEL_8a25e77a178740b9bbc6fb108fb8c20e"
       ],
       "layout": "IPY_MODEL_7359b9554fc245b6802b98ffab3f76cf"
      }
     },
     "7140b42197b241b78caedb4f49427b1c": {
      "model_module": "@jupyter-widgets/base",
      "model_module_version": "1.1.0",
      "model_name": "LayoutModel",
      "state": {}
     },
     "714e22c772cc42f7b63a68fb89463e21": {
      "model_module": "@jupyter-widgets/base",
      "model_module_version": "1.1.0",
      "model_name": "LayoutModel",
      "state": {}
     },
     "7169a83c25604bbcb99d2c80fba643ce": {
      "model_module": "@jupyter-widgets/controls",
      "model_module_version": "1.4.0",
      "model_name": "VBoxModel",
      "state": {
       "_dom_classes": [
        "widget-interact"
       ],
       "children": [
        "IPY_MODEL_584b01183df542c0be4994cef3fb2806",
        "IPY_MODEL_a2984547b20b4712b5803ee157a2324b",
        "IPY_MODEL_c6c224a4672144399d90419cee550ee7",
        "IPY_MODEL_d61f24912e9c4e9da2ee24af0ef65bfa",
        "IPY_MODEL_6a6af010dd6e4ebba450a183880cb1ef",
        "IPY_MODEL_d0a9c432ea4e478ab70a5b1b2c355005"
       ],
       "layout": "IPY_MODEL_8d7f11aaf3ef4d2087938140c8773209"
      }
     },
     "71bb809472c24186bf5dc1b4411a1ce6": {
      "model_module": "@jupyter-widgets/controls",
      "model_module_version": "1.4.0",
      "model_name": "IntSliderModel",
      "state": {
       "description": "SigXsecOverSM",
       "layout": "IPY_MODEL_2ead0ec39df249ba94e2cf3cf299b0d1",
       "max": 10,
       "style": "IPY_MODEL_2bcf1ad2ca82465993e26169cbc93c61",
       "value": 5
      }
     },
     "71be7d3bbf524f2e9d40a062af6f7495": {
      "model_module": "@jupyter-widgets/base",
      "model_module_version": "1.1.0",
      "model_name": "LayoutModel",
      "state": {}
     },
     "724b8232238d4ade943134d48c063856": {
      "model_module": "@jupyter-widgets/controls",
      "model_module_version": "1.4.0",
      "model_name": "IntSliderModel",
      "state": {
       "description": "SigXsecOverSM",
       "layout": "IPY_MODEL_7edc194ba76e4b0285efb2129d47710c",
       "max": 5,
       "style": "IPY_MODEL_3d0f4b6a2eba41aebd294103ab4deb11",
       "value": 2
      }
     },
     "725d45137dd24c07bd6a29207e415076": {
      "model_module": "@jupyter-widgets/controls",
      "model_module_version": "1.4.0",
      "model_name": "SliderStyleModel",
      "state": {
       "description_width": ""
      }
     },
     "726a7dcee4bb44d1a9f4aff238f4b24a": {
      "model_module": "@jupyter-widgets/base",
      "model_module_version": "1.1.0",
      "model_name": "LayoutModel",
      "state": {}
     },
     "728e8341803d48d5be4ce49cf6177489": {
      "model_module": "@jupyter-widgets/controls",
      "model_module_version": "1.4.0",
      "model_name": "SliderStyleModel",
      "state": {
       "description_width": ""
      }
     },
     "72ea721255ee4735877feb10267b333c": {
      "model_module": "@jupyter-widgets/controls",
      "model_module_version": "1.4.0",
      "model_name": "SliderStyleModel",
      "state": {
       "description_width": ""
      }
     },
     "730a2ae592014c88bdda97e9c159c74c": {
      "model_module": "@jupyter-widgets/base",
      "model_module_version": "1.1.0",
      "model_name": "LayoutModel",
      "state": {}
     },
     "7359b9554fc245b6802b98ffab3f76cf": {
      "model_module": "@jupyter-widgets/base",
      "model_module_version": "1.1.0",
      "model_name": "LayoutModel",
      "state": {}
     },
     "7381c74caf0a403dad27db1732c499a9": {
      "model_module": "@jupyter-widgets/controls",
      "model_module_version": "1.4.0",
      "model_name": "SliderStyleModel",
      "state": {
       "description_width": ""
      }
     },
     "744e780cf7c44647afaa4e59e0964130": {
      "model_module": "@jupyter-widgets/controls",
      "model_module_version": "1.4.0",
      "model_name": "IntSliderModel",
      "state": {
       "description": "width",
       "layout": "IPY_MODEL_a181b7e06a9b49efbf74662d615d8c8c",
       "max": 60,
       "min": -20,
       "style": "IPY_MODEL_09b9e04ccf2c4522b2a006d97e49ffce",
       "value": 20
      }
     },
     "747a849f0efc43cf879bf4f18254a8fc": {
      "model_module": "@jupyter-widgets/base",
      "model_module_version": "1.1.0",
      "model_name": "LayoutModel",
      "state": {}
     },
     "74998ba983c940869122c1496fe8f201": {
      "model_module": "@jupyter-widgets/controls",
      "model_module_version": "1.4.0",
      "model_name": "IntSliderModel",
      "state": {
       "description": "mc1_weight_var1",
       "layout": "IPY_MODEL_05162696077e44dab1517a8c87ce974d",
       "max": 5,
       "min": -5,
       "style": "IPY_MODEL_dc2ac08ed5064e2e9e029a21af263965"
      }
     },
     "749a933247ad45b7967c528567be9bf0": {
      "model_module": "@jupyter-widgets/controls",
      "model_module_version": "1.4.0",
      "model_name": "SliderStyleModel",
      "state": {
       "description_width": ""
      }
     },
     "74a952e529b940e493cb2b4c69632d65": {
      "model_module": "@jupyter-widgets/base",
      "model_module_version": "1.1.0",
      "model_name": "LayoutModel",
      "state": {}
     },
     "74bd9caad42b43f3a801c130468aee1c": {
      "model_module": "@jupyter-widgets/controls",
      "model_module_version": "1.4.0",
      "model_name": "SliderStyleModel",
      "state": {
       "description_width": ""
      }
     },
     "7500f885d02a45f6bb0ec2badd248af4": {
      "model_module": "@jupyter-widgets/base",
      "model_module_version": "1.1.0",
      "model_name": "LayoutModel",
      "state": {}
     },
     "751559708675492b89d8bd8840b2217f": {
      "model_module": "@jupyter-widgets/output",
      "model_module_version": "1.0.0",
      "model_name": "OutputModel",
      "state": {
       "layout": "IPY_MODEL_9f435216a7494edd96be1a949f638ead",
       "outputs": [
        {
         "data": {
          "image/png": "iVBORw0KGgoAAAANSUhEUgAAAYIAAAD8CAYAAAB6paOMAAAABHNCSVQICAgIfAhkiAAAAAlwSFlzAAALEgAACxIB0t1+/AAAADl0RVh0U29mdHdhcmUAbWF0cGxvdGxpYiB2ZXJzaW9uIDIuMi4yLCBodHRwOi8vbWF0cGxvdGxpYi5vcmcvhp/UCwAAGfBJREFUeJzt3X+QXWV9x/HPN9mEJBU3Jlk3FNi9FBgSaCo6O4rVPyip5UdjsdIy2K1DGWZ22sIMMLYVzIwiulP9o4KtP9qdQsF2a8wUFURmlKaoddqiAdEIgXHR3UDILxJY0EDI7n77xz0XNpvz3N2ze+49957n/ZrZ2Xufe3Lvc+Du+Z7neb7P85i7CwAQr0VFVwAAUCwCAQBEjkAAAJEjEABA5AgEABA5AgEARI5AAACRIxAAQOQIBAAQuY6iKzAXa9as8UqlUnQ1AKCtPPzww8+5e9dsx7VFIKhUKtq+fXvR1QCAtmJmY3M5jq4hAIgcgQAAIkcgAIDIEQgAIHIEAgCIHIEAACJHIACAyBEIACByBAJEYXh4WJVKRYsWLVKlUtHw8HDRVQJaRlvMLAYWYnh4WAMDAzp8+LAkaWxsTAMDA5Kk/v7+IqsGtARaBCi9zZs3vxYEag4fPqzNmzcXVCOgtdAiwLzsXLc+tXz9EzubXJPZ7dq1K1M5EBtaBGhZefXr9/T0ZCoHYkOLAHWF7vwbLc9+/cHBwWPeS5JWrFihwcHB/CoMtDFaBGhJefbr9/f3a2hoSL29vTIz9fb2amhoiIFiIEEgQOHSuoDq9evPp8uov79fo6Ojmpqa0ujoKEEAmMbcveg6zKqvr8/ZmKYYWbuGsg4Wz+wCkqrdNsuXL9fBgwePO3716tV6+eWXjzueO3zgeGb2sLv3zXYcLQI0TdqdfKgLSKpe4KerPScVFMgXgQBNUbvzHxsbk7u/Nvg7Npa+k96hQ4dS+/UPHTqUejypoMD80TWEuvLqGqpUKqkX/cWLF2tycvK48t7eXo2Ojs75fULHAzGjawgtJXTHPjk5mdoFFErtHBwczHQ8gNkRCNAUoclbtS6fuaZ21ksFZWE5YH7oGkJdeXUNhbKD8sr2afT7A+2IriG0lEZP6mJhOWD+aBGgrkbPI8jLokWLlPZdNjNNTU0VUCOgeHNtEbDWEHJV1KqkPT09qdlELCwHzI6uIZQC2UTA/NEiiExRq4k2Wm2sYfPmzdq1a5d6eno0ODjIQDFaUm1Wfat8V2kRoDTms7AcKadottAs+yK/ewQCRKveHyQBAo3SihluCw4EZrbMzH5gZj82s8fM7ONJ+Wlm9pCZjZjZV8xsaVJ+QvJ8JHm9stA6oLXcNz6ujU+N6Jwnn9DGp0Z03/h40VVKFfqDvO6661rujg2tLcuNw67A+lpFrpeVR4vgiKQL3P0tks6VdJGZnSfp05JudfczJD0v6erk+KslPZ+U35och5K4b3xcH923V3smJuSS9kxM6KP79rbkRTT0h3fw4MGWu2ND/vJq9WXt6unptPTyAjPccp1HYGYrJH1f0l9I+qakte4+YWbvlHSzu19oZt9KHv+vmXVI2iupy+tUhHkE+Wn0YPHGp0a0Z2LiuPJWXBQutIBdCHMSymNeM9Fv7kwtrtz5pvSFEDtNo9efePxn73hVA994RYePvl62Yok09C//lvuAcVNnFpvZYjN7VNJ+SQ9IekrSC+5euyI8I+nk5PHJkp6WpOT1cUmr86gHirc3JQhIrblMdCjldPXq9K8jcxLKI89++uBueuPp97b9G5Zq6L3L1NtpMlUDxtB7lxWaNZRL+qi7T0o618xWSvqapHULfU8zG5A0IPEH2E7WdnSktgha8f9hKOVUEpvdl1y9rVBDd/4hwcmMgS4gqRoM+jcszfQ5jZRr1pC7vyDpQUnvlLQy6fqRpFMk7U4e75Z0qiQlr3dKOm5PQncfcvc+d+/r6urKs5pooBvWdGmZHfsHsMysZS+iaSmnbHZffqEbk/ncsAQnM248YV51K8KCxwjMrEvSUXd/wcyWS/q2qgPAV0q62923mNk/SvqJu3/BzK6RtMHd/9zMrpD0fne/vN5nMEaQXZETx+4bH9etzx3Q3okJre3o0A1ruvTXe54trD7ATHXHCH72l9nfb8er2rztiHaNu3o6TYMbT1D/hqXB8kxunn/WXTPXGjpJ0l1mtljVFsZWd7/PzB6XtMXMPinpR5JuT46/XdK/mtmIpEOSrsihDmghmzo7takzW/MaaKa6M9Fvzh4I0rp6Zg4Kj427Br7xymvHtxJWHy2pVltKoqhVSYHM6owRZLnDr9z2ksZSBoxD2UTB97/75fmdh9iPAGgIZhy3mZs703/moXaHPzbucr1+hz+849XU40NZQ6Hy4Ps34TtGIMCsQjOF22UGcV5acY0YNM/mbUeOyf2XpMNHq+VpghPHAuXB92/CREYCAeoKzRS+Zc+e1PIyB4NWXCMGzZP1Dn9w4wlaseTYshVLFMwmCr5/E+bgEAhQ163PHdArM8aRXnHX1hfHU8tvfe5A6vvsXLc+9aed1M09R9MU1T2X9Q4/OHEsMKZQ5NIT7EeAukIzhUMLLYSOLwN2QSvezLTPWvecpGzzPOYxTjC48YTUpSHqzRfIMnEs+P5NmINDIGhjzbijDs0UXqT0YLC2o7xfqcHBQWYcF6xe91yjJ/zVLugLnheQ9f2bMJGxvH+1yMUNa7r00X17j+kGWmam9534Rn39pRePK79hTXlngbMLWvGC3XNjYxq+bHnDLtI1jV4aoqilJwgEqKs2MWzmTOFNnZ1624oVqeVlVluCAsUIdc+tWq62mbzVihgsxqw2dXZq2+ln6LGz1mnb6We8drEPlQNZZBn8Da3rIymY2jm841VVbntJiz7+oiq3vRTM+48ZgQBArrJc2LPOzQgtCHgoMPm21jKY6ySwWLHERBtrt/TLNCw9US5ZN3wJbQ6UdSOjyspFqcs5LDZpMuUSV2+ZBynbUhIN14RF52gRAMhN1kl3ec3NCE3eSgsCUnjylpR9KYkyIBAAyE3WC3vPG9Pfp6enJ72LKbB2UGjyVm/GSWBS9qUkyoCsoQil7RfAQC/ykHXSXWgS1SWXXJI+ceyiqWAXTSj1MusksKxLSZQBLYLIhNYOum98PLpF5JC/4G5dgUl3oTv5+++/P72LKeNdedZlHqTsS0mUQdQtgtBga2gAM+vxeX1unkJrBw3u26sjyWPp9QAhidYC5mw+k+7S7uQ/+NXjWxXS/O7Ks07Sms9SEu0u6kDQLvLMDgqtBTSekj1WW0SOQIAs8ph019NpqVlAzbgrb/RSEq0o6kBw+U3pp7+jyfVoptDaQSFlXkQuT8PDwyw9kaOi78qLWuqhKIwRROaGNV1aZsfeVS0z08pF6V+FMi8ilxc2rMnffPr2MX8Eghy001r7mzo7dUv3Wp3U0SGTdFJHh27pXquPvLk7NUCUeRG5vNTLnWdry9dl/W/Rv2GpRq8/UVMfe6NGrz+RINBA3O5lEOpK2vq36d0nrRwMQv3+pJVmF8qRr7UMFrx2fgkE9xGokw6K5iEQtJCiA0e9AIGwUO784sWLC1s7v9Vcdd1VOjpjllY1HdQIBC2AriFggUK585OTk6nHx7i15cTBo6nlZZ6k1U4IBMAChVbE7O3tTT0+xq0tY5yk1U7oGgJyEMqdL+vWllknRRadDor6CARAg7Tq1pZZ5zykHn/Fs+kHBzaFj3GSVjuJej+CDXdtSC3fcWX6lLLQ8SGhbCK8jv0ImivrfgHB48n2aR72IwCQp6z7BQSPL/GSzDEiEKRopwliaE9FTTTLul9AsHzc2Qu4RAgEQJMVuSRFKGMpa/mq5YpuF68yIxCkuPymjtSfVsQeAu0na/dMPVlbFln3C5i8cFK29NgUz9rz2HbxKrPWvLrlLOsgb7uobTLDHgLtJa99eoPLNii8hEXWTKZvf/cNum/V2mOXHlnVpQ/v3ZN+DkwQa0tRZA0VFQganTW08amR1CWlT+ro0LbTz2joZ+clxqyhSqWSuiRFb2+vBgcH53yRrvc+o6OjmeoUzKD7RXpwqtz2Uup+Ab2dptHrT8z02ZhFE7KGomgRFCXrInVZhfYKqJWzN3FrGhwcTE3JDO7Tq/Q7/LxaFvPBBLFyIRC0sdAmM2s7Oug2amGh7pl6YwdpgSDrRvH1BG9OrkgvZoJYuSx4sNjMTjWzB83scTN7zMyuS8pXmdkDZvaz5PebknIzs783sxEz+4mZvW2hdYhVaJOZG9Z0BfcmvvW5A82sIgL6+/s1OjqqqakpjY6Oqr+/P/Mdfr2B32akp7JfQHnkkTU0IelD7n62pPMkXWNmZ0u6UdI2dz9T0rbkuSRdLOnM5GdA0hdzqEOUQpvMbOrsnLXbCK0nawpnaLE7SZnTU9df8aweOWdUF+99Uuc8+YQu3vukHjlndMHnhPaQ+2Cxmd0j6XPJz/nuvsfMTpL0HXc/y8z+KXn85eT4J2vHhd6zXQeLs8pzcLldBpJjHCwOqbf8gzT3TJ/5DCIPX7Y8tc+f7SFbQLstMWFmFUlvlfSQpO5pF/e9krqTxydLenraP3smKUOO6nUboTXldYc/n0HkzduOMC8gYrkNFpvZGyTdLel6d3/Rpl2E3N3NLFPTw8wGVO06inL99pmyZgDVXiNrqL2kLWddqVRyGUTuWNURbB2H8v+ZFxCHXFoEZrZE1SAw7O5fTYr3JV1CSn7vT8p3Szp12j8/JSk7hrsPuXufu/d1dcV9F1vLANozMSHX6xlAs80i3tTZqW2nn6HHzlqnbaefQRBoU3kNIndf1p16vMTGMbFbcIvAqrf+t0va6e6fmfbSvZKulPSp5Pc908qvNbMtkt4habze+ABUNwOIi3v5ZU0TDaWnvu0Tn5S+mz4O9QjzAqKWR9fQuyR9UNIOM3s0KfuIqgFgq5ldLWlM0uXJa/dLukTSiKTDkq7KoQ6lVuYMoKw7XcUoNAGt3k5naV1MOz/xyfDxzAuI2oIDgbt/X1Ko/bgx5XiXdM1CPzcm9SaOofyyrg8UGgfYOtvnbFjKhT9SXEnawA1ruo6ZJSyRARSb0J7IQB4IBG2ADKC4Zd1SNWR9aJ9hRI9A0CY2dXZy4ccxgl1AGdcNAtiYBgAiR4ugxbB0NIBmIxC0EJaORppQV0+rbp+K9sM3qYUwcQxZNHoHPMSDMYIWUuaJYwBaFy2CFsLEsbjNdyIYsFBcYQrywv+8oH1379PRg0e1ZPUSdV/WzcQxAIUgEOQk7cK+8rdXBo/dfedu+avVC/7Rg0e1+87d0qq1uqV7LVlDAJqKQJCD4IU9MTNA7Lt732vH1virrs1Hn9NZf3eWVmu1ViflX5K0iUFBZMAMYmRFIMhB6ML+7PCz8qN+XICYeWzN0YNHU8sBoJEIBDkIXcCnfjV1XJm/6tVcreNf0pLVS3KuGQDMjkCQgyWrl2S7m5+SbKkd0zKwpVZ3BymURyg7CCgKgSAH3Zd1H9flY0tNi5Yu0uQvJ487fvpYwVwGlxEHJoihKASCHNQu4DMv7JJSA0Ttos+FH0ArIBDkpN6FnTv/ONEFhHZBIGiwPO78Q4uL0ZUAIA+sNQQAkaNFACwQXUBodwQCoMny6tJjBjHyQtcQAESOQAAAkaNrCJgjxgJQVrQIACBytAiAFsegMBqNFgEARI4WAdAgzPxGuyAQZJRlS8pGCy09IbX/RWjnuvWp5euf2JnbZ4QGf3dcuSO3zwDaAYEgg3pbUrKQHIB2xRhBBqEtKffdva+gGgHAwtEiyCC0Cxl7DZdL1vkC7d4NB9AiyCC0pzB7DQNoZ7QIMghtSclew62NGcFAfbkEAjO7Q9ImSfvd/TeTslWSviKpImlU0uXu/ryZmaTPSrpE0mFJf+buj+RRj/nIkgUU2pKSgWIA7SyvFsGdkj4n6UvTym6UtM3dP2VmNybPPyzpYklnJj/vkPTF5HfT1csCktIv+Ow13Jq46wfmL5dA4O7fM7PKjOJLJZ2fPL5L0ndUDQSXSvqSu7uk/zOzlWZ2krvvyaMuWYSygJ4dflZ+1EkTBRCFRg4Wd0+7uO+VVOtIP1nS09OOeyYpa7pQts/Ur6ZIEwUQjaZkDSV3/z7rgdOY2YCZbTez7QcOHGhIvbJm+5AmCqCMGpk1tK/W5WNmJ0nan5TvlnTqtONOScqO4e5DkoYkqa+vL1MQmatQFtCipYs0+cvJ444nTTRuzBdAWTUyENwr6UpJn0p+3zOt/Foz26LqIPF4EeMDUjgLSFLbp4mG1iHiYgZgprzSR7+s6sDwGjN7RtLHVA0AW83sakljki5PDr9f1dTREVXTR6/Kow7zVS8LiDTR1kN2EJC/vLKGPhB4aWPKsS7pmjw+t5FIEwUQC5aYAIDIEQgAIHKsNQS0CPYmRlFoEQBA5AgEABA5AgEARI5AAACRIxAAQOTIGgJmYBkOxIZAgGhxwQeqogkEWbakBICYRBEI6m1JGVswYFVSADNFMVgc2pKSHccAIJJAENpZjB3HACCSQBDaWYwdxwAgkkDQfVm3bKkdU9ZuO44BQKNEMVgc2pIytoFiAEgTRSCQ2HGsZscvdqWW79SvN7kmAFpFNIEA8SI1FqgvijECAEAYLYKSCnUBAcBMBII2xsX+dXT/APNH1xAARI4WQQvhDj8ObFKPVkOLAAAiR4sAksJ3qTu3ML8AKDtaBAAQOVoEDRTq899wWk+TawIAYQSCArTToDBdRkD50TUEAJGjRZBBO93JA8BcEQjQVphBDOQv6kDAHf78MXYAlEcUgYALfvGyzqYloADNw2AxAESusEBgZheZ2ZNmNmJmNxZVDwCIXSFdQ2a2WNLnJb1H0jOSfmhm97r740XUB+2DsQkgf0WNEbxd0oi7/1ySzGyLpEslEQggiRU6gWYqqmvoZElPT3v+TFIGAGiyls0aMrMBSQOS1NOzwLV5bh7PoUaYky3r08sb/f8g9LmtiO8jWkxRLYLdkk6d9vyUpOw17j7k7n3u3tfV1dXUygFATIpqEfxQ0plmdpqqAeAKSX9SUF2Qo/VP7Cy6Ci2D/xZoF4UEAnefMLNrJX1L0mJJd7j7Y0XUBQBiV9gYgbvfL+n+oj4fAFDFzGIAiByBAAAiRyAAgMgRCAAgci07oQzIol6q5s51bTTZDCgALQIAiByBAAAiR9cQsEDMIEa7o0UAAJEjEABA5AgEABA5AgEARI5AAACRIxAAQOQIBAAQOQIBAESOQAAAkSMQAEDkCAQAEDkCAQBEjkAAAJEjEABA5AgEABA5AgEARI5AAACRIxAAQOTYqhKlF9pKcue69U2uCdCaaBEAQOQIBAAQOQIBAESOQAAAkSMQAEDkCAQAEDnSR4E5CqWhAu2OFgEARI4WAaLFHT5QtaAWgZn9sZk9ZmZTZtY347WbzGzEzJ40swunlV+UlI2Y2Y0L+XwAwMIttGvop5LeL+l70wvN7GxJV0g6R9JFkr5gZovNbLGkz0u6WNLZkj6QHAsAKMiCuobcfackmdnMly6VtMXdj0j6hZmNSHp78tqIu/88+XdbkmMfX0g9AADz16jB4pMlPT3t+TNJWaj8OGY2YGbbzWz7gQMHGlRNAMCsLQIz+09Ja1Ne2uzu9+RfpSp3H5I0JEl9fX3eqM8BgNjNGgjc/Xfn8b67JZ067fkpSZnqlAMACtCorqF7JV1hZieY2WmSzpT0A0k/lHSmmZ1mZktVHVC+t0F1AADMwYIGi83sDyX9g6QuSd80s0fd/UJ3f8zMtqo6CDwh6Rp3n0z+zbWSviVpsaQ73P2xBZ0BAGBBzL31u9/7+vp8+/btRVcDANqKmT3s7n2zHtcOgcDMDkgay+nt1kh6Lqf3ahexnXNs5ytxzrHIes697t4120FtEQjyZGbb5xIhyyS2c47tfCXOORaNOmcWnQOAyBEIACByMQaCoaIrUIDYzjm285U451g05JyjGyMAABwrxhYBAGCaaAJBDPsgmNkdZrbfzH46rWyVmT1gZj9Lfr+pyDrmzcxONbMHzezxZG+M65Ly0p63mS0zsx+Y2Y+Tc/54Un6amT2UfMe/kszeL41kKfsfmdl9yfNSn68kmdmome0ws0fNbHtSlvt3O4pAENE+CHequv/DdDdK2ubuZ0raljwvkwlJH3L3syWdJ+ma5P9tmc/7iKQL3P0tks6VdJGZnSfp05JudfczJD0v6eoC69gI10mavq1c2c+35nfc/dxpaaO5f7ejCASq7oUw4u4/d/dXJdX2QSgVd/+epEMzii+VdFfy+C5J72tqpRrM3fe4+yPJ45dUvVCcrBKft1f9Mnm6JPlxSRdI+o+kvFTnbGanSPp9Sf+cPDeV+Hxnkft3O5ZAMOd9EEqo2933JI/3SuousjKNZGYVSW+V9JBKft5JN8mjkvZLekDSU5JecPeJ5JCyfcdvk/Q3kqaS56tV7vOtcUnfNrOHzWwgKcv9u83m9RFxdzezUqaJmdkbJN0t6Xp3f3H6rnllPO9kEcdzzWylpK9JWldwlRrGzDZJ2u/uD5vZ+UXXp8ne7e67zezNkh4wsyemv5jXdzuWFkG9/RHKbp+ZnSRJye/9Bdcnd2a2RNUgMOzuX02KS3/ekuTuL0h6UNI7Ja00s9rNXZm+4++S9AdmNqpqt+4Fkj6r8p7va9x9d/J7v6oB/+1qwHc7lkAQ8z4I90q6Mnl8paSG7SpXhKSv+HZJO939M9NeKu15m1lX0hKQmS2X9B5Vx0YelPRHyWGlOWd3v8ndT3H3iqp/u//l7v0q6fnWmNmvmdmJtceSfk/ST9WA73Y0E8rM7BJV+xlr+yAMFlyl3JnZlyWdr+oKhfskfUzS1yVtldSj6gqul7v7zAHltmVm75b035J26PX+44+oOk5QyvM2s99SdZBwsao3c1vd/RYz+w1V75hXSfqRpD919yPF1TR/SdfQX7n7prKfb3J+X0uedkj6d3cfNLPVyvm7HU0gAACki6VrCAAQQCAAgMgRCAAgcgQCAIgcgQAAIkcgAIDIEQgAIHIEAgCI3P8DRtdCyz3kz4MAAAAASUVORK5CYII=\n",
          "text/plain": "<Figure size 432x288 with 1 Axes>"
         },
         "metadata": {},
         "output_type": "display_data"
        }
       ]
      }
     },
     "75845cc8ca2d4308b9d8849cfe33fb86": {
      "model_module": "@jupyter-widgets/controls",
      "model_module_version": "1.4.0",
      "model_name": "FloatSliderModel",
      "state": {
       "description": "mc1_shape_conv",
       "layout": "IPY_MODEL_4fcf2bbe3339417f856b8a7c32ade0d3",
       "max": 5,
       "min": -5,
       "step": 0.1,
       "style": "IPY_MODEL_5c5a4605a7e64530bf76a36646f52b7b"
      }
     },
     "7589dfcb2d494aed94a83c2827c317fb": {
      "model_module": "@jupyter-widgets/controls",
      "model_module_version": "1.4.0",
      "model_name": "SliderStyleModel",
      "state": {
       "description_width": ""
      }
     },
     "75c72c9620dd4645a324fb0e9fbf6054": {
      "model_module": "@jupyter-widgets/base",
      "model_module_version": "1.1.0",
      "model_name": "LayoutModel",
      "state": {}
     },
     "75e421a2ab744297a179b889e8b9fca2": {
      "model_module": "@jupyter-widgets/controls",
      "model_module_version": "1.4.0",
      "model_name": "SliderStyleModel",
      "state": {
       "description_width": ""
      }
     },
     "7611ddd19e2043a69c6ee991792f37fe": {
      "model_module": "@jupyter-widgets/controls",
      "model_module_version": "1.4.0",
      "model_name": "IntSliderModel",
      "state": {
       "description": "mc2_shape_conv",
       "layout": "IPY_MODEL_52c1039261174439b55b0d55b62bb6f7",
       "max": 5,
       "min": -5,
       "style": "IPY_MODEL_3219c6471ac24102aa35c494680d449a"
      }
     },
     "767947bb25bf4a01a61b85ee6cd44d19": {
      "model_module": "@jupyter-widgets/controls",
      "model_module_version": "1.4.0",
      "model_name": "IntSliderModel",
      "state": {
       "description": "mc2_weight_var1",
       "layout": "IPY_MODEL_2301dca9a16148809453509afea3c5af",
       "max": 5,
       "min": -5,
       "style": "IPY_MODEL_1888089cd3424f958d6aeca209b04bc9"
      }
     },
     "769dce3ada684269985c1018d72949bc": {
      "model_module": "@jupyter-widgets/output",
      "model_module_version": "1.0.0",
      "model_name": "OutputModel",
      "state": {
       "layout": "IPY_MODEL_9fe036dd2a82497aa747aa2f23972511",
       "outputs": [
        {
         "data": {
          "image/png": "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\n",
          "text/plain": "<Figure size 720x360 with 1 Axes>"
         },
         "metadata": {
          "needs_background": "light"
         },
         "output_type": "display_data"
        }
       ]
      }
     },
     "76f3b2ec6c574d67b991d2f74b3030bf": {
      "model_module": "@jupyter-widgets/controls",
      "model_module_version": "1.4.0",
      "model_name": "IntSliderModel",
      "state": {
       "description": "SigXsecOverSM",
       "layout": "IPY_MODEL_ae68217748bd424982a4d85179c1572f",
       "max": 10,
       "style": "IPY_MODEL_8d57ac7b108749c78a01055e94ba32d8",
       "value": 5
      }
     },
     "770db87bce60472681c2fefe3f6337d2": {
      "model_module": "@jupyter-widgets/controls",
      "model_module_version": "1.4.0",
      "model_name": "FloatSliderModel",
      "state": {
       "description": "SigXsecOverSM",
       "layout": "IPY_MODEL_3261f35add574cfd88ea59a454574860",
       "max": 10,
       "step": 0.1,
       "style": "IPY_MODEL_bb416b4a42174d77b1b78f06f4988b8f",
       "value": 2.8
      }
     },
     "779da85fc3bf4b568baaa6eec716e794": {
      "model_module": "@jupyter-widgets/controls",
      "model_module_version": "1.4.0",
      "model_name": "IntSliderModel",
      "state": {
       "description": "mc1_shape_conv",
       "layout": "IPY_MODEL_f4d93303e5314f08be47ca8c312b660a",
       "max": 5,
       "min": -5,
       "style": "IPY_MODEL_03ec3889ec1c483abec6dcc8562a5d43"
      }
     },
     "7868cb0ab11e48989218de48b92f1f6e": {
      "model_module": "@jupyter-widgets/controls",
      "model_module_version": "1.4.0",
      "model_name": "IntSliderModel",
      "state": {
       "description": "mc2_weight_var1",
       "layout": "IPY_MODEL_a7f34043768e412fadb9e1f651c0434a",
       "max": 5,
       "min": -5,
       "style": "IPY_MODEL_0e2b17b229e040b1a1e8a0a35736b81d"
      }
     },
     "787747fc9a0f4478958544ced70fa29c": {
      "model_module": "@jupyter-widgets/controls",
      "model_module_version": "1.4.0",
      "model_name": "IntSliderModel",
      "state": {
       "description": "SigXsecOverSM",
       "layout": "IPY_MODEL_dbf5563f2e2540bb81627d3d7deaddcf",
       "max": 10,
       "style": "IPY_MODEL_fc1e71eb83394eac9c0a6b7644510312",
       "value": 5
      }
     },
     "788f7c5459e443ea81528a0a503d12be": {
      "model_module": "@jupyter-widgets/controls",
      "model_module_version": "1.4.0",
      "model_name": "SliderStyleModel",
      "state": {
       "description_width": ""
      }
     },
     "78c7ebd383e34cb1b8576b472a2daa07": {
      "model_module": "@jupyter-widgets/controls",
      "model_module_version": "1.4.0",
      "model_name": "SliderStyleModel",
      "state": {
       "description_width": ""
      }
     },
     "794bbe97761841b3adeaac26f7160964": {
      "model_module": "@jupyter-widgets/controls",
      "model_module_version": "1.4.0",
      "model_name": "IntSliderModel",
      "state": {
       "description": "mc1_weight_var1",
       "layout": "IPY_MODEL_d5299e4f19134f6abedaf268d4e87522",
       "max": 5,
       "min": -5,
       "style": "IPY_MODEL_0f4248282b2c4cb794d6ada2c1ccf1a3",
       "value": 2
      }
     },
     "7a129e0d046948c283961a4d4029ff2e": {
      "model_module": "@jupyter-widgets/controls",
      "model_module_version": "1.4.0",
      "model_name": "IntSliderModel",
      "state": {
       "description": "mc1_shape_conv",
       "layout": "IPY_MODEL_ec40956e697f452c98585a4644e6903c",
       "max": 5,
       "min": -5,
       "style": "IPY_MODEL_199fd8e490054e8f9bdd0b75309e2527"
      }
     },
     "7a6e35fc7139424f9c0b7c5f7b4d12bc": {
      "model_module": "@jupyter-widgets/base",
      "model_module_version": "1.1.0",
      "model_name": "LayoutModel",
      "state": {}
     },
     "7b14f85062494afa8b6c4bccd15e3732": {
      "model_module": "@jupyter-widgets/base",
      "model_module_version": "1.1.0",
      "model_name": "LayoutModel",
      "state": {}
     },
     "7d1fdb17c2e84335905270e92126b505": {
      "model_module": "@jupyter-widgets/base",
      "model_module_version": "1.1.0",
      "model_name": "LayoutModel",
      "state": {}
     },
     "7edc194ba76e4b0285efb2129d47710c": {
      "model_module": "@jupyter-widgets/base",
      "model_module_version": "1.1.0",
      "model_name": "LayoutModel",
      "state": {}
     },
     "7f8578ce2dcc410598b77531a596fc5b": {
      "model_module": "@jupyter-widgets/controls",
      "model_module_version": "1.4.0",
      "model_name": "VBoxModel",
      "state": {
       "_dom_classes": [
        "widget-interact"
       ],
       "children": [
        "IPY_MODEL_6ed44bd841be4326b18826ae1739b78f",
        "IPY_MODEL_e35cde02917d45ba8e1970c084abd01b",
        "IPY_MODEL_5a8a9146cbf74f3e9cf3cfe0c121e2b6",
        "IPY_MODEL_91213e92d4c94e909d9a6ac5107f0389",
        "IPY_MODEL_3dc3187a154d469c94d1d7720afc8946",
        "IPY_MODEL_048a5d709ba84138a32c889441fdcc80"
       ],
       "layout": "IPY_MODEL_8fcced668ef04da1ac0c12bb1f7d2e55"
      }
     },
     "7f90ac1c981743f68a2c9686c3c15ade": {
      "model_module": "@jupyter-widgets/base",
      "model_module_version": "1.1.0",
      "model_name": "LayoutModel",
      "state": {}
     },
     "7f96880a02d14d3ca2637a5f484ec07a": {
      "model_module": "@jupyter-widgets/controls",
      "model_module_version": "1.4.0",
      "model_name": "SliderStyleModel",
      "state": {
       "description_width": ""
      }
     },
     "800a88964a3740f9accd7ec5670127b1": {
      "model_module": "@jupyter-widgets/base",
      "model_module_version": "1.1.0",
      "model_name": "LayoutModel",
      "state": {}
     },
     "801eccc5b94f4dd6a23b353bbe5090a2": {
      "model_module": "@jupyter-widgets/output",
      "model_module_version": "1.0.0",
      "model_name": "OutputModel",
      "state": {
       "layout": "IPY_MODEL_3b3f93ba8c2f471eaddaed08b29195e6",
       "outputs": [
        {
         "data": {
          "image/png": "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\n",
          "text/plain": "<Figure size 720x360 with 1 Axes>"
         },
         "metadata": {
          "needs_background": "light"
         },
         "output_type": "display_data"
        }
       ]
      }
     },
     "8113693b117e4b5b81086d9092c4e524": {
      "model_module": "@jupyter-widgets/output",
      "model_module_version": "1.0.0",
      "model_name": "OutputModel",
      "state": {
       "layout": "IPY_MODEL_e459309cae9b444490bcf364944168a5",
       "outputs": [
        {
         "data": {
          "image/png": "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\n",
          "text/plain": "<Figure size 432x288 with 1 Axes>"
         },
         "metadata": {},
         "output_type": "display_data"
        }
       ]
      }
     },
     "814f5fe94557408c8682b1ec5cfb74e0": {
      "model_module": "@jupyter-widgets/controls",
      "model_module_version": "1.4.0",
      "model_name": "SliderStyleModel",
      "state": {
       "description_width": ""
      }
     },
     "819b0005a8ce473e95a94753d0454ca9": {
      "model_module": "@jupyter-widgets/controls",
      "model_module_version": "1.4.0",
      "model_name": "VBoxModel",
      "state": {
       "_dom_classes": [
        "widget-interact"
       ],
       "children": [
        "IPY_MODEL_234983914bb2479abdefeb37af2f2ca0",
        "IPY_MODEL_f00694e0aab0447782e209dfa736c161",
        "IPY_MODEL_e8ebce9fd3564fa08272142851582349",
        "IPY_MODEL_417afa7a21804ea29bde6e9769599fec",
        "IPY_MODEL_0e144d1551d44fa4bdd586d5526e9b64",
        "IPY_MODEL_ddcb369f0bdf4b149301235e0633b7df"
       ],
       "layout": "IPY_MODEL_9aedda3aa9494702b6a3b7d83bdc6408"
      }
     },
     "81b960c388e44824afbd39970d70e6be": {
      "model_module": "@jupyter-widgets/controls",
      "model_module_version": "1.4.0",
      "model_name": "IntSliderModel",
      "state": {
       "description": "mc1_weight_var1",
       "layout": "IPY_MODEL_89742b79ffda41aebedb841e3429d628",
       "max": 5,
       "min": -5,
       "style": "IPY_MODEL_29840dbc8e17460ea386095acc779f50"
      }
     },
     "822f217e79e94b84931bfc742e509f59": {
      "model_module": "@jupyter-widgets/base",
      "model_module_version": "1.1.0",
      "model_name": "LayoutModel",
      "state": {}
     },
     "8276909528a0415184568d63ce0a9819": {
      "model_module": "@jupyter-widgets/base",
      "model_module_version": "1.1.0",
      "model_name": "LayoutModel",
      "state": {}
     },
     "848e732dd55e4dba97b222539e79bd3d": {
      "model_module": "@jupyter-widgets/base",
      "model_module_version": "1.1.0",
      "model_name": "LayoutModel",
      "state": {}
     },
     "84aee158aad74bd286076259594a08ea": {
      "model_module": "@jupyter-widgets/controls",
      "model_module_version": "1.4.0",
      "model_name": "SliderStyleModel",
      "state": {
       "description_width": ""
      }
     },
     "84d2c6a8fbff4808aa1204278c14c58d": {
      "model_module": "@jupyter-widgets/controls",
      "model_module_version": "1.4.0",
      "model_name": "IntSliderModel",
      "state": {
       "description": "SigXsecOverSM",
       "layout": "IPY_MODEL_f7af24e8a2114fb29ea321897b2ecca1",
       "max": 10,
       "style": "IPY_MODEL_3dbcc2cfed7c43179a557c6c9b7c4c80",
       "value": 5
      }
     },
     "8623de5616ce42c783dbda4d219f15fa": {
      "model_module": "@jupyter-widgets/controls",
      "model_module_version": "1.4.0",
      "model_name": "IntSliderModel",
      "state": {
       "description": "mc1_weight_var1",
       "layout": "IPY_MODEL_8986a9c6c6004d028d76f55d5a5fe09d",
       "max": 5,
       "min": -5,
       "style": "IPY_MODEL_fe1fd8c65ae44b0096e0977b09da1429"
      }
     },
     "86df9cdf283b41e8bad874b3057a92d3": {
      "model_module": "@jupyter-widgets/controls",
      "model_module_version": "1.4.0",
      "model_name": "SliderStyleModel",
      "state": {
       "description_width": ""
      }
     },
     "871584de4613456ca8af358c81925a6c": {
      "model_module": "@jupyter-widgets/base",
      "model_module_version": "1.1.0",
      "model_name": "LayoutModel",
      "state": {}
     },
     "873d509b732f412694d2914c8e78c0f7": {
      "model_module": "@jupyter-widgets/base",
      "model_module_version": "1.1.0",
      "model_name": "LayoutModel",
      "state": {}
     },
     "877515e6041e42bf9ddb4b71a41d64b5": {
      "model_module": "@jupyter-widgets/controls",
      "model_module_version": "1.4.0",
      "model_name": "IntSliderModel",
      "state": {
       "description": "mc2_weight_var1",
       "layout": "IPY_MODEL_6e040d123c0a41d5bc27cf66671a7f23",
       "max": 5,
       "min": -5,
       "style": "IPY_MODEL_c95152b0474248dcb011939b4b778832"
      }
     },
     "87ac77f69b9648c68e8e31222398a0cc": {
      "model_module": "@jupyter-widgets/base",
      "model_module_version": "1.1.0",
      "model_name": "LayoutModel",
      "state": {}
     },
     "885cbbfd0b6245cca90c2d6b964bc231": {
      "model_module": "@jupyter-widgets/base",
      "model_module_version": "1.1.0",
      "model_name": "LayoutModel",
      "state": {}
     },
     "887c0b81dff94549a501182817f0228d": {
      "model_module": "@jupyter-widgets/controls",
      "model_module_version": "1.4.0",
      "model_name": "IntSliderModel",
      "state": {
       "description": "mc1_shape_conv",
       "layout": "IPY_MODEL_49764b0d41b34c3294344f60904d15d8",
       "max": 5,
       "min": -5,
       "style": "IPY_MODEL_64c30f7d101341eb9a09480a671e808c",
       "value": 1
      }
     },
     "88f537ee1f8443a4944cf1e3e9478a95": {
      "model_module": "@jupyter-widgets/controls",
      "model_module_version": "1.4.0",
      "model_name": "SliderStyleModel",
      "state": {
       "description_width": ""
      }
     },
     "89742b79ffda41aebedb841e3429d628": {
      "model_module": "@jupyter-widgets/base",
      "model_module_version": "1.1.0",
      "model_name": "LayoutModel",
      "state": {}
     },
     "8986a9c6c6004d028d76f55d5a5fe09d": {
      "model_module": "@jupyter-widgets/base",
      "model_module_version": "1.1.0",
      "model_name": "LayoutModel",
      "state": {}
     },
     "8a25e77a178740b9bbc6fb108fb8c20e": {
      "model_module": "@jupyter-widgets/output",
      "model_module_version": "1.0.0",
      "model_name": "OutputModel",
      "state": {
       "layout": "IPY_MODEL_c18273984fac462da58383b13d141716",
       "outputs": [
        {
         "data": {
          "image/png": "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\n",
          "text/plain": "<Figure size 432x288 with 1 Axes>"
         },
         "metadata": {},
         "output_type": "display_data"
        }
       ]
      }
     },
     "8a7d0bb97e7d4a788499edd5328e4d4f": {
      "model_module": "@jupyter-widgets/controls",
      "model_module_version": "1.4.0",
      "model_name": "IntSliderModel",
      "state": {
       "description": "mc1_weight_var1",
       "layout": "IPY_MODEL_ecf165826af0483ea2cf4a53ccf0deca",
       "max": 5,
       "min": -5,
       "style": "IPY_MODEL_fe00f362fbf14b45858ef91395cb8d66"
      }
     },
     "8a968ae9259d4e6c917d4efdaf2a5385": {
      "model_module": "@jupyter-widgets/controls",
      "model_module_version": "1.4.0",
      "model_name": "SliderStyleModel",
      "state": {
       "description_width": ""
      }
     },
     "8a9ac8f4b5b748c199da4df78d67b815": {
      "model_module": "@jupyter-widgets/controls",
      "model_module_version": "1.4.0",
      "model_name": "SliderStyleModel",
      "state": {
       "description_width": ""
      }
     },
     "8baa24f2263d4940958849dcabb3add7": {
      "model_module": "@jupyter-widgets/controls",
      "model_module_version": "1.4.0",
      "model_name": "SliderStyleModel",
      "state": {
       "description_width": ""
      }
     },
     "8bbaf120ec494ed9ad1214d63d89e167": {
      "model_module": "@jupyter-widgets/controls",
      "model_module_version": "1.4.0",
      "model_name": "SliderStyleModel",
      "state": {
       "description_width": ""
      }
     },
     "8c0256b42a0f477e95f7660ec06b700a": {
      "model_module": "@jupyter-widgets/controls",
      "model_module_version": "1.4.0",
      "model_name": "IntSliderModel",
      "state": {
       "description": "mc1_shape_conv",
       "layout": "IPY_MODEL_16527d6b6204464397ac075eecdb0d88",
       "max": 5,
       "min": -5,
       "style": "IPY_MODEL_8a9ac8f4b5b748c199da4df78d67b815"
      }
     },
     "8cc49102133240bfbafac1d4894efac3": {
      "model_module": "@jupyter-widgets/controls",
      "model_module_version": "1.4.0",
      "model_name": "SliderStyleModel",
      "state": {
       "description_width": ""
      }
     },
     "8cebab913d7b4a5884bb33e093596573": {
      "model_module": "@jupyter-widgets/controls",
      "model_module_version": "1.4.0",
      "model_name": "SliderStyleModel",
      "state": {
       "description_width": ""
      }
     },
     "8d3034a73619456e9dc741cf9fea1e1f": {
      "model_module": "@jupyter-widgets/controls",
      "model_module_version": "1.4.0",
      "model_name": "SliderStyleModel",
      "state": {
       "description_width": ""
      }
     },
     "8d404d9c0b104cf4b6c6c786b01c02da": {
      "model_module": "@jupyter-widgets/base",
      "model_module_version": "1.1.0",
      "model_name": "LayoutModel",
      "state": {}
     },
     "8d57ac7b108749c78a01055e94ba32d8": {
      "model_module": "@jupyter-widgets/controls",
      "model_module_version": "1.4.0",
      "model_name": "SliderStyleModel",
      "state": {
       "description_width": ""
      }
     },
     "8d7f11aaf3ef4d2087938140c8773209": {
      "model_module": "@jupyter-widgets/base",
      "model_module_version": "1.1.0",
      "model_name": "LayoutModel",
      "state": {}
     },
     "8dfb3a3296c148658a04416ab7e4c03c": {
      "model_module": "@jupyter-widgets/controls",
      "model_module_version": "1.4.0",
      "model_name": "SliderStyleModel",
      "state": {
       "description_width": ""
      }
     },
     "8e1754f0bd2f41bb81bec6449d35edca": {
      "model_module": "@jupyter-widgets/base",
      "model_module_version": "1.1.0",
      "model_name": "LayoutModel",
      "state": {}
     },
     "8e3778a55c994131ad10c6aeeddddc0b": {
      "model_module": "@jupyter-widgets/controls",
      "model_module_version": "1.4.0",
      "model_name": "IntSliderModel",
      "state": {
       "description": "mc2_shape_conv",
       "layout": "IPY_MODEL_9503f045fe1b4d72b9487d65d7b83947",
       "max": 5,
       "min": -5,
       "style": "IPY_MODEL_097a2282fb274ef29c9f1d6e80ae7039"
      }
     },
     "8e509a8016894a93a89cd2ffcc3b54fe": {
      "model_module": "@jupyter-widgets/controls",
      "model_module_version": "1.4.0",
      "model_name": "IntSliderModel",
      "state": {
       "description": "mc1_shape_conv",
       "layout": "IPY_MODEL_ff4981f021794ddb840b0efe29eed243",
       "max": 5,
       "min": -5,
       "style": "IPY_MODEL_75e421a2ab744297a179b889e8b9fca2"
      }
     },
     "8ed9651f0cfa458b93f103ee8a2b673c": {
      "model_module": "@jupyter-widgets/base",
      "model_module_version": "1.1.0",
      "model_name": "LayoutModel",
      "state": {}
     },
     "8f3ed172245249e0bb50cf38b7090f94": {
      "model_module": "@jupyter-widgets/controls",
      "model_module_version": "1.4.0",
      "model_name": "SliderStyleModel",
      "state": {
       "description_width": ""
      }
     },
     "8fcced668ef04da1ac0c12bb1f7d2e55": {
      "model_module": "@jupyter-widgets/base",
      "model_module_version": "1.1.0",
      "model_name": "LayoutModel",
      "state": {}
     },
     "8fd444e296dd4035b6f0350dacab7cce": {
      "model_module": "@jupyter-widgets/base",
      "model_module_version": "1.1.0",
      "model_name": "LayoutModel",
      "state": {}
     },
     "90846669dd4c4b8e9619e18a5e28f9ca": {
      "model_module": "@jupyter-widgets/base",
      "model_module_version": "1.1.0",
      "model_name": "LayoutModel",
      "state": {}
     },
     "90a60614fc774868b7cbc3f21efbffe8": {
      "model_module": "@jupyter-widgets/controls",
      "model_module_version": "1.4.0",
      "model_name": "IntSliderModel",
      "state": {
       "description": "SigXsecOverSM",
       "layout": "IPY_MODEL_b47544521e634c7c98f61e12793195be",
       "max": 5,
       "style": "IPY_MODEL_f1eff4b80e1740769aee89b8a60a2b29",
       "value": 2
      }
     },
     "9100852fa72a401e90be81e2c0d7ca9c": {
      "model_module": "@jupyter-widgets/controls",
      "model_module_version": "1.4.0",
      "model_name": "DropdownModel",
      "state": {
       "_options_labels": [
        "0",
        "10"
       ],
       "description": "SigXsecOverSM",
       "index": 0,
       "layout": "IPY_MODEL_6a97b010e81942a7a556a87aac69c9fd",
       "style": "IPY_MODEL_dec19e5882494f9ab82c6b767c11711c"
      }
     },
     "910254b4cfa44dad9a81268677cfe99e": {
      "model_module": "@jupyter-widgets/controls",
      "model_module_version": "1.4.0",
      "model_name": "SliderStyleModel",
      "state": {
       "description_width": ""
      }
     },
     "91213e92d4c94e909d9a6ac5107f0389": {
      "model_module": "@jupyter-widgets/controls",
      "model_module_version": "1.4.0",
      "model_name": "IntSliderModel",
      "state": {
       "description": "mc2_weight_var1",
       "layout": "IPY_MODEL_d98eddb815e34f769247e3bcc6811881",
       "max": 5,
       "min": -5,
       "style": "IPY_MODEL_216a66f9d08e40ecb4a5394a35d93920"
      }
     },
     "91803aa8a9e346a9a172f0a9f011262f": {
      "model_module": "@jupyter-widgets/controls",
      "model_module_version": "1.4.0",
      "model_name": "SliderStyleModel",
      "state": {
       "description_width": ""
      }
     },
     "92408d0ae9f24d7f8c468beabe2c5359": {
      "model_module": "@jupyter-widgets/controls",
      "model_module_version": "1.4.0",
      "model_name": "FloatSliderModel",
      "state": {
       "description": "mc1_weight_var1",
       "layout": "IPY_MODEL_5f110386c00040a2b2acc2736030dcf3",
       "max": 5,
       "min": -5,
       "step": 0.1,
       "style": "IPY_MODEL_4dad7ab5b4f14d4387d0ec6d25926eb7"
      }
     },
     "9503f045fe1b4d72b9487d65d7b83947": {
      "model_module": "@jupyter-widgets/base",
      "model_module_version": "1.1.0",
      "model_name": "LayoutModel",
      "state": {}
     },
     "95afa8adce2e419e9b31dd5386e6252c": {
      "model_module": "@jupyter-widgets/controls",
      "model_module_version": "1.4.0",
      "model_name": "IntSliderModel",
      "state": {
       "description": "mc2_shape_conv",
       "layout": "IPY_MODEL_0fe1b963d39b4322b856010248bbd9ee",
       "max": 5,
       "min": -5,
       "style": "IPY_MODEL_0f194b765d854707b331b114d9238574"
      }
     },
     "95ed22c38f4e47948cf591d15c8c1225": {
      "model_module": "@jupyter-widgets/base",
      "model_module_version": "1.1.0",
      "model_name": "LayoutModel",
      "state": {}
     },
     "971cd7891240448ba653d6d6868a6086": {
      "model_module": "@jupyter-widgets/base",
      "model_module_version": "1.1.0",
      "model_name": "LayoutModel",
      "state": {}
     },
     "976f1306fa0f44af94bf249d3e99d998": {
      "model_module": "@jupyter-widgets/controls",
      "model_module_version": "1.4.0",
      "model_name": "IntSliderModel",
      "state": {
       "description": "SigXsecOverSM",
       "layout": "IPY_MODEL_d4c12dbc85024640a72aad0d5b952407",
       "max": 10,
       "style": "IPY_MODEL_e92ee9a2467541848cf00cea9831b349",
       "value": 5
      }
     },
     "97944fcaf45040e9b7ca19962d4957a9": {
      "model_module": "@jupyter-widgets/controls",
      "model_module_version": "1.4.0",
      "model_name": "FloatSliderModel",
      "state": {
       "description": "mc1_weight_var1",
       "layout": "IPY_MODEL_11adecc1eea040f2bdbf60c2792ce783",
       "max": 5,
       "min": -5,
       "step": 0.1,
       "style": "IPY_MODEL_fd07f50389034c29a9e155e7bea94c24"
      }
     },
     "97a3e3b0aec647e99ceb596a925e8a71": {
      "model_module": "@jupyter-widgets/controls",
      "model_module_version": "1.4.0",
      "model_name": "FloatSliderModel",
      "state": {
       "description": "mc2_weight_var1",
       "layout": "IPY_MODEL_3b5571ab8e3c4a52b350c67d32f7fa46",
       "max": 5,
       "min": -5,
       "step": 0.1,
       "style": "IPY_MODEL_0257c302e4944299bbd2e0da679bd840"
      }
     },
     "97c4d70c6051481f917d717f3979f49a": {
      "model_module": "@jupyter-widgets/output",
      "model_module_version": "1.0.0",
      "model_name": "OutputModel",
      "state": {
       "layout": "IPY_MODEL_1a7fd95e2716428691823595f61aff5b",
       "outputs": [
        {
         "data": {
          "image/png": "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\n",
          "text/plain": "<Figure size 720x360 with 1 Axes>"
         },
         "metadata": {
          "needs_background": "light"
         },
         "output_type": "display_data"
        }
       ]
      }
     },
     "97cd405599e947c1b4c835debf46c608": {
      "model_module": "@jupyter-widgets/base",
      "model_module_version": "1.1.0",
      "model_name": "LayoutModel",
      "state": {}
     },
     "97e8b9f7207a4eb28d357f84765e2c04": {
      "model_module": "@jupyter-widgets/base",
      "model_module_version": "1.1.0",
      "model_name": "LayoutModel",
      "state": {}
     },
     "985180a860ad4d8dab3c4c0eb05ba202": {
      "model_module": "@jupyter-widgets/base",
      "model_module_version": "1.1.0",
      "model_name": "LayoutModel",
      "state": {}
     },
     "9938758cc2594d1086590d878cc0e79c": {
      "model_module": "@jupyter-widgets/base",
      "model_module_version": "1.1.0",
      "model_name": "LayoutModel",
      "state": {}
     },
     "9ae6871135204aaebe564e16c06409ec": {
      "model_module": "@jupyter-widgets/controls",
      "model_module_version": "1.4.0",
      "model_name": "SliderStyleModel",
      "state": {
       "description_width": ""
      }
     },
     "9aedda3aa9494702b6a3b7d83bdc6408": {
      "model_module": "@jupyter-widgets/base",
      "model_module_version": "1.1.0",
      "model_name": "LayoutModel",
      "state": {}
     },
     "9af75d6a6f2b4d758ff446ef27c31d91": {
      "model_module": "@jupyter-widgets/base",
      "model_module_version": "1.1.0",
      "model_name": "LayoutModel",
      "state": {}
     },
     "9b12acae0810402f8b4d7be292fca7b0": {
      "model_module": "@jupyter-widgets/controls",
      "model_module_version": "1.4.0",
      "model_name": "SliderStyleModel",
      "state": {
       "description_width": ""
      }
     },
     "9b28aad0548f4cd0b803e88f5d8ec47d": {
      "model_module": "@jupyter-widgets/base",
      "model_module_version": "1.1.0",
      "model_name": "LayoutModel",
      "state": {}
     },
     "9c072aa15dbc4547a545aa2e0c4427ad": {
      "model_module": "@jupyter-widgets/base",
      "model_module_version": "1.1.0",
      "model_name": "LayoutModel",
      "state": {}
     },
     "9c2066ef6f9d434c8c64580d114587e6": {
      "model_module": "@jupyter-widgets/base",
      "model_module_version": "1.1.0",
      "model_name": "LayoutModel",
      "state": {}
     },
     "9cd64df054d34aceb5f6db25afdc0305": {
      "model_module": "@jupyter-widgets/controls",
      "model_module_version": "1.4.0",
      "model_name": "SliderStyleModel",
      "state": {
       "description_width": ""
      }
     },
     "9d69bb63205f47fc856882a189321ce5": {
      "model_module": "@jupyter-widgets/controls",
      "model_module_version": "1.4.0",
      "model_name": "IntSliderModel",
      "state": {
       "description": "mc1_weight_var1",
       "layout": "IPY_MODEL_e5cedf72ed304abc9dfe9b4c2bd903a6",
       "max": 5,
       "min": -5,
       "style": "IPY_MODEL_a0dc8a24f1024af3838cd7061ca189b6"
      }
     },
     "9dce2bd05cc646729158dcd0ebdd8edf": {
      "model_module": "@jupyter-widgets/controls",
      "model_module_version": "1.4.0",
      "model_name": "SliderStyleModel",
      "state": {
       "description_width": ""
      }
     },
     "9df5ddf97dfb40809bc51692b7c5ffa2": {
      "model_module": "@jupyter-widgets/base",
      "model_module_version": "1.1.0",
      "model_name": "LayoutModel",
      "state": {}
     },
     "9e1308c73fce44ebb6115cb22740cd80": {
      "model_module": "@jupyter-widgets/base",
      "model_module_version": "1.1.0",
      "model_name": "LayoutModel",
      "state": {}
     },
     "9e967e317976439085539add72173d53": {
      "model_module": "@jupyter-widgets/controls",
      "model_module_version": "1.4.0",
      "model_name": "IntSliderModel",
      "state": {
       "description": "mc2_weight_var1",
       "layout": "IPY_MODEL_873d509b732f412694d2914c8e78c0f7",
       "max": 5,
       "min": -5,
       "style": "IPY_MODEL_788f7c5459e443ea81528a0a503d12be"
      }
     },
     "9f435216a7494edd96be1a949f638ead": {
      "model_module": "@jupyter-widgets/base",
      "model_module_version": "1.1.0",
      "model_name": "LayoutModel",
      "state": {}
     },
     "9fe036dd2a82497aa747aa2f23972511": {
      "model_module": "@jupyter-widgets/base",
      "model_module_version": "1.1.0",
      "model_name": "LayoutModel",
      "state": {}
     },
     "a020a42c720f4466bfbff292ece6c913": {
      "model_module": "@jupyter-widgets/base",
      "model_module_version": "1.1.0",
      "model_name": "LayoutModel",
      "state": {}
     },
     "a0dc8a24f1024af3838cd7061ca189b6": {
      "model_module": "@jupyter-widgets/controls",
      "model_module_version": "1.4.0",
      "model_name": "SliderStyleModel",
      "state": {
       "description_width": ""
      }
     },
     "a0ddc8476b914cc6bd7a2a0e032956cd": {
      "model_module": "@jupyter-widgets/base",
      "model_module_version": "1.1.0",
      "model_name": "LayoutModel",
      "state": {}
     },
     "a16fb4e703164185a1bafa6f316d4092": {
      "model_module": "@jupyter-widgets/controls",
      "model_module_version": "1.4.0",
      "model_name": "FloatSliderModel",
      "state": {
       "description": "mc1_shape_conv",
       "layout": "IPY_MODEL_2694041e009047a9aa9d59507a712edd",
       "max": 5,
       "min": -5,
       "step": 0.1,
       "style": "IPY_MODEL_54b2e859b3004a33beb3bd2d464f1777"
      }
     },
     "a181b7e06a9b49efbf74662d615d8c8c": {
      "model_module": "@jupyter-widgets/base",
      "model_module_version": "1.1.0",
      "model_name": "LayoutModel",
      "state": {}
     },
     "a23aee6ec120449eb80a613616b34d59": {
      "model_module": "@jupyter-widgets/controls",
      "model_module_version": "1.4.0",
      "model_name": "SliderStyleModel",
      "state": {
       "description_width": ""
      }
     },
     "a2984547b20b4712b5803ee157a2324b": {
      "model_module": "@jupyter-widgets/controls",
      "model_module_version": "1.4.0",
      "model_name": "IntSliderModel",
      "state": {
       "description": "mc1_weight_var1",
       "layout": "IPY_MODEL_7d1fdb17c2e84335905270e92126b505",
       "max": 5,
       "min": -5,
       "style": "IPY_MODEL_c0c39a4dcf5340afb8ed426a585af41e"
      }
     },
     "a2bf423e13e447db97d1be14ce31d426": {
      "model_module": "@jupyter-widgets/base",
      "model_module_version": "1.1.0",
      "model_name": "LayoutModel",
      "state": {}
     },
     "a3c0167728bb430bb8a250b67aa37bba": {
      "model_module": "@jupyter-widgets/base",
      "model_module_version": "1.1.0",
      "model_name": "LayoutModel",
      "state": {}
     },
     "a45a0929ad004a8b9834a7064ae02552": {
      "model_module": "@jupyter-widgets/base",
      "model_module_version": "1.1.0",
      "model_name": "LayoutModel",
      "state": {}
     },
     "a53b40ff4fde46a591cff4f2e3b64ebb": {
      "model_module": "@jupyter-widgets/controls",
      "model_module_version": "1.4.0",
      "model_name": "VBoxModel",
      "state": {
       "_dom_classes": [
        "widget-interact"
       ],
       "layout": "IPY_MODEL_467041e8259f44b783a5ac75e8ec5f8d"
      }
     },
     "a5a776eb957148eea1d759f6e8a1c981": {
      "model_module": "@jupyter-widgets/base",
      "model_module_version": "1.1.0",
      "model_name": "LayoutModel",
      "state": {}
     },
     "a63227653026401b84e48d7709d34927": {
      "model_module": "@jupyter-widgets/controls",
      "model_module_version": "1.4.0",
      "model_name": "IntSliderModel",
      "state": {
       "description": "mc2_weight_var1",
       "layout": "IPY_MODEL_63ef3083daca434dbc676113321e7bbb",
       "max": 5,
       "min": -5,
       "style": "IPY_MODEL_431b6596f881493ca78bb4d91655fbb3"
      }
     },
     "a7f34043768e412fadb9e1f651c0434a": {
      "model_module": "@jupyter-widgets/base",
      "model_module_version": "1.1.0",
      "model_name": "LayoutModel",
      "state": {}
     },
     "a817b6d62e9348e9986d4779b43a6e29": {
      "model_module": "@jupyter-widgets/base",
      "model_module_version": "1.1.0",
      "model_name": "LayoutModel",
      "state": {}
     },
     "a82cee25d20c45cf8531390646401ccc": {
      "model_module": "@jupyter-widgets/base",
      "model_module_version": "1.1.0",
      "model_name": "LayoutModel",
      "state": {}
     },
     "a87b4e218f44439bb7c1185dc31ae000": {
      "model_module": "@jupyter-widgets/controls",
      "model_module_version": "1.4.0",
      "model_name": "FloatSliderModel",
      "state": {
       "description": "mc2_shape_conv",
       "layout": "IPY_MODEL_dbec521c98584977a9846cb42f374265",
       "max": 5,
       "min": -5,
       "step": 0.1,
       "style": "IPY_MODEL_b2ffd022e73140859cdb4b345b295871"
      }
     },
     "a88f0758bb254d03a76bdccf544a7481": {
      "model_module": "@jupyter-widgets/controls",
      "model_module_version": "1.4.0",
      "model_name": "VBoxModel",
      "state": {
       "_dom_classes": [
        "widget-interact"
       ],
       "children": [
        "IPY_MODEL_67103f9ba3174395b9c2e35104bfcd40"
       ],
       "layout": "IPY_MODEL_19aa0826c03e446c8d447834f095ab9d"
      }
     },
     "a957b37dff6443aaab44fb0d39b2434d": {
      "model_module": "@jupyter-widgets/base",
      "model_module_version": "1.1.0",
      "model_name": "LayoutModel",
      "state": {}
     },
     "aa0f5f9ed1a7456785bcf773986f5bb1": {
      "model_module": "@jupyter-widgets/base",
      "model_module_version": "1.1.0",
      "model_name": "LayoutModel",
      "state": {}
     },
     "aa3291dc95044835ad91d23561a8dec3": {
      "model_module": "@jupyter-widgets/controls",
      "model_module_version": "1.4.0",
      "model_name": "IntSliderModel",
      "state": {
       "description": "mc2_shape_conv",
       "layout": "IPY_MODEL_600ccfad3b3e44b1a9a1841feb5877b9",
       "max": 5,
       "min": -5,
       "style": "IPY_MODEL_c3b715a114ba40d093be03b38964f0f6"
      }
     },
     "abda3060ae6c4c13b9ac723961a44830": {
      "model_module": "@jupyter-widgets/output",
      "model_module_version": "1.0.0",
      "model_name": "OutputModel",
      "state": {
       "layout": "IPY_MODEL_8ed9651f0cfa458b93f103ee8a2b673c",
       "outputs": [
        {
         "ename": "NameError",
         "evalue": "name 'parnamedict' is not defined",
         "output_type": "error",
         "traceback": [
          "\u001b[0;31m---------------------------------------------------------------------------\u001b[0m",
          "\u001b[0;31mNameError\u001b[0m                                 Traceback (most recent call last)",
          "\u001b[0;32m~/miniconda3/envs/pyhf/lib/python3.6/site-packages/ipywidgets/widgets/interaction.py\u001b[0m in \u001b[0;36mupdate\u001b[0;34m(self, *args)\u001b[0m\n\u001b[1;32m    249\u001b[0m                     \u001b[0mvalue\u001b[0m \u001b[0;34m=\u001b[0m \u001b[0mwidget\u001b[0m\u001b[0;34m.\u001b[0m\u001b[0mget_interact_value\u001b[0m\u001b[0;34m(\u001b[0m\u001b[0;34m)\u001b[0m\u001b[0;34m\u001b[0m\u001b[0m\n\u001b[1;32m    250\u001b[0m                     \u001b[0mself\u001b[0m\u001b[0;34m.\u001b[0m\u001b[0mkwargs\u001b[0m\u001b[0;34m[\u001b[0m\u001b[0mwidget\u001b[0m\u001b[0;34m.\u001b[0m\u001b[0m_kwarg\u001b[0m\u001b[0;34m]\u001b[0m \u001b[0;34m=\u001b[0m \u001b[0mvalue\u001b[0m\u001b[0;34m\u001b[0m\u001b[0m\n\u001b[0;32m--> 251\u001b[0;31m                 \u001b[0mself\u001b[0m\u001b[0;34m.\u001b[0m\u001b[0mresult\u001b[0m \u001b[0;34m=\u001b[0m \u001b[0mself\u001b[0m\u001b[0;34m.\u001b[0m\u001b[0mf\u001b[0m\u001b[0;34m(\u001b[0m\u001b[0;34m**\u001b[0m\u001b[0mself\u001b[0m\u001b[0;34m.\u001b[0m\u001b[0mkwargs\u001b[0m\u001b[0;34m)\u001b[0m\u001b[0;34m\u001b[0m\u001b[0m\n\u001b[0m\u001b[1;32m    252\u001b[0m                 \u001b[0mshow_inline_matplotlib_plots\u001b[0m\u001b[0;34m(\u001b[0m\u001b[0;34m)\u001b[0m\u001b[0;34m\u001b[0m\u001b[0m\n\u001b[1;32m    253\u001b[0m                 \u001b[0;32mif\u001b[0m \u001b[0mself\u001b[0m\u001b[0;34m.\u001b[0m\u001b[0mauto_display\u001b[0m \u001b[0;32mand\u001b[0m \u001b[0mself\u001b[0m\u001b[0;34m.\u001b[0m\u001b[0mresult\u001b[0m \u001b[0;32mis\u001b[0m \u001b[0;32mnot\u001b[0m \u001b[0;32mNone\u001b[0m\u001b[0;34m:\u001b[0m\u001b[0;34m\u001b[0m\u001b[0m\n",
          "\u001b[0;32m<ipython-input-7-e9486fac7136>\u001b[0m in \u001b[0;36mplot\u001b[0;34m(ax, order, **parsettings)\u001b[0m\n\u001b[1;32m      6\u001b[0m     \u001b[0mpars\u001b[0m \u001b[0;34m=\u001b[0m \u001b[0mpyhf\u001b[0m\u001b[0;34m.\u001b[0m\u001b[0mtensorlib\u001b[0m\u001b[0;34m.\u001b[0m\u001b[0mastensor\u001b[0m\u001b[0;34m(\u001b[0m\u001b[0mpdf\u001b[0m\u001b[0;34m.\u001b[0m\u001b[0mconfig\u001b[0m\u001b[0;34m.\u001b[0m\u001b[0msuggested_init\u001b[0m\u001b[0;34m(\u001b[0m\u001b[0;34m)\u001b[0m\u001b[0;34m)\u001b[0m\u001b[0;34m\u001b[0m\u001b[0m\n\u001b[1;32m      7\u001b[0m     \u001b[0;32mfor\u001b[0m \u001b[0mk\u001b[0m\u001b[0;34m,\u001b[0m\u001b[0mv\u001b[0m \u001b[0;32min\u001b[0m \u001b[0mparsettings\u001b[0m\u001b[0;34m.\u001b[0m\u001b[0mitems\u001b[0m\u001b[0;34m(\u001b[0m\u001b[0;34m)\u001b[0m\u001b[0;34m:\u001b[0m\u001b[0;34m\u001b[0m\u001b[0m\n\u001b[0;32m----> 8\u001b[0;31m         \u001b[0mpars\u001b[0m\u001b[0;34m[\u001b[0m\u001b[0mparnamedict\u001b[0m\u001b[0;34m[\u001b[0m\u001b[0mk\u001b[0m\u001b[0;34m]\u001b[0m\u001b[0;34m]\u001b[0m \u001b[0;34m=\u001b[0m \u001b[0mv\u001b[0m\u001b[0;34m\u001b[0m\u001b[0m\n\u001b[0m\u001b[1;32m      9\u001b[0m     \u001b[0mmc_counts\u001b[0m \u001b[0;34m=\u001b[0m \u001b[0;34m[\u001b[0m\u001b[0mpdf\u001b[0m\u001b[0;34m.\u001b[0m\u001b[0mexpected_sample\u001b[0m\u001b[0;34m(\u001b[0m\u001b[0mc\u001b[0m\u001b[0;34m,\u001b[0m\u001b[0ms\u001b[0m\u001b[0;34m,\u001b[0m \u001b[0mpars\u001b[0m\u001b[0;34m)\u001b[0m \u001b[0;32mfor\u001b[0m \u001b[0ms\u001b[0m \u001b[0;32min\u001b[0m \u001b[0;34m[\u001b[0m\u001b[0mc\u001b[0m\u001b[0;34m[\u001b[0m\u001b[0;34m'samples'\u001b[0m\u001b[0;34m]\u001b[0m\u001b[0;34m[\u001b[0m\u001b[0mo\u001b[0m\u001b[0;34m]\u001b[0m \u001b[0;32mfor\u001b[0m \u001b[0mo\u001b[0m \u001b[0;32min\u001b[0m \u001b[0morder\u001b[0m\u001b[0;34m]\u001b[0m\u001b[0;34m]\u001b[0m\u001b[0;34m\u001b[0m\u001b[0m\n\u001b[1;32m     10\u001b[0m     \u001b[0mbottom\u001b[0m \u001b[0;34m=\u001b[0m \u001b[0;32mNone\u001b[0m\u001b[0;34m\u001b[0m\u001b[0m\n",
          "\u001b[0;31mNameError\u001b[0m: name 'parnamedict' is not defined"
         ]
        }
       ]
      }
     },
     "abf575f1860f488aa4fd9b1ec6bd197a": {
      "model_module": "@jupyter-widgets/base",
      "model_module_version": "1.1.0",
      "model_name": "LayoutModel",
      "state": {}
     },
     "ac876a1802874a33876171aa7a488394": {
      "model_module": "@jupyter-widgets/base",
      "model_module_version": "1.1.0",
      "model_name": "LayoutModel",
      "state": {}
     },
     "ada53a05cb814c3e93a385a7a4c10194": {
      "model_module": "@jupyter-widgets/controls",
      "model_module_version": "1.4.0",
      "model_name": "DescriptionStyleModel",
      "state": {
       "description_width": ""
      }
     },
     "adf65e182bf942b2970916105d578728": {
      "model_module": "@jupyter-widgets/base",
      "model_module_version": "1.1.0",
      "model_name": "LayoutModel",
      "state": {}
     },
     "ae68217748bd424982a4d85179c1572f": {
      "model_module": "@jupyter-widgets/base",
      "model_module_version": "1.1.0",
      "model_name": "LayoutModel",
      "state": {}
     },
     "ae8860527ca34647bdecb072105e8397": {
      "model_module": "@jupyter-widgets/controls",
      "model_module_version": "1.4.0",
      "model_name": "VBoxModel",
      "state": {
       "_dom_classes": [
        "widget-interact"
       ],
       "children": [
        "IPY_MODEL_5ce4745131274ccaaf1b58f017eef5d5",
        "IPY_MODEL_8a7d0bb97e7d4a788499edd5328e4d4f",
        "IPY_MODEL_7a129e0d046948c283961a4d4029ff2e",
        "IPY_MODEL_5104e65ea9784a58b846fa426e3734b5",
        "IPY_MODEL_3304e637884a4698961263d642e8a607",
        "IPY_MODEL_bf7b2326b7c2488a8da39f049621f45c"
       ],
       "layout": "IPY_MODEL_ac876a1802874a33876171aa7a488394"
      }
     },
     "aeb42581fae84493943a1c701386eb2e": {
      "model_module": "@jupyter-widgets/base",
      "model_module_version": "1.1.0",
      "model_name": "LayoutModel",
      "state": {}
     },
     "aeda14a0f7f24359892ec46b036b7637": {
      "model_module": "@jupyter-widgets/base",
      "model_module_version": "1.1.0",
      "model_name": "LayoutModel",
      "state": {}
     },
     "aefa24cd6f314f7e9cd2e8f0caf9130a": {
      "model_module": "@jupyter-widgets/controls",
      "model_module_version": "1.4.0",
      "model_name": "IntSliderModel",
      "state": {
       "description": "mc2_weight_var1",
       "layout": "IPY_MODEL_47ce7ae5ab42476288defdcca3e1afd9",
       "max": 5,
       "min": -5,
       "style": "IPY_MODEL_91803aa8a9e346a9a172f0a9f011262f"
      }
     },
     "af501f32925b4ec7b3ccaf7bf2db3429": {
      "model_module": "@jupyter-widgets/base",
      "model_module_version": "1.1.0",
      "model_name": "LayoutModel",
      "state": {}
     },
     "afbd3219e62141a3a77044e6c415d8c4": {
      "model_module": "@jupyter-widgets/base",
      "model_module_version": "1.1.0",
      "model_name": "LayoutModel",
      "state": {}
     },
     "afef945902a642f698a70b669cb96af8": {
      "model_module": "@jupyter-widgets/controls",
      "model_module_version": "1.4.0",
      "model_name": "FloatSliderModel",
      "state": {
       "description": "SigXsecOverSM",
       "layout": "IPY_MODEL_aeb42581fae84493943a1c701386eb2e",
       "max": 10,
       "step": 0.1,
       "style": "IPY_MODEL_35240d11ad7c4e0b8fd1be65d93474c0",
       "value": 2.8
      }
     },
     "b0053f6673434cba989f072d5dbf9804": {
      "model_module": "@jupyter-widgets/controls",
      "model_module_version": "1.4.0",
      "model_name": "VBoxModel",
      "state": {
       "_dom_classes": [
        "widget-interact"
       ],
       "children": [
        "IPY_MODEL_bc68fa58a9d64cb3ab9a8fb4c3132f9a",
        "IPY_MODEL_c0b032bb4c0e4f5a988f3bdd5d67fe26",
        "IPY_MODEL_f76e911510a246e3ba5f9d863315a246",
        "IPY_MODEL_9e967e317976439085539add72173d53",
        "IPY_MODEL_db1204ae1225499892bd2a7caf927d9c",
        "IPY_MODEL_769dce3ada684269985c1018d72949bc"
       ],
       "layout": "IPY_MODEL_1fb94012b1b1429e90ef43eca09de1fe"
      }
     },
     "b029a789d30145408162dda832c1b8a1": {
      "model_module": "@jupyter-widgets/base",
      "model_module_version": "1.1.0",
      "model_name": "LayoutModel",
      "state": {}
     },
     "b08813c0bb80489a84c0fbc9f5012742": {
      "model_module": "@jupyter-widgets/controls",
      "model_module_version": "1.4.0",
      "model_name": "IntSliderModel",
      "state": {
       "description": "mc1_shape_conv",
       "layout": "IPY_MODEL_f0a189cc647e4b81a5ff7f9ed7480e5a",
       "max": 5,
       "min": -5,
       "style": "IPY_MODEL_78c7ebd383e34cb1b8576b472a2daa07"
      }
     },
     "b15536adcb97476dba47e35b4e384354": {
      "model_module": "@jupyter-widgets/base",
      "model_module_version": "1.1.0",
      "model_name": "LayoutModel",
      "state": {}
     },
     "b19fe34b089942f09c73ade6c684edcb": {
      "model_module": "@jupyter-widgets/base",
      "model_module_version": "1.1.0",
      "model_name": "LayoutModel",
      "state": {}
     },
     "b1df308efc48489798d329ad9a3152e8": {
      "model_module": "@jupyter-widgets/controls",
      "model_module_version": "1.4.0",
      "model_name": "SliderStyleModel",
      "state": {
       "description_width": ""
      }
     },
     "b27ff21049af4ae58f5f64144bfd88c3": {
      "model_module": "@jupyter-widgets/base",
      "model_module_version": "1.1.0",
      "model_name": "LayoutModel",
      "state": {}
     },
     "b296c9ebe6b643ecb7680078a2ab4850": {
      "model_module": "@jupyter-widgets/base",
      "model_module_version": "1.1.0",
      "model_name": "LayoutModel",
      "state": {}
     },
     "b2d411ada4e44ffb873bb98b3d6b4cea": {
      "model_module": "@jupyter-widgets/base",
      "model_module_version": "1.1.0",
      "model_name": "LayoutModel",
      "state": {}
     },
     "b2ffd022e73140859cdb4b345b295871": {
      "model_module": "@jupyter-widgets/controls",
      "model_module_version": "1.4.0",
      "model_name": "SliderStyleModel",
      "state": {
       "description_width": ""
      }
     },
     "b32ca263a77040c48c20813244138746": {
      "model_module": "@jupyter-widgets/base",
      "model_module_version": "1.1.0",
      "model_name": "LayoutModel",
      "state": {}
     },
     "b3df9831943b472a996311bb3f5e3005": {
      "model_module": "@jupyter-widgets/controls",
      "model_module_version": "1.4.0",
      "model_name": "DropdownModel",
      "state": {
       "_options_labels": [
        "-5",
        "5"
       ],
       "description": "mc1_shape_conv",
       "index": 0,
       "layout": "IPY_MODEL_398ef30934fd4fb4b418951b9657e0ef",
       "style": "IPY_MODEL_bef8bb55d1e94ceabc61b65c7c1c2907"
      }
     },
     "b47544521e634c7c98f61e12793195be": {
      "model_module": "@jupyter-widgets/base",
      "model_module_version": "1.1.0",
      "model_name": "LayoutModel",
      "state": {}
     },
     "b56c4c6d76c741f08601174a07f1d2c8": {
      "model_module": "@jupyter-widgets/controls",
      "model_module_version": "1.4.0",
      "model_name": "IntSliderModel",
      "state": {
       "description": "SigXsecOverSM",
       "layout": "IPY_MODEL_fc6a1bdb3d5947599bf54d0298668fec",
       "max": 5,
       "style": "IPY_MODEL_725d45137dd24c07bd6a29207e415076",
       "value": 2
      }
     },
     "b5b5c85dbe234743b7d1608d344aa575": {
      "model_module": "@jupyter-widgets/output",
      "model_module_version": "1.0.0",
      "model_name": "OutputModel",
      "state": {
       "layout": "IPY_MODEL_5ba9a8744d4446a49f10021d91189617",
       "outputs": [
        {
         "data": {
          "image/png": "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\n",
          "text/plain": "<Figure size 432x288 with 1 Axes>"
         },
         "metadata": {},
         "output_type": "display_data"
        }
       ]
      }
     },
     "b5b8c714cd374fa7bf18870a159a55ea": {
      "model_module": "@jupyter-widgets/controls",
      "model_module_version": "1.4.0",
      "model_name": "FloatSliderModel",
      "state": {
       "description": "mc1_shape_conv",
       "layout": "IPY_MODEL_5ded0118413c4ba7bbfc63a097c566fb",
       "max": 5,
       "min": -5,
       "step": 0.1,
       "style": "IPY_MODEL_8d3034a73619456e9dc741cf9fea1e1f"
      }
     },
     "b60ba5a84ae44593b53aa1e5dbc7ccb9": {
      "model_module": "@jupyter-widgets/controls",
      "model_module_version": "1.4.0",
      "model_name": "IntSliderModel",
      "state": {
       "description": "mc2_shape_conv",
       "layout": "IPY_MODEL_279396b720bd4f60b85178a1c1df4ee0",
       "max": 5,
       "min": -5,
       "style": "IPY_MODEL_1dcb9d23d8ae49958bc7dacd5e40c2a9"
      }
     },
     "b639fa86d6e54fe99a89e80279713f27": {
      "model_module": "@jupyter-widgets/base",
      "model_module_version": "1.1.0",
      "model_name": "LayoutModel",
      "state": {}
     },
     "b65c63419f2a4c0c9337dd151d529c97": {
      "model_module": "@jupyter-widgets/controls",
      "model_module_version": "1.4.0",
      "model_name": "IntSliderModel",
      "state": {
       "description": "mc2_weight_var1",
       "layout": "IPY_MODEL_adf65e182bf942b2970916105d578728",
       "max": 5,
       "min": -5,
       "style": "IPY_MODEL_2c95314c553f4fb38adafa56d27569a5"
      }
     },
     "b6e330c2f1a94ce0b1f50af636732edb": {
      "model_module": "@jupyter-widgets/base",
      "model_module_version": "1.1.0",
      "model_name": "LayoutModel",
      "state": {}
     },
     "b6e517fc2454487e8ba8c7bcb6e1f96a": {
      "model_module": "@jupyter-widgets/controls",
      "model_module_version": "1.4.0",
      "model_name": "SliderStyleModel",
      "state": {
       "description_width": ""
      }
     },
     "b89ae0a6686a4413a6a7fbba846831f0": {
      "model_module": "@jupyter-widgets/base",
      "model_module_version": "1.1.0",
      "model_name": "LayoutModel",
      "state": {}
     },
     "ba70f430e52d4ad99f8e62bb32942633": {
      "model_module": "@jupyter-widgets/controls",
      "model_module_version": "1.4.0",
      "model_name": "SliderStyleModel",
      "state": {
       "description_width": ""
      }
     },
     "bb416b4a42174d77b1b78f06f4988b8f": {
      "model_module": "@jupyter-widgets/controls",
      "model_module_version": "1.4.0",
      "model_name": "SliderStyleModel",
      "state": {
       "description_width": ""
      }
     },
     "bb6689fc1df44614b637906957e72287": {
      "model_module": "@jupyter-widgets/controls",
      "model_module_version": "1.4.0",
      "model_name": "IntSliderModel",
      "state": {
       "description": "mc1_shape_conv",
       "layout": "IPY_MODEL_f0e17fadc2f64cc4b874bc0e09fb4994",
       "max": 5,
       "min": -5,
       "style": "IPY_MODEL_31bd62e8a3cf4dd08b00b36c56633ef5"
      }
     },
     "bb9119e70e7142329c00bcc117088631": {
      "model_module": "@jupyter-widgets/controls",
      "model_module_version": "1.4.0",
      "model_name": "IntSliderModel",
      "state": {
       "description": "mc2_weight_var1",
       "layout": "IPY_MODEL_c5da601704a14c4a9c140bc5597eb634",
       "max": 5,
       "min": -5,
       "style": "IPY_MODEL_84aee158aad74bd286076259594a08ea"
      }
     },
     "bbc2ed6abbaa43649b976e824f78230d": {
      "model_module": "@jupyter-widgets/controls",
      "model_module_version": "1.4.0",
      "model_name": "SliderStyleModel",
      "state": {
       "description_width": ""
      }
     },
     "bc0386514b7d42d39e9cbd1603209f0e": {
      "model_module": "@jupyter-widgets/controls",
      "model_module_version": "1.4.0",
      "model_name": "SliderStyleModel",
      "state": {
       "description_width": ""
      }
     },
     "bc3b6433a530492d8b2594919d8fe672": {
      "model_module": "@jupyter-widgets/controls",
      "model_module_version": "1.4.0",
      "model_name": "FloatSliderModel",
      "state": {
       "description": "mc2_weight_var1",
       "layout": "IPY_MODEL_25bf2037c79f4481ae831b771033573e",
       "max": 5,
       "min": -5,
       "step": 0.1,
       "style": "IPY_MODEL_c4874cadf63c4df1904c088cb15b4178"
      }
     },
     "bc68fa58a9d64cb3ab9a8fb4c3132f9a": {
      "model_module": "@jupyter-widgets/controls",
      "model_module_version": "1.4.0",
      "model_name": "IntSliderModel",
      "state": {
       "description": "SigXsecOverSM",
       "layout": "IPY_MODEL_57ab3cc9a459498d9d2eafa0e5d2ed6e",
       "max": 10,
       "style": "IPY_MODEL_6e34b1cd36a7407799bb6115ff5f5822",
       "value": 5
      }
     },
     "be4a65f385ca4449a1f73a0e49afe656": {
      "model_module": "@jupyter-widgets/controls",
      "model_module_version": "1.4.0",
      "model_name": "IntSliderModel",
      "state": {
       "description": "mc2_shape_conv",
       "layout": "IPY_MODEL_05de4afe9b274897b27fc9cdeb34a605",
       "max": 5,
       "min": -5,
       "style": "IPY_MODEL_0e1d968680d14084a8ffd5381f2b094c",
       "value": 4
      }
     },
     "be577b0c2d754342a39b58b65d5bc8d4": {
      "model_module": "@jupyter-widgets/base",
      "model_module_version": "1.1.0",
      "model_name": "LayoutModel",
      "state": {}
     },
     "bef8bb55d1e94ceabc61b65c7c1c2907": {
      "model_module": "@jupyter-widgets/controls",
      "model_module_version": "1.4.0",
      "model_name": "DescriptionStyleModel",
      "state": {
       "description_width": ""
      }
     },
     "bf02f44a9c2c49ed9ef4ec155f4d0cc7": {
      "model_module": "@jupyter-widgets/base",
      "model_module_version": "1.1.0",
      "model_name": "LayoutModel",
      "state": {}
     },
     "bf7b2326b7c2488a8da39f049621f45c": {
      "model_module": "@jupyter-widgets/output",
      "model_module_version": "1.0.0",
      "model_name": "OutputModel",
      "state": {
       "layout": "IPY_MODEL_aeda14a0f7f24359892ec46b036b7637",
       "outputs": [
        {
         "data": {
          "image/png": "iVBORw0KGgoAAAANSUhEUgAAAXoAAAD8CAYAAAB5Pm/hAAAABHNCSVQICAgIfAhkiAAAAAlwSFlzAAALEgAACxIB0t1+/AAAADl0RVh0U29mdHdhcmUAbWF0cGxvdGxpYiB2ZXJzaW9uIDIuMi4yLCBodHRwOi8vbWF0cGxvdGxpYi5vcmcvhp/UCwAAHEVJREFUeJzt3X1sXNd55/HvQ5GSItcmK4qlZErkuLERO4kapxCc1MkfqYUWjqvWBpwKaRmvlDXABZoAttumtivAsd0SVVBsZS+2CEA0geUFU9uI47UqGLs1FPdl1xs3UpJWSWXDsk3SViXqJRZtg9YLpWf/mEt5SN47nDu8M3PnzO8DEJw5czlzrjR85vC5zznH3B0REQlXW6M7ICIitaVALyISOAV6EZHAKdCLiAROgV5EJHAK9CIigVOgFxEJnAK9iEjgFOhFRALX3ugOAKxZs8YLhUKjuyEi0lQOHDhw0t17FjsuF4G+UCiwf//+RndDRKSpmNl4JccpdSMiEjgFehGRwCnQi4gEToFeRCRwCvQiIoFToBcRCVxFgd7MxszsoJn9xMz2R22rzex5M3s1+v6LUbuZ2X8zs8Nm9m9m9qu1PAERESkvzYj+1939enffFN2/D9jn7tcA+6L7AJ8Hrom+hoBvZtVZERFJbympm1uB3dHt3cBtJe2Pe9EPgC4zW7eE1xERkSWoNNA78PdmdsDMhqK2Xnc/Gt0+BvRGt/uAN0t+9q2obQ4zGzKz/Wa2/8SJE1V0XUREKlHpEgifdfcjZvZLwPNm9nLpg+7uZuZpXtjdR4ARgE2bNqX6WRERqVxFI3p3PxJ9Pw48A9wATM6mZKLvx6PDjwAbSn58fdQmIiINsGigN7PLzOzy2dvAbwI/BfYA26LDtgHPRrf3AP8pqr75NDBVkuIREZE6qyR10ws8Y2azx3/H3f+Xmf0QeMrM7gTGga3R8c8BtwCHgWngy5n3WkREKrZooHf314FPxLSfAjbHtDvwlUx6JyIiS6aZsSIigVOgFxEJnAK9iEjgFOhFRAKnQC8iEjgFehGRwCnQi4gEToFeRCRwCvQiIoFToBcRCZwCvYhI4BToRUQCp0AvIhI4BXoRkcAp0IuIBE6BXkQkcAr0IiKBU6AXEQmcAr2ISOAU6EVEAqdALyISOAV6EZHAKdCLiAROgV5EJHAK9CIigVOgFxEJnAK9iEjgFOhFRAKnQC8iEjgFehGRwCnQi4gEToFeRCRwFQd6M1tmZj82s73R/avM7CUzO2xmT5rZ8qh9RXT/cPR4oTZdFxGRSqQZ0d8FHCq5/w1gl7tfDbwN3Bm13wm8HbXvio4TEZEGqSjQm9l64LeAv4nuG3AT8N3okN3AbdHtW6P7RI9vjo4XEZEGqHRE/wjwJ8DF6H43cNrdZ6L7bwF90e0+4E2A6PGp6HgREWmA9sUOMLMtwHF3P2Bmn8vqhc1sCBgC6O/vz+ppRZrOoWuvi22/7uVDse0iaVUyov8M8DtmNgY8QTFl8yjQZWazHxTrgSPR7SPABoDo8U7g1PwndfcRd9/k7pt6enqWdBIiIpJs0UDv7ve7+3p3LwBfBL7v7oPAC8AXosO2Ac9Gt/dE94ke/767e6a9FhGRii2ljv5e4A/N7DDFHPy3ovZvAd1R+x8C9y2tiyIishSL5uhLufs/AP8Q3X4duCHmmDPA72bQN5GWpty9ZEUzY0VEAqdALyISOAV6EZHApcrRi0j2tt4f/2v41F/MxLaLpKURvYhI4DSiF2mwg29MxLZvvD9+xvjBWnZGgqRAL5JTSR8AImkpdSMiEjgFehGRwCl1I1IniTNdv1jnjkjL0YheRCRwGtGLNBmtgSNpaUQvTW90dJRCoUBbWxuFQoHR0dFGd0kkVzSil6Y2OjrK0NAQ09PTAIyPjzM0NATA4OBgI7smkhsK9NLUduzYcSnIz5qenmbHjh3BBvqkJRM0kUqSKHUjDZNFymViIn5SUVJ7CA6+MRH7JZJEgV4aYjblMj4+jrtfSrmkDfZJG8trw3mRDyjQS0N8bfv2xJRLGsPDw6xatWpO26pVqxgeHl5yH0VCoUAvNReXojk2E78E78T4OH+57kqu7OigzYwrOzr4y3VXJj734OAgIyMjDAwMYGYMDAwwMjISbH5epBrm7o3uA5s2bfL9+/c3uhtSA/OrYqA44l5+5gynL15ccHynGWeBMyXvy5VmPNy7li2dnQuOb6ba8eSZsf+RzQs8OJXN80jTMLMD7r5pseM0opfMxI3ck6pi3J2VZnPaV5phZnOCPBSD/q6TJ2ref5FQqbxSMpFUzz4/yM96x51vrF3HrpMnODYzw9r2du5Z08O9x47GHp+U6mkmiWWRb9S5I9JyFOglE0kj92XLlnHhwoUFx69tb2dLZ+eCdMyukyc4GhPU17brrSpSLaVuJBNJdesXLlyIrYq5Z01P7PH3rOmJTencs6aHvVNTbH7tMB975WU2v3aYvVPKSYtUQoFeMpFUtz5bBTO/KibuwirAls5OHu5dy7r2dgxY197Ow71rAXhg8hhHZ2Zw4OjMDA9MHmuqdW000UkaRVU3komk6poHr1iYnqnG5tcOx6Z01rW3s+/DVy9ob2Q1Ts2ra5Ko6qblqOpG6iqpnj2LIA/JF2NDuEgrUmu6wiWZGRwcXDBR6dCf/Xkmz722vV0XaRehdeoliUb00hTKXaQVkfI0HJKmMJsCml93n5QaasXRbc2vAUjFZicLTkxM0N/fz/DwcEOX5VCgl0wkBdYsxdXdi+RNHjfDUepGgqW6e2mEcpvhNMqigd7MVprZv5jZv5rZz8zsoaj9KjN7ycwOm9mTZrY8al8R3T8cPV6o7SlIvTXDHq17p6YS6+6bof+SH2nfL3ncDKeSEf1Z4CZ3/wRwPXCzmX0a+Aawy92vBt4G7oyOvxN4O2rfFR0ngUjaMCRvo+VdJ0/ELo521113ZbLhieRfFh/oqTfIebCT/iviH2rkZjiLBnovei+62xF9OXAT8N2ofTdwW3T71ug+0eObzeaVS0jTSvqzNG+rSybV1586dSp3f1ZL9rLawayaNMzw5hWs6pjbtqqDhm6GU9HFWDNbBhwArgb+GngNOO3us79NbwF90e0+4E0Ad58xsymgGziZYb+lQZL+/MzbxKWkuvskIe8x24pSbxr/YPxF/omJd+Pbx8cTf2Zw4/JiH/adZWLK6e80hjevyH/VjbtfAK43sy7gGeDapb6wmQ0BQ6D9PZvJ2mXLmmLi0j1renhg8tiCDUwuW72aU6dOLTi+mvdgPSqNpDqJefIyATpOf38/4+PjC9s7yycpBjcuvxTw8yBV1Y27nwZeAH4N6DKz2d/u9cCR6PYRYANA9HgnsOA3y91H3H2Tu2/q6dGkl2bRLBOXkhZHe/TRR7XHbAtI3DR+kQA9X+KexJtXMHrwHIVH3qXtoXcoPPIuowfPVd3fWlt0GGZmPcB5dz9tZh8CfoPiBdYXgC8ATwDbgGejH9kT3f9/0ePf9zysnCaZSDtxqZHi6u6vi/58ztNkFsne8PBw7CJ7w5sXbl9ZzuCrfwA3X2THPitJwxSfY+jvzjB9vnjc+JQz9Hdnij+TNJJP+kuiDovRLbp6pZn9CsWLq8so/gXwlLs/bGa/TDHIrwZ+DHzJ3c+a2UrgfwCfBH4OfNHdXy/3Glq9snk0e7oiy5mxaf8tGjZztUVXtYydnfrqH2Ty3IVH3mV8amHsHOg0xu6+PN2TLeH/p9LVKxcd0bv7v1EM2vPbXwduiGk/A/xuhf0UyY28TVvPSisuBwHxi+zxYHKgHz14buEF1ITR+URMkC/XXvY1yp9GJvJ1BU2kQfI4bT0riXvV1rkfNZFROmT04LlUqZj+Tosd0Ze7BpD4GqOjNX+PaQmEFlduUkkrzSD92vbtwdbXa2erxe3Yd/ZSAJ41fb7YHiexVn7zivSvUYf3mEb0LazcKBaIfSyrHaMaJSmNkTQPYGJ8vOmvSzSbRqTQ0qZiEmvly5RUJr5GHeZwKNC3sMVm/cXOgD13rqkDfZIsNzZJTJW8kfqpWk6jUmjVpGLS1sonvkYd5hEpddPCyi2+NBEzSQTyNwM2K80yPyB0ma38+GBn/FeCalIxaTVyaQQF+haWOKmkvz9xJJu3GbBZSZpgFeJfL3lWbvBRy2tGgxuXM/LbKxnoNIximeTIb6/MdHZr4mvU4WL/onX09aA6+saY/2cyFCeVjIyM8B9//LXYJQQU/BaXnLrJ2QXQHNbXFwqF2CUHuj8E788w52Lmqg4yD8YNUYc6eo3oW9jg4CAjIyMMDAxgZgwMDDAyMsLg4KBGuEugKpe50ozEk5YcAFJVxchcCvQtbnBwkLGxMS5evMjY2NicPyO3dHay78NX87OPXMu+D1+tIC+p0ydplwtOGnz8/P3455+Y8qZac6ZRlLqRWCoprF7TbNKddlJRmVRfUp45KRUzMDDA2NhYxa9d6GqLrVipJqWTZgZsXSh1IyJ5UU1FTFyQh/S140kVK5AupTM7O3V8ynE+mJ0a+l8BYZZQiMiiNu7eGNt+cFv84gjV7IU6UKZ2PM2iY0kTlO743pn4PiVMTio3A7bpL+qWoRF9YFpp2QJZmrQXjcuV4yZJGonfcsst8bn7MiPrwY3LGbv7ci5+/QrG7r6cwY3LEyc0JbVXuxhZs1OgD0i5C19xHwCHrr0u8UtkvsRNOMpM+EmqHX/uuefi00Apq2jSTnRK+8EQCl2MDUhiDXJ3N++///6Ci2jNvm5NXjXNxdgkZS4Opl6HJmE2attD7xAXeQy4+PUrUnU3zcXV+StIQg7q8etwMVaBPiBtbW2k+f9c197Ovg9fXcMetaamD/RJqglICYE+0407UmrFqhtdjA1I0kbGSUJdt6YW9k5NNcX2ic1iePOK2JF1lmvLJMnbxt31oBx9QJJyqN3d3bHHh7puTdb2Tk3xwOQxjs7M4MDRmRkemDzG3qkp9k5Nsfm1w3zslZfZ/Nph9k7lb1mBeklTCFCPtWXkA/pND8hgwsbXQOxEl3uu0Ii0ErtOnpiz5g/AGXeGJ49xNroNH3wAXHmwwamABtjwXzZw5LEj+Lniv8X4+Dh3/Oc7YEvyv0UrjqwbRTn6FnDo2uuUeliCj73ycuyFwyT1yDM3RJlcctLM1WD/LbKkHL1kZUunKmyqlbQpSZJga7LLrOfeqvXpzUKBPiCqf6+Ne9b0xC7ZfP6yNi68d2HB8aHXZMepZocmqR9djBVZRNKSzet+fx22fG4gs+VWl8qRvKnHDk1SPY3oRSoQl/p6/Mbir8/k05OcP3Weju4Oem/vZXDdO43oIpC+RjyrmvJqNsuW+lGgF1mCrhu76Lqxa27jG40J9PNnfc6uzAjEBty0xy9GVTT5pdSNSCDKrcyYxfHSvBToRWqgEbsepa18KdeuXZvCotRNzsUtIvWrf/bnje6WkLzZd5YpkTQ59LSVL0nHr/4QmaZ0pPE0os+xpGWHW3mafTPIKiWSdjektJUvWe3aJPmnQJ9jSVu37Tp5okE9kkpkNXko7QdG2vVjko4vtxG3NCelbnIsaYu2YzMzWtIgx8qlUNKkYqr5wEhb+RJ3/I59ZzX5KTAa0edY0hZtV5glrqYojZe4fd41y1KlYhq1G5ImP4VHgT7HkpYdNrPY1RSV0smHxO3zXr2QKhVTLuDWsipGSwiHZ9HVK81sA/A40As4MOLuj5rZauBJoACMAVvd/W0zM+BR4BZgGtju7j8q9xpavTJe0qqT9x47mria4scf+/iCtqf+QhuM1ELanaSq2T4vLtUD5G87PKleTlavnAH+yN1/ZGaXAwfM7HlgO7DP3Xea2X3AfcC9wOeBa6KvTwHfjL5LFeKm3u86eSJ2NcWO7o4FbZIf1eTu43LohUfeTfzLoNxeqVqeoHUtmrpx96OzI3J3fxc4BPQBtwK7o8N2A7dFt28FHveiHwBdZrYu8563sHvW9LDS5uZpV5rRe3tvg3oklcgqd5/2Im3aMk0JT6qqGzMrAJ8EXgJ63f1o9NAxiqkdKH4IvFnyY29FbUdL2jCzIWAIki86toq0yws/vrObNS8um7OY1prbexeuuSJLtvX+5F+Rg2+ke66khb/KlVHGjbrTToxK+/wSnooDvZn9AvA0cLe7v2MlI0p3dzNLVWTr7iPACBRz9Gl+NkRxufjHd8bv9QoJi2klSApWyt3XX1wq5o7vnYk9NmmEnnZjbW0KIhUFejProBjkR939e1HzpJmtc/ejUWrmeNR+BNhQ8uPro7aWlzRyn918ev7eo2teXNawUbo+HOon7Qg97ZLA2hREFg30URXNt4BD7v5XJQ/tAbYBO6Pvz5a0f9XMnqB4EXaqJMUjMXacP8n5mHLJyacnaxroy6Ul0v6MPgCql3aEDukmRlXz/BKWSn7TPwPcARw0s59EbX9KMcA/ZWZ3AuPA1uix5yiWVh6mWF755Ux73MSSguT57efj20/Ft0tYar1phzYFkUUDvbv/H4qlvnE2xxzvwFeW2K+W0tHdERvUVS7ZGgpnvnOpIHm2LGEHsCM+dc/Yyt9P/RraFKS1aa2bHOi9vZcjjx3Bz32QvrHlzVUuqZSOSH4p0OfAbB5+/t6jKpcUkSwo0OdEmnJJqZ+kzUVEmokCfZ2dfvG0Ru4iUlcK9HV0+sXTc3Lx50+d58hjxSkGrRbs85bTT+pP2tmvInmkQF9Hk09PzrngCuDnal8v30jV1OqLSLa0Hn0dJdXFq15eRGpJw60a2Lh7Y2y76uVFpBEU6Gsk7qJrCPXytZY21aM6fZHFKXVTodHRUQqFAm1tbRQKBUZHRxPbZy+6zo7eSy+69m3vuzSC7+juoG97X7D5+Ubaen977JdIK1p0K8F6yPtWgqOjowwNDTE9PX2pbdWqVaz41ApO/9/TC0bobcvbuPDehQXP09HdwUf+60fq0meJl/QXQHLVTe3r6AtnvpPq+GqWQJAcy8lWgi1vx44dc4I8wPT0NNP/OA0X5x7r55wL5xYGedBFV8lG0geDPgAkiQJ9BSYmEkZ1F+Obk+iia2tLO3IXyYoCfQX6+/sZHx9f+EAbscG+7bI2/LzromsOKU8vrUjv+goMDw+nytFfOXgloEXKmonWtJGQKdBXYHBwECjm6icmJujv72d4eJidMzu57JrLEgO6AruI5IECfYUGBwcvBfxZO3fv1KqTIpJ7CvQVSJrpKiLSDDRhSkQkcAr0IiKBU6AXEQmcAr2ISOAU6EVEAqdALyISOJVXllAZpYiESIFegpS0pMHGq/rr3BORxlOgnyduZyjNfA2H1rSRVqRAX2J2Z6jZRcpKd4ZSsBeRZqWLsSUmn56csxIlFDcSmXx6skE9EhFZupYb0Ze74Jq0A5R2hpJmoJ2nJEnLBfpyOro7YoO6dobKrzzm3LWTlORN0Kmb0dFRCoUCbW1tFAoFRkdHyx7fe3svttzmtGlnKBFpdouO6M3s28AW4Li7fzxqWw08CRSAMWCru79tZgY8CtwCTAPb3f1Htel6eaOjo3N2hRofH2doaIjVX1pN141dZatrVHUjIiGpJHXzGPDfgcdL2u4D9rn7TjO7L7p/L/B54Jro61PAN6Pvdbdjx445W/8BTE9Pc/7pYmqmXHWNAnv+5DFFI9IsFk3duPs/AT+f13wrsDu6vRu4raT9cS/6AdBlZuuy6mwaExPxgeH8qfOqrhGRllJtjr7X3Y9Gt48Bs0nsPuDNkuPeitrqrn11/B8rSRdcQdU1IhKmJV+MdXcHfNED5zGzITPbb2b7T5w4sdRuLFDuwmpSFY2qa0QkRNUG+snZlEz0/XjUfgTYUHLc+qhtAXcfcfdN7r6pp6enym4k67qxi77tfZeCd0d3B33b++i6sUvVNSLSUqqto98DbAN2Rt+fLWn/qpk9QfEi7FRJiqfuki6sqrpGRFpJJeWVfwt8DlhjZm8BX6cY4J8yszuBcWBrdPhzFEsrD1Msr/xyDfqcCVXXNJaqaETqZ9FA7+6/l/DQ5phjHfjKUjslIiLZCXpmrIiIBLDWjXaFEhEpTyN6EZHANf2IXvJNF11FGk+BXjKhgC6SX0rdiIgETiN6kSo1ywYj2nlKFOglFaVoRJpPEIG+3CYiIiKtrukD/ekXT5fdREREpNU1faAvt4mIAn31lKIRCUfTV91oExERkfKaPtBrExERkfKaPtBrExERkfKaPkevTUSqpzy8SGto+kAP2kRkVlLg3nhVf517IiJ5EkSgl/I0chdpbU2foxcRkfI0om9CGqGLSBoK9DmmgC61pMXOWocCfR3pYmnzaZYVKkXKUaDPAY3cRaSWdDFWRCRwCvQiIoFToBcRCZxy9Eug3LqINAON6EVEAqcRfQmN0EUkRBrRi4gELtgRvUbnkoYmRn1AM2bD0/SBXgFdRKQ8pW5ERAJXk0BvZjeb2StmdtjM7qvFa4iISGUyT92Y2TLgr4HfAN4Cfmhme9z937N+LZG0lIuvXrl/O+Xv860WI/obgMPu/rq7nwOeAG6tweuIiEgFanExtg94s+T+W8CnavA6Iok0cq8vVerkW8OqbsxsCBiK7r5nZq9k8LRrgJMZPE8z0TnH2lKXjtRRU/4/29J+vCnPObWH5vwrpT3ngUoOqkWgPwJsKLm/Pmqbw91HgJEsX9jM9rv7piyfM+90zq1B59waanXOtcjR/xC4xsyuMrPlwBeBPTV4HRERqUDmI3p3nzGzrwL/G1gGfNvdf5b164iISGVqkqN39+eA52rx3IvINBXUJHTOrUHn3Bpqcs7m7rV4XhERyQktgSAiErhgAn0rLLtgZt82s+Nm9tOSttVm9ryZvRp9/8VG9jFrZrbBzF4ws383s5+Z2V1Re5DnbWYrzexfzOxfo/N9KGq/ysxeit7fT0aFDkExs2Vm9mMz2xvdD/qczWzMzA6a2U/MbH/UVpP3dRCBvmTZhc8DHwV+z8w+2the1cRjwM3z2u4D9rn7NcC+6H5IZoA/cvePAp8GvhL934Z63meBm9z9E8D1wM1m9mngG8Aud78aeBu4s4F9rJW7gEMl91vhnH/d3a8vKamsyfs6iEBPiyy74O7/BPx8XvOtwO7o9m7gtrp2qsbc/ai7/yi6/S7FQNBHoOftRe9FdzuiLwduAr4btQdzvrPMbD3wW8DfRPeNwM85QU3e16EE+rhlF/oa1Jd663X3o9HtY0BvIztTS2ZWAD4JvETA5x2lMH4CHAeeB14DTrv7THRIiO/vR4A/AS5G97sJ/5wd+HszOxCtFAA1el83/cYj8gF3dzMLsozKzH4BeBq4293fKQ74ikI7b3e/AFxvZl3AM8C1De5STZnZFuC4ux8ws881uj919Fl3P2JmvwQ8b2Yvlz6Y5fs6lBF9RcsuBGrSzNYBRN+PN7g/mTOzDopBftTdvxc1B3/e7n4aeAH4NaDLzGYHZqG9vz8D/I6ZjVFMu94EPErY54y7H4m+H6f4gX4DNXpfhxLoW3nZhT3Atuj2NuDZBvYlc1Gu9lvAIXf/q5KHgjxvM+uJRvKY2Yco7utwiGLA/0J0WDDnC+Du97v7encvUPzd/b67DxLwOZvZZWZ2+ext4DeBn1Kj93UwE6bM7BaKeb7ZZReGG9ylzJnZ3wKfo7jC3STwdeB/Ak8B/cA4sNXd51+wbVpm9lngn4GDfJC//VOKefrgztvMfoXiRbhlFAdiT7n7w2b2yxRHu6uBHwNfcvezjetpbUSpmz929y0hn3N0bs9Ed9uB77j7sJl1U4P3dTCBXkRE4oWSuhERkQQK9CIigVOgFxEJnAK9iEjgFOhFRAKnQC8iEjgFehGRwCnQi4gE7v8DpChhdQ7VqNAAAAAASUVORK5CYII=\n",
          "text/plain": "<Figure size 432x288 with 1 Axes>"
         },
         "metadata": {},
         "output_type": "display_data"
        }
       ]
      }
     },
     "bf99854d4a9a46deaa5827c6356e6065": {
      "model_module": "@jupyter-widgets/controls",
      "model_module_version": "1.4.0",
      "model_name": "SliderStyleModel",
      "state": {
       "description_width": ""
      }
     },
     "c0b032bb4c0e4f5a988f3bdd5d67fe26": {
      "model_module": "@jupyter-widgets/controls",
      "model_module_version": "1.4.0",
      "model_name": "IntSliderModel",
      "state": {
       "description": "mc1_weight_var1",
       "layout": "IPY_MODEL_a2bf423e13e447db97d1be14ce31d426",
       "max": 5,
       "min": -5,
       "style": "IPY_MODEL_3d62394d935f4d198c524601086a6b38"
      }
     },
     "c0be84354368415ba32520d8ccebd0c5": {
      "model_module": "@jupyter-widgets/controls",
      "model_module_version": "1.4.0",
      "model_name": "SliderStyleModel",
      "state": {
       "description_width": ""
      }
     },
     "c0c39a4dcf5340afb8ed426a585af41e": {
      "model_module": "@jupyter-widgets/controls",
      "model_module_version": "1.4.0",
      "model_name": "SliderStyleModel",
      "state": {
       "description_width": ""
      }
     },
     "c18273984fac462da58383b13d141716": {
      "model_module": "@jupyter-widgets/base",
      "model_module_version": "1.1.0",
      "model_name": "LayoutModel",
      "state": {}
     },
     "c22d4edc6aad45529f2423a4699f5e3d": {
      "model_module": "@jupyter-widgets/base",
      "model_module_version": "1.1.0",
      "model_name": "LayoutModel",
      "state": {}
     },
     "c3390d1086d5422494781c83bb169ef6": {
      "model_module": "@jupyter-widgets/controls",
      "model_module_version": "1.4.0",
      "model_name": "VBoxModel",
      "state": {
       "_dom_classes": [
        "widget-interact"
       ],
       "children": [
        "IPY_MODEL_53378d1af3dc4003a34c40493fe9385d",
        "IPY_MODEL_dba01079f38b45dda63c0e3cc680c8ed",
        "IPY_MODEL_f5282f209b9b4737b3cc9dec1825163c",
        "IPY_MODEL_6266dfabeaee4a1a9a7871f01b0bde98",
        "IPY_MODEL_ef663ff0d6014ae6a22ab6997853b872",
        "IPY_MODEL_1d4d01e6953443f3906dfcac001a036b"
       ],
       "layout": "IPY_MODEL_3e5a67cb2c85445aa37551c3d6509997"
      }
     },
     "c34d009e54444979bf9c433d415a12e0": {
      "model_module": "@jupyter-widgets/base",
      "model_module_version": "1.1.0",
      "model_name": "LayoutModel",
      "state": {}
     },
     "c3b715a114ba40d093be03b38964f0f6": {
      "model_module": "@jupyter-widgets/controls",
      "model_module_version": "1.4.0",
      "model_name": "SliderStyleModel",
      "state": {
       "description_width": ""
      }
     },
     "c3b779a3d2004b38b628d0fb96e3944c": {
      "model_module": "@jupyter-widgets/base",
      "model_module_version": "1.1.0",
      "model_name": "LayoutModel",
      "state": {}
     },
     "c3ff3589ba8e4954964fb4187f02a67b": {
      "model_module": "@jupyter-widgets/output",
      "model_module_version": "1.0.0",
      "model_name": "OutputModel",
      "state": {
       "layout": "IPY_MODEL_6a31e7c45d1c419b954cb0cb086bc783",
       "outputs": [
        {
         "data": {
          "image/png": "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\n",
          "text/plain": "<Figure size 432x288 with 1 Axes>"
         },
         "metadata": {},
         "output_type": "display_data"
        }
       ]
      }
     },
     "c4536355d90a44958d1ac03228707d30": {
      "model_module": "@jupyter-widgets/controls",
      "model_module_version": "1.4.0",
      "model_name": "FloatSliderModel",
      "state": {
       "description": "SigXsecOverSM",
       "layout": "IPY_MODEL_58c8d14a1017451d9fdb01d83274fe1f",
       "max": 10,
       "step": 0.1,
       "style": "IPY_MODEL_c722d5a05d7b478a99fd61998c893ffd",
       "value": 8
      }
     },
     "c4874cadf63c4df1904c088cb15b4178": {
      "model_module": "@jupyter-widgets/controls",
      "model_module_version": "1.4.0",
      "model_name": "SliderStyleModel",
      "state": {
       "description_width": ""
      }
     },
     "c4cd381ba9ed42448cb85a3c20ac36a9": {
      "model_module": "@jupyter-widgets/controls",
      "model_module_version": "1.4.0",
      "model_name": "DescriptionStyleModel",
      "state": {
       "description_width": ""
      }
     },
     "c4f32b2a51eb48779c252a0292d1e632": {
      "model_module": "@jupyter-widgets/controls",
      "model_module_version": "1.4.0",
      "model_name": "DropdownModel",
      "state": {
       "_options_labels": [
        "-5",
        "5"
       ],
       "description": "mc2_shape_conv",
       "index": 0,
       "layout": "IPY_MODEL_4470c7bfa7104a6ba1191bafbc35e8a3",
       "style": "IPY_MODEL_e115d1b44f6a4f41bcccc0c573360c75"
      }
     },
     "c4f90e6c616c4f49b2ce8fa3dfec0c97": {
      "model_module": "@jupyter-widgets/base",
      "model_module_version": "1.1.0",
      "model_name": "LayoutModel",
      "state": {}
     },
     "c58e6fe1badb41ce8e62d83f04c0bc2b": {
      "model_module": "@jupyter-widgets/base",
      "model_module_version": "1.1.0",
      "model_name": "LayoutModel",
      "state": {}
     },
     "c5cdbf37dfc443b3ad48e9894d1073a2": {
      "model_module": "@jupyter-widgets/base",
      "model_module_version": "1.1.0",
      "model_name": "LayoutModel",
      "state": {}
     },
     "c5da601704a14c4a9c140bc5597eb634": {
      "model_module": "@jupyter-widgets/base",
      "model_module_version": "1.1.0",
      "model_name": "LayoutModel",
      "state": {}
     },
     "c6a88aad6c1a4cb085a2dd661f4fc23b": {
      "model_module": "@jupyter-widgets/controls",
      "model_module_version": "1.4.0",
      "model_name": "IntSliderModel",
      "state": {
       "description": "mc2_shape_conv",
       "layout": "IPY_MODEL_2c22300c260d4554aa0b29d5ee109153",
       "max": 5,
       "min": -5,
       "style": "IPY_MODEL_da70e2a5af974d3d8498a89d62d62f97"
      }
     },
     "c6c224a4672144399d90419cee550ee7": {
      "model_module": "@jupyter-widgets/controls",
      "model_module_version": "1.4.0",
      "model_name": "IntSliderModel",
      "state": {
       "description": "mc1_shape_conv",
       "layout": "IPY_MODEL_c22d4edc6aad45529f2423a4699f5e3d",
       "max": 5,
       "min": -5,
       "style": "IPY_MODEL_2715466f17de467da40539306b42eef8"
      }
     },
     "c705950ab89647d79a096ec585471cf3": {
      "model_module": "@jupyter-widgets/base",
      "model_module_version": "1.1.0",
      "model_name": "LayoutModel",
      "state": {}
     },
     "c71080ab8f5f4a43a7a1e23f682e480a": {
      "model_module": "@jupyter-widgets/controls",
      "model_module_version": "1.4.0",
      "model_name": "VBoxModel",
      "state": {
       "_dom_classes": [
        "widget-interact"
       ],
       "children": [
        "IPY_MODEL_1957c55b9d73401485d7a4ab49cd3730",
        "IPY_MODEL_794bbe97761841b3adeaac26f7160964",
        "IPY_MODEL_887c0b81dff94549a501182817f0228d",
        "IPY_MODEL_1816b5bc555748299d40fbd439f52bdf",
        "IPY_MODEL_be4a65f385ca4449a1f73a0e49afe656",
        "IPY_MODEL_508536d5376c406091e46799c85b7865"
       ],
       "layout": "IPY_MODEL_f542406a3cc04723a321b8aac63bd9c8"
      }
     },
     "c722d5a05d7b478a99fd61998c893ffd": {
      "model_module": "@jupyter-widgets/controls",
      "model_module_version": "1.4.0",
      "model_name": "SliderStyleModel",
      "state": {
       "description_width": ""
      }
     },
     "c7817b1a43a2427587a0318d10d4af00": {
      "model_module": "@jupyter-widgets/base",
      "model_module_version": "1.1.0",
      "model_name": "LayoutModel",
      "state": {}
     },
     "c80e1d8f80604fabbcaf46643caac594": {
      "model_module": "@jupyter-widgets/base",
      "model_module_version": "1.1.0",
      "model_name": "LayoutModel",
      "state": {}
     },
     "c8284073b5b94486b42c5bb56f1e423b": {
      "model_module": "@jupyter-widgets/controls",
      "model_module_version": "1.4.0",
      "model_name": "IntSliderModel",
      "state": {
       "description": "mc1_weight_var1",
       "layout": "IPY_MODEL_0e04e7e91c644ae59bcb4af01e9da2e7",
       "max": 5,
       "min": -5,
       "style": "IPY_MODEL_36b588456b434019bcf9702577ce2047"
      }
     },
     "c89a69c1eb3c44daa65e750ff9568274": {
      "model_module": "@jupyter-widgets/base",
      "model_module_version": "1.1.0",
      "model_name": "LayoutModel",
      "state": {}
     },
     "c8c647f7897b473b971df36ef37ba3e5": {
      "model_module": "@jupyter-widgets/base",
      "model_module_version": "1.1.0",
      "model_name": "LayoutModel",
      "state": {}
     },
     "c8fd9c57ff11450bb175f5b7391e806e": {
      "model_module": "@jupyter-widgets/output",
      "model_module_version": "1.0.0",
      "model_name": "OutputModel",
      "state": {
       "layout": "IPY_MODEL_a5a776eb957148eea1d759f6e8a1c981",
       "outputs": [
        {
         "data": {
          "image/png": "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\n",
          "text/plain": "<Figure size 720x360 with 1 Axes>"
         },
         "metadata": {
          "needs_background": "light"
         },
         "output_type": "display_data"
        }
       ]
      }
     },
     "c95152b0474248dcb011939b4b778832": {
      "model_module": "@jupyter-widgets/controls",
      "model_module_version": "1.4.0",
      "model_name": "SliderStyleModel",
      "state": {
       "description_width": ""
      }
     },
     "ca1b24b394d54b429d0778c5a52307c5": {
      "model_module": "@jupyter-widgets/controls",
      "model_module_version": "1.4.0",
      "model_name": "FloatSliderModel",
      "state": {
       "description": "mc2_shape_conv",
       "layout": "IPY_MODEL_46d7b743fe184ffbaa8301adf8bacb1a",
       "max": 5,
       "min": -5,
       "step": 0.1,
       "style": "IPY_MODEL_749a933247ad45b7967c528567be9bf0"
      }
     },
     "caf11f98da264d579a8e3e7448705bc8": {
      "model_module": "@jupyter-widgets/base",
      "model_module_version": "1.1.0",
      "model_name": "LayoutModel",
      "state": {}
     },
     "cb16ef7fbecc491b88d569b9b2d89974": {
      "model_module": "@jupyter-widgets/controls",
      "model_module_version": "1.4.0",
      "model_name": "VBoxModel",
      "state": {
       "_dom_classes": [
        "widget-interact"
       ],
       "children": [
        "IPY_MODEL_84d2c6a8fbff4808aa1204278c14c58d",
        "IPY_MODEL_44acd5b4fd6e4e93bd6fff5c53b2687e",
        "IPY_MODEL_5233d42254a9464295681ea859284751",
        "IPY_MODEL_877515e6041e42bf9ddb4b71a41d64b5",
        "IPY_MODEL_95afa8adce2e419e9b31dd5386e6252c",
        "IPY_MODEL_abda3060ae6c4c13b9ac723961a44830"
       ],
       "layout": "IPY_MODEL_afbd3219e62141a3a77044e6c415d8c4"
      }
     },
     "cc2fcb88259746edbc57b80a7e9bd3df": {
      "model_module": "@jupyter-widgets/controls",
      "model_module_version": "1.4.0",
      "model_name": "SliderStyleModel",
      "state": {
       "description_width": ""
      }
     },
     "cc3f30a890574a3699bf8aabbad86240": {
      "model_module": "@jupyter-widgets/controls",
      "model_module_version": "1.4.0",
      "model_name": "SliderStyleModel",
      "state": {
       "description_width": ""
      }
     },
     "ccca87b31ce84809acbd2e3484f057c3": {
      "model_module": "@jupyter-widgets/base",
      "model_module_version": "1.1.0",
      "model_name": "LayoutModel",
      "state": {}
     },
     "cd4bbcc0e0074e1ca33d8bc6cd044650": {
      "model_module": "@jupyter-widgets/controls",
      "model_module_version": "1.4.0",
      "model_name": "IntSliderModel",
      "state": {
       "description": "mc2_shape_conv",
       "layout": "IPY_MODEL_0720f37fc10f452885f26d0788d4a4f8",
       "max": 5,
       "min": -5,
       "style": "IPY_MODEL_56238036499d436fbcd6b652ac3ff269"
      }
     },
     "cdced23edf5244ac924774cfd4eae869": {
      "model_module": "@jupyter-widgets/base",
      "model_module_version": "1.1.0",
      "model_name": "LayoutModel",
      "state": {}
     },
     "cebf342427274d1ea75cf22665d8c355": {
      "model_module": "@jupyter-widgets/controls",
      "model_module_version": "1.4.0",
      "model_name": "SliderStyleModel",
      "state": {
       "description_width": ""
      }
     },
     "cecd0c7854ba48139ca7098adfbd1ac5": {
      "model_module": "@jupyter-widgets/controls",
      "model_module_version": "1.4.0",
      "model_name": "VBoxModel",
      "state": {
       "_dom_classes": [
        "widget-interact"
       ],
       "children": [
        "IPY_MODEL_4ba9ae9db75b40e9918b9e7c55806aa7",
        "IPY_MODEL_0548318ded8d4a818bc0f0237f4a006d",
        "IPY_MODEL_eff555a7b50c4473ab8e4a9886683776",
        "IPY_MODEL_767947bb25bf4a01a61b85ee6cd44d19",
        "IPY_MODEL_edbf1fa01b8347c68377462e215e8676",
        "IPY_MODEL_253a7a1ed71e4e9a9edc2e26b41e1497"
       ],
       "layout": "IPY_MODEL_fe6181f74d4c4b62ace2d5c49a5c5497"
      }
     },
     "cefa74c0b8ea4853bc0b26b1ab0696da": {
      "model_module": "@jupyter-widgets/controls",
      "model_module_version": "1.4.0",
      "model_name": "IntSliderModel",
      "state": {
       "description": "mc1_shape_conv",
       "layout": "IPY_MODEL_4eb3bd3d97d44588bd084e295023c370",
       "max": 5,
       "min": -5,
       "style": "IPY_MODEL_036d67f8ba724f87a4fe6f025de79bec"
      }
     },
     "cf15b393f01b40169ca4881187cc4652": {
      "model_module": "@jupyter-widgets/controls",
      "model_module_version": "1.4.0",
      "model_name": "IntSliderModel",
      "state": {
       "description": "mc2_shape_conv",
       "layout": "IPY_MODEL_9df5ddf97dfb40809bc51692b7c5ffa2",
       "max": 5,
       "min": -5,
       "style": "IPY_MODEL_0aa707e1994e423dbe4b6823b467033d"
      }
     },
     "d09e6355b86d4e59884090643dcb5722": {
      "model_module": "@jupyter-widgets/controls",
      "model_module_version": "1.4.0",
      "model_name": "SliderStyleModel",
      "state": {
       "description_width": ""
      }
     },
     "d0a9c432ea4e478ab70a5b1b2c355005": {
      "model_module": "@jupyter-widgets/output",
      "model_module_version": "1.0.0",
      "model_name": "OutputModel",
      "state": {
       "layout": "IPY_MODEL_a020a42c720f4466bfbff292ece6c913",
       "outputs": [
        {
         "data": {
          "image/png": "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\n",
          "text/plain": "<Figure size 720x360 with 1 Axes>"
         },
         "metadata": {
          "needs_background": "light"
         },
         "output_type": "display_data"
        }
       ]
      }
     },
     "d0ebb7a95b2e4e90bc12bb104e168098": {
      "model_module": "@jupyter-widgets/base",
      "model_module_version": "1.1.0",
      "model_name": "LayoutModel",
      "state": {}
     },
     "d2c4955803764a1f853f894092ede456": {
      "model_module": "@jupyter-widgets/controls",
      "model_module_version": "1.4.0",
      "model_name": "IntSliderModel",
      "state": {
       "description": "mc1_shape_conv",
       "layout": "IPY_MODEL_8276909528a0415184568d63ce0a9819",
       "max": 5,
       "min": -5,
       "style": "IPY_MODEL_3deaf491602c48d19af52a49aebaeb18",
       "value": -5
      }
     },
     "d38dc36ca6e7428caf87d4f76f03bb83": {
      "model_module": "@jupyter-widgets/controls",
      "model_module_version": "1.4.0",
      "model_name": "SliderStyleModel",
      "state": {
       "description_width": ""
      }
     },
     "d3f773bcb71745008c673a6517987aad": {
      "model_module": "@jupyter-widgets/controls",
      "model_module_version": "1.4.0",
      "model_name": "VBoxModel",
      "state": {
       "_dom_classes": [
        "widget-interact"
       ],
       "children": [
        "IPY_MODEL_0d56da0fce4a427d84d3f40356f6024d",
        "IPY_MODEL_81b960c388e44824afbd39970d70e6be",
        "IPY_MODEL_8c0256b42a0f477e95f7660ec06b700a",
        "IPY_MODEL_5bcc735c385d4cdbb16eceaaa7d4aa6c",
        "IPY_MODEL_b60ba5a84ae44593b53aa1e5dbc7ccb9",
        "IPY_MODEL_3b91806b944b4e82a605cdebbcd7887b"
       ],
       "layout": "IPY_MODEL_1635927711ea4d9ab694f8531a74275e"
      }
     },
     "d4a69fccc8c24275b3dfd8f971688456": {
      "model_module": "@jupyter-widgets/controls",
      "model_module_version": "1.4.0",
      "model_name": "VBoxModel",
      "state": {
       "_dom_classes": [
        "widget-interact"
       ],
       "children": [
        "IPY_MODEL_b56c4c6d76c741f08601174a07f1d2c8",
        "IPY_MODEL_02ac8de7054048b2bbf9197d69c9b5bd",
        "IPY_MODEL_3052af1a02e2415582d470e75f0b6698",
        "IPY_MODEL_634599e8dead4727b7a953c97ffba925"
       ],
       "layout": "IPY_MODEL_09e3f919d8924bf78142bb6b33675d24"
      }
     },
     "d4c12dbc85024640a72aad0d5b952407": {
      "model_module": "@jupyter-widgets/base",
      "model_module_version": "1.1.0",
      "model_name": "LayoutModel",
      "state": {}
     },
     "d524bd8d4e734486973e6ec7edeaecc2": {
      "model_module": "@jupyter-widgets/base",
      "model_module_version": "1.1.0",
      "model_name": "LayoutModel",
      "state": {}
     },
     "d5299e4f19134f6abedaf268d4e87522": {
      "model_module": "@jupyter-widgets/base",
      "model_module_version": "1.1.0",
      "model_name": "LayoutModel",
      "state": {}
     },
     "d536bbe049204d4688bbcbdb8e29a4aa": {
      "model_module": "@jupyter-widgets/base",
      "model_module_version": "1.1.0",
      "model_name": "LayoutModel",
      "state": {}
     },
     "d5a1dfcaeee5407bbf5464adf01adaf5": {
      "model_module": "@jupyter-widgets/controls",
      "model_module_version": "1.4.0",
      "model_name": "SliderStyleModel",
      "state": {
       "description_width": ""
      }
     },
     "d61f24912e9c4e9da2ee24af0ef65bfa": {
      "model_module": "@jupyter-widgets/controls",
      "model_module_version": "1.4.0",
      "model_name": "IntSliderModel",
      "state": {
       "description": "mc2_weight_var1",
       "layout": "IPY_MODEL_265b3284802b4f66b16381652b5553a6",
       "max": 5,
       "min": -5,
       "style": "IPY_MODEL_475468c3a1494196be0951fc4ec42d74"
      }
     },
     "d66bfc738bc348918234d38998a4d097": {
      "model_module": "@jupyter-widgets/controls",
      "model_module_version": "1.4.0",
      "model_name": "DescriptionStyleModel",
      "state": {
       "description_width": ""
      }
     },
     "d6a946b866f146528d0bb6c30d97e0dd": {
      "model_module": "@jupyter-widgets/controls",
      "model_module_version": "1.4.0",
      "model_name": "SliderStyleModel",
      "state": {
       "description_width": ""
      }
     },
     "d771b11888b24d89a05b2341566d3d17": {
      "model_module": "@jupyter-widgets/controls",
      "model_module_version": "1.4.0",
      "model_name": "SliderStyleModel",
      "state": {
       "description_width": ""
      }
     },
     "d85246b14df3491f8eafbf38a2362b75": {
      "model_module": "@jupyter-widgets/controls",
      "model_module_version": "1.4.0",
      "model_name": "DropdownModel",
      "state": {
       "_options_labels": [
        "-5",
        "5"
       ],
       "description": "mc1_weight_var1",
       "index": 0,
       "layout": "IPY_MODEL_1236bfc27c3f448ebf7542762a89d8ba",
       "style": "IPY_MODEL_d66bfc738bc348918234d38998a4d097"
      }
     },
     "d8af6648c4314cf7942b464e6eb7fed7": {
      "model_module": "@jupyter-widgets/controls",
      "model_module_version": "1.4.0",
      "model_name": "VBoxModel",
      "state": {
       "_dom_classes": [
        "widget-interact"
       ],
       "children": [
        "IPY_MODEL_f2ec3cdedc9e4f7a94ef6bfb2cc53feb",
        "IPY_MODEL_8623de5616ce42c783dbda4d219f15fa",
        "IPY_MODEL_cefa74c0b8ea4853bc0b26b1ab0696da",
        "IPY_MODEL_a63227653026401b84e48d7709d34927",
        "IPY_MODEL_38c49877fde5420cbfa6f60a739c2c92",
        "IPY_MODEL_8113693b117e4b5b81086d9092c4e524"
       ],
       "layout": "IPY_MODEL_9c072aa15dbc4547a545aa2e0c4427ad"
      }
     },
     "d98eddb815e34f769247e3bcc6811881": {
      "model_module": "@jupyter-widgets/base",
      "model_module_version": "1.1.0",
      "model_name": "LayoutModel",
      "state": {}
     },
     "da4aa588170a45fd90e2593f0eb86bf1": {
      "model_module": "@jupyter-widgets/base",
      "model_module_version": "1.1.0",
      "model_name": "LayoutModel",
      "state": {}
     },
     "da5125eb9e58454a905a78123ed03d93": {
      "model_module": "@jupyter-widgets/base",
      "model_module_version": "1.1.0",
      "model_name": "LayoutModel",
      "state": {}
     },
     "da70e2a5af974d3d8498a89d62d62f97": {
      "model_module": "@jupyter-widgets/controls",
      "model_module_version": "1.4.0",
      "model_name": "SliderStyleModel",
      "state": {
       "description_width": ""
      }
     },
     "daac1c173b1241819a0594b8f4d02297": {
      "model_module": "@jupyter-widgets/base",
      "model_module_version": "1.1.0",
      "model_name": "LayoutModel",
      "state": {}
     },
     "dac7b54d88024193bdebe211aae9ab4e": {
      "model_module": "@jupyter-widgets/output",
      "model_module_version": "1.0.0",
      "model_name": "OutputModel",
      "state": {
       "layout": "IPY_MODEL_11a2f3da851b4ba9b8e2056b4eddac23",
       "outputs": [
        {
         "data": {
          "image/png": "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\n",
          "text/plain": "<Figure size 720x360 with 1 Axes>"
         },
         "metadata": {},
         "output_type": "display_data"
        }
       ]
      }
     },
     "dadd4621b0d347118a0f2a0758055952": {
      "model_module": "@jupyter-widgets/controls",
      "model_module_version": "1.4.0",
      "model_name": "SliderStyleModel",
      "state": {
       "description_width": ""
      }
     },
     "daf08d42c7064dc2be230818eee4b45e": {
      "model_module": "@jupyter-widgets/controls",
      "model_module_version": "1.4.0",
      "model_name": "DropdownModel",
      "state": {
       "_options_labels": [
        "1",
        "2",
        "3",
        "0"
       ],
       "description": "order",
       "index": 0,
       "layout": "IPY_MODEL_ddf9ed8fd6b14f7091968491cb7378dc",
       "style": "IPY_MODEL_c4cd381ba9ed42448cb85a3c20ac36a9"
      }
     },
     "daf69d2b51d444d4aea6b4f3ebbd9dde": {
      "model_module": "@jupyter-widgets/controls",
      "model_module_version": "1.4.0",
      "model_name": "IntSliderModel",
      "state": {
       "description": "mc1_shape_conv",
       "layout": "IPY_MODEL_6353cce476f7439db054353c980a4dab",
       "max": 5,
       "min": -5,
       "style": "IPY_MODEL_8cc49102133240bfbafac1d4894efac3"
      }
     },
     "db1204ae1225499892bd2a7caf927d9c": {
      "model_module": "@jupyter-widgets/controls",
      "model_module_version": "1.4.0",
      "model_name": "IntSliderModel",
      "state": {
       "description": "mc2_shape_conv",
       "layout": "IPY_MODEL_b27ff21049af4ae58f5f64144bfd88c3",
       "max": 5,
       "min": -5,
       "style": "IPY_MODEL_e5785ca0abe54a3cb2caa9c2a5f90ebe"
      }
     },
     "dba01079f38b45dda63c0e3cc680c8ed": {
      "model_module": "@jupyter-widgets/controls",
      "model_module_version": "1.4.0",
      "model_name": "IntSliderModel",
      "state": {
       "description": "mc1_weight_var1",
       "layout": "IPY_MODEL_40abc52aa6994c74b2e1756e74e4a5b7",
       "max": 5,
       "min": -5,
       "style": "IPY_MODEL_7589dfcb2d494aed94a83c2827c317fb"
      }
     },
     "dbec521c98584977a9846cb42f374265": {
      "model_module": "@jupyter-widgets/base",
      "model_module_version": "1.1.0",
      "model_name": "LayoutModel",
      "state": {}
     },
     "dbf5563f2e2540bb81627d3d7deaddcf": {
      "model_module": "@jupyter-widgets/base",
      "model_module_version": "1.1.0",
      "model_name": "LayoutModel",
      "state": {}
     },
     "dbfe2cb2ac5e4aba8c03f2a17f6399ef": {
      "model_module": "@jupyter-widgets/controls",
      "model_module_version": "1.4.0",
      "model_name": "VBoxModel",
      "state": {
       "_dom_classes": [
        "widget-interact"
       ],
       "children": [
        "IPY_MODEL_9100852fa72a401e90be81e2c0d7ca9c",
        "IPY_MODEL_d85246b14df3491f8eafbf38a2362b75",
        "IPY_MODEL_b3df9831943b472a996311bb3f5e3005",
        "IPY_MODEL_32f5dbb0421644a2ac46c3299bc51557",
        "IPY_MODEL_c4f32b2a51eb48779c252a0292d1e632",
        "IPY_MODEL_751559708675492b89d8bd8840b2217f"
       ],
       "layout": "IPY_MODEL_7a6e35fc7139424f9c0b7c5f7b4d12bc"
      }
     },
     "dc2ac08ed5064e2e9e029a21af263965": {
      "model_module": "@jupyter-widgets/controls",
      "model_module_version": "1.4.0",
      "model_name": "SliderStyleModel",
      "state": {
       "description_width": ""
      }
     },
     "dc46fd29c3694ab18176d92d593309a3": {
      "model_module": "@jupyter-widgets/controls",
      "model_module_version": "1.4.0",
      "model_name": "SliderStyleModel",
      "state": {
       "description_width": ""
      }
     },
     "dc60162f447f4688af05c91187cf5216": {
      "model_module": "@jupyter-widgets/controls",
      "model_module_version": "1.4.0",
      "model_name": "FloatSliderModel",
      "state": {
       "description": "mc2_shape_conv",
       "layout": "IPY_MODEL_c7817b1a43a2427587a0318d10d4af00",
       "max": 5,
       "min": -5,
       "step": 0.1,
       "style": "IPY_MODEL_8a968ae9259d4e6c917d4efdaf2a5385"
      }
     },
     "dcc27ad9614c41eea6ec4110184a3431": {
      "model_module": "@jupyter-widgets/controls",
      "model_module_version": "1.4.0",
      "model_name": "SliderStyleModel",
      "state": {
       "description_width": ""
      }
     },
     "dd5af0e7da9e49eea51056b59ed03508": {
      "model_module": "@jupyter-widgets/base",
      "model_module_version": "1.1.0",
      "model_name": "LayoutModel",
      "state": {}
     },
     "dd5f370f680943ec9431afb34d2d890b": {
      "model_module": "@jupyter-widgets/controls",
      "model_module_version": "1.4.0",
      "model_name": "SliderStyleModel",
      "state": {
       "description_width": ""
      }
     },
     "ddcb369f0bdf4b149301235e0633b7df": {
      "model_module": "@jupyter-widgets/output",
      "model_module_version": "1.0.0",
      "model_name": "OutputModel",
      "state": {
       "layout": "IPY_MODEL_206d520a53a74b808d04650746b31e19",
       "outputs": [
        {
         "data": {
          "image/png": "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\n",
          "text/plain": "<Figure size 720x360 with 1 Axes>"
         },
         "metadata": {},
         "output_type": "display_data"
        }
       ]
      }
     },
     "ddf9ed8fd6b14f7091968491cb7378dc": {
      "model_module": "@jupyter-widgets/base",
      "model_module_version": "1.1.0",
      "model_name": "LayoutModel",
      "state": {}
     },
     "de74a5c8eac348e9a0e03722de5bd42f": {
      "model_module": "@jupyter-widgets/controls",
      "model_module_version": "1.4.0",
      "model_name": "DescriptionStyleModel",
      "state": {
       "description_width": ""
      }
     },
     "dec19e5882494f9ab82c6b767c11711c": {
      "model_module": "@jupyter-widgets/controls",
      "model_module_version": "1.4.0",
      "model_name": "DescriptionStyleModel",
      "state": {
       "description_width": ""
      }
     },
     "df092091707042cdb6b6d6905ccf2cf7": {
      "model_module": "@jupyter-widgets/controls",
      "model_module_version": "1.4.0",
      "model_name": "IntSliderModel",
      "state": {
       "description": "mc1_weight_var1",
       "layout": "IPY_MODEL_c4f90e6c616c4f49b2ce8fa3dfec0c97",
       "max": 5,
       "min": -5,
       "style": "IPY_MODEL_d38dc36ca6e7428caf87d4f76f03bb83"
      }
     },
     "df6eaa7bc63440f290345e5493382e31": {
      "model_module": "@jupyter-widgets/controls",
      "model_module_version": "1.4.0",
      "model_name": "VBoxModel",
      "state": {
       "_dom_classes": [
        "widget-interact"
       ],
       "children": [
        "IPY_MODEL_5ffb72637a934eb2b102029a8f290fb6",
        "IPY_MODEL_eefe608aa7f2495a89f9a832663f3611",
        "IPY_MODEL_daf69d2b51d444d4aea6b4f3ebbd9dde",
        "IPY_MODEL_7868cb0ab11e48989218de48b92f1f6e",
        "IPY_MODEL_e48300fa2dc24f9194ec73be79dba400",
        "IPY_MODEL_128e733d0f7a42db87290bdea538362f"
       ],
       "layout": "IPY_MODEL_334b3c5cfc1e4327823cb1df3a53972a"
      }
     },
     "e08b6c2e50044e6abe4623aab3d950f5": {
      "model_module": "@jupyter-widgets/controls",
      "model_module_version": "1.4.0",
      "model_name": "VBoxModel",
      "state": {
       "_dom_classes": [
        "widget-interact"
       ],
       "children": [
        "IPY_MODEL_afef945902a642f698a70b669cb96af8",
        "IPY_MODEL_605e8849c81d4de5820f4dd361fa2f6f",
        "IPY_MODEL_a16fb4e703164185a1bafa6f316d4092",
        "IPY_MODEL_33be8baa63f24f97bcdf99360f11c6a7",
        "IPY_MODEL_484d37dd133240fcbe9faa2f33ed691e",
        "IPY_MODEL_ebc3828842b847cda539456b10c82f34"
       ],
       "layout": "IPY_MODEL_abf575f1860f488aa4fd9b1ec6bd197a"
      }
     },
     "e0fdb144edd84f6a984fac605db3a38a": {
      "model_module": "@jupyter-widgets/controls",
      "model_module_version": "1.4.0",
      "model_name": "SliderStyleModel",
      "state": {
       "description_width": ""
      }
     },
     "e115d1b44f6a4f41bcccc0c573360c75": {
      "model_module": "@jupyter-widgets/controls",
      "model_module_version": "1.4.0",
      "model_name": "DescriptionStyleModel",
      "state": {
       "description_width": ""
      }
     },
     "e299da15e172437793291e30e9f0d3f6": {
      "model_module": "@jupyter-widgets/controls",
      "model_module_version": "1.4.0",
      "model_name": "SliderStyleModel",
      "state": {
       "description_width": ""
      }
     },
     "e31ce6e19e89490e9a67db665c277583": {
      "model_module": "@jupyter-widgets/base",
      "model_module_version": "1.1.0",
      "model_name": "LayoutModel",
      "state": {}
     },
     "e35cde02917d45ba8e1970c084abd01b": {
      "model_module": "@jupyter-widgets/controls",
      "model_module_version": "1.4.0",
      "model_name": "IntSliderModel",
      "state": {
       "description": "mc1_weight_var1",
       "layout": "IPY_MODEL_623249cc134f4874afc1556c8c0cd22a",
       "max": 5,
       "min": -5,
       "style": "IPY_MODEL_f075954320e04561b0cac890f9b1217f"
      }
     },
     "e374b8a5ceb842a591f2665b470c3037": {
      "model_module": "@jupyter-widgets/controls",
      "model_module_version": "1.4.0",
      "model_name": "IntSliderModel",
      "state": {
       "description": "mc2_weight_var1",
       "layout": "IPY_MODEL_558aec0d8c2a4e6486acba9a10b8c857",
       "max": 5,
       "min": -5,
       "style": "IPY_MODEL_307512735a8f4497a4a82cdbe5d59b9d"
      }
     },
     "e3b83918114e4f7b9f95bd82c69177d5": {
      "model_module": "@jupyter-widgets/output",
      "model_module_version": "1.0.0",
      "model_name": "OutputModel",
      "state": {
       "layout": "IPY_MODEL_23d6e926aea84574aa3d55899a0c5e47",
       "outputs": [
        {
         "data": {
          "image/png": "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\n",
          "text/plain": "<Figure size 432x288 with 1 Axes>"
         },
         "metadata": {},
         "output_type": "display_data"
        }
       ]
      }
     },
     "e4239766cad549c9bdbd0a91c0bf7833": {
      "model_module": "@jupyter-widgets/controls",
      "model_module_version": "1.4.0",
      "model_name": "IntSliderModel",
      "state": {
       "description": "mc2_weight_var1",
       "layout": "IPY_MODEL_491e5240d56b452f940517d3fbd001fc",
       "max": 5,
       "min": -5,
       "style": "IPY_MODEL_5bd6ff351fa84b8fbabf1554e2d4f56d"
      }
     },
     "e42c063910d64995bb9a11fde034af61": {
      "model_module": "@jupyter-widgets/base",
      "model_module_version": "1.1.0",
      "model_name": "LayoutModel",
      "state": {}
     },
     "e459309cae9b444490bcf364944168a5": {
      "model_module": "@jupyter-widgets/base",
      "model_module_version": "1.1.0",
      "model_name": "LayoutModel",
      "state": {}
     },
     "e48300fa2dc24f9194ec73be79dba400": {
      "model_module": "@jupyter-widgets/controls",
      "model_module_version": "1.4.0",
      "model_name": "IntSliderModel",
      "state": {
       "description": "mc2_shape_conv",
       "layout": "IPY_MODEL_594a86a9367a4739b220bd5ac1d9512f",
       "max": 5,
       "min": -5,
       "style": "IPY_MODEL_d09e6355b86d4e59884090643dcb5722"
      }
     },
     "e4b5bd15768c40279e2fcbcdf1708324": {
      "model_module": "@jupyter-widgets/output",
      "model_module_version": "1.0.0",
      "model_name": "OutputModel",
      "state": {
       "layout": "IPY_MODEL_3d60c0fdeb8646a9bf82085b8c2bb0be",
       "outputs": [
        {
         "data": {
          "image/png": "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\n",
          "text/plain": "<Figure size 720x360 with 1 Axes>"
         },
         "metadata": {
          "needs_background": "light"
         },
         "output_type": "display_data"
        }
       ]
      }
     },
     "e4c5cb9566f5472f91a4cc43a56c5955": {
      "model_module": "@jupyter-widgets/base",
      "model_module_version": "1.1.0",
      "model_name": "LayoutModel",
      "state": {}
     },
     "e5785ca0abe54a3cb2caa9c2a5f90ebe": {
      "model_module": "@jupyter-widgets/controls",
      "model_module_version": "1.4.0",
      "model_name": "SliderStyleModel",
      "state": {
       "description_width": ""
      }
     },
     "e5cedf72ed304abc9dfe9b4c2bd903a6": {
      "model_module": "@jupyter-widgets/base",
      "model_module_version": "1.1.0",
      "model_name": "LayoutModel",
      "state": {}
     },
     "e5d3f369769c441fb79219844938245c": {
      "model_module": "@jupyter-widgets/controls",
      "model_module_version": "1.4.0",
      "model_name": "SliderStyleModel",
      "state": {
       "description_width": ""
      }
     },
     "e658098686064264ab22eae0e5353c83": {
      "model_module": "@jupyter-widgets/base",
      "model_module_version": "1.1.0",
      "model_name": "LayoutModel",
      "state": {}
     },
     "e670398b710f4b3b9e2e5b555c629a0e": {
      "model_module": "@jupyter-widgets/base",
      "model_module_version": "1.1.0",
      "model_name": "LayoutModel",
      "state": {}
     },
     "e67b0deddc734b4c9c2656e2a30f1112": {
      "model_module": "@jupyter-widgets/base",
      "model_module_version": "1.1.0",
      "model_name": "LayoutModel",
      "state": {}
     },
     "e7062c4a4c0646798cdc6eeffb8f22c4": {
      "model_module": "@jupyter-widgets/base",
      "model_module_version": "1.1.0",
      "model_name": "LayoutModel",
      "state": {}
     },
     "e70b18fcdd464d83833219cdaf2b12ae": {
      "model_module": "@jupyter-widgets/base",
      "model_module_version": "1.1.0",
      "model_name": "LayoutModel",
      "state": {}
     },
     "e7a73de9287d4aacbfd11c4e421c20fd": {
      "model_module": "@jupyter-widgets/controls",
      "model_module_version": "1.4.0",
      "model_name": "SliderStyleModel",
      "state": {
       "description_width": ""
      }
     },
     "e854f7952584472a80c3c94c8af0a00a": {
      "model_module": "@jupyter-widgets/controls",
      "model_module_version": "1.4.0",
      "model_name": "IntSliderModel",
      "state": {
       "description": "mc2_weight_var1",
       "layout": "IPY_MODEL_be577b0c2d754342a39b58b65d5bc8d4",
       "max": 5,
       "min": -5,
       "style": "IPY_MODEL_ebf3c8bf852340f2a4470d18d407f42b"
      }
     },
     "e89033570d2447068eba5387f93b7bea": {
      "model_module": "@jupyter-widgets/controls",
      "model_module_version": "1.4.0",
      "model_name": "SliderStyleModel",
      "state": {
       "description_width": ""
      }
     },
     "e8ebce9fd3564fa08272142851582349": {
      "model_module": "@jupyter-widgets/controls",
      "model_module_version": "1.4.0",
      "model_name": "IntSliderModel",
      "state": {
       "description": "mc1_shape_conv",
       "layout": "IPY_MODEL_0ee864e226314c24b3ebf622822070e2",
       "max": 5,
       "min": -5,
       "style": "IPY_MODEL_e0fdb144edd84f6a984fac605db3a38a"
      }
     },
     "e92ee9a2467541848cf00cea9831b349": {
      "model_module": "@jupyter-widgets/controls",
      "model_module_version": "1.4.0",
      "model_name": "SliderStyleModel",
      "state": {
       "description_width": ""
      }
     },
     "e9b47067d5984a28851ce997deba7914": {
      "model_module": "@jupyter-widgets/controls",
      "model_module_version": "1.4.0",
      "model_name": "IntSliderModel",
      "state": {
       "description": "mc1_shape_conv",
       "layout": "IPY_MODEL_74a952e529b940e493cb2b4c69632d65",
       "max": 5,
       "min": -5,
       "style": "IPY_MODEL_35f1df79108c4dfbb8341681950df05c"
      }
     },
     "ea9c75dbc7e14a2b82bbfc159f019f21": {
      "model_module": "@jupyter-widgets/base",
      "model_module_version": "1.1.0",
      "model_name": "LayoutModel",
      "state": {}
     },
     "eb9f2f6601f043139e67e3374ecf7c15": {
      "model_module": "@jupyter-widgets/controls",
      "model_module_version": "1.4.0",
      "model_name": "IntSliderModel",
      "state": {
       "description": "SigXsecOverSM",
       "layout": "IPY_MODEL_f7dd3a42b89c469e9e37552ccb697ff3",
       "max": 10,
       "style": "IPY_MODEL_9dce2bd05cc646729158dcd0ebdd8edf",
       "value": 5
      }
     },
     "ebc3828842b847cda539456b10c82f34": {
      "model_module": "@jupyter-widgets/output",
      "model_module_version": "1.0.0",
      "model_name": "OutputModel",
      "state": {
       "layout": "IPY_MODEL_1c3e4c0738dd4731ab448d9d5abc6750",
       "outputs": [
        {
         "data": {
          "image/png": "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\n",
          "text/plain": "<Figure size 432x288 with 1 Axes>"
         },
         "metadata": {},
         "output_type": "display_data"
        }
       ]
      }
     },
     "ebf3c8bf852340f2a4470d18d407f42b": {
      "model_module": "@jupyter-widgets/controls",
      "model_module_version": "1.4.0",
      "model_name": "SliderStyleModel",
      "state": {
       "description_width": ""
      }
     },
     "ec40956e697f452c98585a4644e6903c": {
      "model_module": "@jupyter-widgets/base",
      "model_module_version": "1.1.0",
      "model_name": "LayoutModel",
      "state": {}
     },
     "ecf165826af0483ea2cf4a53ccf0deca": {
      "model_module": "@jupyter-widgets/base",
      "model_module_version": "1.1.0",
      "model_name": "LayoutModel",
      "state": {}
     },
     "ed1ee85528904814b33b071fd46c9d41": {
      "model_module": "@jupyter-widgets/controls",
      "model_module_version": "1.4.0",
      "model_name": "IntSliderModel",
      "state": {
       "description": "mc1_shape_conv",
       "layout": "IPY_MODEL_49d241f16eed4a1ab5949cfc7418d96e",
       "max": 5,
       "min": -5,
       "style": "IPY_MODEL_20ee9667b2124585b3db54b301f976aa"
      }
     },
     "ed2731ec32ac4471b304068b218c7e61": {
      "model_module": "@jupyter-widgets/controls",
      "model_module_version": "1.4.0",
      "model_name": "SliderStyleModel",
      "state": {
       "description_width": ""
      }
     },
     "eda41b047dcf4457887fca4da7aa45d7": {
      "model_module": "@jupyter-widgets/controls",
      "model_module_version": "1.4.0",
      "model_name": "IntSliderModel",
      "state": {
       "description": "SigXsecOverSM",
       "layout": "IPY_MODEL_e70b18fcdd464d83833219cdaf2b12ae",
       "max": 10,
       "style": "IPY_MODEL_9b12acae0810402f8b4d7be292fca7b0",
       "value": 5
      }
     },
     "edbf1fa01b8347c68377462e215e8676": {
      "model_module": "@jupyter-widgets/controls",
      "model_module_version": "1.4.0",
      "model_name": "IntSliderModel",
      "state": {
       "description": "mc2_shape_conv",
       "layout": "IPY_MODEL_b296c9ebe6b643ecb7680078a2ab4850",
       "max": 5,
       "min": -5,
       "style": "IPY_MODEL_814f5fe94557408c8682b1ec5cfb74e0"
      }
     },
     "ee5f8b194f304832a56874534ce65b8e": {
      "model_module": "@jupyter-widgets/controls",
      "model_module_version": "1.4.0",
      "model_name": "IntSliderModel",
      "state": {
       "description": "mc2_weight_var1",
       "layout": "IPY_MODEL_4635079f74a9458b9e1e03449d2383c0",
       "max": 5,
       "min": -5,
       "style": "IPY_MODEL_3f1c337ddac5466a89e17d70ff059405"
      }
     },
     "eefe608aa7f2495a89f9a832663f3611": {
      "model_module": "@jupyter-widgets/controls",
      "model_module_version": "1.4.0",
      "model_name": "IntSliderModel",
      "state": {
       "description": "mc1_weight_var1",
       "layout": "IPY_MODEL_800a88964a3740f9accd7ec5670127b1",
       "max": 5,
       "min": -5,
       "style": "IPY_MODEL_5111dd2107c444e78707e22a04aa640c"
      }
     },
     "ef3efa606e4049a9b26ba2023bc8c038": {
      "model_module": "@jupyter-widgets/base",
      "model_module_version": "1.1.0",
      "model_name": "LayoutModel",
      "state": {}
     },
     "ef663ff0d6014ae6a22ab6997853b872": {
      "model_module": "@jupyter-widgets/controls",
      "model_module_version": "1.4.0",
      "model_name": "IntSliderModel",
      "state": {
       "description": "mc2_shape_conv",
       "layout": "IPY_MODEL_848e732dd55e4dba97b222539e79bd3d",
       "max": 5,
       "min": -5,
       "style": "IPY_MODEL_6cc51059321746779b3dbb27c239ff20"
      }
     },
     "efa29e483d4a46a4ae75cf9aedf553e6": {
      "model_module": "@jupyter-widgets/controls",
      "model_module_version": "1.4.0",
      "model_name": "SliderStyleModel",
      "state": {
       "description_width": ""
      }
     },
     "eff555a7b50c4473ab8e4a9886683776": {
      "model_module": "@jupyter-widgets/controls",
      "model_module_version": "1.4.0",
      "model_name": "IntSliderModel",
      "state": {
       "description": "mc1_shape_conv",
       "layout": "IPY_MODEL_54e2964bc9e84f2f803444d40f8b3e49",
       "max": 5,
       "min": -5,
       "style": "IPY_MODEL_1d7a1943ffeb409f915218a17372c876"
      }
     },
     "effd97cd46ad4485a7792b3eb04ebf18": {
      "model_module": "@jupyter-widgets/controls",
      "model_module_version": "1.4.0",
      "model_name": "SliderStyleModel",
      "state": {
       "description_width": ""
      }
     },
     "f00694e0aab0447782e209dfa736c161": {
      "model_module": "@jupyter-widgets/controls",
      "model_module_version": "1.4.0",
      "model_name": "IntSliderModel",
      "state": {
       "description": "mc1_weight_var1",
       "layout": "IPY_MODEL_cdced23edf5244ac924774cfd4eae869",
       "max": 5,
       "min": -5,
       "style": "IPY_MODEL_8dfb3a3296c148658a04416ab7e4c03c",
       "value": -3
      }
     },
     "f075954320e04561b0cac890f9b1217f": {
      "model_module": "@jupyter-widgets/controls",
      "model_module_version": "1.4.0",
      "model_name": "SliderStyleModel",
      "state": {
       "description_width": ""
      }
     },
     "f0a189cc647e4b81a5ff7f9ed7480e5a": {
      "model_module": "@jupyter-widgets/base",
      "model_module_version": "1.1.0",
      "model_name": "LayoutModel",
      "state": {}
     },
     "f0e17fadc2f64cc4b874bc0e09fb4994": {
      "model_module": "@jupyter-widgets/base",
      "model_module_version": "1.1.0",
      "model_name": "LayoutModel",
      "state": {}
     },
     "f1675723f35442b587b51a94cdf2faf1": {
      "model_module": "@jupyter-widgets/base",
      "model_module_version": "1.1.0",
      "model_name": "LayoutModel",
      "state": {}
     },
     "f1e714f5cf3d4ad29e38835fce77d6d7": {
      "model_module": "@jupyter-widgets/base",
      "model_module_version": "1.1.0",
      "model_name": "LayoutModel",
      "state": {}
     },
     "f1eff4b80e1740769aee89b8a60a2b29": {
      "model_module": "@jupyter-widgets/controls",
      "model_module_version": "1.4.0",
      "model_name": "SliderStyleModel",
      "state": {
       "description_width": ""
      }
     },
     "f1f090cf0b61441493059e97137acb4c": {
      "model_module": "@jupyter-widgets/controls",
      "model_module_version": "1.4.0",
      "model_name": "SliderStyleModel",
      "state": {
       "description_width": ""
      }
     },
     "f235af08cc164c32903472e3bac18c07": {
      "model_module": "@jupyter-widgets/base",
      "model_module_version": "1.1.0",
      "model_name": "LayoutModel",
      "state": {}
     },
     "f2b248ed4dd74f2eb96ac2a89d3a1dc9": {
      "model_module": "@jupyter-widgets/output",
      "model_module_version": "1.0.0",
      "model_name": "OutputModel",
      "state": {
       "layout": "IPY_MODEL_e658098686064264ab22eae0e5353c83",
       "outputs": [
        {
         "data": {
          "image/png": "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\n",
          "text/plain": "<Figure size 720x360 with 1 Axes>"
         },
         "metadata": {},
         "output_type": "display_data"
        }
       ]
      }
     },
     "f2ec3cdedc9e4f7a94ef6bfb2cc53feb": {
      "model_module": "@jupyter-widgets/controls",
      "model_module_version": "1.4.0",
      "model_name": "IntSliderModel",
      "state": {
       "description": "SigXsecOverSM",
       "layout": "IPY_MODEL_3245048fbe694b06b00b6f1df83ad001",
       "max": 10,
       "style": "IPY_MODEL_8bbaf120ec494ed9ad1214d63d89e167",
       "value": 1
      }
     },
     "f320eb78e56e4869b314e9fd2cf58f61": {
      "model_module": "@jupyter-widgets/controls",
      "model_module_version": "1.4.0",
      "model_name": "VBoxModel",
      "state": {
       "_dom_classes": [
        "widget-interact"
       ],
       "children": [
        "IPY_MODEL_90a60614fc774868b7cbc3f21efbffe8",
        "IPY_MODEL_74998ba983c940869122c1496fe8f201",
        "IPY_MODEL_d2c4955803764a1f853f894092ede456",
        "IPY_MODEL_e3b83918114e4f7b9f95bd82c69177d5"
       ],
       "layout": "IPY_MODEL_5b7c437cf5f94c0bbf307c71fa2835c1"
      }
     },
     "f4510231652a46008f8c8302a7ee809f": {
      "model_module": "@jupyter-widgets/output",
      "model_module_version": "1.0.0",
      "model_name": "OutputModel",
      "state": {
       "layout": "IPY_MODEL_591eab1f74aa4709b7cf9727e2246a30",
       "outputs": [
        {
         "ename": "KeyError",
         "evalue": "'width'",
         "output_type": "error",
         "traceback": [
          "\u001b[0;31m---------------------------------------------------------------------------\u001b[0m",
          "\u001b[0;31mKeyError\u001b[0m                                  Traceback (most recent call last)",
          "\u001b[0;32m~/.local/share/virtualenvs/pyhf-EFAVEj2h/lib/python3.6/site-packages/ipywidgets/widgets/interaction.py\u001b[0m in \u001b[0;36mupdate\u001b[0;34m(self, *args)\u001b[0m\n\u001b[1;32m    249\u001b[0m                     \u001b[0mvalue\u001b[0m \u001b[0;34m=\u001b[0m \u001b[0mwidget\u001b[0m\u001b[0;34m.\u001b[0m\u001b[0mget_interact_value\u001b[0m\u001b[0;34m(\u001b[0m\u001b[0;34m)\u001b[0m\u001b[0;34m\u001b[0m\u001b[0m\n\u001b[1;32m    250\u001b[0m                     \u001b[0mself\u001b[0m\u001b[0;34m.\u001b[0m\u001b[0mkwargs\u001b[0m\u001b[0;34m[\u001b[0m\u001b[0mwidget\u001b[0m\u001b[0;34m.\u001b[0m\u001b[0m_kwarg\u001b[0m\u001b[0;34m]\u001b[0m \u001b[0;34m=\u001b[0m \u001b[0mvalue\u001b[0m\u001b[0;34m\u001b[0m\u001b[0m\n\u001b[0;32m--> 251\u001b[0;31m                 \u001b[0mself\u001b[0m\u001b[0;34m.\u001b[0m\u001b[0mresult\u001b[0m \u001b[0;34m=\u001b[0m \u001b[0mself\u001b[0m\u001b[0;34m.\u001b[0m\u001b[0mf\u001b[0m\u001b[0;34m(\u001b[0m\u001b[0;34m**\u001b[0m\u001b[0mself\u001b[0m\u001b[0;34m.\u001b[0m\u001b[0mkwargs\u001b[0m\u001b[0;34m)\u001b[0m\u001b[0;34m\u001b[0m\u001b[0m\n\u001b[0m\u001b[1;32m    252\u001b[0m                 \u001b[0mshow_inline_matplotlib_plots\u001b[0m\u001b[0;34m(\u001b[0m\u001b[0;34m)\u001b[0m\u001b[0;34m\u001b[0m\u001b[0m\n\u001b[1;32m    253\u001b[0m                 \u001b[0;32mif\u001b[0m \u001b[0mself\u001b[0m\u001b[0;34m.\u001b[0m\u001b[0mauto_display\u001b[0m \u001b[0;32mand\u001b[0m \u001b[0mself\u001b[0m\u001b[0;34m.\u001b[0m\u001b[0mresult\u001b[0m \u001b[0;32mis\u001b[0m \u001b[0;32mnot\u001b[0m \u001b[0;32mNone\u001b[0m\u001b[0;34m:\u001b[0m\u001b[0;34m\u001b[0m\u001b[0m\n",
          "\u001b[0;32m<ipython-input-58-eb293ff643af>\u001b[0m in \u001b[0;36mplot\u001b[0;34m(ax, **parsettings)\u001b[0m\n\u001b[1;32m      6\u001b[0m     \u001b[0mpars\u001b[0m \u001b[0;34m=\u001b[0m \u001b[0mpyhf\u001b[0m\u001b[0;34m.\u001b[0m\u001b[0mtensorlib\u001b[0m\u001b[0;34m.\u001b[0m\u001b[0mastensor\u001b[0m\u001b[0;34m(\u001b[0m\u001b[0mp\u001b[0m\u001b[0;34m.\u001b[0m\u001b[0mconfig\u001b[0m\u001b[0;34m.\u001b[0m\u001b[0msuggested_init\u001b[0m\u001b[0;34m(\u001b[0m\u001b[0;34m)\u001b[0m\u001b[0;34m)\u001b[0m\u001b[0;34m\u001b[0m\u001b[0m\n\u001b[1;32m      7\u001b[0m     \u001b[0;32mfor\u001b[0m \u001b[0mk\u001b[0m\u001b[0;34m,\u001b[0m\u001b[0mv\u001b[0m \u001b[0;32min\u001b[0m \u001b[0mparsettings\u001b[0m\u001b[0;34m.\u001b[0m\u001b[0mitems\u001b[0m\u001b[0;34m(\u001b[0m\u001b[0;34m)\u001b[0m\u001b[0;34m:\u001b[0m\u001b[0;34m\u001b[0m\u001b[0m\n\u001b[0;32m----> 8\u001b[0;31m         \u001b[0mpars\u001b[0m\u001b[0;34m[\u001b[0m\u001b[0mparnamedict\u001b[0m\u001b[0;34m[\u001b[0m\u001b[0mk\u001b[0m\u001b[0;34m]\u001b[0m\u001b[0;34m]\u001b[0m \u001b[0;34m=\u001b[0m \u001b[0mv\u001b[0m\u001b[0;34m\u001b[0m\u001b[0m\n\u001b[0m\u001b[1;32m      9\u001b[0m     \u001b[0mmccounts\u001b[0m \u001b[0;34m=\u001b[0m \u001b[0;34m[\u001b[0m\u001b[0mp\u001b[0m\u001b[0;34m.\u001b[0m\u001b[0mexpected_sample\u001b[0m\u001b[0;34m(\u001b[0m\u001b[0mc\u001b[0m\u001b[0;34m,\u001b[0m\u001b[0ms\u001b[0m\u001b[0;34m,\u001b[0m \u001b[0mpars\u001b[0m\u001b[0;34m)\u001b[0m \u001b[0;32mfor\u001b[0m \u001b[0ms\u001b[0m \u001b[0;32min\u001b[0m \u001b[0mc\u001b[0m\u001b[0;34m[\u001b[0m\u001b[0;34m'samples'\u001b[0m\u001b[0;34m]\u001b[0m\u001b[0;34m]\u001b[0m\u001b[0;34m\u001b[0m\u001b[0m\n\u001b[1;32m     10\u001b[0m     \u001b[0mbottom\u001b[0m \u001b[0;34m=\u001b[0m \u001b[0;32mNone\u001b[0m\u001b[0;34m\u001b[0m\u001b[0m\n",
          "\u001b[0;31mKeyError\u001b[0m: 'width'"
         ]
        }
       ]
      }
     },
     "f4d93303e5314f08be47ca8c312b660a": {
      "model_module": "@jupyter-widgets/base",
      "model_module_version": "1.1.0",
      "model_name": "LayoutModel",
      "state": {}
     },
     "f5282f209b9b4737b3cc9dec1825163c": {
      "model_module": "@jupyter-widgets/controls",
      "model_module_version": "1.4.0",
      "model_name": "IntSliderModel",
      "state": {
       "description": "mc1_shape_conv",
       "layout": "IPY_MODEL_e67b0deddc734b4c9c2656e2a30f1112",
       "max": 5,
       "min": -5,
       "style": "IPY_MODEL_31219b1d714349c99d4d85a351055311"
      }
     },
     "f542406a3cc04723a321b8aac63bd9c8": {
      "model_module": "@jupyter-widgets/base",
      "model_module_version": "1.1.0",
      "model_name": "LayoutModel",
      "state": {}
     },
     "f567876e8d6a4d628379d42d8afd5db0": {
      "model_module": "@jupyter-widgets/base",
      "model_module_version": "1.1.0",
      "model_name": "LayoutModel",
      "state": {}
     },
     "f61666698fc94fb393ad5a2cde25c394": {
      "model_module": "@jupyter-widgets/controls",
      "model_module_version": "1.4.0",
      "model_name": "IntSliderModel",
      "state": {
       "description": "mc1_shape_conv",
       "layout": "IPY_MODEL_421c9f90d30a40428952b8bddad782bc",
       "max": 5,
       "min": -5,
       "style": "IPY_MODEL_62a46207876a4b2f9dbde2f237498726"
      }
     },
     "f6eb4d477a2949a997838994ff1772e7": {
      "model_module": "@jupyter-widgets/controls",
      "model_module_version": "1.4.0",
      "model_name": "FloatSliderModel",
      "state": {
       "description": "SigXsecOverSM",
       "layout": "IPY_MODEL_971cd7891240448ba653d6d6868a6086",
       "max": 10,
       "step": 0.1,
       "style": "IPY_MODEL_098084a417e24f4badfa6aba9c8648e9",
       "value": 3.2
      }
     },
     "f76e911510a246e3ba5f9d863315a246": {
      "model_module": "@jupyter-widgets/controls",
      "model_module_version": "1.4.0",
      "model_name": "IntSliderModel",
      "state": {
       "description": "mc1_shape_conv",
       "layout": "IPY_MODEL_b2d411ada4e44ffb873bb98b3d6b4cea",
       "max": 5,
       "min": -5,
       "style": "IPY_MODEL_68a2d717627e41198a772b7d1a394342"
      }
     },
     "f7a468370d6a414a9f72493adae47927": {
      "model_module": "@jupyter-widgets/controls",
      "model_module_version": "1.4.0",
      "model_name": "IntSliderModel",
      "state": {
       "description": "mc2_weight_var1",
       "layout": "IPY_MODEL_daac1c173b1241819a0594b8f4d02297",
       "max": 5,
       "min": -5,
       "style": "IPY_MODEL_7381c74caf0a403dad27db1732c499a9"
      }
     },
     "f7af24e8a2114fb29ea321897b2ecca1": {
      "model_module": "@jupyter-widgets/base",
      "model_module_version": "1.1.0",
      "model_name": "LayoutModel",
      "state": {}
     },
     "f7dd3a42b89c469e9e37552ccb697ff3": {
      "model_module": "@jupyter-widgets/base",
      "model_module_version": "1.1.0",
      "model_name": "LayoutModel",
      "state": {}
     },
     "f7fe9f0358e64b0da672d42330b32789": {
      "model_module": "@jupyter-widgets/controls",
      "model_module_version": "1.4.0",
      "model_name": "IntSliderModel",
      "state": {
       "description": "SigXsecOverSM",
       "layout": "IPY_MODEL_fa8c150f4e3e4324bae002c824fe1f9f",
       "max": 10,
       "style": "IPY_MODEL_7f96880a02d14d3ca2637a5f484ec07a",
       "value": 5
      }
     },
     "f8fed80dbec442eeac39f0bcc2c8c0a9": {
      "model_module": "@jupyter-widgets/controls",
      "model_module_version": "1.4.0",
      "model_name": "SliderStyleModel",
      "state": {
       "description_width": ""
      }
     },
     "f91aa1d5c8f946dfa9fb5443aa2049d8": {
      "model_module": "@jupyter-widgets/base",
      "model_module_version": "1.1.0",
      "model_name": "LayoutModel",
      "state": {}
     },
     "f9552e197e0a46af847ac7666f91782b": {
      "model_module": "@jupyter-widgets/controls",
      "model_module_version": "1.4.0",
      "model_name": "IntSliderModel",
      "state": {
       "description": "mc2_weight_var1",
       "layout": "IPY_MODEL_8fd444e296dd4035b6f0350dacab7cce",
       "max": 5,
       "min": -5,
       "style": "IPY_MODEL_dd5f370f680943ec9431afb34d2d890b"
      }
     },
     "fa8c150f4e3e4324bae002c824fe1f9f": {
      "model_module": "@jupyter-widgets/base",
      "model_module_version": "1.1.0",
      "model_name": "LayoutModel",
      "state": {}
     },
     "facc619121cf46248462a51854f473fa": {
      "model_module": "@jupyter-widgets/controls",
      "model_module_version": "1.4.0",
      "model_name": "VBoxModel",
      "state": {
       "_dom_classes": [
        "widget-interact"
       ],
       "children": [
        "IPY_MODEL_3bf15048cc7341f5bac342d936bdd007",
        "IPY_MODEL_df092091707042cdb6b6d6905ccf2cf7",
        "IPY_MODEL_e9b47067d5984a28851ce997deba7914",
        "IPY_MODEL_ee5f8b194f304832a56874534ce65b8e",
        "IPY_MODEL_8e3778a55c994131ad10c6aeeddddc0b",
        "IPY_MODEL_c8fd9c57ff11450bb175f5b7391e806e"
       ],
       "layout": "IPY_MODEL_0a45e5b7b00c42c5b61409ed21312f56"
      }
     },
     "fad7f56ed4d9491e94d51458f964906a": {
      "model_module": "@jupyter-widgets/controls",
      "model_module_version": "1.4.0",
      "model_name": "IntSliderModel",
      "state": {
       "description": "mc2_weight_var1",
       "layout": "IPY_MODEL_e4c5cb9566f5472f91a4cc43a56c5955",
       "max": 5,
       "min": -5,
       "style": "IPY_MODEL_ed2731ec32ac4471b304068b218c7e61"
      }
     },
     "fb2ea65a42124f89999c4cc42c7ff596": {
      "model_module": "@jupyter-widgets/base",
      "model_module_version": "1.1.0",
      "model_name": "LayoutModel",
      "state": {}
     },
     "fba28037e2db4781b9081009e044e600": {
      "model_module": "@jupyter-widgets/base",
      "model_module_version": "1.1.0",
      "model_name": "LayoutModel",
      "state": {}
     },
     "fc1e71eb83394eac9c0a6b7644510312": {
      "model_module": "@jupyter-widgets/controls",
      "model_module_version": "1.4.0",
      "model_name": "SliderStyleModel",
      "state": {
       "description_width": ""
      }
     },
     "fc6a1bdb3d5947599bf54d0298668fec": {
      "model_module": "@jupyter-widgets/base",
      "model_module_version": "1.1.0",
      "model_name": "LayoutModel",
      "state": {}
     },
     "fc6affd680b94fd48e7440dcef8cc4fd": {
      "model_module": "@jupyter-widgets/base",
      "model_module_version": "1.1.0",
      "model_name": "LayoutModel",
      "state": {}
     },
     "fd07f50389034c29a9e155e7bea94c24": {
      "model_module": "@jupyter-widgets/controls",
      "model_module_version": "1.4.0",
      "model_name": "SliderStyleModel",
      "state": {
       "description_width": ""
      }
     },
     "fd28d2e5907249bbbae2b382a065223c": {
      "model_module": "@jupyter-widgets/base",
      "model_module_version": "1.1.0",
      "model_name": "LayoutModel",
      "state": {}
     },
     "fe00f362fbf14b45858ef91395cb8d66": {
      "model_module": "@jupyter-widgets/controls",
      "model_module_version": "1.4.0",
      "model_name": "SliderStyleModel",
      "state": {
       "description_width": ""
      }
     },
     "fe1fd8c65ae44b0096e0977b09da1429": {
      "model_module": "@jupyter-widgets/controls",
      "model_module_version": "1.4.0",
      "model_name": "SliderStyleModel",
      "state": {
       "description_width": ""
      }
     },
     "fe6181f74d4c4b62ace2d5c49a5c5497": {
      "model_module": "@jupyter-widgets/base",
      "model_module_version": "1.1.0",
      "model_name": "LayoutModel",
      "state": {}
     },
     "ff4981f021794ddb840b0efe29eed243": {
      "model_module": "@jupyter-widgets/base",
      "model_module_version": "1.1.0",
      "model_name": "LayoutModel",
      "state": {}
     }
    },
    "version_major": 2,
    "version_minor": 0
   }
  }
 },
 "nbformat": 4,
 "nbformat_minor": 4
}

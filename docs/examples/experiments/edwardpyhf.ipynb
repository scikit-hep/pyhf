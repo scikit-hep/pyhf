{
 "cells": [
  {
   "cell_type": "code",
   "execution_count": 67,
   "metadata": {},
   "outputs": [],
   "source": [
    "import tensorflow as tf\n",
    "from edward.models import Poisson, Normal"
   ]
  },
  {
   "cell_type": "code",
   "execution_count": 78,
   "metadata": {},
   "outputs": [],
   "source": [
    "nuispar = tf.constant([3.])\n",
    "\n",
    "x = Poisson(rate = tf.ones(1)*nuispar)\n",
    "n = Normal(loc = nuispar, scale = tf.ones(1))\n",
    "joined = tf.concat([x,n], axis=0)   # p(n, x | nuispar) = Pois(n|nuispar) * Normal(x |mu = nuispar, sigma = 1)"
   ]
  },
  {
   "cell_type": "code",
   "execution_count": 79,
   "metadata": {},
   "outputs": [],
   "source": [
    "results = []\n",
    "for i in range(1000): #thee is probably a batched evaluation version .. this is stupid\n",
    "    with tf.Session() as sess:\n",
    "        r = sess.run(joined)\n",
    "        results.append(r)"
   ]
  },
  {
   "cell_type": "code",
   "execution_count": 80,
   "metadata": {},
   "outputs": [
    {
     "name": "stdout",
     "output_type": "stream",
     "text": [
      "Populating the interactive namespace from numpy and matplotlib\n"
     ]
    },
    {
     "name": "stderr",
     "output_type": "stream",
     "text": [
      "/Users/lukas/.local/share/virtualenvs/pyhf-EFAVEj2h/lib/python3.6/site-packages/IPython/core/magics/pylab.py:160: UserWarning: pylab import has clobbered these variables: ['f']\n",
      "`%matplotlib` prevents importing * from pylab and numpy\n",
      "  \"\\n`%matplotlib` prevents importing * from pylab and numpy\"\n"
     ]
    },
    {
     "data": {
      "text/plain": [
       "(array([  6.,  32.,  62., 140., 188., 243., 191.,  87.,  41.,  10.]),\n",
       " array([-0.08035064,  0.51699646,  1.11434355,  1.71169064,  2.30903773,\n",
       "         2.90638483,  3.50373192,  4.10107901,  4.6984261 ,  5.2957732 ,\n",
       "         5.89312029]),\n",
       " <a list of 10 Patch objects>)"
      ]
     },
     "execution_count": 80,
     "metadata": {},
     "output_type": "execute_result"
    },
    {
     "data": {
      "image/png": "[encoded data removed]",
      "text/plain": [
       "<Figure size 864x288 with 3 Axes>"
      ]
     },
     "metadata": {},
     "output_type": "display_data"
    }
   ],
   "source": [
    "%pylab inline\n",
    "r = np.array(results)\n",
    "f, axarr = plt.subplots(1,3)\n",
    "f.set_size_inches(12,4)\n",
    "axarr[0].scatter(r[:,0],r[:,1])\n",
    "axarr[1].hist(r[:,0], bins = np.linspace(0,10,11))\n",
    "axarr[2].hist(r[:,1])"
   ]
  },
  {
   "cell_type": "code",
   "execution_count": null,
   "metadata": {},
   "outputs": [],
   "source": []
  }
 ],
 "metadata": {
  "kernelspec": {
   "display_name": "Python 3",
   "language": "python",
   "name": "python3"
  },
  "language_info": {
   "codemirror_mode": {
    "name": "ipython",
    "version": 3
   },
   "file_extension": ".py",
   "mimetype": "text/x-python",
   "name": "python",
   "nbconvert_exporter": "python",
   "pygments_lexer": "ipython3",
   "version": "3.6.4"
  }
 },
 "nbformat": 4,
 "nbformat_minor": 2
}

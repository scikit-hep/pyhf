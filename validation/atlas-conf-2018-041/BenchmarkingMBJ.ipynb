{
 "cells": [
  {
   "cell_type": "code",
   "execution_count": 1,
   "metadata": {},
   "outputs": [
    {
     "name": "stderr",
     "output_type": "stream",
     "text": [
      "No handlers could be found for logger \"pyhf.pdf\"\n"
     ]
    },
    {
     "data": {
      "text/plain": [
       "[30, 211, 841, 841, 660]"
      ]
     },
     "execution_count": 1,
     "metadata": {},
     "output_type": "execute_result"
    }
   ],
   "source": [
    "import pyhf\n",
    "spec = pyhf.utils.makespec(nchans=30, nsamps=7, nbins=1, nsysts=1)\n",
    "model = pyhf.Model(spec)\n",
    "testpars = model.config.suggested_init()\n",
    "testdata = model.expected_data(testpars)\n",
    "map(len, (model.config.channels, model.config.samples, model.config.modifiers, testpars, testdata))"
   ]
  },
  {
   "cell_type": "code",
   "execution_count": 2,
   "metadata": {},
   "outputs": [
    {
     "name": "stdout",
     "output_type": "stream",
     "text": [
      "100 loops, best of 3: 17.1 ms per loop\n"
     ]
    }
   ],
   "source": [
    "%%timeit\n",
    "model.expected_actualdata(testpars)"
   ]
  },
  {
   "cell_type": "code",
   "execution_count": 3,
   "metadata": {},
   "outputs": [
    {
     "name": "stdout",
     "output_type": "stream",
     "text": [
      "100 loops, best of 3: 16 ms per loop\n"
     ]
    }
   ],
   "source": [
    "%%timeit\n",
    "model.expected_actualdata(testpars, new=True)"
   ]
  },
  {
   "cell_type": "code",
   "execution_count": 4,
   "metadata": {},
   "outputs": [],
   "source": [
    "assert model.expected_actualdata(testpars).tolist() == model.expected_actualdata(testpars, new=True).tolist()"
   ]
  },
  {
   "cell_type": "code",
   "execution_count": 5,
   "metadata": {},
   "outputs": [
    {
     "name": "stdout",
     "output_type": "stream",
     "text": [
      "  % Total    % Received % Xferd  Average Speed   Time    Time     Time  Current\n",
      "                                 Dload  Upload   Total   Spent    Left  Speed\n",
      "100  773k  100  773k    0     0   384k      0  0:00:02  0:00:02 --:--:--  384k\n",
      "WARNING:pyhf.pdf:not sure when we should be finalizing.. this is the fastest though\n",
      "/Users/kratsg/pyhf/pyhf/tensor/numpy_backend.py:85: RuntimeWarning: divide by zero encountered in log\n",
      "  return np.log(tensor_in)\n",
      "/Users/kratsg/pyhf/pyhf/tensor/numpy_backend.py:129: RuntimeWarning: divide by zero encountered in log\n",
      "  return np.exp(n*np.log(lam)-lam-gammaln(n+1.))\n",
      "/Users/kratsg/pyhf/pyhf/tensor/numpy_backend.py:129: RuntimeWarning: invalid value encountered in log\n",
      "  return np.exp(n*np.log(lam)-lam-gammaln(n+1.))\n",
      "{\n",
      "    \"CLs_exp\": [\n",
      "        0.3092094797964099, \n",
      "        0.45864402917916663, \n",
      "        0.6487539344811517, \n",
      "        0.840265976004404, \n",
      "        0.9606213721829289\n",
      "    ], \n",
      "    \"CLs_obs\": 0.4592459020090055\n",
      "}\n",
      "      378.05 real       375.21 user         1.61 sys\n"
     ]
    }
   ],
   "source": [
    "!curl https://raw.githubusercontent.com/diana-hep/pyhf/validation/atlas-conf-2018-041/validation/atlas-conf-2018-041/3b_tag21.2.27-1_RW_ExpSyst_79800_multibin_excl_Gtt_2400_5000_800.json | time pyhf cls --qualify-names"
   ]
  },
  {
   "cell_type": "code",
   "execution_count": null,
   "metadata": {},
   "outputs": [],
   "source": []
  }
 ],
 "metadata": {
  "kernelspec": {
   "display_name": "Python 2",
   "language": "python",
   "name": "python2"
  },
  "language_info": {
   "codemirror_mode": {
    "name": "ipython",
    "version": 2
   },
   "file_extension": ".py",
   "mimetype": "text/x-python",
   "name": "python",
   "nbconvert_exporter": "python",
   "pygments_lexer": "ipython2",
   "version": "2.7.14"
  }
 },
 "nbformat": 4,
 "nbformat_minor": 2
}
